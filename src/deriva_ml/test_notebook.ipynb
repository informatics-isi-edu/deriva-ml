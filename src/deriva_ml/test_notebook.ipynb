{
 "cells": [
  {
   "metadata": {
    "ExecuteTime": {
     "end_time": "2025-04-16T23:28:30.398323Z",
     "start_time": "2025-04-16T23:28:27.284628Z"
    }
   },
   "cell_type": "code",
   "source": [
    "import builtins\n",
    "from deriva.core.utils.globus_auth_utils import GlobusNativeLogin\n",
    "from deriva_ml import ExecutionConfiguration, MLVocab, DerivaSystemColumns, DatasetSpec, DerivaML\n",
    "from deriva_ml.demo_catalog import create_demo_catalog, DemoML\n",
    "from IPython.display import display, Markdown, JSON\n",
    "import itertools\n",
    "import pandas as pd"
   ],
   "id": "7d6a10c974615fb2",
   "outputs": [
    {
     "name": "stdout",
     "output_type": "stream",
     "text": [
      "Intel MKL WARNING: Support of Intel(R) Streaming SIMD Extensions 4.2 (Intel(R) SSE4.2) enabled only processors has been deprecated. Intel oneAPI Math Kernel Library 2025.0 will require Intel(R) Advanced Vector Extensions (Intel(R) AVX) instructions.\n",
      "Intel MKL WARNING: Support of Intel(R) Streaming SIMD Extensions 4.2 (Intel(R) SSE4.2) enabled only processors has been deprecated. Intel oneAPI Math Kernel Library 2025.0 will require Intel(R) Advanced Vector Extensions (Intel(R) AVX) instructions.\n"
     ]
    }
   ],
   "execution_count": 1
  },
  {
   "metadata": {
    "collapsed": true,
    "tags": [
     "parameters"
    ],
    "ExecuteTime": {
     "end_time": "2025-04-16T23:29:10.066287Z",
     "start_time": "2025-04-16T23:29:10.062542Z"
    }
   },
   "cell_type": "code",
   "source": "foo = 1",
   "id": "initial_id",
   "outputs": [],
   "execution_count": 2
  },
  {
   "metadata": {
    "ExecuteTime": {
     "end_time": "2025-04-16T23:29:11.791922Z",
     "start_time": "2025-04-16T23:29:11.749652Z"
    }
   },
   "cell_type": "code",
   "source": [
    "hostname = 'dev.eye-ai.org'\n",
    "domain_schema = 'demo-schema'\n",
    "\n",
    "gnl = GlobusNativeLogin(host=hostname)\n",
    "if gnl.is_logged_in([hostname]):\n",
    "    print(\"You are already logged in.\")\n",
    "else:\n",
    "    gnl.login([hostname], no_local_server=True, no_browser=True, refresh_tokens=True, update_bdbag_keychain=True)\n",
    "    print(\"Login Successful\")\n"
   ],
   "id": "910ba50e2d19bab4",
   "outputs": [
    {
     "name": "stdout",
     "output_type": "stream",
     "text": [
      "You are already logged in.\n"
     ]
    }
   ],
   "execution_count": 3
  },
  {
   "metadata": {
    "ExecuteTime": {
     "end_time": "2025-04-16T23:29:33.607306Z",
     "start_time": "2025-04-16T23:29:15.507390Z"
    }
   },
   "cell_type": "code",
   "source": [
    "test_catalog = create_demo_catalog(hostname, domain_schema, create_features=True, create_datasets=True)\n",
    "ml_instance = DemoML(hostname, test_catalog.catalog_id)\n",
    "print(f'Creating catalog at {ml_instance.catalog_id}')\n",
    "\n",
    "ml_instance.add_term(MLVocab.workflow_type, \"Manual Workflow\", description=\"Initial setup of Model File\")\n",
    "ml_instance.add_term(MLVocab.asset_type, \"API_Model\", description=\"Model for our API workflow\")\n",
    "\n",
    "api_workflow = ml_instance.create_workflow(\n",
    "    name=\"Manual Workflow\",\n",
    "    workflow_type=\"Manual Workflow\",\n",
    "    description=\"A manual operation\"\n",
    ")\n",
    "\n",
    "manual_execution = ml_instance.create_execution(ExecutionConfiguration( description=\"Sample Execution\", workflow=api_workflow))\n",
    "\n",
    "# Now lets create model configuration for our program.\n",
    "model_file = manual_execution.asset_file_path(\"Execution_Asset\",'modelfile.txt', asset_types=\"API_Model\")\n",
    "with builtins.open(model_file, \"w\") as fp:\n",
    "    fp.write(f\"My model\")\n",
    "\n",
    "# Now upload the file and retrieve the RID of the new asset from the returned results.\n",
    "uploaded_assets = manual_execution.upload_execution_outputs()\n",
    "training_model_rid = [a.asset_rid  for a  in uploaded_assets['deriva-ml/Execution_Asset'] if 'API_Model' in a.asset_types][0]\n",
    "\n",
    "display(\n",
    "    Markdown(f'## Training Model: {training_model_rid}'),\n",
    "    JSON(ml_instance.retrieve_rid(training_model_rid))\n",
    ")"
   ],
   "id": "3f6c5aa9e469bc0d",
   "outputs": [
    {
     "ename": "TypeError",
     "evalue": "Workflow._get_python_script() missing 1 required positional argument: 'self'",
     "output_type": "error",
     "traceback": [
      "\u001B[31m---------------------------------------------------------------------------\u001B[39m",
      "\u001B[31mTypeError\u001B[39m                                 Traceback (most recent call last)",
      "\u001B[36mCell\u001B[39m\u001B[36m \u001B[39m\u001B[32mIn[4]\u001B[39m\u001B[32m, line 1\u001B[39m\n\u001B[32m----> \u001B[39m\u001B[32m1\u001B[39m test_catalog = \u001B[43mcreate_demo_catalog\u001B[49m\u001B[43m(\u001B[49m\u001B[43mhostname\u001B[49m\u001B[43m,\u001B[49m\u001B[43m \u001B[49m\u001B[43mdomain_schema\u001B[49m\u001B[43m,\u001B[49m\u001B[43m \u001B[49m\u001B[43mcreate_features\u001B[49m\u001B[43m=\u001B[49m\u001B[38;5;28;43;01mTrue\u001B[39;49;00m\u001B[43m,\u001B[49m\u001B[43m \u001B[49m\u001B[43mcreate_datasets\u001B[49m\u001B[43m=\u001B[49m\u001B[38;5;28;43;01mTrue\u001B[39;49;00m\u001B[43m)\u001B[49m\n\u001B[32m      2\u001B[39m ml_instance = DemoML(hostname, test_catalog.catalog_id)\n\u001B[32m      3\u001B[39m \u001B[38;5;28mprint\u001B[39m(\u001B[33mf\u001B[39m\u001B[33m'\u001B[39m\u001B[33mCreating catalog at \u001B[39m\u001B[38;5;132;01m{\u001B[39;00mml_instance.catalog_id\u001B[38;5;132;01m}\u001B[39;00m\u001B[33m'\u001B[39m)\n",
      "\u001B[36mFile \u001B[39m\u001B[32m~/Repos/Projects/deriva-ml/src/deriva_ml/demo_catalog.py:315\u001B[39m, in \u001B[36mcreate_demo_catalog\u001B[39m\u001B[34m(hostname, domain_schema, project_name, populate, create_features, create_datasets, on_exit_delete)\u001B[39m\n\u001B[32m    311\u001B[39m AclConfig(\n\u001B[32m    312\u001B[39m     hostname, test_catalog.catalog_id, policy_file, credentials=credentials\n\u001B[32m    313\u001B[39m )\n\u001B[32m    314\u001B[39m \u001B[38;5;28;01mif\u001B[39;00m populate \u001B[38;5;129;01mor\u001B[39;00m create_features \u001B[38;5;129;01mor\u001B[39;00m create_datasets:\n\u001B[32m--> \u001B[39m\u001B[32m315\u001B[39m     \u001B[43mpopulate_demo_catalog\u001B[49m\u001B[43m(\u001B[49m\u001B[43mderiva_ml\u001B[49m\u001B[43m,\u001B[49m\u001B[43m \u001B[49m\u001B[43mdomain_schema\u001B[49m\u001B[43m)\u001B[49m\n\u001B[32m    316\u001B[39m     \u001B[38;5;28;01mif\u001B[39;00m create_features:\n\u001B[32m    317\u001B[39m         create_demo_features(deriva_ml)\n",
      "\u001B[36mFile \u001B[39m\u001B[32m~/Repos/Projects/deriva-ml/src/deriva_ml/demo_catalog.py:67\u001B[39m, in \u001B[36mpopulate_demo_catalog\u001B[39m\u001B[34m(deriva_ml, sname)\u001B[39m\n\u001B[32m     59\u001B[39m ss = subject.insert([{\u001B[33m\"\u001B[39m\u001B[33mName\u001B[39m\u001B[33m\"\u001B[39m: \u001B[33mf\u001B[39m\u001B[33m\"\u001B[39m\u001B[33mThing\u001B[39m\u001B[38;5;132;01m{\u001B[39;00mt\u001B[38;5;250m \u001B[39m+\u001B[38;5;250m \u001B[39m\u001B[32m1\u001B[39m\u001B[38;5;132;01m}\u001B[39;00m\u001B[33m\"\u001B[39m} \u001B[38;5;28;01mfor\u001B[39;00m t \u001B[38;5;129;01min\u001B[39;00m \u001B[38;5;28mrange\u001B[39m(TEST_DATASET_SIZE)])\n\u001B[32m     60\u001B[39m deriva_ml.add_term(\n\u001B[32m     61\u001B[39m     MLVocab.workflow_type,\n\u001B[32m     62\u001B[39m     \u001B[33m\"\u001B[39m\u001B[33mDemo Catalog Creation\u001B[39m\u001B[33m\"\u001B[39m,\n\u001B[32m     63\u001B[39m     description=\u001B[33m\"\u001B[39m\u001B[33mA workflow demonstrating how to create a demo catalog.\u001B[39m\u001B[33m\"\u001B[39m,\n\u001B[32m     64\u001B[39m )\n\u001B[32m     65\u001B[39m execution = deriva_ml.create_execution(\n\u001B[32m     66\u001B[39m     ExecutionConfiguration(\n\u001B[32m---> \u001B[39m\u001B[32m67\u001B[39m         workflow=\u001B[43mderiva_ml\u001B[49m\u001B[43m.\u001B[49m\u001B[43mcreate_workflow\u001B[49m\u001B[43m(\u001B[49m\n\u001B[32m     68\u001B[39m \u001B[43m            \u001B[49m\u001B[43mname\u001B[49m\u001B[43m=\u001B[49m\u001B[33;43m\"\u001B[39;49m\u001B[33;43mDemo Catalog\u001B[39;49m\u001B[33;43m\"\u001B[39;49m\u001B[43m,\u001B[49m\u001B[43m \u001B[49m\u001B[43mworkflow_type\u001B[49m\u001B[43m=\u001B[49m\u001B[33;43m\"\u001B[39;49m\u001B[33;43mDemo Catalog Creation\u001B[39;49m\u001B[33;43m\"\u001B[39;49m\n\u001B[32m     69\u001B[39m \u001B[43m        \u001B[49m\u001B[43m)\u001B[49m\n\u001B[32m     70\u001B[39m     )\n\u001B[32m     71\u001B[39m )\n\u001B[32m     72\u001B[39m \u001B[38;5;28;01mwith\u001B[39;00m execution.execute() \u001B[38;5;28;01mas\u001B[39;00m e:\n\u001B[32m     73\u001B[39m     \u001B[38;5;28;01mfor\u001B[39;00m s \u001B[38;5;129;01min\u001B[39;00m ss:\n",
      "\u001B[36mFile \u001B[39m\u001B[32m~/Repos/Projects/deriva-ml/src/deriva_ml/deriva_ml_base.py:988\u001B[39m, in \u001B[36mDerivaML.create_workflow\u001B[39m\u001B[34m(self, name, workflow_type, description)\u001B[39m\n\u001B[32m    985\u001B[39m \u001B[38;5;66;03m# Make sure type is correct.\u001B[39;00m\n\u001B[32m    986\u001B[39m \u001B[38;5;28mself\u001B[39m.lookup_term(MLVocab.workflow_type, workflow_type)\n\u001B[32m--> \u001B[39m\u001B[32m988\u001B[39m \u001B[38;5;28;01mreturn\u001B[39;00m \u001B[43mWorkflow\u001B[49m\u001B[43m.\u001B[49m\u001B[43mcreate_workflow\u001B[49m\u001B[43m(\u001B[49m\u001B[43mname\u001B[49m\u001B[43m,\u001B[49m\u001B[43m \u001B[49m\u001B[43mworkflow_type\u001B[49m\u001B[43m,\u001B[49m\u001B[43m \u001B[49m\u001B[43mdescription\u001B[49m\u001B[43m)\u001B[49m\n",
      "\u001B[36mFile \u001B[39m\u001B[32m~/Repos/Projects/deriva-ml/src/deriva_ml/execution_configuration.py:266\u001B[39m, in \u001B[36mWorkflow.create_workflow\u001B[39m\u001B[34m(name, workflow_type, description)\u001B[39m\n\u001B[32m    264\u001B[39m     checksum = os.environ[\u001B[33m\"\u001B[39m\u001B[33mDERIVA_ML_WORKFLOW_CHECKSUM\u001B[39m\u001B[33m\"\u001B[39m]\n\u001B[32m    265\u001B[39m \u001B[38;5;28;01melse\u001B[39;00m:\n\u001B[32m--> \u001B[39m\u001B[32m266\u001B[39m     github_url, checksum = Workflow.get_url_and_checksum(\u001B[43mWorkflow\u001B[49m\u001B[43m.\u001B[49m\u001B[43m_get_python_script\u001B[49m\u001B[43m(\u001B[49m\u001B[43m)\u001B[49m)\n\u001B[32m    268\u001B[39m \u001B[38;5;28;01mreturn\u001B[39;00m Workflow(\n\u001B[32m    269\u001B[39m     name=name,\n\u001B[32m    270\u001B[39m     url=github_url,\n\u001B[32m   (...)\u001B[39m\u001B[32m    273\u001B[39m     workflow_type=workflow_type,\n\u001B[32m    274\u001B[39m )\n",
      "\u001B[31mTypeError\u001B[39m: Workflow._get_python_script() missing 1 required positional argument: 'self'"
     ]
    }
   ],
   "execution_count": 4
  }
 ],
 "metadata": {
  "kernelspec": {
   "display_name": "DerivaML",
   "language": "python",
   "name": "pytorch"
  },
  "language_info": {
   "codemirror_mode": {
    "name": "ipython",
    "version": 2
   },
   "file_extension": ".py",
   "mimetype": "text/x-python",
   "name": "python",
   "nbconvert_exporter": "python",
   "pygments_lexer": "ipython2",
   "version": "2.7.6"
  }
 },
 "nbformat": 4,
 "nbformat_minor": 5
}
