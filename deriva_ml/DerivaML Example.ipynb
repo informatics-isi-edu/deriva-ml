{
 "cells": [
  {
   "cell_type": "markdown",
   "id": "94ffee41-4986-4196-b35d-b38b6e10490a",
   "metadata": {},
   "source": [
    "DerivaML is a class library built on the Deriva Scientific Asset management system that is designed to help simplify a number of the basic operations associated with building and testing ML libraries based on common toolkits such as TensorFlow.  This notebook reviews the basic features of the DerivaML library."
   ]
  },
  {
   "cell_type": "code",
   "execution_count": 12,
   "id": "ff605747-195b-40a1-b915-0e799f8d0748",
   "metadata": {},
   "outputs": [],
   "source": [
    "%load_ext autoreload\n",
    "%autoreload 2"
   ]
  },
  {
   "cell_type": "code",
   "execution_count": 13,
   "id": "9493a5ef-86b9-490b-a1d5-f461fdcd68ef",
   "metadata": {},
   "outputs": [],
   "source": [
    "from deriva.core import DerivaServer, ErmrestCatalog, get_credential\n",
    "from deriva_ml.deriva_ml_base import DerivaML, DerivaMLException, ColumnDefinition, BuiltinTypes\n",
    "from deriva_ml.schema_setup.create_schema import create_ml_schema\n",
    "from deriva_ml.schema_setup.test_catalog import create_domain_schema, populate_test_catalog\n",
    "from deriva_ml.execution_configuration import ExecutionConfiguration"
   ]
  },
  {
   "cell_type": "code",
   "execution_count": 15,
   "id": "e9bddcf0-27ea-40b3-a388-b77635586fad",
   "metadata": {},
   "outputs": [
    {
     "name": "stdout",
     "output_type": "stream",
     "text": [
      "ML model schema\n",
      "Domain schema\n"
     ]
    }
   ],
   "source": [
    "# Create a new server and initialize it to have the DerivaML schema and a simple model schema\n",
    "hostname = 'dev.eye-ai.org'\n",
    "domain_schema = 'demo-schema'\n",
    "\n",
    "server = DerivaServer('https', hostname, credentials=get_credential(hostname))\n",
    "test_catalog = server.create_ermrest_catalog()\n",
    "model = test_catalog.getCatalogModel()\n",
    "try:\n",
    "    create_ml_schema(model)\n",
    "    create_domain_schema(model, domain_schema)\n",
    "    populate_test_catalog(model, domain_schema)\n",
    "except Exception:\n",
    "    # on failure, delete the catalog and re-raise the exception\n",
    "    test_catalog.delete_ermrest_catalog(really=True)\n",
    "\n",
    "\n",
    "ml_instance = DerivaML(hostname, test_catalog.catalog_id, domain_schema, None, None, \"1\")\n",
    "ml_url = f\"{server.get_server_uri()}/{test_catalog.catalog_id}\"\n",
    "f\"{server.get_server_uri()}/chaise/recordset/#eye-ai/eye-ai:Subject@sort(RID)"
   ]
  },
  {
   "cell_type": "code",
   "execution_count": 27,
   "id": "40a0fa35-f921-456c-8699-22414efa4e6a",
   "metadata": {},
   "outputs": [
    {
     "data": {
      "text/plain": [
       "'https://dev.eye-ai.org/chaise/recordset/#demo-schema/demo-schema:Subject@sort(RID)'"
      ]
     },
     "execution_count": 27,
     "metadata": {},
     "output_type": "execute_result"
    }
   ],
   "source": [
    "f\"{server.get_server_uri()}/chaise/recordset/#{domain_schema}/{domain_schema}:Subject@sort(RID)\""
   ]
  },
  {
   "cell_type": "code",
   "execution_count": null,
   "id": "9b151033-6eb5-4fbb-a8dd-8d9b2154299a",
   "metadata": {},
   "outputs": [],
   "source": [
    "f\"{server.get_server_uri()}/chaise/recordset/#eye-ai/eye-ai:Subject@sort(RID)"
   ]
  },
  {
   "cell_type": "code",
   "execution_count": null,
   "id": "50fc85db-8173-463d-830e-7dfd7eba08f7",
   "metadata": {},
   "outputs": [],
   "source": []
  },
  {
   "cell_type": "code",
   "execution_count": null,
   "id": "4d8204f2-1411-45ed-b093-1d50751862ba",
   "metadata": {},
   "outputs": [],
   "source": []
  },
  {
   "cell_type": "code",
   "execution_count": null,
   "id": "240cb784-0ffc-4fc5-aa8d-fb2ee9267355",
   "metadata": {},
   "outputs": [],
   "source": []
  },
  {
   "cell_type": "code",
   "execution_count": null,
   "id": "8ee93134-83eb-45f0-9552-85121b5de888",
   "metadata": {},
   "outputs": [],
   "source": []
  },
  {
   "cell_type": "code",
   "execution_count": null,
   "id": "6e76bbdf-2441-4444-be7f-e55399bcc32a",
   "metadata": {},
   "outputs": [],
   "source": []
  }
 ],
 "metadata": {
  "kernelspec": {
   "display_name": "deriva-ml",
   "language": "python",
   "name": "deriva-ml"
  },
  "language_info": {
   "codemirror_mode": {
    "name": "ipython",
    "version": 3
   },
   "file_extension": ".py",
   "mimetype": "text/x-python",
   "name": "python",
   "nbconvert_exporter": "python",
   "pygments_lexer": "ipython3",
   "version": "3.12.2"
  }
 },
 "nbformat": 4,
 "nbformat_minor": 5
}
