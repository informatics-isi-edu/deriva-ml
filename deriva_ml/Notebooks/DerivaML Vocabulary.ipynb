{
 "cells": [
  {
   "cell_type": "markdown",
   "id": "94ffee41-4986-4196-b35d-b38b6e10490a",
   "metadata": {},
   "source": [
    "DerivaML is a class library built on the Deriva Scientific Asset management system that is designed to help simplify a number of the basic operations associated with building and testing ML libraries based on common toolkits such as TensorFlow.  This notebook reviews the basic features of the DerivaML library."
   ]
  },
  {
   "cell_type": "code",
   "execution_count": 4,
   "id": "ff605747-195b-40a1-b915-0e799f8d0748",
   "metadata": {},
   "outputs": [],
   "source": [
    "%load_ext autoreload\n",
    "%autoreload 2"
   ]
  },
  {
   "cell_type": "code",
   "execution_count": 11,
   "id": "9493a5ef-86b9-490b-a1d5-f461fdcd68ef",
   "metadata": {},
   "outputs": [],
   "source": [
    "import pandas as pd\n",
    "from deriva.core import DerivaServer, ErmrestCatalog, get_credential\n",
    "from deriva.core.utils.globus_auth_utils import GlobusNativeLogin\n",
    "from deriva_ml.deriva_ml_base import DerivaML, DerivaMLException, ColumnDefinition, BuiltinTypes\n",
    "from deriva_ml.schema_setup.create_schema import create_ml_schema\n",
    "from deriva_ml.schema_setup.test_catalog import create_test_catalog\n",
    "from deriva_ml.execution_configuration import ExecutionConfiguration"
   ]
  },
  {
   "cell_type": "markdown",
   "id": "ba06990f-6dc5-4805-9e82-0881a524bfef",
   "metadata": {},
   "source": [
    "Set the details for the catalog we want and authenticate to the server if needed."
   ]
  },
  {
   "cell_type": "code",
   "execution_count": 13,
   "id": "9ee79ab7-a3f7-4c69-9c80-336871c13ec2",
   "metadata": {},
   "outputs": [
    {
     "name": "stderr",
     "output_type": "stream",
     "text": [
      "2024-09-10 13:20:27,784 - DEBUG - on lookup, default setting: GLOBUS_SDK_ENVIRONMENT=production\n",
      "2024-09-10 13:20:27,784 - INFO - Creating client of type <class 'globus_sdk.services.auth.client.native_client.NativeAppAuthClient'> for service \"auth\"\n",
      "2024-09-10 13:20:27,785 - DEBUG - Service URL Lookup for \"auth\" under env \"production\"\n",
      "2024-09-10 13:20:27,785 - DEBUG - Service URL Lookup Result: \"auth\" is at \"https://auth.globus.org/\"\n",
      "2024-09-10 13:20:27,786 - DEBUG - on lookup, default setting: GLOBUS_SDK_VERIFY_SSL=True\n",
      "2024-09-10 13:20:27,786 - DEBUG - on lookup, default setting: GLOBUS_SDK_HTTP_TIMEOUT=60.0\n",
      "2024-09-10 13:20:27,786 - DEBUG - initialized transport of type <class 'globus_sdk.transport.requests.RequestsTransport'>\n",
      "2024-09-10 13:20:27,787 - INFO - Finished initializing AuthLoginClient. client_id='8ef15ba9-2b4a-469c-a163-7fd910c9d111', type(authorizer)=<class 'globus_sdk.authorizers.base.NullAuthorizer'>\n",
      "2024-09-10 13:20:27,787 - DEBUG - Using code handlers (<fair_research_login.local_server.LocalServerCodeHandler object at 0x1735d73b0>, <fair_research_login.code_handler.InputCodeHandler object at 0x1735d6a20>)\n",
      "2024-09-10 13:20:27,787 - DEBUG - Token storage set to <deriva.core.utils.globus_auth_utils.DerivaJSONTokenStorage object at 0x173b0c560>\n",
      "2024-09-10 13:20:27,788 - DEBUG - Automatically open browser: True\n"
     ]
    },
    {
     "name": "stdout",
     "output_type": "stream",
     "text": [
      "You are already logged in.\n"
     ]
    }
   ],
   "source": [
    "hostname = 'dev.eye-ai.org'\n",
    "domain_schema = 'demo-schema'\n",
    "\n",
    "gnl = GlobusNativeLogin(host=hostname)\n",
    "if gnl.is_logged_in([hostname]):\n",
    "    print(\"You are already logged in.\")\n",
    "else:\n",
    "    gnl.login([hostname], no_local_server=True, no_browser=True, refresh_tokens=True, update_bdbag_keychain=True)\n",
    "    print(\"Login Successful\")\n"
   ]
  },
  {
   "cell_type": "markdown",
   "id": "a23e5177-106b-48b6-b5e0-a126d35f4084",
   "metadata": {},
   "source": [
    "Create a test catalog and get an instance of the DerivaML class."
   ]
  },
  {
   "cell_type": "code",
   "execution_count": 14,
   "id": "e9bddcf0-27ea-40b3-a388-b77635586fad",
   "metadata": {},
   "outputs": [
    {
     "name": "stderr",
     "output_type": "stream",
     "text": [
      "2024-09-10 13:20:48,782 - DEBUG - on lookup, default setting: GLOBUS_SDK_ENVIRONMENT=production\n",
      "2024-09-10 13:20:48,783 - INFO - Creating client of type <class 'globus_sdk.services.auth.client.native_client.NativeAppAuthClient'> for service \"auth\"\n",
      "2024-09-10 13:20:48,783 - DEBUG - Service URL Lookup for \"auth\" under env \"production\"\n",
      "2024-09-10 13:20:48,784 - DEBUG - Service URL Lookup Result: \"auth\" is at \"https://auth.globus.org/\"\n",
      "2024-09-10 13:20:48,784 - DEBUG - on lookup, default setting: GLOBUS_SDK_VERIFY_SSL=True\n",
      "2024-09-10 13:20:48,784 - DEBUG - on lookup, default setting: GLOBUS_SDK_HTTP_TIMEOUT=60.0\n",
      "2024-09-10 13:20:48,785 - DEBUG - initialized transport of type <class 'globus_sdk.transport.requests.RequestsTransport'>\n",
      "2024-09-10 13:20:48,785 - INFO - Finished initializing AuthLoginClient. client_id='8ef15ba9-2b4a-469c-a163-7fd910c9d111', type(authorizer)=<class 'globus_sdk.authorizers.base.NullAuthorizer'>\n",
      "2024-09-10 13:20:48,785 - DEBUG - Using code handlers (<fair_research_login.local_server.LocalServerCodeHandler object at 0x1735d73b0>, <fair_research_login.code_handler.InputCodeHandler object at 0x1735d6a20>)\n",
      "2024-09-10 13:20:48,786 - DEBUG - Token storage set to <deriva.core.utils.globus_auth_utils.DerivaJSONTokenStorage object at 0x173afbf50>\n",
      "2024-09-10 13:20:48,786 - DEBUG - Automatically open browser: True\n",
      "2024-09-10 13:20:48,837 - DEBUG - Starting new HTTPS connection (1): dev.eye-ai.org:443\n",
      "2024-09-10 13:20:52,761 - DEBUG - https://dev.eye-ai.org:443 \"POST /ermrest/catalog HTTP/11\" 201 13\n",
      "2024-09-10 13:20:52,769 - DEBUG - Starting new HTTPS connection (1): dev.eye-ai.org:443\n",
      "2024-09-10 13:20:52,962 - DEBUG - https://dev.eye-ai.org:443 \"GET /ermrest/catalog/217/schema HTTP/11\" 200 9234\n",
      "2024-09-10 13:20:53,020 - DEBUG - https://dev.eye-ai.org:443 \"GET /ermrest/catalog/217/schema HTTP/11\" 304 0\n",
      "2024-09-10 13:20:53,164 - DEBUG - https://dev.eye-ai.org:443 \"PUT /ermrest/catalog/217/annotation HTTP/11\" 204 0\n",
      "2024-09-10 13:20:53,497 - DEBUG - https://dev.eye-ai.org:443 \"POST /ermrest/catalog/217/schema HTTP/11\" 201 171\n",
      "2024-09-10 13:20:53,781 - DEBUG - https://dev.eye-ai.org:443 \"POST /ermrest/catalog/217/schema/deriva-ml/table HTTP/11\" 201 3885\n",
      "2024-09-10 13:20:54,043 - DEBUG - https://dev.eye-ai.org:443 \"POST /ermrest/catalog/217/schema/deriva-ml/table HTTP/11\" 201 3435\n",
      "2024-09-10 13:20:54,292 - DEBUG - https://dev.eye-ai.org:443 \"POST /ermrest/catalog/217/schema/deriva-ml/table HTTP/11\" 201 3890\n",
      "2024-09-10 13:20:54,459 - DEBUG - https://dev.eye-ai.org:443 \"POST /ermrest/catalog/217/schema/deriva-ml/table/Workflow/column HTTP/11\" 201 221\n",
      "2024-09-10 13:20:54,919 - DEBUG - https://dev.eye-ai.org:443 \"POST /ermrest/catalog/217/schema/deriva-ml/table/Workflow/foreignkey HTTP/11\" 201 451\n",
      "2024-09-10 13:20:55,225 - DEBUG - https://dev.eye-ai.org:443 \"POST /ermrest/catalog/217/schema/deriva-ml/table HTTP/11\" 201 4341\n",
      "2024-09-10 13:20:55,458 - DEBUG - https://dev.eye-ai.org:443 \"POST /ermrest/catalog/217/schema/deriva-ml/table HTTP/11\" 201 2223\n",
      "2024-09-10 13:20:55,721 - DEBUG - https://dev.eye-ai.org:443 \"POST /ermrest/catalog/217/schema/deriva-ml/table HTTP/11\" 201 3885\n",
      "2024-09-10 13:20:55,867 - DEBUG - https://dev.eye-ai.org:443 \"POST /ermrest/catalog/217/schema/deriva-ml/table/Dataset/column HTTP/11\" 201 220\n",
      "2024-09-10 13:20:56,067 - DEBUG - https://dev.eye-ai.org:443 \"POST /ermrest/catalog/217/schema/deriva-ml/table/Dataset/foreignkey HTTP/11\" 201 446\n",
      "2024-09-10 13:20:56,686 - DEBUG - https://dev.eye-ai.org:443 \"POST /ermrest/catalog/217/schema/deriva-ml/table HTTP/11\" 201 3549\n",
      "2024-09-10 13:20:56,949 - DEBUG - https://dev.eye-ai.org:443 \"POST /ermrest/catalog/217/schema/deriva-ml/table HTTP/11\" 201 4371\n",
      "2024-09-10 13:20:57,170 - DEBUG - https://dev.eye-ai.org:443 \"POST /ermrest/catalog/217/schema/deriva-ml/table HTTP/11\" 201 3940\n",
      "2024-09-10 13:20:57,326 - DEBUG - https://dev.eye-ai.org:443 \"POST /ermrest/catalog/217/schema/deriva-ml/table/Execution_Metadata/column HTTP/11\" 201 231\n",
      "2024-09-10 13:20:57,645 - DEBUG - https://dev.eye-ai.org:443 \"POST /ermrest/catalog/217/schema/deriva-ml/table/Execution_Metadata/foreignkey HTTP/11\" 201 501\n",
      "2024-09-10 13:20:57,915 - DEBUG - https://dev.eye-ai.org:443 \"POST /ermrest/catalog/217/schema/deriva-ml/table HTTP/11\" 201 3633\n",
      "2024-09-10 13:20:58,189 - DEBUG - https://dev.eye-ai.org:443 \"POST /ermrest/catalog/217/schema/deriva-ml/table HTTP/11\" 201 3943\n",
      "2024-09-10 13:20:58,465 - DEBUG - https://dev.eye-ai.org:443 \"POST /ermrest/catalog/217/schema/deriva-ml/table HTTP/11\" 201 3925\n",
      "2024-09-10 13:20:58,825 - DEBUG - https://dev.eye-ai.org:443 \"POST /ermrest/catalog/217/schema/deriva-ml/table/Execution_Assets/column HTTP/11\" 201 228\n",
      "2024-09-10 13:20:59,034 - DEBUG - https://dev.eye-ai.org:443 \"POST /ermrest/catalog/217/schema/deriva-ml/table/Execution_Assets/foreignkey HTTP/11\" 201 488\n",
      "2024-09-10 13:20:59,296 - DEBUG - https://dev.eye-ai.org:443 \"POST /ermrest/catalog/217/schema/deriva-ml/table HTTP/11\" 201 3609\n",
      "2024-09-10 13:20:59,466 - DEBUG - https://dev.eye-ai.org:443 \"GET /ermrest/catalog/217/schema HTTP/11\" 200 65434\n",
      "2024-09-10 13:20:59,554 - DEBUG - Inserting entities to path: /entity/deriva-ml:Execution_Metadata_Type?defaults=RMB,RMT,RCB,RID,ID,URI,RCT\n",
      "2024-09-10 13:20:59,556 - DEBUG - yielding batch of 2/2 entities (0:2)\n",
      "2024-09-10 13:20:59,632 - DEBUG - https://dev.eye-ai.org:443 \"POST /ermrest/catalog/217/entity/deriva-ml:Execution_Metadata_Type?defaults=RMB,RMT,RCB,RID,ID,URI,RCT HTTP/11\" 200 1203\n",
      "2024-09-10 13:20:59,634 - DEBUG - Fetched 2 entities\n",
      "2024-09-10 13:20:59,754 - DEBUG - https://dev.eye-ai.org:443 \"POST /ermrest/catalog/217/schema HTTP/11\" 201 173\n",
      "2024-09-10 13:21:00,328 - DEBUG - https://dev.eye-ai.org:443 \"POST /ermrest/catalog/217/schema/demo-schema/table HTTP/11\" 201 2220\n",
      "2024-09-10 13:21:00,692 - DEBUG - https://dev.eye-ai.org:443 \"POST /ermrest/catalog/217/schema/demo-schema/table HTTP/11\" 201 3831\n",
      "2024-09-10 13:21:00,860 - DEBUG - https://dev.eye-ai.org:443 \"POST /ermrest/catalog/217/schema/demo-schema/table/Image/column HTTP/11\" 201 215\n",
      "2024-09-10 13:21:01,083 - DEBUG - https://dev.eye-ai.org:443 \"POST /ermrest/catalog/217/schema/demo-schema/table/Image/foreignkey HTTP/11\" 201 430\n",
      "2024-09-10 13:21:01,309 - DEBUG - https://dev.eye-ai.org:443 \"DELETE /ermrest/catalog/217/schema/demo-schema/table/Subject HTTP/11\" 409 300\n",
      "2024-09-10 13:21:01,992 - DEBUG - https://dev.eye-ai.org:443 \"DELETE /ermrest/catalog/217/schema/demo-schema/table/Image HTTP/11\" 204 0\n",
      "2024-09-10 13:21:02,230 - DEBUG - https://dev.eye-ai.org:443 \"DELETE /ermrest/catalog/217/schema/demo-schema/table/Subject HTTP/11\" 204 0\n",
      "2024-09-10 13:21:02,403 - DEBUG - https://dev.eye-ai.org:443 \"DELETE /ermrest/catalog/217/schema/demo-schema HTTP/11\" 204 0\n",
      "2024-09-10 13:21:02,565 - DEBUG - https://dev.eye-ai.org:443 \"POST /ermrest/catalog/217/schema HTTP/11\" 201 173\n",
      "2024-09-10 13:21:03,072 - DEBUG - https://dev.eye-ai.org:443 \"POST /ermrest/catalog/217/schema/demo-schema/table HTTP/11\" 201 2220\n",
      "2024-09-10 13:21:03,325 - DEBUG - https://dev.eye-ai.org:443 \"POST /ermrest/catalog/217/schema/demo-schema/table HTTP/11\" 201 3831\n",
      "2024-09-10 13:21:03,477 - DEBUG - https://dev.eye-ai.org:443 \"POST /ermrest/catalog/217/schema/demo-schema/table/Image/column HTTP/11\" 201 215\n",
      "2024-09-10 13:21:03,672 - DEBUG - https://dev.eye-ai.org:443 \"POST /ermrest/catalog/217/schema/demo-schema/table/Image/foreignkey HTTP/11\" 201 430\n",
      "2024-09-10 13:21:03,844 - DEBUG - https://dev.eye-ai.org:443 \"GET /ermrest/catalog/217/schema HTTP/11\" 200 72551\n",
      "2024-09-10 13:21:03,935 - DEBUG - Fetching /entity/Subject:=demo-schema:Subject\n",
      "2024-09-10 13:21:03,995 - DEBUG - https://dev.eye-ai.org:443 \"GET /ermrest/catalog/217/entity/Subject:=demo-schema:Subject HTTP/11\" 200 3\n",
      "2024-09-10 13:21:03,997 - DEBUG - Fetched 0 entities\n",
      "2024-09-10 13:21:03,998 - DEBUG - Fetching /entity/Image:=demo-schema:Image\n",
      "2024-09-10 13:21:04,055 - DEBUG - https://dev.eye-ai.org:443 \"GET /ermrest/catalog/217/entity/Image:=demo-schema:Image HTTP/11\" 200 3\n",
      "2024-09-10 13:21:04,057 - DEBUG - Fetched 0 entities\n",
      "2024-09-10 13:21:04,058 - DEBUG - Fetching /entity/Feature_Name:=deriva-ml:Feature_Name\n",
      "2024-09-10 13:21:04,113 - DEBUG - https://dev.eye-ai.org:443 \"GET /ermrest/catalog/217/entity/Feature_Name:=deriva-ml:Feature_Name HTTP/11\" 200 3\n",
      "2024-09-10 13:21:04,115 - DEBUG - Fetched 0 entities\n",
      "2024-09-10 13:21:04,117 - DEBUG - Fetching /entity/Workflow:=deriva-ml:Workflow\n",
      "2024-09-10 13:21:04,180 - DEBUG - https://dev.eye-ai.org:443 \"GET /ermrest/catalog/217/entity/Workflow:=deriva-ml:Workflow HTTP/11\" 200 3\n",
      "2024-09-10 13:21:04,182 - DEBUG - Fetched 0 entities\n",
      "2024-09-10 13:21:04,183 - DEBUG - Fetching /entity/Workflow_Type:=deriva-ml:Workflow_Type\n",
      "2024-09-10 13:21:04,241 - DEBUG - https://dev.eye-ai.org:443 \"GET /ermrest/catalog/217/entity/Workflow_Type:=deriva-ml:Workflow_Type HTTP/11\" 200 3\n",
      "2024-09-10 13:21:04,244 - DEBUG - Fetched 0 entities\n",
      "2024-09-10 13:21:04,246 - DEBUG - Fetching /entity/Execution:=deriva-ml:Execution\n",
      "2024-09-10 13:21:04,300 - DEBUG - https://dev.eye-ai.org:443 \"GET /ermrest/catalog/217/entity/Execution:=deriva-ml:Execution HTTP/11\" 200 3\n",
      "2024-09-10 13:21:04,301 - DEBUG - Fetched 0 entities\n",
      "2024-09-10 13:21:04,302 - DEBUG - Fetching /entity/Dataset:=deriva-ml:Dataset\n",
      "2024-09-10 13:21:04,354 - DEBUG - https://dev.eye-ai.org:443 \"GET /ermrest/catalog/217/entity/Dataset:=deriva-ml:Dataset HTTP/11\" 200 3\n",
      "2024-09-10 13:21:04,356 - DEBUG - Fetched 0 entities\n",
      "2024-09-10 13:21:04,357 - DEBUG - Fetching /entity/Dataset_Type:=deriva-ml:Dataset_Type\n",
      "2024-09-10 13:21:04,412 - DEBUG - https://dev.eye-ai.org:443 \"GET /ermrest/catalog/217/entity/Dataset_Type:=deriva-ml:Dataset_Type HTTP/11\" 200 3\n",
      "2024-09-10 13:21:04,415 - DEBUG - Fetched 0 entities\n",
      "2024-09-10 13:21:04,416 - DEBUG - Fetching /entity/Dataset_Execution:=deriva-ml:Dataset_Execution\n",
      "2024-09-10 13:21:04,480 - DEBUG - https://dev.eye-ai.org:443 \"GET /ermrest/catalog/217/entity/Dataset_Execution:=deriva-ml:Dataset_Execution HTTP/11\" 200 3\n",
      "2024-09-10 13:21:04,483 - DEBUG - Fetched 0 entities\n",
      "2024-09-10 13:21:04,483 - DEBUG - Fetching /entity/Execution_Metadata:=deriva-ml:Execution_Metadata\n",
      "2024-09-10 13:21:04,539 - DEBUG - https://dev.eye-ai.org:443 \"GET /ermrest/catalog/217/entity/Execution_Metadata:=deriva-ml:Execution_Metadata HTTP/11\" 200 3\n",
      "2024-09-10 13:21:04,540 - DEBUG - Fetched 0 entities\n",
      "2024-09-10 13:21:04,541 - DEBUG - Fetching /entity/Execution_Metadata_Type:=deriva-ml:Execution_Metadata_Type\n",
      "2024-09-10 13:21:04,596 - DEBUG - https://dev.eye-ai.org:443 \"GET /ermrest/catalog/217/entity/Execution_Metadata_Type:=deriva-ml:Execution_Metadata_Type HTTP/11\" 200 739\n",
      "2024-09-10 13:21:04,599 - DEBUG - Fetched 2 entities\n",
      "2024-09-10 13:21:04,601 - DEBUG - Deleting: /entity/Execution_Metadata_Type:=deriva-ml:Execution_Metadata_Type/RID=2GT\n",
      "2024-09-10 13:21:04,666 - DEBUG - https://dev.eye-ai.org:443 \"DELETE /ermrest/catalog/217/entity/Execution_Metadata_Type:=deriva-ml:Execution_Metadata_Type/RID=2GT HTTP/11\" 204 0\n",
      "2024-09-10 13:21:04,668 - DEBUG - Deleting: /entity/Execution_Metadata_Type:=deriva-ml:Execution_Metadata_Type/RID=2GW\n",
      "2024-09-10 13:21:04,731 - DEBUG - https://dev.eye-ai.org:443 \"DELETE /ermrest/catalog/217/entity/Execution_Metadata_Type:=deriva-ml:Execution_Metadata_Type/RID=2GW HTTP/11\" 204 0\n",
      "2024-09-10 13:21:04,733 - DEBUG - Fetching /entity/Execution_Metadata_Execution:=deriva-ml:Execution_Metadata_Execution\n",
      "2024-09-10 13:21:04,789 - DEBUG - https://dev.eye-ai.org:443 \"GET /ermrest/catalog/217/entity/Execution_Metadata_Execution:=deriva-ml:Execution_Metadata_Execution HTTP/11\" 200 3\n",
      "2024-09-10 13:21:04,791 - DEBUG - Fetched 0 entities\n",
      "2024-09-10 13:21:04,792 - DEBUG - Fetching /entity/Execution_Assets:=deriva-ml:Execution_Assets\n",
      "2024-09-10 13:21:04,848 - DEBUG - https://dev.eye-ai.org:443 \"GET /ermrest/catalog/217/entity/Execution_Assets:=deriva-ml:Execution_Assets HTTP/11\" 200 3\n",
      "2024-09-10 13:21:04,850 - DEBUG - Fetched 0 entities\n",
      "2024-09-10 13:21:04,851 - DEBUG - Fetching /entity/Execution_Asset_Type:=deriva-ml:Execution_Asset_Type\n",
      "2024-09-10 13:21:04,913 - DEBUG - https://dev.eye-ai.org:443 \"GET /ermrest/catalog/217/entity/Execution_Asset_Type:=deriva-ml:Execution_Asset_Type HTTP/11\" 200 3\n",
      "2024-09-10 13:21:04,915 - DEBUG - Fetched 0 entities\n",
      "2024-09-10 13:21:04,916 - DEBUG - Fetching /entity/Execution_Assets_Execution:=deriva-ml:Execution_Assets_Execution\n",
      "2024-09-10 13:21:04,972 - DEBUG - https://dev.eye-ai.org:443 \"GET /ermrest/catalog/217/entity/Execution_Assets_Execution:=deriva-ml:Execution_Assets_Execution HTTP/11\" 200 3\n",
      "2024-09-10 13:21:04,974 - DEBUG - Fetched 0 entities\n",
      "2024-09-10 13:21:05,031 - DEBUG - https://dev.eye-ai.org:443 \"GET /ermrest/catalog/217/schema HTTP/11\" 304 0\n",
      "2024-09-10 13:21:05,038 - DEBUG - Inserting entities to path: /entity/deriva-ml:Execution_Metadata_Type?defaults=RMB,RMT,RCB,RID,ID,URI,RCT\n",
      "2024-09-10 13:21:05,039 - DEBUG - yielding batch of 2/2 entities (0:2)\n",
      "2024-09-10 13:21:05,103 - DEBUG - https://dev.eye-ai.org:443 \"POST /ermrest/catalog/217/entity/deriva-ml:Execution_Metadata_Type?defaults=RMB,RMT,RCB,RID,ID,URI,RCT HTTP/11\" 200 1203\n",
      "2024-09-10 13:21:05,105 - DEBUG - Fetched 2 entities\n",
      "2024-09-10 13:21:05,105 - DEBUG - Inserting entities to path: /entity/demo-schema:Subject?defaults=RCB,RMB,RMT,RID,RCT\n",
      "2024-09-10 13:21:05,106 - DEBUG - yielding batch of 5/5 entities (0:5)\n",
      "2024-09-10 13:21:05,176 - DEBUG - https://dev.eye-ai.org:443 \"POST /ermrest/catalog/217/entity/demo-schema:Subject?defaults=RCB,RMB,RMT,RID,RCT HTTP/11\" 200 2420\n",
      "2024-09-10 13:21:05,178 - DEBUG - Fetched 5 entities\n",
      "2024-09-10 13:21:05,179 - DEBUG - Inserting entities to path: /entity/demo-schema:Image?defaults=RCB,RMB,RMT,RID,RCT\n",
      "2024-09-10 13:21:05,179 - DEBUG - yielding batch of 5/5 entities (0:5)\n",
      "2024-09-10 13:21:05,253 - DEBUG - https://dev.eye-ai.org:443 \"POST /ermrest/catalog/217/entity/demo-schema:Image?defaults=RCB,RMB,RMT,RID,RCT HTTP/11\" 200 2860\n",
      "2024-09-10 13:21:05,254 - DEBUG - Fetched 5 entities\n",
      "2024-09-10 13:21:05,257 - DEBUG - on lookup, default setting: GLOBUS_SDK_ENVIRONMENT=production\n",
      "2024-09-10 13:21:05,258 - INFO - Creating client of type <class 'globus_sdk.services.auth.client.native_client.NativeAppAuthClient'> for service \"auth\"\n",
      "2024-09-10 13:21:05,258 - DEBUG - Service URL Lookup for \"auth\" under env \"production\"\n",
      "2024-09-10 13:21:05,258 - DEBUG - Service URL Lookup Result: \"auth\" is at \"https://auth.globus.org/\"\n",
      "2024-09-10 13:21:05,259 - DEBUG - on lookup, default setting: GLOBUS_SDK_VERIFY_SSL=True\n",
      "2024-09-10 13:21:05,259 - DEBUG - on lookup, default setting: GLOBUS_SDK_HTTP_TIMEOUT=60.0\n",
      "2024-09-10 13:21:05,260 - DEBUG - initialized transport of type <class 'globus_sdk.transport.requests.RequestsTransport'>\n",
      "2024-09-10 13:21:05,260 - INFO - Finished initializing AuthLoginClient. client_id='8ef15ba9-2b4a-469c-a163-7fd910c9d111', type(authorizer)=<class 'globus_sdk.authorizers.base.NullAuthorizer'>\n",
      "2024-09-10 13:21:05,261 - DEBUG - Using code handlers (<fair_research_login.local_server.LocalServerCodeHandler object at 0x1735d73b0>, <fair_research_login.code_handler.InputCodeHandler object at 0x1735d6a20>)\n",
      "2024-09-10 13:21:05,261 - DEBUG - Token storage set to <deriva.core.utils.globus_auth_utils.DerivaJSONTokenStorage object at 0x173bb9d30>\n",
      "2024-09-10 13:21:05,262 - DEBUG - Automatically open browser: True\n",
      "2024-09-10 13:21:05,271 - DEBUG - Starting new HTTPS connection (1): dev.eye-ai.org:443\n",
      "2024-09-10 13:21:05,468 - DEBUG - https://dev.eye-ai.org:443 \"GET /ermrest/catalog/217/schema HTTP/11\" 200 72551\n"
     ]
    }
   ],
   "source": [
    "test_catalog = create_test_catalog(hostname, domain_schema)\n",
    "ml_instance = DerivaML(hostname, test_catalog.catalog_id, domain_schema, None, None, \"1\")"
   ]
  },
  {
   "cell_type": "code",
   "execution_count": 15,
   "id": "9d7a7aba-bd2e-4e57-a612-3fbcad69ac32",
   "metadata": {},
   "outputs": [
    {
     "data": {
      "text/html": [
       "\n",
       "        <iframe\n",
       "            width=\"900\"\n",
       "            height=\"500\"\n",
       "            src=\"https://dev.eye-ai.org/chaise/recordset/#217/demo-schema:Subject@sort(RID)\"\n",
       "            frameborder=\"0\"\n",
       "            allowfullscreen\n",
       "            \n",
       "        ></iframe>\n",
       "        "
      ],
      "text/plain": [
       "<IPython.lib.display.IFrame at 0x175984b00>"
      ]
     },
     "metadata": {},
     "output_type": "display_data"
    }
   ],
   "source": [
    "#from IPython.display import IFrame\n",
    "#display(IFrame(ml_instance.chaise_url(\"Subject\"), 900,500)\n"
   ]
  },
  {
   "cell_type": "code",
   "execution_count": 16,
   "id": "40a0fa35-f921-456c-8699-22414efa4e6a",
   "metadata": {},
   "outputs": [
    {
     "data": {
      "text/plain": [
       "'https://dev.eye-ai.org/chaise/recordset/#217/demo-schema:Subject@sort(RID)'"
      ]
     },
     "execution_count": 16,
     "metadata": {},
     "output_type": "execute_result"
    }
   ],
   "source": [
    "ml_instance.chaise_url(\"Subject\")"
   ]
  },
  {
   "cell_type": "code",
   "execution_count": 17,
   "id": "9b151033-6eb5-4fbb-a8dd-8d9b2154299a",
   "metadata": {},
   "outputs": [
    {
     "data": {
      "text/plain": [
       "['Feature_Name',\n",
       " 'Workflow_Type',\n",
       " 'Dataset_Type',\n",
       " 'Execution_Metadata_Type',\n",
       " 'Execution_Asset_Type']"
      ]
     },
     "execution_count": 17,
     "metadata": {},
     "output_type": "execute_result"
    }
   ],
   "source": [
    "[t.name for t in ml_instance.find_vocabularies()]"
   ]
  },
  {
   "cell_type": "code",
   "execution_count": 18,
   "id": "50fc85db-8173-463d-830e-7dfd7eba08f7",
   "metadata": {},
   "outputs": [
    {
     "name": "stderr",
     "output_type": "stream",
     "text": [
      "2024-09-10 13:21:35,938 - DEBUG - Resetting dropped connection: dev.eye-ai.org\n",
      "2024-09-10 13:21:36,473 - DEBUG - https://dev.eye-ai.org:443 \"POST /ermrest/catalog/217/schema/demo-schema/table HTTP/11\" 201 3918\n"
     ]
    },
    {
     "data": {
      "text/plain": [
       "<deriva.core.ermrest_model.Table at 0x1759fda90>"
      ]
     },
     "execution_count": 18,
     "metadata": {},
     "output_type": "execute_result"
    }
   ],
   "source": [
    "ml_instance.create_vocabulary(\"My termset\", comment=\"Terms to use for generating tests\")"
   ]
  },
  {
   "cell_type": "code",
   "execution_count": 19,
   "id": "4d8204f2-1411-45ed-b093-1d50751862ba",
   "metadata": {},
   "outputs": [
    {
     "data": {
      "text/plain": [
       "['Feature_Name',\n",
       " 'Workflow_Type',\n",
       " 'Dataset_Type',\n",
       " 'Execution_Metadata_Type',\n",
       " 'Execution_Asset_Type',\n",
       " 'My termset']"
      ]
     },
     "execution_count": 19,
     "metadata": {},
     "output_type": "execute_result"
    }
   ],
   "source": [
    "[t.name for t in ml_instance.find_vocabularies()]"
   ]
  },
  {
   "cell_type": "code",
   "execution_count": 20,
   "id": "2268b5c2-bd85-45f6-a21e-f5a7bd0c719c",
   "metadata": {},
   "outputs": [
    {
     "name": "stderr",
     "output_type": "stream",
     "text": [
      "2024-09-10 13:21:46,587 - DEBUG - Resetting dropped connection: dev.eye-ai.org\n",
      "2024-09-10 13:21:46,831 - DEBUG - https://dev.eye-ai.org:443 \"GET /ermrest/catalog/217/schema HTTP/11\" 200 76593\n",
      "2024-09-10 13:21:46,922 - DEBUG - Inserting entities to path: /entity/demo-schema:My%20termset?defaults=RMB,RMT,RCB,RID,ID,URI,RCT\n",
      "2024-09-10 13:21:46,924 - DEBUG - yielding batch of 1/1 entities (0:1)\n",
      "2024-09-10 13:21:46,996 - DEBUG - https://dev.eye-ai.org:443 \"POST /ermrest/catalog/217/entity/demo-schema:My%20termset?defaults=RMB,RMT,RCB,RID,ID,URI,RCT HTTP/11\" 200 571\n",
      "2024-09-10 13:21:46,999 - DEBUG - Fetched 1 entities\n",
      "2024-09-10 13:21:47,054 - DEBUG - https://dev.eye-ai.org:443 \"GET /ermrest/catalog/217/schema HTTP/11\" 304 0\n",
      "2024-09-10 13:21:47,064 - DEBUG - Inserting entities to path: /entity/demo-schema:My%20termset?defaults=RMB,RMT,RCB,RID,ID,URI,RCT\n",
      "2024-09-10 13:21:47,065 - DEBUG - yielding batch of 1/1 entities (0:1)\n",
      "2024-09-10 13:21:47,142 - DEBUG - https://dev.eye-ai.org:443 \"POST /ermrest/catalog/217/entity/demo-schema:My%20termset?defaults=RMB,RMT,RCB,RID,ID,URI,RCT HTTP/11\" 200 571\n",
      "2024-09-10 13:21:47,144 - DEBUG - Fetched 1 entities\n",
      "2024-09-10 13:21:47,195 - DEBUG - https://dev.eye-ai.org:443 \"GET /ermrest/catalog/217/schema HTTP/11\" 304 0\n",
      "2024-09-10 13:21:47,205 - DEBUG - Inserting entities to path: /entity/demo-schema:My%20termset?defaults=RMB,RMT,RCB,RID,ID,URI,RCT\n",
      "2024-09-10 13:21:47,207 - DEBUG - yielding batch of 1/1 entities (0:1)\n",
      "2024-09-10 13:21:47,271 - DEBUG - https://dev.eye-ai.org:443 \"POST /ermrest/catalog/217/entity/demo-schema:My%20termset?defaults=RMB,RMT,RCB,RID,ID,URI,RCT HTTP/11\" 200 563\n",
      "2024-09-10 13:21:47,273 - DEBUG - Fetched 1 entities\n",
      "2024-09-10 13:21:47,323 - DEBUG - https://dev.eye-ai.org:443 \"GET /ermrest/catalog/217/schema HTTP/11\" 304 0\n",
      "2024-09-10 13:21:47,333 - DEBUG - Inserting entities to path: /entity/demo-schema:My%20termset?defaults=RMB,RMT,RCB,RID,ID,URI,RCT\n",
      "2024-09-10 13:21:47,335 - DEBUG - yielding batch of 1/1 entities (0:1)\n",
      "2024-09-10 13:21:47,405 - DEBUG - https://dev.eye-ai.org:443 \"POST /ermrest/catalog/217/entity/demo-schema:My%20termset?defaults=RMB,RMT,RCB,RID,ID,URI,RCT HTTP/11\" 200 571\n",
      "2024-09-10 13:21:47,407 - DEBUG - Fetched 1 entities\n",
      "2024-09-10 13:21:47,459 - DEBUG - https://dev.eye-ai.org:443 \"GET /ermrest/catalog/217/schema HTTP/11\" 304 0\n",
      "2024-09-10 13:21:47,476 - DEBUG - Inserting entities to path: /entity/demo-schema:My%20termset?defaults=RMB,RMT,RCB,RID,ID,URI,RCT\n",
      "2024-09-10 13:21:47,477 - DEBUG - yielding batch of 1/1 entities (0:1)\n",
      "2024-09-10 13:21:47,538 - DEBUG - https://dev.eye-ai.org:443 \"POST /ermrest/catalog/217/entity/demo-schema:My%20termset?defaults=RMB,RMT,RCB,RID,ID,URI,RCT HTTP/11\" 200 571\n",
      "2024-09-10 13:21:47,540 - DEBUG - Fetched 1 entities\n"
     ]
    }
   ],
   "source": [
    "for i in range(5):\n",
    "    ml_instance.add_term(\"My termset\", f\"Term{i}\", description=f\"My term {i}\", synonyms=[f\"t{i}\", f\"T{i}\"])"
   ]
  },
  {
   "cell_type": "code",
   "execution_count": 21,
   "id": "240cb784-0ffc-4fc5-aa8d-fb2ee9267355",
   "metadata": {},
   "outputs": [
    {
     "name": "stderr",
     "output_type": "stream",
     "text": [
      "2024-09-10 13:21:49,856 - DEBUG - https://dev.eye-ai.org:443 \"GET /ermrest/catalog/217/schema HTTP/11\" 304 0\n",
      "2024-09-10 13:21:49,866 - DEBUG - Fetching /entity/My%20termset:=demo-schema:My%20termset\n",
      "2024-09-10 13:21:49,921 - DEBUG - https://dev.eye-ai.org:443 \"GET /ermrest/catalog/217/entity/My%20termset:=demo-schema:My%20termset HTTP/11\" 200 1691\n",
      "2024-09-10 13:21:49,923 - DEBUG - Fetched 5 entities\n"
     ]
    },
    {
     "data": {
      "text/html": [
       "<div>\n",
       "<style scoped>\n",
       "    .dataframe tbody tr th:only-of-type {\n",
       "        vertical-align: middle;\n",
       "    }\n",
       "\n",
       "    .dataframe tbody tr th {\n",
       "        vertical-align: top;\n",
       "    }\n",
       "\n",
       "    .dataframe thead th {\n",
       "        text-align: right;\n",
       "    }\n",
       "</style>\n",
       "<table border=\"1\" class=\"dataframe\">\n",
       "  <thead>\n",
       "    <tr style=\"text-align: right;\">\n",
       "      <th></th>\n",
       "      <th>Name</th>\n",
       "      <th>Description</th>\n",
       "      <th>Synonyms</th>\n",
       "    </tr>\n",
       "  </thead>\n",
       "  <tbody>\n",
       "    <tr>\n",
       "      <th>0</th>\n",
       "      <td>Term0</td>\n",
       "      <td>My term 0</td>\n",
       "      <td>[t0, T0]</td>\n",
       "    </tr>\n",
       "    <tr>\n",
       "      <th>1</th>\n",
       "      <td>Term1</td>\n",
       "      <td>My term 1</td>\n",
       "      <td>[t1, T1]</td>\n",
       "    </tr>\n",
       "    <tr>\n",
       "      <th>2</th>\n",
       "      <td>Term2</td>\n",
       "      <td>My term 2</td>\n",
       "      <td>[t2, T2]</td>\n",
       "    </tr>\n",
       "    <tr>\n",
       "      <th>3</th>\n",
       "      <td>Term3</td>\n",
       "      <td>My term 3</td>\n",
       "      <td>[t3, T3]</td>\n",
       "    </tr>\n",
       "    <tr>\n",
       "      <th>4</th>\n",
       "      <td>Term4</td>\n",
       "      <td>My term 4</td>\n",
       "      <td>[t4, T4]</td>\n",
       "    </tr>\n",
       "  </tbody>\n",
       "</table>\n",
       "</div>"
      ],
      "text/plain": [
       "    Name Description  Synonyms\n",
       "0  Term0   My term 0  [t0, T0]\n",
       "1  Term1   My term 1  [t1, T1]\n",
       "2  Term2   My term 2  [t2, T2]\n",
       "3  Term3   My term 3  [t3, T3]\n",
       "4  Term4   My term 4  [t4, T4]"
      ]
     },
     "execution_count": 21,
     "metadata": {},
     "output_type": "execute_result"
    }
   ],
   "source": [
    "pd.DataFrame([{'Name': v.name, 'Description': v.description, 'Synonyms': v.synonyms} for v in ml_instance.list_vocabulary_terms(\"My termset\")])"
   ]
  },
  {
   "cell_type": "code",
   "execution_count": 22,
   "id": "8ee93134-83eb-45f0-9552-85121b5de888",
   "metadata": {},
   "outputs": [
    {
     "name": "stderr",
     "output_type": "stream",
     "text": [
      "2024-09-10 13:21:50,928 - DEBUG - https://dev.eye-ai.org:443 \"GET /ermrest/catalog/217/schema HTTP/11\" 304 0\n",
      "2024-09-10 13:21:50,939 - DEBUG - Fetching /entity/My%20termset:=demo-schema:My%20termset\n",
      "2024-09-10 13:21:50,991 - DEBUG - https://dev.eye-ai.org:443 \"GET /ermrest/catalog/217/entity/My%20termset:=demo-schema:My%20termset HTTP/11\" 304 0\n",
      "2024-09-10 13:21:50,993 - DEBUG - Fetched 5 entities\n",
      "2024-09-10 13:21:51,061 - DEBUG - https://dev.eye-ai.org:443 \"GET /ermrest/catalog/217/schema HTTP/11\" 304 0\n",
      "2024-09-10 13:21:51,073 - DEBUG - Fetching /entity/My%20termset:=demo-schema:My%20termset\n",
      "2024-09-10 13:21:51,126 - DEBUG - https://dev.eye-ai.org:443 \"GET /ermrest/catalog/217/entity/My%20termset:=demo-schema:My%20termset HTTP/11\" 304 0\n",
      "2024-09-10 13:21:51,128 - DEBUG - Fetched 5 entities\n"
     ]
    },
    {
     "name": "stdout",
     "output_type": "stream",
     "text": [
      "name='Term1' synonyms=['t1', 'T1'] id='demo-schema:2RR' uri='/id/2RR' description='My term 1' rid='2RR'\n",
      "name='Term1' synonyms=['t1', 'T1'] id='demo-schema:2RR' uri='/id/2RR' description='My term 1' rid='2RR'\n"
     ]
    }
   ],
   "source": [
    "print(ml_instance.lookup_term(\"My termset\", \"T1\"))\n",
    "print(ml_instance.lookup_term(\"My termset\", \"t1\"))"
   ]
  },
  {
   "cell_type": "code",
   "execution_count": null,
   "id": "6e76bbdf-2441-4444-be7f-e55399bcc32a",
   "metadata": {},
   "outputs": [],
   "source": [
    "test_catalog.delete_ermrest_catalog(really=True)"
   ]
  }
 ],
 "metadata": {
  "kernelspec": {
   "display_name": "deriva-ml",
   "language": "python",
   "name": "deriva-ml"
  },
  "language_info": {
   "codemirror_mode": {
    "name": "ipython",
    "version": 3
   },
   "file_extension": ".py",
   "mimetype": "text/x-python",
   "name": "python",
   "nbconvert_exporter": "python",
   "pygments_lexer": "ipython3",
   "version": "3.12.2"
  }
 },
 "nbformat": 4,
 "nbformat_minor": 5
}
