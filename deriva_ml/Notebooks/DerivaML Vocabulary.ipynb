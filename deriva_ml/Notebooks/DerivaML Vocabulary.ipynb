{
 "cells": [
  {
   "cell_type": "markdown",
   "id": "94ffee41-4986-4196-b35d-b38b6e10490a",
   "metadata": {},
   "source": [
    "DerivaML is a class library built on the Deriva Scientific Asset management system that is designed to help simplify a number of the basic operations associated with building and testing ML libraries based on common toolkits such as TensorFlow.  This notebook reviews the basic features of the DerivaML library."
   ]
  },
  {
   "cell_type": "code",
   "execution_count": null,
   "id": "ff605747-195b-40a1-b915-0e799f8d0748",
   "metadata": {},
   "outputs": [],
   "source": [
    "%load_ext autoreload\n",
    "%autoreload 2"
   ]
  },
  {
   "cell_type": "code",
   "execution_count": null,
   "id": "9493a5ef-86b9-490b-a1d5-f461fdcd68ef",
   "metadata": {},
   "outputs": [],
   "source": [
    "import pandas as pd\n",
    "from deriva.core.utils.globus_auth_utils import GlobusNativeLogin\n",
    "from deriva_ml.schema_setup.test_catalog import create_test_catalog, DemoML"
   ]
  },
  {
   "metadata": {},
   "cell_type": "markdown",
   "source": "Set the details for the catalog we want and authenticate to the server if needed.",
   "id": "ba06990f-6dc5-4805-9e82-0881a524bfef"
  },
  {
   "metadata": {},
   "cell_type": "code",
   "outputs": [],
   "execution_count": null,
   "source": [
    "hostname = 'dev.eye-ai.org'\n",
    "\n",
    "gnl = GlobusNativeLogin(host=hostname)\n",
    "if gnl.is_logged_in([hostname]):\n",
    "    print(\"You are already logged in.\")\n",
    "else:\n",
    "    gnl.login([hostname], no_local_server=True, no_browser=True, refresh_tokens=True, update_bdbag_keychain=True)\n",
    "    print(\"Login Successful\")"
   ],
   "id": "9ee79ab7-a3f7-4c69-9c80-336871c13ec2"
  },
  {
   "cell_type": "markdown",
   "id": "a23e5177-106b-48b6-b5e0-a126d35f4084",
   "metadata": {},
   "source": [
    "Create a test catalog and get an instance of the DerivaML class."
   ]
  },
  {
   "cell_type": "code",
   "execution_count": null,
   "id": "e9bddcf0-27ea-40b3-a388-b77635586fad",
   "metadata": {},
   "outputs": [],
   "source": [
    "test_catalog = create_test_catalog(hostname)\n",
    "ml_instance = DemoML(hostname, test_catalog.catalog_id)"
   ]
  },
  {
   "cell_type": "code",
   "execution_count": null,
   "id": "40a0fa35-f921-456c-8699-22414efa4e6a",
   "metadata": {},
   "outputs": [],
   "source": [
    "ml_instance.chaise_url(\"Subject\")"
   ]
  },
  {
   "metadata": {},
   "cell_type": "markdown",
   "source": "Get a list of all of the currently defined controlled vocabularies",
   "id": "16bba361fac5243a"
  },
  {
   "metadata": {},
   "cell_type": "code",
   "outputs": [],
   "execution_count": null,
   "source": "ml_instance.find_vocabularies()",
   "id": "9b151033-6eb5-4fbb-a8dd-8d9b2154299a"
  },
  {
   "cell_type": "code",
   "execution_count": null,
   "id": "50fc85db-8173-463d-830e-7dfd7eba08f7",
   "metadata": {},
   "outputs": [],
   "source": "ml_instance.create_vocabulary(\"My term set\", comment=\"Terms to use for generating tests\")"
  },
  {
   "cell_type": "code",
   "execution_count": null,
   "id": "4d8204f2-1411-45ed-b093-1d50751862ba",
   "metadata": {},
   "outputs": [],
   "source": "ml_instance.find_vocabularies()"
  },
  {
   "cell_type": "code",
   "execution_count": null,
   "id": "2268b5c2-bd85-45f6-a21e-f5a7bd0c719c",
   "metadata": {},
   "outputs": [],
   "source": [
    "for i in range(5):\n",
    "    ml_instance.add_term(\"My termset\", f\"Term{i}\", description=f\"My term {i}\", synonyms=[f\"t{i}\", f\"T{i}\"])"
   ]
  },
  {
   "cell_type": "code",
   "execution_count": null,
   "id": "240cb784-0ffc-4fc5-aa8d-fb2ee9267355",
   "metadata": {},
   "outputs": [],
   "source": [
    "pd.DataFrame([{'Name': v.name, 'Description': v.description, 'Synonyms': v.synonyms} for v in ml_instance.list_vocabulary_terms(\"My termset\")])"
   ]
  },
  {
   "cell_type": "code",
   "execution_count": null,
   "id": "8ee93134-83eb-45f0-9552-85121b5de888",
   "metadata": {},
   "outputs": [],
   "source": [
    "print(ml_instance.lookup_term(\"My termset\", \"T1\"))\n",
    "print(ml_instance.lookup_term(\"My termset\", \"t1\"))"
   ]
  },
  {
   "cell_type": "code",
   "execution_count": null,
   "id": "6e76bbdf-2441-4444-be7f-e55399bcc32a",
   "metadata": {},
   "outputs": [],
   "source": [
    "test_catalog.delete_ermrest_catalog(really=True)"
   ]
  }
 ],
 "metadata": {
  "kernelspec": {
   "display_name": "deriva-ml",
   "language": "python",
   "name": "deriva-ml"
  },
  "language_info": {
   "codemirror_mode": {
    "name": "ipython",
    "version": 3
   },
   "file_extension": ".py",
   "mimetype": "text/x-python",
   "name": "python",
   "nbconvert_exporter": "python",
   "pygments_lexer": "ipython3",
   "version": "3.12.2"
  }
 },
 "nbformat": 4,
 "nbformat_minor": 5
}
