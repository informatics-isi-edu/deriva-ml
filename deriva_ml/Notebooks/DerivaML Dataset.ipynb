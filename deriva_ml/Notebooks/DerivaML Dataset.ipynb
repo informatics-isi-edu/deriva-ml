{
 "cells": [
  {
   "cell_type": "markdown",
   "id": "94ffee41-4986-4196-b35d-b38b6e10490a",
   "metadata": {},
   "source": [
    "DerivaML is a class library built on the Deriva Scientific Asset management system that is designed to help simplify a number of the basic operations associated with building and testing ML libraries based on common toolkits such as TensorFlow.  This notebook reviews the basic features of the DerivaML library."
   ]
  },
  {
   "cell_type": "code",
   "execution_count": null,
   "id": "ff605747-195b-40a1-b915-0e799f8d0748",
   "metadata": {},
   "outputs": [],
   "source": [
    "%load_ext autoreload\n",
    "%autoreload 2"
   ]
  },
  {
   "metadata": {},
   "cell_type": "code",
   "outputs": [],
   "execution_count": null,
   "source": [
    "import pandas as pd\n",
    "from deriva.core.utils.globus_auth_utils import GlobusNativeLogin\n",
    "from deriva_ml.schema_setup.test_catalog import create_test_catalog, DemoML"
   ],
   "id": "edd011382d623f72"
  },
  {
   "metadata": {},
   "cell_type": "markdown",
   "source": "Set the details for the catalog we want and authenticate to the server if needed.",
   "id": "502f9c5ca4feee8"
  },
  {
   "metadata": {},
   "cell_type": "code",
   "outputs": [],
   "execution_count": null,
   "source": [
    "hostname = 'dev.eye-ai.org'\n",
    "domain_schema = 'demo-schema'\n",
    "\n",
    "gnl = GlobusNativeLogin(host=hostname)\n",
    "if gnl.is_logged_in([hostname]):\n",
    "    print(\"You are already logged in.\")\n",
    "else:\n",
    "    gnl.login([hostname], no_local_server=True, no_browser=True, refresh_tokens=True, update_bdbag_keychain=True)\n",
    "    print(\"Login Successful\")\n"
   ],
   "id": "1d18222d50d0ef7c"
  },
  {
   "metadata": {},
   "cell_type": "markdown",
   "source": "Create a test catalog and get an instance of the DemoML class.",
   "id": "eb169235902c77be"
  },
  {
   "metadata": {},
   "cell_type": "code",
   "outputs": [],
   "execution_count": null,
   "source": [
    "test_catalog = create_test_catalog(hostname, domain_schema)\n",
    "ml_instance = DemoML(hostname, test_catalog.catalog_id)"
   ],
   "id": "677df6f200423a9d"
  },
  {
   "metadata": {},
   "cell_type": "code",
   "outputs": [],
   "execution_count": null,
   "source": [
    "print([a.name for a in ml_instance.list_dataset_element_types()])\n",
    "ml_instance.add_dataset_element_type(\"Subject\")\n",
    "ml_instance.add_dataset_element_type(\"Image\")\n",
    "print([a.name for a in ml_instance.list_dataset_element_types()])"
   ],
   "id": "b1a71deb6e6f8c4f"
  },
  {
   "metadata": {},
   "cell_type": "code",
   "outputs": [],
   "execution_count": null,
   "source": [
    "# Create a new dataset\n",
    "ml_instance.add_term(\"Dataset_Type\", \"TestSet\", description=\"A test dataset\")\n",
    "ml_instance.add_term(\"Dataset_Type\", \"Training\", description=\"Training dataset\")\n",
    "ml_instance.add_term(\"Dataset_Type\", \"Validation\", description=\"Validation dataset\")\n",
    "\n",
    "subject_dataset = ml_instance.create_dataset([\"TestSet\"], description=\"A subject dataset\")\n",
    "image_dataset = ml_instance.create_dataset([\"TestSet\", \"Training\"], description=\"A image training dataset\")\n",
    "\n",
    "subject_rids = [i['RID'] for i in ml_instance.domain_path.tables['Subject'].entities().fetch()]\n",
    "image_rids = [i['RID'] for i in ml_instance.domain_path.tables['Image'].entities().fetch()]\n",
    "\n",
    "ml_instance.add_dataset_members(dataset_rid=subject_dataset, members=subject_rids)\n",
    "ml_instance.add_dataset_members(dataset_rid=image_dataset, members=image_rids[0:2])"
   ],
   "id": "a843170d141c8a8"
  },
  {
   "metadata": {},
   "cell_type": "code",
   "outputs": [],
   "execution_count": null,
   "source": [
    "print(f\"Subject dataset members {ml_instance.list_dataset_members(subject_dataset)}\")\n",
    "print(f\"Image dataset members {ml_instance.list_dataset_members(image_dataset)}\")"
   ],
   "id": "21e3d412920ac963"
  },
  {
   "metadata": {},
   "cell_type": "code",
   "outputs": [],
   "execution_count": null,
   "source": [
    "nested_dataset = ml_instance.create_dataset(\"TestSet\", description=\"A nested dataset\")\n",
    "ml_instance.add_dataset_members(dataset_rid=nested_dataset, members=[subject_dataset, image_dataset])\n",
    "ml_instance.list_dataset_members(dataset_rid=nested_dataset)"
   ],
   "id": "d8028a3d346a2ea7"
  },
  {
   "metadata": {},
   "cell_type": "code",
   "outputs": [],
   "execution_count": null,
   "source": "ml_instance.cite(subject_dataset)",
   "id": "4025b1c81ca7eb8c"
  },
  {
   "metadata": {},
   "cell_type": "code",
   "outputs": [],
   "execution_count": null,
   "source": [
    "def strip_system(d):\n",
    "    return {k:v for k,v in d.items() if k not in ['RCT', 'RMT', 'RCB', 'RMB']}\n",
    "\n",
    "pd.DataFrame([strip_system(m) for m in ml_instance.find_datasets()])"
   ],
   "id": "5f8f12b942310485"
  },
  {
   "metadata": {},
   "cell_type": "markdown",
   "source": "Now lets download a dataset so that we can compute on it locally.",
   "id": "52c5ddd58bc45d95"
  },
  {
   "metadata": {},
   "cell_type": "code",
   "outputs": [],
   "execution_count": null,
   "source": "ml_instance.materialize_bdbag(nested_dataset)",
   "id": "fac3a1b3d7db6556"
  },
  {
   "cell_type": "code",
   "execution_count": null,
   "id": "6e76bbdf-2441-4444-be7f-e55399bcc32a",
   "metadata": {},
   "outputs": [],
   "source": [
    "test_catalog.delete_ermrest_catalog(really=True)"
   ]
  }
 ],
 "metadata": {
  "kernelspec": {
   "display_name": "deriva-ml",
   "language": "python",
   "name": "deriva-ml"
  },
  "language_info": {
   "codemirror_mode": {
    "name": "ipython",
    "version": 3
   },
   "file_extension": ".py",
   "mimetype": "text/x-python",
   "name": "python",
   "nbconvert_exporter": "python",
   "pygments_lexer": "ipython3",
   "version": "3.12.2"
  }
 },
 "nbformat": 4,
 "nbformat_minor": 5
}
