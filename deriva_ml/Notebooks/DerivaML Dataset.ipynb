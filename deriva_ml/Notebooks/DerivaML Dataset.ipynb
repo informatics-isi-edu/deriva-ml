{
 "cells": [
  {
   "cell_type": "markdown",
   "id": "94ffee41-4986-4196-b35d-b38b6e10490a",
   "metadata": {},
   "source": "DerivaML is a class library built on the Deriva Scientific Asset management system that is designed to help simplify a number of the basic operations associated with building and testing ML libraries based on common toolkits such as TensorFlow.  This notebook reviews the basic features of the DerivaML library."
  },
  {
   "cell_type": "code",
   "id": "ff605747-195b-40a1-b915-0e799f8d0748",
   "metadata": {
    "ExecuteTime": {
     "end_time": "2024-10-09T15:12:49.690278Z",
     "start_time": "2024-10-09T15:12:49.664056Z"
    }
   },
   "source": [
    "%load_ext autoreload\n",
    "%autoreload 2"
   ],
   "outputs": [
    {
     "name": "stdout",
     "output_type": "stream",
     "text": [
      "The autoreload extension is already loaded. To reload it, use:\n",
      "  %reload_ext autoreload\n"
     ]
    }
   ],
   "execution_count": 6
  },
  {
   "cell_type": "code",
   "id": "9493a5ef-86b9-490b-a1d5-f461fdcd68ef",
   "metadata": {
    "ExecuteTime": {
     "end_time": "2024-10-09T15:12:51.390094Z",
     "start_time": "2024-10-09T15:12:51.368512Z"
    }
   },
   "source": [
    "import pandas as pd\n",
    "from deriva.core.utils.globus_auth_utils import GlobusNativeLogin\n",
    "from deriva_ml.schema_setup.test_catalog import create_test_catalog, DemoML"
   ],
   "outputs": [],
   "execution_count": 7
  },
  {
   "cell_type": "markdown",
   "id": "ba06990f-6dc5-4805-9e82-0881a524bfef",
   "metadata": {},
   "source": [
    "Set the details for the catalog we want and authenticate to the server if needed."
   ]
  },
  {
   "cell_type": "code",
   "id": "9ee79ab7-a3f7-4c69-9c80-336871c13ec2",
   "metadata": {
    "ExecuteTime": {
     "end_time": "2024-10-09T15:12:53.603257Z",
     "start_time": "2024-10-09T15:12:53.580290Z"
    }
   },
   "source": [
    "hostname = 'dev.eye-ai.org'\n",
    "domain_schema = 'demo-schema'\n",
    "\n",
    "gnl = GlobusNativeLogin(host=hostname)\n",
    "if gnl.is_logged_in([hostname]):\n",
    "    print(\"You are already logged in.\")\n",
    "else:\n",
    "    gnl.login([hostname], no_local_server=True, no_browser=True, refresh_tokens=True, update_bdbag_keychain=True)\n",
    "    print(\"Login Successful\")\n"
   ],
   "outputs": [
    {
     "name": "stdout",
     "output_type": "stream",
     "text": [
      "You are already logged in.\n"
     ]
    }
   ],
   "execution_count": 8
  },
  {
   "cell_type": "markdown",
   "id": "a23e5177-106b-48b6-b5e0-a126d35f4084",
   "metadata": {},
   "source": "Create a test catalog and get an instance of the DemoML class."
  },
  {
   "cell_type": "code",
   "id": "e9bddcf0-27ea-40b3-a388-b77635586fad",
   "metadata": {
    "ExecuteTime": {
     "end_time": "2024-10-09T15:13:10.953499Z",
     "start_time": "2024-10-09T15:12:56.248848Z"
    }
   },
   "source": [
    "test_catalog = create_test_catalog(hostname, domain_schema)\n",
    "ml_instance = DemoML(hostname, test_catalog.catalog_id)"
   ],
   "outputs": [
    {
     "ename": "TypeError",
     "evalue": "generate_dataset_annotations() takes 1 positional argument but 2 were given",
     "output_type": "error",
     "traceback": [
      "\u001B[0;31m---------------------------------------------------------------------------\u001B[0m",
      "\u001B[0;31mTypeError\u001B[0m                                 Traceback (most recent call last)",
      "Cell \u001B[0;32mIn[9], line 1\u001B[0m\n\u001B[0;32m----> 1\u001B[0m test_catalog \u001B[38;5;241m=\u001B[39m \u001B[43mcreate_test_catalog\u001B[49m\u001B[43m(\u001B[49m\u001B[43mhostname\u001B[49m\u001B[43m,\u001B[49m\u001B[43m \u001B[49m\u001B[43mdomain_schema\u001B[49m\u001B[43m)\u001B[49m\n\u001B[1;32m      2\u001B[0m ml_instance \u001B[38;5;241m=\u001B[39m DemoML(hostname, test_catalog\u001B[38;5;241m.\u001B[39mcatalog_id)\n",
      "File \u001B[0;32m~/Repos/Projects/deriva-ml/deriva_ml/schema_setup/test_catalog.py:124\u001B[0m, in \u001B[0;36mcreate_test_catalog\u001B[0;34m(hostname, domain_schema, project_name)\u001B[0m\n\u001B[1;32m    122\u001B[0m     populate_test_catalog(model, domain_schema)\n\u001B[1;32m    123\u001B[0m     dataset_table \u001B[38;5;241m=\u001B[39m model\u001B[38;5;241m.\u001B[39mschemas[\u001B[38;5;124m'\u001B[39m\u001B[38;5;124mderiva-ml\u001B[39m\u001B[38;5;124m'\u001B[39m]\u001B[38;5;241m.\u001B[39mtables[\u001B[38;5;124m'\u001B[39m\u001B[38;5;124mDataset\u001B[39m\u001B[38;5;124m'\u001B[39m]\n\u001B[0;32m--> 124\u001B[0m     dataset_table\u001B[38;5;241m.\u001B[39mannotations\u001B[38;5;241m.\u001B[39mupdate(\u001B[43mgenerate_dataset_annotations\u001B[49m\u001B[43m(\u001B[49m\u001B[43mmodel\u001B[49m\u001B[43m,\u001B[49m\u001B[43m \u001B[49m\u001B[43mdomain_schema\u001B[49m\u001B[43m)\u001B[49m)\n\u001B[1;32m    125\u001B[0m     model\u001B[38;5;241m.\u001B[39mapply()\n\u001B[1;32m    126\u001B[0m \u001B[38;5;28;01mexcept\u001B[39;00m \u001B[38;5;167;01mException\u001B[39;00m:\n\u001B[1;32m    127\u001B[0m     \u001B[38;5;66;03m# on failure, delete catalog and re-raise exception\u001B[39;00m\n",
      "\u001B[0;31mTypeError\u001B[0m: generate_dataset_annotations() takes 1 positional argument but 2 were given"
     ]
    }
   ],
   "execution_count": 9
  },
  {
   "cell_type": "code",
   "id": "40a0fa35-f921-456c-8699-22414efa4e6a",
   "metadata": {},
   "source": [
    "ml_instance.chaise_url(\"Subject\")"
   ],
   "outputs": [],
   "execution_count": null
  },
  {
   "cell_type": "code",
   "id": "9b151033-6eb5-4fbb-a8dd-8d9b2154299a",
   "metadata": {},
   "source": [
    "print([a.name for a in ml_instance.list_dataset_element_types()])\n",
    "ml_instance.add_dataset_element_type(\"Subject\")\n",
    "ml_instance.add_dataset_element_type(\"Image\")\n",
    "print([a.name for a in ml_instance.list_dataset_element_types()])"
   ],
   "outputs": [],
   "execution_count": null
  },
  {
   "cell_type": "code",
   "id": "50fc85db-8173-463d-830e-7dfd7eba08f7",
   "metadata": {},
   "source": [
    "# Create a new dataset\n",
    "ml_instance.add_term(\"Dataset_Type\", \"TestSet\", description=\"A test dataset\")\n",
    "ml_instance.add_term(\"Dataset_Type\", \"Training\", description=\"Training dataset\")\n",
    "ml_instance.add_term(\"Dataset_Type\", \"Validation\", description=\"Validation dataset\")\n",
    "\n",
    "subject_dataset = ml_instance.create_dataset([\"TestSet\"], description=\"A subject dataset\")\n",
    "image_dataset = ml_instance.create_dataset([\"TestSet\", \"Training\"], description=\"A image training dataset\")\n",
    "\n",
    "subject_rids = [i['RID'] for i in ml_instance.domain_path.tables['Subject'].entities().fetch()]\n",
    "image_rids = [i['RID'] for i in ml_instance.domain_path.tables['Image'].entities().fetch()]\n",
    "\n",
    "ml_instance.add_dataset_members(dataset_rid=subject_dataset, members=subject_rids)\n",
    "ml_instance.add_dataset_members(dataset_rid=image_dataset, members=image_rids[0:2])"
   ],
   "outputs": [],
   "execution_count": null
  },
  {
   "metadata": {},
   "cell_type": "code",
   "source": [
    "print(f\"Subject dataset members {ml_instance.list_dataset_members(subject_dataset)}\")\n",
    "print(f\"Image dataset members {ml_instance.list_dataset_members(image_dataset)}\")"
   ],
   "id": "8e36efee0309e482",
   "outputs": [],
   "execution_count": null
  },
  {
   "metadata": {},
   "cell_type": "code",
   "source": [
    "nested_dataset = ml_instance.create_dataset(\"Test Set\", description=\"A nested dataset\")\n",
    "ml_instance.add_dataset_members(dataset_rid=nested_dataset, members=[subject_dataset, image_dataset])\n",
    "ml_instance.list_dataset_members(dataset_rid=nested_dataset)"
   ],
   "id": "6998dfaa363198bb",
   "outputs": [],
   "execution_count": null
  },
  {
   "metadata": {},
   "cell_type": "code",
   "outputs": [],
   "execution_count": null,
   "source": [
    "def strip_system(d):\n",
    "    return {k:v for k,v in d.items() if k not in ['RCT', 'RMT', 'RCB', 'RMB']}\n",
    "\n",
    "pd.DataFrame([strip_system(m) for m in ml_instance.find_datasets()])"
   ],
   "id": "4d8204f2-1411-45ed-b093-1d50751862ba"
  },
  {
   "metadata": {},
   "cell_type": "markdown",
   "source": "Now lets download a dataset so that we can compute on it locally.",
   "id": "3f00c41d6fe8f797"
  },
  {
   "metadata": {},
   "cell_type": "code",
   "outputs": [],
   "execution_count": null,
   "source": "ml_instance.materialize_bdbag(nested_dataset)",
   "id": "30140f1744ed3b90"
  },
  {
   "metadata": {},
   "cell_type": "code",
   "outputs": [],
   "execution_count": null,
   "source": "test_catalog.delete_ermrest_catalog(really=True)",
   "id": "6e76bbdf-2441-4444-be7f-e55399bcc32a"
  }
 ],
 "metadata": {
  "kernelspec": {
   "display_name": "deriva-kernal",
   "language": "python",
   "name": "deriva-kernal"
  },
  "language_info": {
   "codemirror_mode": {
    "name": "ipython",
    "version": 3
   },
   "file_extension": ".py",
   "mimetype": "text/x-python",
   "name": "python",
   "nbconvert_exporter": "python",
   "pygments_lexer": "ipython3",
   "version": "3.12.2"
  }
 },
 "nbformat": 4,
 "nbformat_minor": 5
}
