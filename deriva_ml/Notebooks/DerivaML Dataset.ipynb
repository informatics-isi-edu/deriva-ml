{
 "cells": [
  {
   "cell_type": "markdown",
   "id": "a5ff6e4c93a70770",
   "metadata": {},
   "source": [
    "# DerivaML Dataset Example.\n",
    "\n",
    "DerivaML is a class library built on the Deriva Scientific Asset management system that is designed to help simplify a number of the basic operations associated with building and testing ML libraries based on common toolkits such as TensorFlow.  This notebook reviews the basic features of the DerivaML library."
   ]
  },
  {
   "cell_type": "markdown",
   "id": "db30e3e5ccd3ad77",
   "metadata": {},
   "source": [
    "## Set up DerivaML  for test case"
   ]
  },
  {
   "cell_type": "code",
   "id": "29f3e870d1fea4f8",
   "metadata": {
    "ExecuteTime": {
     "end_time": "2024-11-26T21:50:42.622787Z",
     "start_time": "2024-11-26T21:50:42.586327Z"
    }
   },
   "source": [
    "%load_ext autoreload\n",
    "%autoreload 2"
   ],
   "outputs": [
    {
     "name": "stdout",
     "output_type": "stream",
     "text": [
      "The autoreload extension is already loaded. To reload it, use:\n",
      "  %reload_ext autoreload\n"
     ]
    }
   ],
   "execution_count": 20
  },
  {
   "cell_type": "code",
   "id": "1d18222d50d0ef7c",
   "metadata": {
    "ExecuteTime": {
     "end_time": "2024-11-26T21:50:44.846058Z",
     "start_time": "2024-11-26T21:50:44.830290Z"
    }
   },
   "source": [
    "from deriva.core.utils.globus_auth_utils import GlobusNativeLogin\n",
    "from deriva_ml.schema_setup.test_catalog import create_test_catalog, DemoML\n",
    "from deriva_ml.deriva_ml_base import MLVocab as vt\n",
    "from deriva_ml.dataset_bag import DatasetBag\n",
    "import pandas as pd\n",
    "from IPython.display import display, Markdown, HTML"
   ],
   "outputs": [],
   "execution_count": 21
  },
  {
   "cell_type": "markdown",
   "id": "eb169235902c77be",
   "metadata": {},
   "source": [
    "Set the details for the catalog we want and authenticate to the server if needed."
   ]
  },
  {
   "cell_type": "code",
   "id": "677df6f200423a9d",
   "metadata": {
    "ExecuteTime": {
     "end_time": "2024-11-26T21:50:47.784182Z",
     "start_time": "2024-11-26T21:50:47.765537Z"
    }
   },
   "source": [
    "hostname = 'dev.eye-ai.org'\n",
    "domain_schema = 'demo-schema'\n",
    "\n",
    "gnl = GlobusNativeLogin(host=hostname)\n",
    "if gnl.is_logged_in([hostname]):\n",
    "    print(\"You are already logged in.\")\n",
    "else:\n",
    "    gnl.login([hostname], no_local_server=True, no_browser=True, refresh_tokens=True, update_bdbag_keychain=True)\n",
    "    print(\"Login Successful\")\n"
   ],
   "outputs": [
    {
     "name": "stdout",
     "output_type": "stream",
     "text": [
      "You are already logged in.\n"
     ]
    }
   ],
   "execution_count": 22
  },
  {
   "cell_type": "markdown",
   "id": "cc01e85a63c60536",
   "metadata": {},
   "source": [
    "Create a test catalog and get an instance of the DemoML class."
   ]
  },
  {
   "cell_type": "code",
   "id": "a843170d141c8a8",
   "metadata": {
    "ExecuteTime": {
     "end_time": "2024-11-26T21:51:11.920250Z",
     "start_time": "2024-11-26T21:50:49.988837Z"
    }
   },
   "source": [
    "test_catalog = create_test_catalog(hostname, domain_schema)\n",
    "ml_instance = DemoML(hostname, test_catalog.catalog_id)"
   ],
   "outputs": [],
   "execution_count": 23
  },
  {
   "cell_type": "markdown",
   "id": "48c7854af033245",
   "metadata": {},
   "source": [
    "## Configure DerivaML Datasets\n",
    "\n",
    "In Deriva-ML a dataset is used to aggregate instances of entities.  However, before we can create any datasets, we must configure \n",
    "Deriva-ML for the specifics of the datasets.  The first stp is we need to tell Deriva-ML what types of use defined objects can be associated with a dataset.  \n",
    "\n",
    "Note that out of the box, Deriva-ML is configured to allow datasets to contained dataset (i.e. nested datasets), so we don't need to do anything for that specific configuration."
   ]
  },
  {
   "cell_type": "code",
   "id": "21e3d412920ac963",
   "metadata": {
    "ExecuteTime": {
     "end_time": "2024-11-26T21:51:14.445648Z",
     "start_time": "2024-11-26T21:51:12.834884Z"
    }
   },
   "source": [
    "print(f\"Current dataset element types: {[a.name for a in ml_instance.list_dataset_element_types()]}\")\n",
    "ml_instance.add_dataset_element_type(\"Subject\")\n",
    "ml_instance.add_dataset_element_type(\"Image\")\n",
    "print(f\"New dataset element types {[a.name for a in ml_instance.list_dataset_element_types()]}\")"
   ],
   "outputs": [
    {
     "name": "stdout",
     "output_type": "stream",
     "text": [
      "Current dataset element types: ['Dataset']\n",
      "New dataset element types ['Dataset', 'Subject', 'Image']\n"
     ]
    }
   ],
   "execution_count": 24
  },
  {
   "cell_type": "markdown",
   "id": "874f49d81439e0c9",
   "metadata": {},
   "source": "Now that we have configured our datasets, we need to identify the dataset types so we can distinguish between them."
  },
  {
   "cell_type": "code",
   "id": "6908fba1443aee13",
   "metadata": {
    "ExecuteTime": {
     "end_time": "2024-11-26T21:51:16.922529Z",
     "start_time": "2024-11-26T21:51:15.478480Z"
    }
   },
   "source": [
    "# Create a new dataset\n",
    "ml_instance.add_term(vt.dataset_type, \"DemoSet\", description=\"A test dataset\")\n",
    "ml_instance.add_term(vt.dataset_type, 'Partitioned', description=\"A partitioned dataset for ML training.\")\n",
    "ml_instance.add_term(vt.dataset_type, \"Subject\", description=\"A test dataset\")\n",
    "ml_instance.add_term(vt.dataset_type, \"Image\", description=\"A test dataset\")\n",
    "ml_instance.add_term(vt.dataset_type, \"Training\", description=\"Training dataset\")\n",
    "ml_instance.add_term(vt.dataset_type, \"Testing\", description=\"Training dataset\")\n",
    "ml_instance.add_term(vt.dataset_type, \"Validation\", description=\"Validation dataset\")\n",
    "\n",
    "ml_instance.list_vocabulary_terms(vt.dataset_type)"
   ],
   "outputs": [
    {
     "data": {
      "text/plain": [
       "[VocabularyTerm(name='DemoSet', synonyms=[], id='ml-test:38J', uri='/id/38J', description='A test dataset', rid='38J'),\n",
       " VocabularyTerm(name='Partitioned', synonyms=[], id='ml-test:38M', uri='/id/38M', description='A partitioned dataset for ML training.', rid='38M'),\n",
       " VocabularyTerm(name='Subject', synonyms=[], id='ml-test:38P', uri='/id/38P', description='A test dataset', rid='38P'),\n",
       " VocabularyTerm(name='Image', synonyms=[], id='ml-test:38R', uri='/id/38R', description='A test dataset', rid='38R'),\n",
       " VocabularyTerm(name='Training', synonyms=[], id='ml-test:38T', uri='/id/38T', description='Training dataset', rid='38T'),\n",
       " VocabularyTerm(name='Testing', synonyms=[], id='ml-test:38W', uri='/id/38W', description='Training dataset', rid='38W'),\n",
       " VocabularyTerm(name='Validation', synonyms=[], id='ml-test:38Y', uri='/id/38Y', description='Validation dataset', rid='38Y')]"
      ]
     },
     "execution_count": 25,
     "metadata": {},
     "output_type": "execute_result"
    }
   ],
   "execution_count": 25
  },
  {
   "cell_type": "markdown",
   "id": "1f902cd9561842c2",
   "metadata": {},
   "source": [
    "Now create datasets and populate with elements from the test catalogs."
   ]
  },
  {
   "cell_type": "code",
   "id": "10567931cbd3c322",
   "metadata": {
    "ExecuteTime": {
     "end_time": "2024-11-26T21:51:21.003743Z",
     "start_time": "2024-11-26T21:51:19.876748Z"
    }
   },
   "source": [
    "system_columns = ['RCT', 'RMT', 'RCB', 'RMB']\n",
    "\n",
    "subject_dataset = ml_instance.create_dataset(['DemoSet', 'Subject'], description=\"A subject dataset\")\n",
    "image_dataset = ml_instance.create_dataset(['DemoSet', 'Image'], description=\"A image training dataset\")\n",
    "datasets = pd.DataFrame(ml_instance.find_datasets()).drop(columns=system_columns)\n",
    "display(\n",
    "    Markdown('## Datasets'),\n",
    "    datasets)"
   ],
   "outputs": [
    {
     "data": {
      "text/plain": [
       "<IPython.core.display.Markdown object>"
      ],
      "text/markdown": "## Datasets"
     },
     "metadata": {},
     "output_type": "display_data"
    },
    {
     "data": {
      "text/plain": [
       "   RID               Description        Dataset_Type\n",
       "0  390         A subject dataset  [DemoSet, Subject]\n",
       "1  396  A image training dataset    [DemoSet, Image]"
      ],
      "text/html": [
       "<div>\n",
       "<style scoped>\n",
       "    .dataframe tbody tr th:only-of-type {\n",
       "        vertical-align: middle;\n",
       "    }\n",
       "\n",
       "    .dataframe tbody tr th {\n",
       "        vertical-align: top;\n",
       "    }\n",
       "\n",
       "    .dataframe thead th {\n",
       "        text-align: right;\n",
       "    }\n",
       "</style>\n",
       "<table border=\"1\" class=\"dataframe\">\n",
       "  <thead>\n",
       "    <tr style=\"text-align: right;\">\n",
       "      <th></th>\n",
       "      <th>RID</th>\n",
       "      <th>Description</th>\n",
       "      <th>Dataset_Type</th>\n",
       "    </tr>\n",
       "  </thead>\n",
       "  <tbody>\n",
       "    <tr>\n",
       "      <th>0</th>\n",
       "      <td>390</td>\n",
       "      <td>A subject dataset</td>\n",
       "      <td>[DemoSet, Subject]</td>\n",
       "    </tr>\n",
       "    <tr>\n",
       "      <th>1</th>\n",
       "      <td>396</td>\n",
       "      <td>A image training dataset</td>\n",
       "      <td>[DemoSet, Image]</td>\n",
       "    </tr>\n",
       "  </tbody>\n",
       "</table>\n",
       "</div>"
      ]
     },
     "metadata": {},
     "output_type": "display_data"
    }
   ],
   "execution_count": 26
  },
  {
   "cell_type": "markdown",
   "id": "6474d1edb488097f",
   "metadata": {},
   "source": "And now that we have defined some datasets, we can add elements of the appropriate type to them.  We can see what is in our new datasets by listing the dataset members."
  },
  {
   "cell_type": "code",
   "id": "16bb5b8b8b2a5288",
   "metadata": {
    "ExecuteTime": {
     "end_time": "2024-11-26T21:51:32.032996Z",
     "start_time": "2024-11-26T21:51:25.146923Z"
    }
   },
   "source": [
    "dp = ml_instance.domain_path  # Each call returns a new path instance, so only call once...\n",
    "subject_rids = [i['RID'] for i in dp.tables['Subject'].entities().fetch()]\n",
    "image_rids = [i['RID'] for i in dp.tables['Image'].entities().fetch()]\n",
    "\n",
    "ml_instance.add_dataset_members(dataset_rid=subject_dataset, members=subject_rids)\n",
    "ml_instance.add_dataset_members(dataset_rid=image_dataset, members=image_rids)\n",
    "\n",
    "# List the contents of our datasets, and let's not include columns like modify time.\n",
    "display(\n",
    "    Markdown('## Subject Dataset'),\n",
    "    pd.DataFrame(ml_instance.list_dataset_members(subject_dataset)['Subject']).drop(columns=system_columns),\n",
    "    Markdown('## Image Dataset'),\n",
    "    pd.DataFrame(ml_instance.list_dataset_members(image_dataset)['Image']).drop(columns=system_columns))"
   ],
   "outputs": [
    {
     "data": {
      "text/plain": [
       "<IPython.core.display.Markdown object>"
      ],
      "text/markdown": "## Subject Dataset"
     },
     "metadata": {},
     "output_type": "display_data"
    },
    {
     "data": {
      "text/plain": [
       "    RID     Name\n",
       "0   31A   Thing1\n",
       "1   31C   Thing2\n",
       "2   31E   Thing3\n",
       "3   31G   Thing4\n",
       "4   31J   Thing5\n",
       "5   31M   Thing6\n",
       "6   31P   Thing7\n",
       "7   31R   Thing8\n",
       "8   31T   Thing9\n",
       "9   31W  Thing10\n",
       "10  31Y  Thing11\n",
       "11  320  Thing12\n",
       "12  322  Thing13\n",
       "13  324  Thing14\n",
       "14  326  Thing15\n",
       "15  328  Thing16\n",
       "16  32A  Thing17\n",
       "17  32C  Thing18\n",
       "18  32E  Thing19\n",
       "19  32G  Thing20"
      ],
      "text/html": [
       "<div>\n",
       "<style scoped>\n",
       "    .dataframe tbody tr th:only-of-type {\n",
       "        vertical-align: middle;\n",
       "    }\n",
       "\n",
       "    .dataframe tbody tr th {\n",
       "        vertical-align: top;\n",
       "    }\n",
       "\n",
       "    .dataframe thead th {\n",
       "        text-align: right;\n",
       "    }\n",
       "</style>\n",
       "<table border=\"1\" class=\"dataframe\">\n",
       "  <thead>\n",
       "    <tr style=\"text-align: right;\">\n",
       "      <th></th>\n",
       "      <th>RID</th>\n",
       "      <th>Name</th>\n",
       "    </tr>\n",
       "  </thead>\n",
       "  <tbody>\n",
       "    <tr>\n",
       "      <th>0</th>\n",
       "      <td>31A</td>\n",
       "      <td>Thing1</td>\n",
       "    </tr>\n",
       "    <tr>\n",
       "      <th>1</th>\n",
       "      <td>31C</td>\n",
       "      <td>Thing2</td>\n",
       "    </tr>\n",
       "    <tr>\n",
       "      <th>2</th>\n",
       "      <td>31E</td>\n",
       "      <td>Thing3</td>\n",
       "    </tr>\n",
       "    <tr>\n",
       "      <th>3</th>\n",
       "      <td>31G</td>\n",
       "      <td>Thing4</td>\n",
       "    </tr>\n",
       "    <tr>\n",
       "      <th>4</th>\n",
       "      <td>31J</td>\n",
       "      <td>Thing5</td>\n",
       "    </tr>\n",
       "    <tr>\n",
       "      <th>5</th>\n",
       "      <td>31M</td>\n",
       "      <td>Thing6</td>\n",
       "    </tr>\n",
       "    <tr>\n",
       "      <th>6</th>\n",
       "      <td>31P</td>\n",
       "      <td>Thing7</td>\n",
       "    </tr>\n",
       "    <tr>\n",
       "      <th>7</th>\n",
       "      <td>31R</td>\n",
       "      <td>Thing8</td>\n",
       "    </tr>\n",
       "    <tr>\n",
       "      <th>8</th>\n",
       "      <td>31T</td>\n",
       "      <td>Thing9</td>\n",
       "    </tr>\n",
       "    <tr>\n",
       "      <th>9</th>\n",
       "      <td>31W</td>\n",
       "      <td>Thing10</td>\n",
       "    </tr>\n",
       "    <tr>\n",
       "      <th>10</th>\n",
       "      <td>31Y</td>\n",
       "      <td>Thing11</td>\n",
       "    </tr>\n",
       "    <tr>\n",
       "      <th>11</th>\n",
       "      <td>320</td>\n",
       "      <td>Thing12</td>\n",
       "    </tr>\n",
       "    <tr>\n",
       "      <th>12</th>\n",
       "      <td>322</td>\n",
       "      <td>Thing13</td>\n",
       "    </tr>\n",
       "    <tr>\n",
       "      <th>13</th>\n",
       "      <td>324</td>\n",
       "      <td>Thing14</td>\n",
       "    </tr>\n",
       "    <tr>\n",
       "      <th>14</th>\n",
       "      <td>326</td>\n",
       "      <td>Thing15</td>\n",
       "    </tr>\n",
       "    <tr>\n",
       "      <th>15</th>\n",
       "      <td>328</td>\n",
       "      <td>Thing16</td>\n",
       "    </tr>\n",
       "    <tr>\n",
       "      <th>16</th>\n",
       "      <td>32A</td>\n",
       "      <td>Thing17</td>\n",
       "    </tr>\n",
       "    <tr>\n",
       "      <th>17</th>\n",
       "      <td>32C</td>\n",
       "      <td>Thing18</td>\n",
       "    </tr>\n",
       "    <tr>\n",
       "      <th>18</th>\n",
       "      <td>32E</td>\n",
       "      <td>Thing19</td>\n",
       "    </tr>\n",
       "    <tr>\n",
       "      <th>19</th>\n",
       "      <td>32G</td>\n",
       "      <td>Thing20</td>\n",
       "    </tr>\n",
       "  </tbody>\n",
       "</table>\n",
       "</div>"
      ]
     },
     "metadata": {},
     "output_type": "display_data"
    },
    {
     "data": {
      "text/plain": [
       "<IPython.core.display.Markdown object>"
      ],
      "text/markdown": "## Image Dataset"
     },
     "metadata": {},
     "output_type": "display_data"
    },
    {
     "data": {
      "text/plain": [
       "    RID                                                URL      Filename  \\\n",
       "0   32J  /hatrac/Image/c8ba5497f0bed8245399eac8b2742f0b...  test_31A.txt   \n",
       "1   32M  /hatrac/Image/031101a98091754d6d7e7886c6800e85...  test_31C.txt   \n",
       "2   32P  /hatrac/Image/1041fbf65f3653945825c9c300ce1fc6...  test_31E.txt   \n",
       "3   32R  /hatrac/Image/44e5ca34b8c49ff3a8d351e915a71f5c...  test_31G.txt   \n",
       "4   32T  /hatrac/Image/22bdc2e670ade1aa4532b20c8e5f10e3...  test_31J.txt   \n",
       "5   32W  /hatrac/Image/19f621276f730d6c272a16b5fdce40b8...  test_31M.txt   \n",
       "6   32Y  /hatrac/Image/3fe0f2cad987b486d21b67ae30611d29...  test_31P.txt   \n",
       "7   330  /hatrac/Image/cc9f764f37bb28bef9870ae7d1854016...  test_31R.txt   \n",
       "8   332  /hatrac/Image/7a87fef0956bf6d50601c7013790d99e...  test_31T.txt   \n",
       "9   334  /hatrac/Image/e8ba8f8fc6e995f534729c4c3b8db18f...  test_31W.txt   \n",
       "10  336  /hatrac/Image/af8c856f2f1d9c0201b5e21ab29e325b...  test_31Y.txt   \n",
       "11  338  /hatrac/Image/815bdcd673263eaf4bc2295c66a445ac...  test_320.txt   \n",
       "12  33A  /hatrac/Image/1a23ab1f738282e8629026a078c33d9f...  test_322.txt   \n",
       "13  33C  /hatrac/Image/30ec6833dd4081bdeee5554a37e8348f...  test_324.txt   \n",
       "14  33E  /hatrac/Image/1bafa226460ed84ae6246ec35cafd1c9...  test_326.txt   \n",
       "15  33G  /hatrac/Image/896769eb91cb7a2f7f1ee34940faff6e...  test_328.txt   \n",
       "16  33J  /hatrac/Image/725c7c0d376fddf79c1b18ce84981530...  test_32A.txt   \n",
       "17  33M  /hatrac/Image/ba4aee0d412bc2e253b79e1e25c126de...  test_32C.txt   \n",
       "18  33P  /hatrac/Image/a8f9757934bb27d09a4e723b51ac29fa...  test_32E.txt   \n",
       "19  33R  /hatrac/Image/bfca08e6b2e07aac88dc078a4292b99a...  test_32G.txt   \n",
       "\n",
       "     Description  Length                               MD5  Name Subject  \n",
       "0   A test image      31  c8ba5497f0bed8245399eac8b2742f0b  None     31A  \n",
       "1   A test image      32  031101a98091754d6d7e7886c6800e85  None     31C  \n",
       "2   A test image      32  1041fbf65f3653945825c9c300ce1fc6  None     31E  \n",
       "3   A test image      31  44e5ca34b8c49ff3a8d351e915a71f5c  None     31G  \n",
       "4   A test image      31  22bdc2e670ade1aa4532b20c8e5f10e3  None     31J  \n",
       "5   A test image      32  19f621276f730d6c272a16b5fdce40b8  None     31M  \n",
       "6   A test image      32  3fe0f2cad987b486d21b67ae30611d29  None     31P  \n",
       "7   A test image      31  cc9f764f37bb28bef9870ae7d1854016  None     31R  \n",
       "8   A test image      31  7a87fef0956bf6d50601c7013790d99e  None     31T  \n",
       "9   A test image      32  e8ba8f8fc6e995f534729c4c3b8db18f  None     31W  \n",
       "10  A test image      31  af8c856f2f1d9c0201b5e21ab29e325b  None     31Y  \n",
       "11  A test image      30  815bdcd673263eaf4bc2295c66a445ac  None     320  \n",
       "12  A test image      32  1a23ab1f738282e8629026a078c33d9f  None     322  \n",
       "13  A test image      32  30ec6833dd4081bdeee5554a37e8348f  None     324  \n",
       "14  A test image      31  1bafa226460ed84ae6246ec35cafd1c9  None     326  \n",
       "15  A test image      30  896769eb91cb7a2f7f1ee34940faff6e  None     328  \n",
       "16  A test image      31  725c7c0d376fddf79c1b18ce84981530  None     32A  \n",
       "17  A test image      32  ba4aee0d412bc2e253b79e1e25c126de  None     32C  \n",
       "18  A test image      32  a8f9757934bb27d09a4e723b51ac29fa  None     32E  \n",
       "19  A test image      31  bfca08e6b2e07aac88dc078a4292b99a  None     32G  "
      ],
      "text/html": [
       "<div>\n",
       "<style scoped>\n",
       "    .dataframe tbody tr th:only-of-type {\n",
       "        vertical-align: middle;\n",
       "    }\n",
       "\n",
       "    .dataframe tbody tr th {\n",
       "        vertical-align: top;\n",
       "    }\n",
       "\n",
       "    .dataframe thead th {\n",
       "        text-align: right;\n",
       "    }\n",
       "</style>\n",
       "<table border=\"1\" class=\"dataframe\">\n",
       "  <thead>\n",
       "    <tr style=\"text-align: right;\">\n",
       "      <th></th>\n",
       "      <th>RID</th>\n",
       "      <th>URL</th>\n",
       "      <th>Filename</th>\n",
       "      <th>Description</th>\n",
       "      <th>Length</th>\n",
       "      <th>MD5</th>\n",
       "      <th>Name</th>\n",
       "      <th>Subject</th>\n",
       "    </tr>\n",
       "  </thead>\n",
       "  <tbody>\n",
       "    <tr>\n",
       "      <th>0</th>\n",
       "      <td>32J</td>\n",
       "      <td>/hatrac/Image/c8ba5497f0bed8245399eac8b2742f0b...</td>\n",
       "      <td>test_31A.txt</td>\n",
       "      <td>A test image</td>\n",
       "      <td>31</td>\n",
       "      <td>c8ba5497f0bed8245399eac8b2742f0b</td>\n",
       "      <td>None</td>\n",
       "      <td>31A</td>\n",
       "    </tr>\n",
       "    <tr>\n",
       "      <th>1</th>\n",
       "      <td>32M</td>\n",
       "      <td>/hatrac/Image/031101a98091754d6d7e7886c6800e85...</td>\n",
       "      <td>test_31C.txt</td>\n",
       "      <td>A test image</td>\n",
       "      <td>32</td>\n",
       "      <td>031101a98091754d6d7e7886c6800e85</td>\n",
       "      <td>None</td>\n",
       "      <td>31C</td>\n",
       "    </tr>\n",
       "    <tr>\n",
       "      <th>2</th>\n",
       "      <td>32P</td>\n",
       "      <td>/hatrac/Image/1041fbf65f3653945825c9c300ce1fc6...</td>\n",
       "      <td>test_31E.txt</td>\n",
       "      <td>A test image</td>\n",
       "      <td>32</td>\n",
       "      <td>1041fbf65f3653945825c9c300ce1fc6</td>\n",
       "      <td>None</td>\n",
       "      <td>31E</td>\n",
       "    </tr>\n",
       "    <tr>\n",
       "      <th>3</th>\n",
       "      <td>32R</td>\n",
       "      <td>/hatrac/Image/44e5ca34b8c49ff3a8d351e915a71f5c...</td>\n",
       "      <td>test_31G.txt</td>\n",
       "      <td>A test image</td>\n",
       "      <td>31</td>\n",
       "      <td>44e5ca34b8c49ff3a8d351e915a71f5c</td>\n",
       "      <td>None</td>\n",
       "      <td>31G</td>\n",
       "    </tr>\n",
       "    <tr>\n",
       "      <th>4</th>\n",
       "      <td>32T</td>\n",
       "      <td>/hatrac/Image/22bdc2e670ade1aa4532b20c8e5f10e3...</td>\n",
       "      <td>test_31J.txt</td>\n",
       "      <td>A test image</td>\n",
       "      <td>31</td>\n",
       "      <td>22bdc2e670ade1aa4532b20c8e5f10e3</td>\n",
       "      <td>None</td>\n",
       "      <td>31J</td>\n",
       "    </tr>\n",
       "    <tr>\n",
       "      <th>5</th>\n",
       "      <td>32W</td>\n",
       "      <td>/hatrac/Image/19f621276f730d6c272a16b5fdce40b8...</td>\n",
       "      <td>test_31M.txt</td>\n",
       "      <td>A test image</td>\n",
       "      <td>32</td>\n",
       "      <td>19f621276f730d6c272a16b5fdce40b8</td>\n",
       "      <td>None</td>\n",
       "      <td>31M</td>\n",
       "    </tr>\n",
       "    <tr>\n",
       "      <th>6</th>\n",
       "      <td>32Y</td>\n",
       "      <td>/hatrac/Image/3fe0f2cad987b486d21b67ae30611d29...</td>\n",
       "      <td>test_31P.txt</td>\n",
       "      <td>A test image</td>\n",
       "      <td>32</td>\n",
       "      <td>3fe0f2cad987b486d21b67ae30611d29</td>\n",
       "      <td>None</td>\n",
       "      <td>31P</td>\n",
       "    </tr>\n",
       "    <tr>\n",
       "      <th>7</th>\n",
       "      <td>330</td>\n",
       "      <td>/hatrac/Image/cc9f764f37bb28bef9870ae7d1854016...</td>\n",
       "      <td>test_31R.txt</td>\n",
       "      <td>A test image</td>\n",
       "      <td>31</td>\n",
       "      <td>cc9f764f37bb28bef9870ae7d1854016</td>\n",
       "      <td>None</td>\n",
       "      <td>31R</td>\n",
       "    </tr>\n",
       "    <tr>\n",
       "      <th>8</th>\n",
       "      <td>332</td>\n",
       "      <td>/hatrac/Image/7a87fef0956bf6d50601c7013790d99e...</td>\n",
       "      <td>test_31T.txt</td>\n",
       "      <td>A test image</td>\n",
       "      <td>31</td>\n",
       "      <td>7a87fef0956bf6d50601c7013790d99e</td>\n",
       "      <td>None</td>\n",
       "      <td>31T</td>\n",
       "    </tr>\n",
       "    <tr>\n",
       "      <th>9</th>\n",
       "      <td>334</td>\n",
       "      <td>/hatrac/Image/e8ba8f8fc6e995f534729c4c3b8db18f...</td>\n",
       "      <td>test_31W.txt</td>\n",
       "      <td>A test image</td>\n",
       "      <td>32</td>\n",
       "      <td>e8ba8f8fc6e995f534729c4c3b8db18f</td>\n",
       "      <td>None</td>\n",
       "      <td>31W</td>\n",
       "    </tr>\n",
       "    <tr>\n",
       "      <th>10</th>\n",
       "      <td>336</td>\n",
       "      <td>/hatrac/Image/af8c856f2f1d9c0201b5e21ab29e325b...</td>\n",
       "      <td>test_31Y.txt</td>\n",
       "      <td>A test image</td>\n",
       "      <td>31</td>\n",
       "      <td>af8c856f2f1d9c0201b5e21ab29e325b</td>\n",
       "      <td>None</td>\n",
       "      <td>31Y</td>\n",
       "    </tr>\n",
       "    <tr>\n",
       "      <th>11</th>\n",
       "      <td>338</td>\n",
       "      <td>/hatrac/Image/815bdcd673263eaf4bc2295c66a445ac...</td>\n",
       "      <td>test_320.txt</td>\n",
       "      <td>A test image</td>\n",
       "      <td>30</td>\n",
       "      <td>815bdcd673263eaf4bc2295c66a445ac</td>\n",
       "      <td>None</td>\n",
       "      <td>320</td>\n",
       "    </tr>\n",
       "    <tr>\n",
       "      <th>12</th>\n",
       "      <td>33A</td>\n",
       "      <td>/hatrac/Image/1a23ab1f738282e8629026a078c33d9f...</td>\n",
       "      <td>test_322.txt</td>\n",
       "      <td>A test image</td>\n",
       "      <td>32</td>\n",
       "      <td>1a23ab1f738282e8629026a078c33d9f</td>\n",
       "      <td>None</td>\n",
       "      <td>322</td>\n",
       "    </tr>\n",
       "    <tr>\n",
       "      <th>13</th>\n",
       "      <td>33C</td>\n",
       "      <td>/hatrac/Image/30ec6833dd4081bdeee5554a37e8348f...</td>\n",
       "      <td>test_324.txt</td>\n",
       "      <td>A test image</td>\n",
       "      <td>32</td>\n",
       "      <td>30ec6833dd4081bdeee5554a37e8348f</td>\n",
       "      <td>None</td>\n",
       "      <td>324</td>\n",
       "    </tr>\n",
       "    <tr>\n",
       "      <th>14</th>\n",
       "      <td>33E</td>\n",
       "      <td>/hatrac/Image/1bafa226460ed84ae6246ec35cafd1c9...</td>\n",
       "      <td>test_326.txt</td>\n",
       "      <td>A test image</td>\n",
       "      <td>31</td>\n",
       "      <td>1bafa226460ed84ae6246ec35cafd1c9</td>\n",
       "      <td>None</td>\n",
       "      <td>326</td>\n",
       "    </tr>\n",
       "    <tr>\n",
       "      <th>15</th>\n",
       "      <td>33G</td>\n",
       "      <td>/hatrac/Image/896769eb91cb7a2f7f1ee34940faff6e...</td>\n",
       "      <td>test_328.txt</td>\n",
       "      <td>A test image</td>\n",
       "      <td>30</td>\n",
       "      <td>896769eb91cb7a2f7f1ee34940faff6e</td>\n",
       "      <td>None</td>\n",
       "      <td>328</td>\n",
       "    </tr>\n",
       "    <tr>\n",
       "      <th>16</th>\n",
       "      <td>33J</td>\n",
       "      <td>/hatrac/Image/725c7c0d376fddf79c1b18ce84981530...</td>\n",
       "      <td>test_32A.txt</td>\n",
       "      <td>A test image</td>\n",
       "      <td>31</td>\n",
       "      <td>725c7c0d376fddf79c1b18ce84981530</td>\n",
       "      <td>None</td>\n",
       "      <td>32A</td>\n",
       "    </tr>\n",
       "    <tr>\n",
       "      <th>17</th>\n",
       "      <td>33M</td>\n",
       "      <td>/hatrac/Image/ba4aee0d412bc2e253b79e1e25c126de...</td>\n",
       "      <td>test_32C.txt</td>\n",
       "      <td>A test image</td>\n",
       "      <td>32</td>\n",
       "      <td>ba4aee0d412bc2e253b79e1e25c126de</td>\n",
       "      <td>None</td>\n",
       "      <td>32C</td>\n",
       "    </tr>\n",
       "    <tr>\n",
       "      <th>18</th>\n",
       "      <td>33P</td>\n",
       "      <td>/hatrac/Image/a8f9757934bb27d09a4e723b51ac29fa...</td>\n",
       "      <td>test_32E.txt</td>\n",
       "      <td>A test image</td>\n",
       "      <td>32</td>\n",
       "      <td>a8f9757934bb27d09a4e723b51ac29fa</td>\n",
       "      <td>None</td>\n",
       "      <td>32E</td>\n",
       "    </tr>\n",
       "    <tr>\n",
       "      <th>19</th>\n",
       "      <td>33R</td>\n",
       "      <td>/hatrac/Image/bfca08e6b2e07aac88dc078a4292b99a...</td>\n",
       "      <td>test_32G.txt</td>\n",
       "      <td>A test image</td>\n",
       "      <td>31</td>\n",
       "      <td>bfca08e6b2e07aac88dc078a4292b99a</td>\n",
       "      <td>None</td>\n",
       "      <td>32G</td>\n",
       "    </tr>\n",
       "  </tbody>\n",
       "</table>\n",
       "</div>"
      ]
     },
     "metadata": {},
     "output_type": "display_data"
    }
   ],
   "execution_count": 27
  },
  {
   "cell_type": "markdown",
   "id": "2ac02c487e8a3be3",
   "metadata": {},
   "source": [
    "## Create partitioned dataset\n",
    "\n",
    "Now let's create some subsets of the original dataset based on subject level metadata. We are going to create the subsets based on the metadata values of the subjects. We will download the subject dataset and look at its metadata to figure out how to partition the original data. Since we are not going to look at the images, we use download_dataset_bag, rather than materialize_bag."
   ]
  },
  {
   "cell_type": "code",
   "id": "5f8f12b942310485",
   "metadata": {
    "ExecuteTime": {
     "end_time": "2024-11-26T21:51:46.690132Z",
     "start_time": "2024-11-26T21:51:43.497082Z"
    }
   },
   "source": [
    "bag_path, bag_rid = ml_instance.download_dataset_bag(subject_dataset)\n",
    "ml_instance.materialize_dataset_bag(subject_dataset)\n",
    "dataset_bag = DatasetBag(bag_path)\n",
    "print(f\"Bag materialized to {bag_path}\")"
   ],
   "outputs": [
    {
     "name": "stdout",
     "output_type": "stream",
     "text": [
      "Bag materialized to /var/folders/0k/27qzm97x3t7g3j1m6ksf_9f40000gn/T/tmpryaaxgik/390_6ded84f5d12d230f3e46cb6f8f375c125d2aa815bd0b52ad7883e96e22c4b239/Dataset_390\n"
     ]
    }
   ],
   "execution_count": 29
  },
  {
   "cell_type": "markdown",
   "id": "aefa71000a8888b5",
   "metadata": {},
   "source": "The domain model has two object: Subject and Images where an Image is associated with a subject, but a subject can have multiple images associated with it.  Let's look at the subjects and partition into test and training datasets."
  },
  {
   "cell_type": "code",
   "id": "405cebbc9d686f9b",
   "metadata": {
    "ExecuteTime": {
     "end_time": "2024-11-26T21:51:51.563985Z",
     "start_time": "2024-11-26T21:51:51.541230Z"
    }
   },
   "source": [
    "# Get information about the subjects.....\n",
    "subject_df = dataset_bag.get_table_as_dataframe('Subject')[['RID', 'Name']]\n",
    "image_df = dataset_bag.get_table_as_dataframe('Image')[['RID', 'Subject', 'URL']]\n",
    "metadata_df = subject_df.join(image_df, lsuffix=\"_subject\", rsuffix=\"_image\")\n",
    "display(metadata_df)"
   ],
   "outputs": [
    {
     "data": {
      "text/plain": [
       "   RID_subject     Name RID_image Subject  \\\n",
       "0          31A   Thing1       32J     31A   \n",
       "1          31C   Thing2       32M     31C   \n",
       "2          31E   Thing3       32P     31E   \n",
       "3          31G   Thing4       32R     31G   \n",
       "4          31J   Thing5       32T     31J   \n",
       "5          31M   Thing6       32W     31M   \n",
       "6          31P   Thing7       32Y     31P   \n",
       "7          31R   Thing8       330     31R   \n",
       "8          31T   Thing9       332     31T   \n",
       "9          31W  Thing10       334     31W   \n",
       "10         31Y  Thing11       336     31Y   \n",
       "11         320  Thing12       338     320   \n",
       "12         322  Thing13       33A     322   \n",
       "13         324  Thing14       33C     324   \n",
       "14         326  Thing15       33E     326   \n",
       "15         328  Thing16       33G     328   \n",
       "16         32A  Thing17       33J     32A   \n",
       "17         32C  Thing18       33M     32C   \n",
       "18         32E  Thing19       33P     32E   \n",
       "19         32G  Thing20       33R     32G   \n",
       "\n",
       "                                                  URL  \n",
       "0   /hatrac/Image/c8ba5497f0bed8245399eac8b2742f0b...  \n",
       "1   /hatrac/Image/031101a98091754d6d7e7886c6800e85...  \n",
       "2   /hatrac/Image/1041fbf65f3653945825c9c300ce1fc6...  \n",
       "3   /hatrac/Image/44e5ca34b8c49ff3a8d351e915a71f5c...  \n",
       "4   /hatrac/Image/22bdc2e670ade1aa4532b20c8e5f10e3...  \n",
       "5   /hatrac/Image/19f621276f730d6c272a16b5fdce40b8...  \n",
       "6   /hatrac/Image/3fe0f2cad987b486d21b67ae30611d29...  \n",
       "7   /hatrac/Image/cc9f764f37bb28bef9870ae7d1854016...  \n",
       "8   /hatrac/Image/7a87fef0956bf6d50601c7013790d99e...  \n",
       "9   /hatrac/Image/e8ba8f8fc6e995f534729c4c3b8db18f...  \n",
       "10  /hatrac/Image/af8c856f2f1d9c0201b5e21ab29e325b...  \n",
       "11  /hatrac/Image/815bdcd673263eaf4bc2295c66a445ac...  \n",
       "12  /hatrac/Image/1a23ab1f738282e8629026a078c33d9f...  \n",
       "13  /hatrac/Image/30ec6833dd4081bdeee5554a37e8348f...  \n",
       "14  /hatrac/Image/1bafa226460ed84ae6246ec35cafd1c9...  \n",
       "15  /hatrac/Image/896769eb91cb7a2f7f1ee34940faff6e...  \n",
       "16  /hatrac/Image/725c7c0d376fddf79c1b18ce84981530...  \n",
       "17  /hatrac/Image/ba4aee0d412bc2e253b79e1e25c126de...  \n",
       "18  /hatrac/Image/a8f9757934bb27d09a4e723b51ac29fa...  \n",
       "19  /hatrac/Image/bfca08e6b2e07aac88dc078a4292b99a...  "
      ],
      "text/html": [
       "<div>\n",
       "<style scoped>\n",
       "    .dataframe tbody tr th:only-of-type {\n",
       "        vertical-align: middle;\n",
       "    }\n",
       "\n",
       "    .dataframe tbody tr th {\n",
       "        vertical-align: top;\n",
       "    }\n",
       "\n",
       "    .dataframe thead th {\n",
       "        text-align: right;\n",
       "    }\n",
       "</style>\n",
       "<table border=\"1\" class=\"dataframe\">\n",
       "  <thead>\n",
       "    <tr style=\"text-align: right;\">\n",
       "      <th></th>\n",
       "      <th>RID_subject</th>\n",
       "      <th>Name</th>\n",
       "      <th>RID_image</th>\n",
       "      <th>Subject</th>\n",
       "      <th>URL</th>\n",
       "    </tr>\n",
       "  </thead>\n",
       "  <tbody>\n",
       "    <tr>\n",
       "      <th>0</th>\n",
       "      <td>31A</td>\n",
       "      <td>Thing1</td>\n",
       "      <td>32J</td>\n",
       "      <td>31A</td>\n",
       "      <td>/hatrac/Image/c8ba5497f0bed8245399eac8b2742f0b...</td>\n",
       "    </tr>\n",
       "    <tr>\n",
       "      <th>1</th>\n",
       "      <td>31C</td>\n",
       "      <td>Thing2</td>\n",
       "      <td>32M</td>\n",
       "      <td>31C</td>\n",
       "      <td>/hatrac/Image/031101a98091754d6d7e7886c6800e85...</td>\n",
       "    </tr>\n",
       "    <tr>\n",
       "      <th>2</th>\n",
       "      <td>31E</td>\n",
       "      <td>Thing3</td>\n",
       "      <td>32P</td>\n",
       "      <td>31E</td>\n",
       "      <td>/hatrac/Image/1041fbf65f3653945825c9c300ce1fc6...</td>\n",
       "    </tr>\n",
       "    <tr>\n",
       "      <th>3</th>\n",
       "      <td>31G</td>\n",
       "      <td>Thing4</td>\n",
       "      <td>32R</td>\n",
       "      <td>31G</td>\n",
       "      <td>/hatrac/Image/44e5ca34b8c49ff3a8d351e915a71f5c...</td>\n",
       "    </tr>\n",
       "    <tr>\n",
       "      <th>4</th>\n",
       "      <td>31J</td>\n",
       "      <td>Thing5</td>\n",
       "      <td>32T</td>\n",
       "      <td>31J</td>\n",
       "      <td>/hatrac/Image/22bdc2e670ade1aa4532b20c8e5f10e3...</td>\n",
       "    </tr>\n",
       "    <tr>\n",
       "      <th>5</th>\n",
       "      <td>31M</td>\n",
       "      <td>Thing6</td>\n",
       "      <td>32W</td>\n",
       "      <td>31M</td>\n",
       "      <td>/hatrac/Image/19f621276f730d6c272a16b5fdce40b8...</td>\n",
       "    </tr>\n",
       "    <tr>\n",
       "      <th>6</th>\n",
       "      <td>31P</td>\n",
       "      <td>Thing7</td>\n",
       "      <td>32Y</td>\n",
       "      <td>31P</td>\n",
       "      <td>/hatrac/Image/3fe0f2cad987b486d21b67ae30611d29...</td>\n",
       "    </tr>\n",
       "    <tr>\n",
       "      <th>7</th>\n",
       "      <td>31R</td>\n",
       "      <td>Thing8</td>\n",
       "      <td>330</td>\n",
       "      <td>31R</td>\n",
       "      <td>/hatrac/Image/cc9f764f37bb28bef9870ae7d1854016...</td>\n",
       "    </tr>\n",
       "    <tr>\n",
       "      <th>8</th>\n",
       "      <td>31T</td>\n",
       "      <td>Thing9</td>\n",
       "      <td>332</td>\n",
       "      <td>31T</td>\n",
       "      <td>/hatrac/Image/7a87fef0956bf6d50601c7013790d99e...</td>\n",
       "    </tr>\n",
       "    <tr>\n",
       "      <th>9</th>\n",
       "      <td>31W</td>\n",
       "      <td>Thing10</td>\n",
       "      <td>334</td>\n",
       "      <td>31W</td>\n",
       "      <td>/hatrac/Image/e8ba8f8fc6e995f534729c4c3b8db18f...</td>\n",
       "    </tr>\n",
       "    <tr>\n",
       "      <th>10</th>\n",
       "      <td>31Y</td>\n",
       "      <td>Thing11</td>\n",
       "      <td>336</td>\n",
       "      <td>31Y</td>\n",
       "      <td>/hatrac/Image/af8c856f2f1d9c0201b5e21ab29e325b...</td>\n",
       "    </tr>\n",
       "    <tr>\n",
       "      <th>11</th>\n",
       "      <td>320</td>\n",
       "      <td>Thing12</td>\n",
       "      <td>338</td>\n",
       "      <td>320</td>\n",
       "      <td>/hatrac/Image/815bdcd673263eaf4bc2295c66a445ac...</td>\n",
       "    </tr>\n",
       "    <tr>\n",
       "      <th>12</th>\n",
       "      <td>322</td>\n",
       "      <td>Thing13</td>\n",
       "      <td>33A</td>\n",
       "      <td>322</td>\n",
       "      <td>/hatrac/Image/1a23ab1f738282e8629026a078c33d9f...</td>\n",
       "    </tr>\n",
       "    <tr>\n",
       "      <th>13</th>\n",
       "      <td>324</td>\n",
       "      <td>Thing14</td>\n",
       "      <td>33C</td>\n",
       "      <td>324</td>\n",
       "      <td>/hatrac/Image/30ec6833dd4081bdeee5554a37e8348f...</td>\n",
       "    </tr>\n",
       "    <tr>\n",
       "      <th>14</th>\n",
       "      <td>326</td>\n",
       "      <td>Thing15</td>\n",
       "      <td>33E</td>\n",
       "      <td>326</td>\n",
       "      <td>/hatrac/Image/1bafa226460ed84ae6246ec35cafd1c9...</td>\n",
       "    </tr>\n",
       "    <tr>\n",
       "      <th>15</th>\n",
       "      <td>328</td>\n",
       "      <td>Thing16</td>\n",
       "      <td>33G</td>\n",
       "      <td>328</td>\n",
       "      <td>/hatrac/Image/896769eb91cb7a2f7f1ee34940faff6e...</td>\n",
       "    </tr>\n",
       "    <tr>\n",
       "      <th>16</th>\n",
       "      <td>32A</td>\n",
       "      <td>Thing17</td>\n",
       "      <td>33J</td>\n",
       "      <td>32A</td>\n",
       "      <td>/hatrac/Image/725c7c0d376fddf79c1b18ce84981530...</td>\n",
       "    </tr>\n",
       "    <tr>\n",
       "      <th>17</th>\n",
       "      <td>32C</td>\n",
       "      <td>Thing18</td>\n",
       "      <td>33M</td>\n",
       "      <td>32C</td>\n",
       "      <td>/hatrac/Image/ba4aee0d412bc2e253b79e1e25c126de...</td>\n",
       "    </tr>\n",
       "    <tr>\n",
       "      <th>18</th>\n",
       "      <td>32E</td>\n",
       "      <td>Thing19</td>\n",
       "      <td>33P</td>\n",
       "      <td>32E</td>\n",
       "      <td>/hatrac/Image/a8f9757934bb27d09a4e723b51ac29fa...</td>\n",
       "    </tr>\n",
       "    <tr>\n",
       "      <th>19</th>\n",
       "      <td>32G</td>\n",
       "      <td>Thing20</td>\n",
       "      <td>33R</td>\n",
       "      <td>32G</td>\n",
       "      <td>/hatrac/Image/bfca08e6b2e07aac88dc078a4292b99a...</td>\n",
       "    </tr>\n",
       "  </tbody>\n",
       "</table>\n",
       "</div>"
      ]
     },
     "metadata": {},
     "output_type": "display_data"
    }
   ],
   "execution_count": 30
  },
  {
   "cell_type": "markdown",
   "id": "a251643b1b7389b2",
   "metadata": {},
   "source": [
    "For ths example, lets partition the data based on the name of the subject.  Of course in real examples, we would do a more complex analysis in deciding\n",
    "what subset goes into each data set."
   ]
  },
  {
   "cell_type": "code",
   "id": "fac3a1b3d7db6556",
   "metadata": {
    "ExecuteTime": {
     "end_time": "2024-11-26T21:51:54.953353Z",
     "start_time": "2024-11-26T21:51:54.936235Z"
    }
   },
   "source": [
    "def thing_number(name: pd.Series) -> pd.Series:\n",
    "    return name.map(lambda n: int(n.replace('Thing','')))\n",
    "\n",
    "training_rids = metadata_df.loc[lambda df: thing_number(df['Name']) % 3 == 0]['RID_image'].tolist()\n",
    "testing_rids =  metadata_df.loc[lambda df: thing_number(df['Name']) % 3 == 1]['RID_image'].tolist()\n",
    "validation_rids = metadata_df.loc[lambda df: thing_number(df['Name']) % 3 == 2]['RID_image'].tolist()\n",
    "\n",
    "print(f'Training images: {training_rids}')\n",
    "print(f'Testing images: {testing_rids}')\n",
    "print(f'Validation images: {validation_rids}')\n"
   ],
   "outputs": [
    {
     "name": "stdout",
     "output_type": "stream",
     "text": [
      "Training images: ['32P', '32W', '332', '338', '33E', '33M']\n",
      "Testing images: ['32J', '32R', '32Y', '334', '33A', '33G', '33P']\n",
      "Validation images: ['32M', '32T', '330', '336', '33C', '33J', '33R']\n"
     ]
    }
   ],
   "execution_count": 31
  },
  {
   "cell_type": "markdown",
   "id": "27e66ce59b0fb193",
   "metadata": {},
   "source": [
    "Now that we know what we want in each dataset, lets create datasets for each of our partitioned elements along with a nested dataset to track the entire collection."
   ]
  },
  {
   "cell_type": "code",
   "id": "1fcf179738fad9f2",
   "metadata": {
    "ExecuteTime": {
     "end_time": "2024-11-26T21:51:58.706099Z",
     "start_time": "2024-11-26T21:51:56.770703Z"
    }
   },
   "source": [
    "nested_dataset = ml_instance.create_dataset(['Partitioned', 'Image'], description='A nested dataset for machine learning')\n",
    "training_dataset = ml_instance.create_dataset('Training', description='An image dataset for training')\n",
    "testing_dataset = ml_instance.create_dataset('Testing', description='A image dataset for testing')\n",
    "validation_dataset = ml_instance.create_dataset('Validation', description='A image dataset for validation')\n",
    "pd.DataFrame(ml_instance.find_datasets()).drop(columns=system_columns)"
   ],
   "outputs": [
    {
     "data": {
      "text/plain": [
       "   RID                            Description          Dataset_Type\n",
       "0  390                      A subject dataset    [DemoSet, Subject]\n",
       "1  396               A image training dataset      [DemoSet, Image]\n",
       "2  3BW  A nested dataset for machine learning  [Partitioned, Image]\n",
       "3  3C2          An image dataset for training            [Training]\n",
       "4  3C6            A image dataset for testing             [Testing]\n",
       "5  3CA         A image dataset for validation          [Validation]"
      ],
      "text/html": [
       "<div>\n",
       "<style scoped>\n",
       "    .dataframe tbody tr th:only-of-type {\n",
       "        vertical-align: middle;\n",
       "    }\n",
       "\n",
       "    .dataframe tbody tr th {\n",
       "        vertical-align: top;\n",
       "    }\n",
       "\n",
       "    .dataframe thead th {\n",
       "        text-align: right;\n",
       "    }\n",
       "</style>\n",
       "<table border=\"1\" class=\"dataframe\">\n",
       "  <thead>\n",
       "    <tr style=\"text-align: right;\">\n",
       "      <th></th>\n",
       "      <th>RID</th>\n",
       "      <th>Description</th>\n",
       "      <th>Dataset_Type</th>\n",
       "    </tr>\n",
       "  </thead>\n",
       "  <tbody>\n",
       "    <tr>\n",
       "      <th>0</th>\n",
       "      <td>390</td>\n",
       "      <td>A subject dataset</td>\n",
       "      <td>[DemoSet, Subject]</td>\n",
       "    </tr>\n",
       "    <tr>\n",
       "      <th>1</th>\n",
       "      <td>396</td>\n",
       "      <td>A image training dataset</td>\n",
       "      <td>[DemoSet, Image]</td>\n",
       "    </tr>\n",
       "    <tr>\n",
       "      <th>2</th>\n",
       "      <td>3BW</td>\n",
       "      <td>A nested dataset for machine learning</td>\n",
       "      <td>[Partitioned, Image]</td>\n",
       "    </tr>\n",
       "    <tr>\n",
       "      <th>3</th>\n",
       "      <td>3C2</td>\n",
       "      <td>An image dataset for training</td>\n",
       "      <td>[Training]</td>\n",
       "    </tr>\n",
       "    <tr>\n",
       "      <th>4</th>\n",
       "      <td>3C6</td>\n",
       "      <td>A image dataset for testing</td>\n",
       "      <td>[Testing]</td>\n",
       "    </tr>\n",
       "    <tr>\n",
       "      <th>5</th>\n",
       "      <td>3CA</td>\n",
       "      <td>A image dataset for validation</td>\n",
       "      <td>[Validation]</td>\n",
       "    </tr>\n",
       "  </tbody>\n",
       "</table>\n",
       "</div>"
      ]
     },
     "execution_count": 32,
     "metadata": {},
     "output_type": "execute_result"
    }
   ],
   "execution_count": 32
  },
  {
   "cell_type": "markdown",
   "id": "ac71fa8b087340ec",
   "metadata": {},
   "source": [
    "And then fill the datasets with the appropriate members."
   ]
  },
  {
   "cell_type": "code",
   "id": "6e76bbdf-2441-4444-be7f-e55399bcc32a",
   "metadata": {
    "ExecuteTime": {
     "end_time": "2024-11-26T21:43:34.670937Z",
     "start_time": "2024-11-26T21:43:29.986807Z"
    }
   },
   "source": [
    "\n",
    "ml_instance.add_dataset_members(dataset_rid=nested_dataset, members=[training_dataset, testing_dataset, validation_dataset])\n",
    "ml_instance.add_dataset_members(dataset_rid=training_dataset, members=training_rids)\n",
    "ml_instance.add_dataset_members(dataset_rid=testing_dataset, members=testing_rids)\n",
    "ml_instance.add_dataset_members(dataset_rid=validation_dataset, members=validation_rids)\n"
   ],
   "outputs": [
    {
     "data": {
      "text/plain": [
       "'3CA'"
      ]
     },
     "execution_count": 13,
     "metadata": {},
     "output_type": "execute_result"
    }
   ],
   "execution_count": 13
  },
  {
   "cell_type": "markdown",
   "id": "9d67f5a8334cde9d",
   "metadata": {},
   "source": [
    "Ok, lets see what we have now."
   ]
  },
  {
   "cell_type": "code",
   "id": "93af8b022d6c7edf",
   "metadata": {
    "ExecuteTime": {
     "end_time": "2024-11-26T21:43:36.154964Z",
     "start_time": "2024-11-26T21:43:34.706552Z"
    }
   },
   "source": [
    "display(\n",
    "    Markdown('## Nested Dataset'),\n",
    "    pd.DataFrame(ml_instance.list_dataset_members(nested_dataset)['Dataset']).drop(columns=system_columns),\n",
    "    Markdown('## Training Dataset'),\n",
    "    pd.DataFrame(ml_instance.list_dataset_members(training_dataset)['Image']).drop(columns=system_columns),\n",
    "    Markdown('## Testing Dataset'),\n",
    "    pd.DataFrame(ml_instance.list_dataset_members(testing_dataset)['Image']).drop(columns=system_columns),\n",
    "    Markdown('## Validation Dataset'),\n",
    "    pd.DataFrame(ml_instance.list_dataset_members(validation_dataset)['Image']).drop(columns=system_columns))"
   ],
   "outputs": [
    {
     "data": {
      "text/plain": [
       "<IPython.core.display.Markdown object>"
      ],
      "text/markdown": "## Nested Dataset"
     },
     "metadata": {},
     "output_type": "display_data"
    },
    {
     "data": {
      "text/plain": [
       "   RID                            Description\n",
       "0  3BW  A nested dataset for machine learning"
      ],
      "text/html": [
       "<div>\n",
       "<style scoped>\n",
       "    .dataframe tbody tr th:only-of-type {\n",
       "        vertical-align: middle;\n",
       "    }\n",
       "\n",
       "    .dataframe tbody tr th {\n",
       "        vertical-align: top;\n",
       "    }\n",
       "\n",
       "    .dataframe thead th {\n",
       "        text-align: right;\n",
       "    }\n",
       "</style>\n",
       "<table border=\"1\" class=\"dataframe\">\n",
       "  <thead>\n",
       "    <tr style=\"text-align: right;\">\n",
       "      <th></th>\n",
       "      <th>RID</th>\n",
       "      <th>Description</th>\n",
       "    </tr>\n",
       "  </thead>\n",
       "  <tbody>\n",
       "    <tr>\n",
       "      <th>0</th>\n",
       "      <td>3BW</td>\n",
       "      <td>A nested dataset for machine learning</td>\n",
       "    </tr>\n",
       "  </tbody>\n",
       "</table>\n",
       "</div>"
      ]
     },
     "metadata": {},
     "output_type": "display_data"
    },
    {
     "data": {
      "text/plain": [
       "<IPython.core.display.Markdown object>"
      ],
      "text/markdown": "## Training Dataset"
     },
     "metadata": {},
     "output_type": "display_data"
    },
    {
     "data": {
      "text/plain": [
       "   RID                                                URL      Filename  \\\n",
       "0  32P  /hatrac/Image/db94fb68cdd71445540cc7fa27a07d4f...  test_31E.txt   \n",
       "1  32W  /hatrac/Image/6e24ac002de2bdd782690a3db2b3faad...  test_31M.txt   \n",
       "2  332  /hatrac/Image/4933c2542c5eebcccc8ff977c18d988f...  test_31T.txt   \n",
       "3  338  /hatrac/Image/a57a5545080ec09961b50db20f9a6594...  test_320.txt   \n",
       "4  33E  /hatrac/Image/b6d8dfe650289aec63f607d0b8d48f6d...  test_326.txt   \n",
       "5  33M  /hatrac/Image/ce947fa75efb8a6ca97c1b3582e37abd...  test_32C.txt   \n",
       "\n",
       "    Description  Length                               MD5  Name Subject  \n",
       "0  A test image      31  db94fb68cdd71445540cc7fa27a07d4f  None     31E  \n",
       "1  A test image      31  6e24ac002de2bdd782690a3db2b3faad  None     31M  \n",
       "2  A test image      32  4933c2542c5eebcccc8ff977c18d988f  None     31T  \n",
       "3  A test image      31  a57a5545080ec09961b50db20f9a6594  None     320  \n",
       "4  A test image      32  b6d8dfe650289aec63f607d0b8d48f6d  None     326  \n",
       "5  A test image      32  ce947fa75efb8a6ca97c1b3582e37abd  None     32C  "
      ],
      "text/html": [
       "<div>\n",
       "<style scoped>\n",
       "    .dataframe tbody tr th:only-of-type {\n",
       "        vertical-align: middle;\n",
       "    }\n",
       "\n",
       "    .dataframe tbody tr th {\n",
       "        vertical-align: top;\n",
       "    }\n",
       "\n",
       "    .dataframe thead th {\n",
       "        text-align: right;\n",
       "    }\n",
       "</style>\n",
       "<table border=\"1\" class=\"dataframe\">\n",
       "  <thead>\n",
       "    <tr style=\"text-align: right;\">\n",
       "      <th></th>\n",
       "      <th>RID</th>\n",
       "      <th>URL</th>\n",
       "      <th>Filename</th>\n",
       "      <th>Description</th>\n",
       "      <th>Length</th>\n",
       "      <th>MD5</th>\n",
       "      <th>Name</th>\n",
       "      <th>Subject</th>\n",
       "    </tr>\n",
       "  </thead>\n",
       "  <tbody>\n",
       "    <tr>\n",
       "      <th>0</th>\n",
       "      <td>32P</td>\n",
       "      <td>/hatrac/Image/db94fb68cdd71445540cc7fa27a07d4f...</td>\n",
       "      <td>test_31E.txt</td>\n",
       "      <td>A test image</td>\n",
       "      <td>31</td>\n",
       "      <td>db94fb68cdd71445540cc7fa27a07d4f</td>\n",
       "      <td>None</td>\n",
       "      <td>31E</td>\n",
       "    </tr>\n",
       "    <tr>\n",
       "      <th>1</th>\n",
       "      <td>32W</td>\n",
       "      <td>/hatrac/Image/6e24ac002de2bdd782690a3db2b3faad...</td>\n",
       "      <td>test_31M.txt</td>\n",
       "      <td>A test image</td>\n",
       "      <td>31</td>\n",
       "      <td>6e24ac002de2bdd782690a3db2b3faad</td>\n",
       "      <td>None</td>\n",
       "      <td>31M</td>\n",
       "    </tr>\n",
       "    <tr>\n",
       "      <th>2</th>\n",
       "      <td>332</td>\n",
       "      <td>/hatrac/Image/4933c2542c5eebcccc8ff977c18d988f...</td>\n",
       "      <td>test_31T.txt</td>\n",
       "      <td>A test image</td>\n",
       "      <td>32</td>\n",
       "      <td>4933c2542c5eebcccc8ff977c18d988f</td>\n",
       "      <td>None</td>\n",
       "      <td>31T</td>\n",
       "    </tr>\n",
       "    <tr>\n",
       "      <th>3</th>\n",
       "      <td>338</td>\n",
       "      <td>/hatrac/Image/a57a5545080ec09961b50db20f9a6594...</td>\n",
       "      <td>test_320.txt</td>\n",
       "      <td>A test image</td>\n",
       "      <td>31</td>\n",
       "      <td>a57a5545080ec09961b50db20f9a6594</td>\n",
       "      <td>None</td>\n",
       "      <td>320</td>\n",
       "    </tr>\n",
       "    <tr>\n",
       "      <th>4</th>\n",
       "      <td>33E</td>\n",
       "      <td>/hatrac/Image/b6d8dfe650289aec63f607d0b8d48f6d...</td>\n",
       "      <td>test_326.txt</td>\n",
       "      <td>A test image</td>\n",
       "      <td>32</td>\n",
       "      <td>b6d8dfe650289aec63f607d0b8d48f6d</td>\n",
       "      <td>None</td>\n",
       "      <td>326</td>\n",
       "    </tr>\n",
       "    <tr>\n",
       "      <th>5</th>\n",
       "      <td>33M</td>\n",
       "      <td>/hatrac/Image/ce947fa75efb8a6ca97c1b3582e37abd...</td>\n",
       "      <td>test_32C.txt</td>\n",
       "      <td>A test image</td>\n",
       "      <td>32</td>\n",
       "      <td>ce947fa75efb8a6ca97c1b3582e37abd</td>\n",
       "      <td>None</td>\n",
       "      <td>32C</td>\n",
       "    </tr>\n",
       "  </tbody>\n",
       "</table>\n",
       "</div>"
      ]
     },
     "metadata": {},
     "output_type": "display_data"
    },
    {
     "data": {
      "text/plain": [
       "<IPython.core.display.Markdown object>"
      ],
      "text/markdown": "## Testing Dataset"
     },
     "metadata": {},
     "output_type": "display_data"
    },
    {
     "data": {
      "text/plain": [
       "   RID                                                URL      Filename  \\\n",
       "0  32J  /hatrac/Image/e8d46b11afbcc4c9fed87844abec9639...  test_31A.txt   \n",
       "1  32R  /hatrac/Image/ba1ca03327eee1da6dabf6e2ad4cdb6a...  test_31G.txt   \n",
       "2  32Y  /hatrac/Image/f57883ebb4509d1de3c64ff38be28933...  test_31P.txt   \n",
       "3  334  /hatrac/Image/7ca4ef4169df48aaa53141c5657c6dd5...  test_31W.txt   \n",
       "4  33A  /hatrac/Image/cfaa7156ff6188dd86ea9a775fb24d27...  test_322.txt   \n",
       "5  33G  /hatrac/Image/3591fdd83df3e52039e74806d9d43588...  test_328.txt   \n",
       "6  33P  /hatrac/Image/1b4d9a2f0d6009b295e47959497a8190...  test_32E.txt   \n",
       "\n",
       "    Description  Length                               MD5  Name Subject  \n",
       "0  A test image      31  e8d46b11afbcc4c9fed87844abec9639  None     31A  \n",
       "1  A test image      31  ba1ca03327eee1da6dabf6e2ad4cdb6a  None     31G  \n",
       "2  A test image      31  f57883ebb4509d1de3c64ff38be28933  None     31P  \n",
       "3  A test image      31  7ca4ef4169df48aaa53141c5657c6dd5  None     31W  \n",
       "4  A test image      30  cfaa7156ff6188dd86ea9a775fb24d27  None     322  \n",
       "5  A test image      31  3591fdd83df3e52039e74806d9d43588  None     328  \n",
       "6  A test image      31  1b4d9a2f0d6009b295e47959497a8190  None     32E  "
      ],
      "text/html": [
       "<div>\n",
       "<style scoped>\n",
       "    .dataframe tbody tr th:only-of-type {\n",
       "        vertical-align: middle;\n",
       "    }\n",
       "\n",
       "    .dataframe tbody tr th {\n",
       "        vertical-align: top;\n",
       "    }\n",
       "\n",
       "    .dataframe thead th {\n",
       "        text-align: right;\n",
       "    }\n",
       "</style>\n",
       "<table border=\"1\" class=\"dataframe\">\n",
       "  <thead>\n",
       "    <tr style=\"text-align: right;\">\n",
       "      <th></th>\n",
       "      <th>RID</th>\n",
       "      <th>URL</th>\n",
       "      <th>Filename</th>\n",
       "      <th>Description</th>\n",
       "      <th>Length</th>\n",
       "      <th>MD5</th>\n",
       "      <th>Name</th>\n",
       "      <th>Subject</th>\n",
       "    </tr>\n",
       "  </thead>\n",
       "  <tbody>\n",
       "    <tr>\n",
       "      <th>0</th>\n",
       "      <td>32J</td>\n",
       "      <td>/hatrac/Image/e8d46b11afbcc4c9fed87844abec9639...</td>\n",
       "      <td>test_31A.txt</td>\n",
       "      <td>A test image</td>\n",
       "      <td>31</td>\n",
       "      <td>e8d46b11afbcc4c9fed87844abec9639</td>\n",
       "      <td>None</td>\n",
       "      <td>31A</td>\n",
       "    </tr>\n",
       "    <tr>\n",
       "      <th>1</th>\n",
       "      <td>32R</td>\n",
       "      <td>/hatrac/Image/ba1ca03327eee1da6dabf6e2ad4cdb6a...</td>\n",
       "      <td>test_31G.txt</td>\n",
       "      <td>A test image</td>\n",
       "      <td>31</td>\n",
       "      <td>ba1ca03327eee1da6dabf6e2ad4cdb6a</td>\n",
       "      <td>None</td>\n",
       "      <td>31G</td>\n",
       "    </tr>\n",
       "    <tr>\n",
       "      <th>2</th>\n",
       "      <td>32Y</td>\n",
       "      <td>/hatrac/Image/f57883ebb4509d1de3c64ff38be28933...</td>\n",
       "      <td>test_31P.txt</td>\n",
       "      <td>A test image</td>\n",
       "      <td>31</td>\n",
       "      <td>f57883ebb4509d1de3c64ff38be28933</td>\n",
       "      <td>None</td>\n",
       "      <td>31P</td>\n",
       "    </tr>\n",
       "    <tr>\n",
       "      <th>3</th>\n",
       "      <td>334</td>\n",
       "      <td>/hatrac/Image/7ca4ef4169df48aaa53141c5657c6dd5...</td>\n",
       "      <td>test_31W.txt</td>\n",
       "      <td>A test image</td>\n",
       "      <td>31</td>\n",
       "      <td>7ca4ef4169df48aaa53141c5657c6dd5</td>\n",
       "      <td>None</td>\n",
       "      <td>31W</td>\n",
       "    </tr>\n",
       "    <tr>\n",
       "      <th>4</th>\n",
       "      <td>33A</td>\n",
       "      <td>/hatrac/Image/cfaa7156ff6188dd86ea9a775fb24d27...</td>\n",
       "      <td>test_322.txt</td>\n",
       "      <td>A test image</td>\n",
       "      <td>30</td>\n",
       "      <td>cfaa7156ff6188dd86ea9a775fb24d27</td>\n",
       "      <td>None</td>\n",
       "      <td>322</td>\n",
       "    </tr>\n",
       "    <tr>\n",
       "      <th>5</th>\n",
       "      <td>33G</td>\n",
       "      <td>/hatrac/Image/3591fdd83df3e52039e74806d9d43588...</td>\n",
       "      <td>test_328.txt</td>\n",
       "      <td>A test image</td>\n",
       "      <td>31</td>\n",
       "      <td>3591fdd83df3e52039e74806d9d43588</td>\n",
       "      <td>None</td>\n",
       "      <td>328</td>\n",
       "    </tr>\n",
       "    <tr>\n",
       "      <th>6</th>\n",
       "      <td>33P</td>\n",
       "      <td>/hatrac/Image/1b4d9a2f0d6009b295e47959497a8190...</td>\n",
       "      <td>test_32E.txt</td>\n",
       "      <td>A test image</td>\n",
       "      <td>31</td>\n",
       "      <td>1b4d9a2f0d6009b295e47959497a8190</td>\n",
       "      <td>None</td>\n",
       "      <td>32E</td>\n",
       "    </tr>\n",
       "  </tbody>\n",
       "</table>\n",
       "</div>"
      ]
     },
     "metadata": {},
     "output_type": "display_data"
    },
    {
     "data": {
      "text/plain": [
       "<IPython.core.display.Markdown object>"
      ],
      "text/markdown": "## Validation Dataset"
     },
     "metadata": {},
     "output_type": "display_data"
    },
    {
     "data": {
      "text/plain": [
       "   RID                                                URL      Filename  \\\n",
       "0  32M  /hatrac/Image/ffb678d1d2d9d174d0a5a46172e50b7f...  test_31C.txt   \n",
       "1  32T  /hatrac/Image/a48b838c9d2709e1a7afa88ef15d4fa4...  test_31J.txt   \n",
       "2  330  /hatrac/Image/13f4fcfc96fe84dfc40cf1a836d12393...  test_31R.txt   \n",
       "3  336  /hatrac/Image/de63214e4319c1ddd4ecb875509c2fcb...  test_31Y.txt   \n",
       "4  33C  /hatrac/Image/5fd608afbaadf23ecfa6ce62a608ca63...  test_324.txt   \n",
       "5  33J  /hatrac/Image/e696028ffb9be3cc477fb32656f218a9...  test_32A.txt   \n",
       "6  33R  /hatrac/Image/794251f097b71a879db91decbd0ff59b...  test_32G.txt   \n",
       "\n",
       "    Description  Length                               MD5  Name Subject  \n",
       "0  A test image      30  ffb678d1d2d9d174d0a5a46172e50b7f  None     31C  \n",
       "1  A test image      31  a48b838c9d2709e1a7afa88ef15d4fa4  None     31J  \n",
       "2  A test image      31  13f4fcfc96fe84dfc40cf1a836d12393  None     31R  \n",
       "3  A test image      31  de63214e4319c1ddd4ecb875509c2fcb  None     31Y  \n",
       "4  A test image      31  5fd608afbaadf23ecfa6ce62a608ca63  None     324  \n",
       "5  A test image      31  e696028ffb9be3cc477fb32656f218a9  None     32A  \n",
       "6  A test image      31  794251f097b71a879db91decbd0ff59b  None     32G  "
      ],
      "text/html": [
       "<div>\n",
       "<style scoped>\n",
       "    .dataframe tbody tr th:only-of-type {\n",
       "        vertical-align: middle;\n",
       "    }\n",
       "\n",
       "    .dataframe tbody tr th {\n",
       "        vertical-align: top;\n",
       "    }\n",
       "\n",
       "    .dataframe thead th {\n",
       "        text-align: right;\n",
       "    }\n",
       "</style>\n",
       "<table border=\"1\" class=\"dataframe\">\n",
       "  <thead>\n",
       "    <tr style=\"text-align: right;\">\n",
       "      <th></th>\n",
       "      <th>RID</th>\n",
       "      <th>URL</th>\n",
       "      <th>Filename</th>\n",
       "      <th>Description</th>\n",
       "      <th>Length</th>\n",
       "      <th>MD5</th>\n",
       "      <th>Name</th>\n",
       "      <th>Subject</th>\n",
       "    </tr>\n",
       "  </thead>\n",
       "  <tbody>\n",
       "    <tr>\n",
       "      <th>0</th>\n",
       "      <td>32M</td>\n",
       "      <td>/hatrac/Image/ffb678d1d2d9d174d0a5a46172e50b7f...</td>\n",
       "      <td>test_31C.txt</td>\n",
       "      <td>A test image</td>\n",
       "      <td>30</td>\n",
       "      <td>ffb678d1d2d9d174d0a5a46172e50b7f</td>\n",
       "      <td>None</td>\n",
       "      <td>31C</td>\n",
       "    </tr>\n",
       "    <tr>\n",
       "      <th>1</th>\n",
       "      <td>32T</td>\n",
       "      <td>/hatrac/Image/a48b838c9d2709e1a7afa88ef15d4fa4...</td>\n",
       "      <td>test_31J.txt</td>\n",
       "      <td>A test image</td>\n",
       "      <td>31</td>\n",
       "      <td>a48b838c9d2709e1a7afa88ef15d4fa4</td>\n",
       "      <td>None</td>\n",
       "      <td>31J</td>\n",
       "    </tr>\n",
       "    <tr>\n",
       "      <th>2</th>\n",
       "      <td>330</td>\n",
       "      <td>/hatrac/Image/13f4fcfc96fe84dfc40cf1a836d12393...</td>\n",
       "      <td>test_31R.txt</td>\n",
       "      <td>A test image</td>\n",
       "      <td>31</td>\n",
       "      <td>13f4fcfc96fe84dfc40cf1a836d12393</td>\n",
       "      <td>None</td>\n",
       "      <td>31R</td>\n",
       "    </tr>\n",
       "    <tr>\n",
       "      <th>3</th>\n",
       "      <td>336</td>\n",
       "      <td>/hatrac/Image/de63214e4319c1ddd4ecb875509c2fcb...</td>\n",
       "      <td>test_31Y.txt</td>\n",
       "      <td>A test image</td>\n",
       "      <td>31</td>\n",
       "      <td>de63214e4319c1ddd4ecb875509c2fcb</td>\n",
       "      <td>None</td>\n",
       "      <td>31Y</td>\n",
       "    </tr>\n",
       "    <tr>\n",
       "      <th>4</th>\n",
       "      <td>33C</td>\n",
       "      <td>/hatrac/Image/5fd608afbaadf23ecfa6ce62a608ca63...</td>\n",
       "      <td>test_324.txt</td>\n",
       "      <td>A test image</td>\n",
       "      <td>31</td>\n",
       "      <td>5fd608afbaadf23ecfa6ce62a608ca63</td>\n",
       "      <td>None</td>\n",
       "      <td>324</td>\n",
       "    </tr>\n",
       "    <tr>\n",
       "      <th>5</th>\n",
       "      <td>33J</td>\n",
       "      <td>/hatrac/Image/e696028ffb9be3cc477fb32656f218a9...</td>\n",
       "      <td>test_32A.txt</td>\n",
       "      <td>A test image</td>\n",
       "      <td>31</td>\n",
       "      <td>e696028ffb9be3cc477fb32656f218a9</td>\n",
       "      <td>None</td>\n",
       "      <td>32A</td>\n",
       "    </tr>\n",
       "    <tr>\n",
       "      <th>6</th>\n",
       "      <td>33R</td>\n",
       "      <td>/hatrac/Image/794251f097b71a879db91decbd0ff59b...</td>\n",
       "      <td>test_32G.txt</td>\n",
       "      <td>A test image</td>\n",
       "      <td>31</td>\n",
       "      <td>794251f097b71a879db91decbd0ff59b</td>\n",
       "      <td>None</td>\n",
       "      <td>32G</td>\n",
       "    </tr>\n",
       "  </tbody>\n",
       "</table>\n",
       "</div>"
      ]
     },
     "metadata": {},
     "output_type": "display_data"
    }
   ],
   "execution_count": 14
  },
  {
   "cell_type": "markdown",
   "id": "fc6b8ddd57688870",
   "metadata": {},
   "source": "As our very last step, lets get a PID that will allow us to share and cite the dataset that we just created"
  },
  {
   "cell_type": "code",
   "id": "636459f674713ec9",
   "metadata": {
    "ExecuteTime": {
     "end_time": "2024-11-26T21:43:36.393334Z",
     "start_time": "2024-11-26T21:43:36.212357Z"
    }
   },
   "source": [
    "dataset_citation = ml_instance.cite(nested_dataset)\n",
    "display(\n",
    "    HTML(f'Nested dataset citation: <a href={nested_dataset}>{nested_dataset}</a>')\n",
    ")"
   ],
   "outputs": [
    {
     "data": {
      "text/plain": [
       "<IPython.core.display.HTML object>"
      ],
      "text/html": [
       "Nested dataset citation: <a href=3BW>3BW</a>"
      ]
     },
     "metadata": {},
     "output_type": "display_data"
    }
   ],
   "execution_count": 15
  },
  {
   "metadata": {
    "ExecuteTime": {
     "end_time": "2024-11-26T21:43:36.415156Z",
     "start_time": "2024-11-26T21:43:36.402612Z"
    }
   },
   "cell_type": "code",
   "source": "display(HTML(f'<a href={ml_instance.chaise_url(\"Dataset\")}>Browse Datasets</a>'))",
   "id": "4a27565e0e1fcd85",
   "outputs": [
    {
     "data": {
      "text/plain": [
       "<IPython.core.display.HTML object>"
      ],
      "text/html": [
       "<a href=https://dev.eye-ai.org/chaise/recordset/#627/deriva-ml%3ADataset>Browse Datasets</a>"
      ]
     },
     "metadata": {},
     "output_type": "display_data"
    }
   ],
   "execution_count": 16
  },
  {
   "cell_type": "code",
   "id": "2b47915187993a22",
   "metadata": {
    "ExecuteTime": {
     "end_time": "2024-11-26T21:43:36.588421Z",
     "start_time": "2024-11-26T21:43:36.423742Z"
    }
   },
   "source": [
    "test_catalog.delete_ermrest_catalog(really=True)"
   ],
   "outputs": [
    {
     "data": {
      "text/plain": [
       "<Response [204]>"
      ]
     },
     "execution_count": 17,
     "metadata": {},
     "output_type": "execute_result"
    }
   ],
   "execution_count": 17
  }
 ],
 "metadata": {
  "kernelspec": {
   "display_name": "deriva-ml",
   "language": "python",
   "name": "deriva-ml"
  },
  "language_info": {
   "codemirror_mode": {
    "name": "ipython",
    "version": 3
   },
   "file_extension": ".py",
   "mimetype": "text/x-python",
   "name": "python",
   "nbconvert_exporter": "python",
   "pygments_lexer": "ipython3",
   "version": "3.12.2"
  }
 },
 "nbformat": 4,
 "nbformat_minor": 5
}
