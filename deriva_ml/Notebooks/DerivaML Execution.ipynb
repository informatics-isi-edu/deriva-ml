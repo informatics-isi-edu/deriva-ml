{
 "cells": [
  {
   "cell_type": "markdown",
   "id": "94ffee41-4986-4196-b35d-b38b6e10490a",
   "metadata": {},
   "source": [
    "DerivaML is a class library built on the Deriva Scientific Asset management system that is designed to help simplify a number of the basic operations associated with building and testing ML libraries based on common toolkits such as TensorFlow.  This notebook reviews the basic features of the DerivaML library."
   ]
  },
  {
   "cell_type": "code",
   "id": "ff605747-195b-40a1-b915-0e799f8d0748",
   "metadata": {
    "ExecuteTime": {
     "end_time": "2024-10-12T05:49:31.105740Z",
     "start_time": "2024-10-12T05:49:31.081248Z"
    }
   },
   "source": [
    "%load_ext autoreload\n",
    "%autoreload 2"
   ],
   "outputs": [
    {
     "name": "stdout",
     "output_type": "stream",
     "text": [
      "The autoreload extension is already loaded. To reload it, use:\n",
      "  %reload_ext autoreload\n"
     ]
    }
   ],
   "execution_count": 15
  },
  {
   "cell_type": "code",
   "id": "9493a5ef-86b9-490b-a1d5-f461fdcd68ef",
   "metadata": {
    "ExecuteTime": {
     "end_time": "2024-10-12T05:49:33.505361Z",
     "start_time": "2024-10-12T05:49:33.483795Z"
    }
   },
   "source": [
    "import builtins\n",
    "from deriva.core.utils.globus_auth_utils import GlobusNativeLogin\n",
    "from deriva_ml.deriva_ml_base import ColumnDefinition, BuiltinTypes\n",
    "from deriva_ml.schema_setup.test_catalog import create_test_catalog, DemoML\n",
    "from deriva_ml.execution_configuration import ExecutionConfiguration, Workflow, Execution, WorkflowTerm, Term\n",
    "from pathlib import Path\n",
    "import pandas as pd\n",
    "import tempfile"
   ],
   "outputs": [],
   "execution_count": 16
  },
  {
   "cell_type": "markdown",
   "id": "ba06990f-6dc5-4805-9e82-0881a524bfef",
   "metadata": {},
   "source": [
    "Set the details for the catalog we want and authenticate to the server if needed."
   ]
  },
  {
   "cell_type": "code",
   "id": "9ee79ab7-a3f7-4c69-9c80-336871c13ec2",
   "metadata": {
    "ExecuteTime": {
     "end_time": "2024-10-12T05:49:40.529072Z",
     "start_time": "2024-10-12T05:49:40.503673Z"
    }
   },
   "source": [
    "hostname = 'dev.eye-ai.org'\n",
    "domain_schema = 'demo-schema'\n",
    "\n",
    "gnl = GlobusNativeLogin(host=hostname)\n",
    "if gnl.is_logged_in([hostname]):\n",
    "    print(\"You are already logged in.\")\n",
    "else:\n",
    "    gnl.login([hostname], no_local_server=True, no_browser=True, refresh_tokens=True, update_bdbag_keychain=True)\n",
    "    print(\"Login Successful\")\n"
   ],
   "outputs": [
    {
     "name": "stderr",
     "output_type": "stream",
     "text": [
      "2024-10-12 00:49:40,521 - DEBUG - on lookup, default setting: GLOBUS_SDK_ENVIRONMENT=production\n",
      "2024-10-12 00:49:40,522 - INFO - Creating client of type <class 'globus_sdk.services.auth.client.native_client.NativeAppAuthClient'> for service \"auth\"\n",
      "2024-10-12 00:49:40,522 - DEBUG - Service URL Lookup for \"auth\" under env \"production\"\n",
      "2024-10-12 00:49:40,522 - DEBUG - Service URL Lookup Result: \"auth\" is at \"https://auth.globus.org/\"\n",
      "2024-10-12 00:49:40,523 - DEBUG - on lookup, default setting: GLOBUS_SDK_VERIFY_SSL=True\n",
      "2024-10-12 00:49:40,523 - DEBUG - on lookup, default setting: GLOBUS_SDK_HTTP_TIMEOUT=60.0\n",
      "2024-10-12 00:49:40,524 - DEBUG - initialized transport of type <class 'globus_sdk.transport.requests.RequestsTransport'>\n",
      "2024-10-12 00:49:40,524 - INFO - Finished initializing AuthLoginClient. client_id='8ef15ba9-2b4a-469c-a163-7fd910c9d111', type(authorizer)=<class 'globus_sdk.authorizers.base.NullAuthorizer'>\n",
      "2024-10-12 00:49:40,525 - DEBUG - Using code handlers (<fair_research_login.local_server.LocalServerCodeHandler object at 0x112d01130>, <fair_research_login.code_handler.InputCodeHandler object at 0x112d02210>)\n",
      "2024-10-12 00:49:40,525 - DEBUG - Token storage set to <deriva.core.utils.globus_auth_utils.DerivaJSONTokenStorage object at 0x16b375df0>\n",
      "2024-10-12 00:49:40,525 - DEBUG - Automatically open browser: True\n"
     ]
    },
    {
     "name": "stdout",
     "output_type": "stream",
     "text": [
      "You are already logged in.\n"
     ]
    }
   ],
   "execution_count": 17
  },
  {
   "cell_type": "markdown",
   "id": "a23e5177-106b-48b6-b5e0-a126d35f4084",
   "metadata": {},
   "source": [
    "Create a test catalog and get an instance of the DerivaML class."
   ]
  },
  {
   "cell_type": "code",
   "id": "e9bddcf0-27ea-40b3-a388-b77635586fad",
   "metadata": {
    "ExecuteTime": {
     "end_time": "2024-10-12T05:51:36.502636Z",
     "start_time": "2024-10-12T05:49:56.090833Z"
    }
   },
   "source": [
    "test_catalog = create_test_catalog(hostname, domain_schema)\n",
    "ml_instance = DemoML(hostname, test_catalog.catalog_id)"
   ],
   "outputs": [
    {
     "name": "stderr",
     "output_type": "stream",
     "text": [
      "2024-10-12 00:49:56,110 - DEBUG - on lookup, default setting: GLOBUS_SDK_ENVIRONMENT=production\n",
      "2024-10-12 00:49:56,111 - INFO - Creating client of type <class 'globus_sdk.services.auth.client.native_client.NativeAppAuthClient'> for service \"auth\"\n",
      "2024-10-12 00:49:56,112 - DEBUG - Service URL Lookup for \"auth\" under env \"production\"\n",
      "2024-10-12 00:49:56,112 - DEBUG - Service URL Lookup Result: \"auth\" is at \"https://auth.globus.org/\"\n",
      "2024-10-12 00:49:56,113 - DEBUG - on lookup, default setting: GLOBUS_SDK_VERIFY_SSL=True\n",
      "2024-10-12 00:49:56,113 - DEBUG - on lookup, default setting: GLOBUS_SDK_HTTP_TIMEOUT=60.0\n",
      "2024-10-12 00:49:56,114 - DEBUG - initialized transport of type <class 'globus_sdk.transport.requests.RequestsTransport'>\n",
      "2024-10-12 00:49:56,114 - INFO - Finished initializing AuthLoginClient. client_id='8ef15ba9-2b4a-469c-a163-7fd910c9d111', type(authorizer)=<class 'globus_sdk.authorizers.base.NullAuthorizer'>\n",
      "2024-10-12 00:49:56,115 - DEBUG - Using code handlers (<fair_research_login.local_server.LocalServerCodeHandler object at 0x112d01130>, <fair_research_login.code_handler.InputCodeHandler object at 0x112d02210>)\n",
      "2024-10-12 00:49:56,115 - DEBUG - Token storage set to <deriva.core.utils.globus_auth_utils.DerivaJSONTokenStorage object at 0x169edbf80>\n",
      "2024-10-12 00:49:56,115 - DEBUG - Automatically open browser: True\n",
      "2024-10-12 00:49:56,120 - DEBUG - Starting new HTTPS connection (1): dev.eye-ai.org:443\n",
      "2024-10-12 00:49:59,504 - DEBUG - https://dev.eye-ai.org:443 \"POST /ermrest/catalog HTTP/11\" 201 13\n",
      "2024-10-12 00:49:59,507 - DEBUG - Starting new HTTPS connection (1): dev.eye-ai.org:443\n",
      "2024-10-12 00:50:01,363 - DEBUG - https://dev.eye-ai.org:443 \"GET /ermrest/catalog/395/schema HTTP/11\" 200 9234\n",
      "2024-10-12 00:50:02,430 - DEBUG - https://dev.eye-ai.org:443 \"GET /ermrest/catalog/395/schema HTTP/11\" 304 0\n",
      "2024-10-12 00:50:03,767 - DEBUG - https://dev.eye-ai.org:443 \"PUT /ermrest/catalog/395/annotation HTTP/11\" 204 0\n",
      "2024-10-12 00:50:04,846 - DEBUG - https://dev.eye-ai.org:443 \"PUT /ermrest/catalog/395/schema/public/table/ERMrest_Client HTTP/11\" 200 3342\n",
      "2024-10-12 00:50:05,974 - DEBUG - https://dev.eye-ai.org:443 \"POST /ermrest/catalog/395/schema HTTP/11\" 201 171\n",
      "2024-10-12 00:50:08,022 - DEBUG - https://dev.eye-ai.org:443 \"POST /ermrest/catalog/395/schema/deriva-ml/table HTTP/11\" 201 4759\n",
      "2024-10-12 00:50:09,252 - DEBUG - https://dev.eye-ai.org:443 \"POST /ermrest/catalog/395/schema/deriva-ml/table HTTP/11\" 201 4295\n",
      "2024-10-12 00:50:10,314 - DEBUG - https://dev.eye-ai.org:443 \"POST /ermrest/catalog/395/schema/deriva-ml/table HTTP/11\" 201 4770\n",
      "2024-10-12 00:50:11,481 - DEBUG - https://dev.eye-ai.org:443 \"POST /ermrest/catalog/395/schema/deriva-ml/table/Workflow/column HTTP/11\" 201 221\n",
      "2024-10-12 00:50:12,591 - DEBUG - https://dev.eye-ai.org:443 \"POST /ermrest/catalog/395/schema/deriva-ml/table/Workflow/foreignkey HTTP/11\" 201 451\n",
      "2024-10-12 00:50:13,537 - DEBUG - https://dev.eye-ai.org:443 \"POST /ermrest/catalog/395/schema/deriva-ml/table HTTP/11\" 201 5206\n",
      "2024-10-12 00:50:14,575 - DEBUG - https://dev.eye-ai.org:443 \"POST /ermrest/catalog/395/schema/deriva-ml/table HTTP/11\" 201 3079\n",
      "2024-10-12 00:50:15,635 - DEBUG - https://dev.eye-ai.org:443 \"POST /ermrest/catalog/395/schema/deriva-ml/table HTTP/11\" 201 4759\n",
      "2024-10-12 00:50:16,716 - DEBUG - https://dev.eye-ai.org:443 \"POST /ermrest/catalog/395/schema/deriva-ml/table HTTP/11\" 201 4447\n",
      "2024-10-12 00:50:17,955 - DEBUG - https://dev.eye-ai.org:443 \"POST /ermrest/catalog/395/schema/deriva-ml/table HTTP/11\" 201 4398\n",
      "2024-10-12 00:50:18,981 - DEBUG - https://dev.eye-ai.org:443 \"POST /ermrest/catalog/395/schema/deriva-ml/table HTTP/11\" 201 4394\n",
      "2024-10-12 00:50:20,013 - DEBUG - https://dev.eye-ai.org:443 \"POST /ermrest/catalog/395/schema/deriva-ml/table HTTP/11\" 201 5272\n",
      "2024-10-12 00:50:21,232 - DEBUG - https://dev.eye-ai.org:443 \"POST /ermrest/catalog/395/schema/deriva-ml/table HTTP/11\" 201 4858\n",
      "2024-10-12 00:50:22,147 - DEBUG - https://dev.eye-ai.org:443 \"POST /ermrest/catalog/395/schema/deriva-ml/table/Execution_Metadata/column HTTP/11\" 201 231\n",
      "2024-10-12 00:50:23,282 - DEBUG - https://dev.eye-ai.org:443 \"POST /ermrest/catalog/395/schema/deriva-ml/table/Execution_Metadata/foreignkey HTTP/11\" 201 501\n",
      "2024-10-12 00:50:24,303 - DEBUG - https://dev.eye-ai.org:443 \"POST /ermrest/catalog/395/schema/deriva-ml/table HTTP/11\" 201 4574\n",
      "2024-10-12 00:50:25,429 - DEBUG - https://dev.eye-ai.org:443 \"POST /ermrest/catalog/395/schema/deriva-ml/table HTTP/11\" 201 4835\n",
      "2024-10-12 00:50:26,438 - DEBUG - https://dev.eye-ai.org:443 \"POST /ermrest/catalog/395/schema/deriva-ml/table HTTP/11\" 201 4831\n",
      "2024-10-12 00:50:27,553 - DEBUG - https://dev.eye-ai.org:443 \"POST /ermrest/catalog/395/schema/deriva-ml/table/Execution_Assets/column HTTP/11\" 201 228\n",
      "2024-10-12 00:50:28,575 - DEBUG - https://dev.eye-ai.org:443 \"POST /ermrest/catalog/395/schema/deriva-ml/table/Execution_Assets/foreignkey HTTP/11\" 201 488\n",
      "2024-10-12 00:50:29,935 - DEBUG - https://dev.eye-ai.org:443 \"POST /ermrest/catalog/395/schema/deriva-ml/table HTTP/11\" 201 4542\n",
      "2024-10-12 00:50:31,061 - DEBUG - https://dev.eye-ai.org:443 \"GET /ermrest/catalog/395/schema HTTP/11\" 200 85875\n",
      "2024-10-12 00:50:31,211 - DEBUG - Inserting entities to path: /entity/deriva-ml:Execution_Metadata_Type?defaults=URI,RID,ID,RMB,RCB,RMT,RCT\n",
      "2024-10-12 00:50:31,212 - DEBUG - yielding batch of 2/2 entities (0:2)\n",
      "2024-10-12 00:50:32,085 - DEBUG - https://dev.eye-ai.org:443 \"POST /ermrest/catalog/395/entity/deriva-ml:Execution_Metadata_Type?defaults=URI,RID,ID,RMB,RCB,RMT,RCT HTTP/11\" 200 1199\n",
      "2024-10-12 00:50:33,054 - DEBUG - https://dev.eye-ai.org:443 \"POST /ermrest/catalog/395/schema HTTP/11\" 201 173\n",
      "2024-10-12 00:50:34,370 - DEBUG - https://dev.eye-ai.org:443 \"POST /ermrest/catalog/395/schema/demo-schema/table HTTP/11\" 201 3080\n",
      "2024-10-12 00:50:35,465 - DEBUG - https://dev.eye-ai.org:443 \"POST /ermrest/catalog/395/schema/demo-schema/table HTTP/11\" 201 4679\n",
      "2024-10-12 00:50:36,453 - DEBUG - https://dev.eye-ai.org:443 \"POST /ermrest/catalog/395/schema/demo-schema/table/Image/column HTTP/11\" 201 215\n",
      "2024-10-12 00:50:37,411 - DEBUG - https://dev.eye-ai.org:443 \"POST /ermrest/catalog/395/schema/demo-schema/table/Image/foreignkey HTTP/11\" 201 430\n",
      "2024-10-12 00:50:37,415 - DEBUG - on lookup, default setting: GLOBUS_SDK_ENVIRONMENT=production\n",
      "2024-10-12 00:50:37,416 - INFO - Creating client of type <class 'globus_sdk.services.auth.client.native_client.NativeAppAuthClient'> for service \"auth\"\n",
      "2024-10-12 00:50:37,416 - DEBUG - Service URL Lookup for \"auth\" under env \"production\"\n",
      "2024-10-12 00:50:37,417 - DEBUG - Service URL Lookup Result: \"auth\" is at \"https://auth.globus.org/\"\n",
      "2024-10-12 00:50:37,418 - DEBUG - on lookup, default setting: GLOBUS_SDK_VERIFY_SSL=True\n",
      "2024-10-12 00:50:37,418 - DEBUG - on lookup, default setting: GLOBUS_SDK_HTTP_TIMEOUT=60.0\n",
      "2024-10-12 00:50:37,419 - DEBUG - initialized transport of type <class 'globus_sdk.transport.requests.RequestsTransport'>\n",
      "2024-10-12 00:50:37,419 - INFO - Finished initializing AuthLoginClient. client_id='8ef15ba9-2b4a-469c-a163-7fd910c9d111', type(authorizer)=<class 'globus_sdk.authorizers.base.NullAuthorizer'>\n",
      "2024-10-12 00:50:37,420 - DEBUG - Using code handlers (<fair_research_login.local_server.LocalServerCodeHandler object at 0x112d01130>, <fair_research_login.code_handler.InputCodeHandler object at 0x112d02210>)\n",
      "2024-10-12 00:50:37,420 - DEBUG - Token storage set to <deriva.core.utils.globus_auth_utils.DerivaJSONTokenStorage object at 0x16ac620f0>\n",
      "2024-10-12 00:50:37,421 - DEBUG - Automatically open browser: True\n",
      "2024-10-12 00:50:37,425 - DEBUG - Starting new HTTPS connection (1): dev.eye-ai.org:443\n",
      "2024-10-12 00:50:40,505 - DEBUG - https://dev.eye-ai.org:443 \"GET /ermrest/catalog/395/schema HTTP/11\" 200 94701\n",
      "2024-10-12 00:50:41,541 - DEBUG - https://dev.eye-ai.org:443 \"GET /ermrest/catalog/395/schema HTTP/11\" 304 0\n",
      "2024-10-12 00:50:41,552 - DEBUG - Fetching /entity/Subject:=demo-schema:Subject\n",
      "2024-10-12 00:50:42,333 - DEBUG - https://dev.eye-ai.org:443 \"GET /ermrest/catalog/395/entity/Subject:=demo-schema:Subject HTTP/11\" 200 3\n",
      "2024-10-12 00:50:42,336 - DEBUG - Fetched 0 entities\n",
      "2024-10-12 00:50:42,337 - DEBUG - Fetching /entity/Image:=demo-schema:Image\n",
      "2024-10-12 00:50:43,517 - DEBUG - https://dev.eye-ai.org:443 \"GET /ermrest/catalog/395/entity/Image:=demo-schema:Image HTTP/11\" 200 3\n",
      "2024-10-12 00:50:43,520 - DEBUG - Fetched 0 entities\n",
      "2024-10-12 00:50:43,521 - DEBUG - Fetching /entity/Feature_Name:=deriva-ml:Feature_Name\n",
      "2024-10-12 00:50:44,579 - DEBUG - https://dev.eye-ai.org:443 \"GET /ermrest/catalog/395/entity/Feature_Name:=deriva-ml:Feature_Name HTTP/11\" 200 3\n",
      "2024-10-12 00:50:44,582 - DEBUG - Fetched 0 entities\n",
      "2024-10-12 00:50:44,582 - DEBUG - Fetching /entity/Workflow:=deriva-ml:Workflow\n",
      "2024-10-12 00:50:45,356 - DEBUG - https://dev.eye-ai.org:443 \"GET /ermrest/catalog/395/entity/Workflow:=deriva-ml:Workflow HTTP/11\" 200 3\n",
      "2024-10-12 00:50:45,358 - DEBUG - Fetched 0 entities\n",
      "2024-10-12 00:50:45,359 - DEBUG - Fetching /entity/Workflow_Type:=deriva-ml:Workflow_Type\n",
      "2024-10-12 00:50:46,214 - DEBUG - https://dev.eye-ai.org:443 \"GET /ermrest/catalog/395/entity/Workflow_Type:=deriva-ml:Workflow_Type HTTP/11\" 200 3\n",
      "2024-10-12 00:50:46,218 - DEBUG - Fetched 0 entities\n",
      "2024-10-12 00:50:46,219 - DEBUG - Fetching /entity/Execution:=deriva-ml:Execution\n",
      "2024-10-12 00:50:47,035 - DEBUG - https://dev.eye-ai.org:443 \"GET /ermrest/catalog/395/entity/Execution:=deriva-ml:Execution HTTP/11\" 200 3\n",
      "2024-10-12 00:50:47,038 - DEBUG - Fetched 0 entities\n",
      "2024-10-12 00:50:47,039 - DEBUG - Fetching /entity/Dataset:=deriva-ml:Dataset\n",
      "2024-10-12 00:50:47,958 - DEBUG - https://dev.eye-ai.org:443 \"GET /ermrest/catalog/395/entity/Dataset:=deriva-ml:Dataset HTTP/11\" 200 3\n",
      "2024-10-12 00:50:47,960 - DEBUG - Fetched 0 entities\n",
      "2024-10-12 00:50:47,961 - DEBUG - Fetching /entity/Dataset_Type:=deriva-ml:Dataset_Type\n",
      "2024-10-12 00:50:48,903 - DEBUG - https://dev.eye-ai.org:443 \"GET /ermrest/catalog/395/entity/Dataset_Type:=deriva-ml:Dataset_Type HTTP/11\" 200 3\n",
      "2024-10-12 00:50:48,905 - DEBUG - Fetched 0 entities\n",
      "2024-10-12 00:50:48,906 - DEBUG - Fetching /entity/Dataset_Dataset_Type:=deriva-ml:Dataset_Dataset_Type\n",
      "2024-10-12 00:50:49,744 - DEBUG - https://dev.eye-ai.org:443 \"GET /ermrest/catalog/395/entity/Dataset_Dataset_Type:=deriva-ml:Dataset_Dataset_Type HTTP/11\" 200 3\n",
      "2024-10-12 00:50:49,749 - DEBUG - Fetched 0 entities\n",
      "2024-10-12 00:50:49,750 - DEBUG - Fetching /entity/Dataset_Execution:=deriva-ml:Dataset_Execution\n",
      "2024-10-12 00:50:50,572 - DEBUG - https://dev.eye-ai.org:443 \"GET /ermrest/catalog/395/entity/Dataset_Execution:=deriva-ml:Dataset_Execution HTTP/11\" 200 3\n",
      "2024-10-12 00:50:50,574 - DEBUG - Fetched 0 entities\n",
      "2024-10-12 00:50:50,575 - DEBUG - Fetching /entity/Dataset_Dataset:=deriva-ml:Dataset_Dataset\n",
      "2024-10-12 00:50:51,438 - DEBUG - https://dev.eye-ai.org:443 \"GET /ermrest/catalog/395/entity/Dataset_Dataset:=deriva-ml:Dataset_Dataset HTTP/11\" 200 3\n",
      "2024-10-12 00:50:51,441 - DEBUG - Fetched 0 entities\n",
      "2024-10-12 00:50:51,442 - DEBUG - Fetching /entity/Execution_Metadata:=deriva-ml:Execution_Metadata\n",
      "2024-10-12 00:50:52,255 - DEBUG - https://dev.eye-ai.org:443 \"GET /ermrest/catalog/395/entity/Execution_Metadata:=deriva-ml:Execution_Metadata HTTP/11\" 200 3\n",
      "2024-10-12 00:50:52,258 - DEBUG - Fetched 0 entities\n",
      "2024-10-12 00:50:52,259 - DEBUG - Fetching /entity/Execution_Metadata_Type:=deriva-ml:Execution_Metadata_Type\n",
      "2024-10-12 00:50:53,052 - DEBUG - https://dev.eye-ai.org:443 \"GET /ermrest/catalog/395/entity/Execution_Metadata_Type:=deriva-ml:Execution_Metadata_Type HTTP/11\" 200 735\n",
      "2024-10-12 00:50:53,054 - DEBUG - Fetched 2 entities\n",
      "2024-10-12 00:50:53,054 - DEBUG - Deleting: /entity/Execution_Metadata_Type:=deriva-ml:Execution_Metadata_Type/RID=2VG\n",
      "2024-10-12 00:50:53,894 - DEBUG - https://dev.eye-ai.org:443 \"DELETE /ermrest/catalog/395/entity/Execution_Metadata_Type:=deriva-ml:Execution_Metadata_Type/RID=2VG HTTP/11\" 204 0\n",
      "2024-10-12 00:50:53,898 - DEBUG - Deleting: /entity/Execution_Metadata_Type:=deriva-ml:Execution_Metadata_Type/RID=2VJ\n",
      "2024-10-12 00:50:54,712 - DEBUG - https://dev.eye-ai.org:443 \"DELETE /ermrest/catalog/395/entity/Execution_Metadata_Type:=deriva-ml:Execution_Metadata_Type/RID=2VJ HTTP/11\" 204 0\n",
      "2024-10-12 00:50:54,715 - DEBUG - Fetching /entity/Execution_Metadata_Execution:=deriva-ml:Execution_Metadata_Execution\n",
      "2024-10-12 00:50:55,497 - DEBUG - https://dev.eye-ai.org:443 \"GET /ermrest/catalog/395/entity/Execution_Metadata_Execution:=deriva-ml:Execution_Metadata_Execution HTTP/11\" 200 3\n",
      "2024-10-12 00:50:55,500 - DEBUG - Fetched 0 entities\n",
      "2024-10-12 00:50:55,501 - DEBUG - Fetching /entity/Execution_Assets:=deriva-ml:Execution_Assets\n",
      "2024-10-12 00:50:56,355 - DEBUG - https://dev.eye-ai.org:443 \"GET /ermrest/catalog/395/entity/Execution_Assets:=deriva-ml:Execution_Assets HTTP/11\" 200 3\n",
      "2024-10-12 00:50:56,358 - DEBUG - Fetched 0 entities\n",
      "2024-10-12 00:50:56,359 - DEBUG - Fetching /entity/Execution_Asset_Type:=deriva-ml:Execution_Asset_Type\n",
      "2024-10-12 00:50:57,275 - DEBUG - https://dev.eye-ai.org:443 \"GET /ermrest/catalog/395/entity/Execution_Asset_Type:=deriva-ml:Execution_Asset_Type HTTP/11\" 200 3\n",
      "2024-10-12 00:50:57,278 - DEBUG - Fetched 0 entities\n",
      "2024-10-12 00:50:57,280 - DEBUG - Fetching /entity/Execution_Assets_Execution:=deriva-ml:Execution_Assets_Execution\n",
      "2024-10-12 00:50:58,134 - DEBUG - https://dev.eye-ai.org:443 \"GET /ermrest/catalog/395/entity/Execution_Assets_Execution:=deriva-ml:Execution_Assets_Execution HTTP/11\" 200 3\n",
      "2024-10-12 00:50:58,137 - DEBUG - Fetched 0 entities\n",
      "2024-10-12 00:50:59,119 - DEBUG - https://dev.eye-ai.org:443 \"GET /ermrest/catalog/395/schema HTTP/11\" 304 0\n",
      "2024-10-12 00:50:59,126 - DEBUG - Inserting entities to path: /entity/deriva-ml:Execution_Metadata_Type?defaults=URI,RID,ID,RMB,RCB,RMT,RCT\n",
      "2024-10-12 00:50:59,126 - DEBUG - yielding batch of 2/2 entities (0:2)\n",
      "2024-10-12 00:51:00,248 - DEBUG - https://dev.eye-ai.org:443 \"POST /ermrest/catalog/395/entity/deriva-ml:Execution_Metadata_Type?defaults=URI,RID,ID,RMB,RCB,RMT,RCT HTTP/11\" 200 1199\n",
      "2024-10-12 00:51:00,250 - DEBUG - Inserting entities to path: /entity/demo-schema:Subject?defaults=RID,RMT,RCB,RMB,RCT\n",
      "2024-10-12 00:51:00,251 - DEBUG - yielding batch of 5/5 entities (0:5)\n",
      "2024-10-12 00:51:01,062 - DEBUG - https://dev.eye-ai.org:443 \"POST /ermrest/catalog/395/entity/demo-schema:Subject?defaults=RID,RMT,RCB,RMB,RCT HTTP/11\" 200 2420\n",
      "2024-10-12 00:51:01,068 - DEBUG - Fetched 5 entities\n",
      "2024-10-12 00:51:01,070 - DEBUG - Computing [md5] hashes for file [/var/folders/0k/27qzm97x3t7g3j1m6ksf_9f40000gn/T/tmp_0purr6b/test_2ZG.txt]\n",
      "2024-10-12 00:51:01,074 - DEBUG - Starting new HTTPS connection (1): dev.eye-ai.org:443\n",
      "2024-10-12 00:51:03,316 - DEBUG - https://dev.eye-ai.org:443 \"HEAD /hatrac/image_assets42cff342beb6a22cb2c22fc244a4697d.test_2ZG.txt HTTP/11\" 404 0\n",
      "2024-10-12 00:51:04,243 - DEBUG - https://dev.eye-ai.org:443 \"PUT /hatrac/image_assets42cff342beb6a22cb2c22fc244a4697d.test_2ZG.txt?parents=true HTTP/11\" 201 99\n",
      "2024-10-12 00:51:05,058 - DEBUG - https://dev.eye-ai.org:443 \"GET /ermrest/catalog/395/schema HTTP/11\" 304 0\n",
      "2024-10-12 00:51:05,068 - DEBUG - Inserting entities to path: /entity/demo-schema:Image?defaults=RID,RMT,RCB,RMB,RCT\n",
      "2024-10-12 00:51:05,069 - DEBUG - yielding batch of 1/1 entities (0:1)\n",
      "2024-10-12 00:51:05,981 - DEBUG - https://dev.eye-ai.org:443 \"POST /ermrest/catalog/395/entity/demo-schema:Image?defaults=RID,RMT,RCB,RMB,RCT HTTP/11\" 200 711\n",
      "2024-10-12 00:51:05,986 - DEBUG - Computing [md5] hashes for file [/var/folders/0k/27qzm97x3t7g3j1m6ksf_9f40000gn/T/tmp_0purr6b/test_2ZJ.txt]\n",
      "2024-10-12 00:51:05,989 - DEBUG - Starting new HTTPS connection (1): dev.eye-ai.org:443\n",
      "2024-10-12 00:51:07,736 - DEBUG - https://dev.eye-ai.org:443 \"HEAD /hatrac/image_assetsb4de505289c27016d3ae583ffa00618b.test_2ZJ.txt HTTP/11\" 404 0\n",
      "2024-10-12 00:51:08,643 - DEBUG - https://dev.eye-ai.org:443 \"PUT /hatrac/image_assetsb4de505289c27016d3ae583ffa00618b.test_2ZJ.txt?parents=true HTTP/11\" 201 99\n",
      "2024-10-12 00:51:09,686 - DEBUG - https://dev.eye-ai.org:443 \"GET /ermrest/catalog/395/schema HTTP/11\" 304 0\n",
      "2024-10-12 00:51:09,697 - DEBUG - Inserting entities to path: /entity/demo-schema:Image?defaults=RID,RMT,RCB,RMB,RCT\n",
      "2024-10-12 00:51:09,698 - DEBUG - yielding batch of 1/1 entities (0:1)\n",
      "2024-10-12 00:51:10,747 - DEBUG - https://dev.eye-ai.org:443 \"POST /ermrest/catalog/395/entity/demo-schema:Image?defaults=RID,RMT,RCB,RMB,RCT HTTP/11\" 200 711\n",
      "2024-10-12 00:51:10,749 - DEBUG - Computing [md5] hashes for file [/var/folders/0k/27qzm97x3t7g3j1m6ksf_9f40000gn/T/tmp_0purr6b/test_2ZM.txt]\n",
      "2024-10-12 00:51:10,751 - DEBUG - Starting new HTTPS connection (1): dev.eye-ai.org:443\n",
      "2024-10-12 00:51:12,531 - DEBUG - https://dev.eye-ai.org:443 \"HEAD /hatrac/image_assets78342883a3a2dcaffb3f17507740806f.test_2ZM.txt HTTP/11\" 404 0\n",
      "2024-10-12 00:51:13,452 - DEBUG - https://dev.eye-ai.org:443 \"PUT /hatrac/image_assets78342883a3a2dcaffb3f17507740806f.test_2ZM.txt?parents=true HTTP/11\" 201 99\n",
      "2024-10-12 00:51:14,272 - DEBUG - https://dev.eye-ai.org:443 \"GET /ermrest/catalog/395/schema HTTP/11\" 304 0\n",
      "2024-10-12 00:51:14,281 - DEBUG - Inserting entities to path: /entity/demo-schema:Image?defaults=RID,RMT,RCB,RMB,RCT\n",
      "2024-10-12 00:51:14,282 - DEBUG - yielding batch of 1/1 entities (0:1)\n",
      "2024-10-12 00:51:15,295 - DEBUG - https://dev.eye-ai.org:443 \"POST /ermrest/catalog/395/entity/demo-schema:Image?defaults=RID,RMT,RCB,RMB,RCT HTTP/11\" 200 711\n",
      "2024-10-12 00:51:15,297 - DEBUG - Computing [md5] hashes for file [/var/folders/0k/27qzm97x3t7g3j1m6ksf_9f40000gn/T/tmp_0purr6b/test_2ZP.txt]\n",
      "2024-10-12 00:51:15,300 - DEBUG - Starting new HTTPS connection (1): dev.eye-ai.org:443\n",
      "2024-10-12 00:51:17,282 - DEBUG - https://dev.eye-ai.org:443 \"HEAD /hatrac/image_assets87d0f3d1db71cde3dc74bbd40edeacf8.test_2ZP.txt HTTP/11\" 404 0\n",
      "2024-10-12 00:51:18,264 - DEBUG - https://dev.eye-ai.org:443 \"PUT /hatrac/image_assets87d0f3d1db71cde3dc74bbd40edeacf8.test_2ZP.txt?parents=true HTTP/11\" 201 99\n",
      "2024-10-12 00:51:19,085 - DEBUG - https://dev.eye-ai.org:443 \"GET /ermrest/catalog/395/schema HTTP/11\" 304 0\n",
      "2024-10-12 00:51:19,096 - DEBUG - Inserting entities to path: /entity/demo-schema:Image?defaults=RID,RMT,RCB,RMB,RCT\n",
      "2024-10-12 00:51:19,097 - DEBUG - yielding batch of 1/1 entities (0:1)\n",
      "2024-10-12 00:51:20,312 - DEBUG - https://dev.eye-ai.org:443 \"POST /ermrest/catalog/395/entity/demo-schema:Image?defaults=RID,RMT,RCB,RMB,RCT HTTP/11\" 200 707\n",
      "2024-10-12 00:51:20,315 - DEBUG - Computing [md5] hashes for file [/var/folders/0k/27qzm97x3t7g3j1m6ksf_9f40000gn/T/tmp_0purr6b/test_2ZR.txt]\n",
      "2024-10-12 00:51:20,318 - DEBUG - Starting new HTTPS connection (1): dev.eye-ai.org:443\n",
      "2024-10-12 00:51:22,587 - DEBUG - https://dev.eye-ai.org:443 \"HEAD /hatrac/image_assetsd1bd25005154d1a267b19fc762eb591e.test_2ZR.txt HTTP/11\" 404 0\n",
      "2024-10-12 00:51:23,528 - DEBUG - https://dev.eye-ai.org:443 \"PUT /hatrac/image_assetsd1bd25005154d1a267b19fc762eb591e.test_2ZR.txt?parents=true HTTP/11\" 201 99\n",
      "2024-10-12 00:51:24,405 - DEBUG - https://dev.eye-ai.org:443 \"GET /ermrest/catalog/395/schema HTTP/11\" 304 0\n",
      "2024-10-12 00:51:24,413 - DEBUG - Inserting entities to path: /entity/demo-schema:Image?defaults=RID,RMT,RCB,RMB,RCT\n",
      "2024-10-12 00:51:24,414 - DEBUG - yielding batch of 1/1 entities (0:1)\n",
      "2024-10-12 00:51:25,334 - DEBUG - https://dev.eye-ai.org:443 \"POST /ermrest/catalog/395/entity/demo-schema:Image?defaults=RID,RMT,RCB,RMB,RCT HTTP/11\" 200 711\n",
      "2024-10-12 00:51:25,337 - DEBUG - Resetting dropped connection: dev.eye-ai.org\n",
      "2024-10-12 00:51:27,308 - DEBUG - https://dev.eye-ai.org:443 \"GET /ermrest/catalog/395/schema HTTP/11\" 200 94701\n",
      "2024-10-12 00:51:28,391 - DEBUG - https://dev.eye-ai.org:443 \"PUT /ermrest/catalog/395/schema/deriva-ml/table/Dataset HTTP/11\" 200 6788\n",
      "2024-10-12 00:51:28,399 - DEBUG - on lookup, default setting: GLOBUS_SDK_ENVIRONMENT=production\n",
      "2024-10-12 00:51:28,400 - INFO - Creating client of type <class 'globus_sdk.services.auth.client.native_client.NativeAppAuthClient'> for service \"auth\"\n",
      "2024-10-12 00:51:28,400 - DEBUG - Service URL Lookup for \"auth\" under env \"production\"\n",
      "2024-10-12 00:51:28,401 - DEBUG - Service URL Lookup Result: \"auth\" is at \"https://auth.globus.org/\"\n",
      "2024-10-12 00:51:28,401 - DEBUG - on lookup, default setting: GLOBUS_SDK_VERIFY_SSL=True\n",
      "2024-10-12 00:51:28,402 - DEBUG - on lookup, default setting: GLOBUS_SDK_HTTP_TIMEOUT=60.0\n",
      "2024-10-12 00:51:28,402 - DEBUG - initialized transport of type <class 'globus_sdk.transport.requests.RequestsTransport'>\n",
      "2024-10-12 00:51:28,403 - INFO - Finished initializing AuthLoginClient. client_id='8ef15ba9-2b4a-469c-a163-7fd910c9d111', type(authorizer)=<class 'globus_sdk.authorizers.base.NullAuthorizer'>\n",
      "2024-10-12 00:51:28,403 - DEBUG - Using code handlers (<fair_research_login.local_server.LocalServerCodeHandler object at 0x112d01130>, <fair_research_login.code_handler.InputCodeHandler object at 0x112d02210>)\n",
      "2024-10-12 00:51:28,404 - DEBUG - Token storage set to <deriva.core.utils.globus_auth_utils.DerivaJSONTokenStorage object at 0x16a74f3b0>\n",
      "2024-10-12 00:51:28,404 - DEBUG - Automatically open browser: True\n",
      "2024-10-12 00:51:28,409 - DEBUG - Starting new HTTPS connection (1): dev.eye-ai.org:443\n",
      "2024-10-12 00:51:36,082 - DEBUG - https://dev.eye-ai.org:443 \"GET /ermrest/catalog/395/schema HTTP/11\" 200 98303\n"
     ]
    }
   ],
   "execution_count": 18
  },
  {
   "cell_type": "code",
   "id": "40a0fa35-f921-456c-8699-22414efa4e6a",
   "metadata": {
    "ExecuteTime": {
     "end_time": "2024-10-12T05:51:49.656911Z",
     "start_time": "2024-10-12T05:51:49.635660Z"
    }
   },
   "source": [
    "ml_instance.chaise_url(\"Subject\")"
   ],
   "outputs": [
    {
     "data": {
      "text/plain": [
       "'https://dev.eye-ai.org/chaise/recordset/#395/demo-schema:Subject'"
      ]
     },
     "execution_count": 19,
     "metadata": {},
     "output_type": "execute_result"
    }
   ],
   "execution_count": 19
  },
  {
   "cell_type": "code",
   "id": "9b151033-6eb5-4fbb-a8dd-8d9b2154299a",
   "metadata": {
    "ExecuteTime": {
     "end_time": "2024-10-12T05:51:50.527753Z",
     "start_time": "2024-10-12T05:51:50.505335Z"
    }
   },
   "source": [
    "[t.name for t in ml_instance.find_features('Image')]"
   ],
   "outputs": [
    {
     "data": {
      "text/plain": [
       "[]"
      ]
     },
     "execution_count": 20,
     "metadata": {},
     "output_type": "execute_result"
    }
   ],
   "execution_count": 20
  },
  {
   "cell_type": "markdown",
   "id": "353d51c9-b8a6-4b75-a0da-ffa2db134169",
   "metadata": {},
   "source": [
    "A feature is a set of values that are attached to a table in the DerivaML catalog. Instances of features are distingushed from one another by the ID of the execution that produced the feature value. The execution could be the result of a program, or it could be a manual process by which a person defines a set of values\n",
    "\n",
    "To create a new feature, we need to know the name of the feature, the table to which it is attached, and the set of values that make up the feature.  The values could be terms from a controlled vocabulary, a set of one or more file based assets, or other values, such as integers, or strings. However, use of strings outside of controlled vocabularies is discouraged."
   ]
  },
  {
   "cell_type": "code",
   "id": "1d726b44-c60f-435a-9966-cfe3fc3da2e9",
   "metadata": {
    "ExecuteTime": {
     "end_time": "2024-10-12T05:52:12.576578Z",
     "start_time": "2024-10-12T05:51:54.865077Z"
    }
   },
   "source": [
    "# Prerequests for our feature, which will include a CV term and asset.\n",
    "\n",
    "# Create a vocabulary and add a term to it to use in our features.\n",
    "ml_instance.create_vocabulary(\"FeatureValue\", \"A vocab\")\n",
    "ml_instance.add_term(\"FeatureValue\", \"V1\", description=\"A Feature Vale\")\n",
    "\n",
    "feature_asset = ml_instance.create_asset(\"TestAsset\", comment=\"A asset\")\n",
    "\n",
    "# Now lets create and upload a simple asset.\n",
    "with tempfile.TemporaryDirectory() as tmpdirname:\n",
    "    assetdir = ml_instance.working_dir / \"TestAsset\"\n",
    "    assetdir.mkdir(parents=True, exist_ok=True)\n",
    "    with builtins.open(assetdir / \"test.txt\", \"w\") as fp:\n",
    "        fp.write(\"Hi there\")\n",
    "    ml_instance.upload_assets(assetdir)"
   ],
   "outputs": [
    {
     "name": "stderr",
     "output_type": "stream",
     "text": [
      "2024-10-12 00:51:54,889 - DEBUG - Resetting dropped connection: dev.eye-ai.org\n",
      "2024-10-12 00:51:58,913 - DEBUG - https://dev.eye-ai.org:443 \"POST /ermrest/catalog/395/schema/demo-schema/table HTTP/11\" 201 4778\n",
      "2024-10-12 00:52:00,149 - DEBUG - https://dev.eye-ai.org:443 \"GET /ermrest/catalog/395/schema HTTP/11\" 200 103207\n",
      "2024-10-12 00:52:00,474 - DEBUG - Inserting entities to path: /entity/demo-schema:FeatureValue?defaults=URI,RID,ID,RMB,RCB,RMT,RCT\n",
      "2024-10-12 00:52:00,475 - DEBUG - yielding batch of 1/1 entities (0:1)\n",
      "2024-10-12 00:52:01,475 - DEBUG - https://dev.eye-ai.org:443 \"POST /ermrest/catalog/395/entity/demo-schema:FeatureValue?defaults=URI,RID,ID,RMB,RCB,RMT,RCT HTTP/11\" 200 560\n",
      "2024-10-12 00:52:01,489 - DEBUG - Fetched 1 entities\n",
      "2024-10-12 00:52:02,463 - DEBUG - https://dev.eye-ai.org:443 \"POST /ermrest/catalog/395/schema/demo-schema/table HTTP/11\" 201 4467\n",
      "2024-10-12 00:52:03,425 - DEBUG - https://dev.eye-ai.org:443 \"GET /ermrest/catalog/395/schema HTTP/11\" 200 107797\n",
      "2024-10-12 00:52:04,467 - DEBUG - https://dev.eye-ai.org:443 \"PUT /ermrest/catalog/395/annotation HTTP/11\" 204 0\n",
      "2024-10-12 00:52:04,481 - INFO - Initializing uploader: GenericUploader v1.7.4 [Python 3.12.3, macOS-15.0.1-x86_64-i386-64bit]\n",
      "2024-10-12 00:52:04,483 - DEBUG - on lookup, default setting: GLOBUS_SDK_ENVIRONMENT=production\n",
      "2024-10-12 00:52:04,483 - INFO - Creating client of type <class 'globus_sdk.services.auth.client.native_client.NativeAppAuthClient'> for service \"auth\"\n",
      "2024-10-12 00:52:04,483 - DEBUG - Service URL Lookup for \"auth\" under env \"production\"\n",
      "2024-10-12 00:52:04,484 - DEBUG - Service URL Lookup Result: \"auth\" is at \"https://auth.globus.org/\"\n",
      "2024-10-12 00:52:04,484 - DEBUG - on lookup, default setting: GLOBUS_SDK_VERIFY_SSL=True\n",
      "2024-10-12 00:52:04,485 - DEBUG - on lookup, default setting: GLOBUS_SDK_HTTP_TIMEOUT=60.0\n",
      "2024-10-12 00:52:04,485 - DEBUG - initialized transport of type <class 'globus_sdk.transport.requests.RequestsTransport'>\n",
      "2024-10-12 00:52:04,485 - INFO - Finished initializing AuthLoginClient. client_id='8ef15ba9-2b4a-469c-a163-7fd910c9d111', type(authorizer)=<class 'globus_sdk.authorizers.base.NullAuthorizer'>\n",
      "2024-10-12 00:52:04,486 - DEBUG - Using code handlers (<fair_research_login.local_server.LocalServerCodeHandler object at 0x112d01130>, <fair_research_login.code_handler.InputCodeHandler object at 0x112d02210>)\n",
      "2024-10-12 00:52:04,486 - DEBUG - Token storage set to <deriva.core.utils.globus_auth_utils.DerivaJSONTokenStorage object at 0x16a914980>\n",
      "2024-10-12 00:52:04,486 - DEBUG - Automatically open browser: True\n",
      "2024-10-12 00:52:04,491 - DEBUG - Starting new HTTPS connection (1): dev.eye-ai.org:443\n",
      "2024-10-12 00:52:06,292 - DEBUG - https://dev.eye-ai.org:443 \"GET /authn/session HTTP/11\" 200 8422\n",
      "2024-10-12 00:52:06,300 - INFO - Checking for updated configuration...\n",
      "2024-10-12 00:52:07,480 - DEBUG - https://dev.eye-ai.org:443 \"GET /ermrest/catalog/395/schema HTTP/11\" 200 108339\n",
      "2024-10-12 00:52:07,779 - DEBUG - Computing [md5] hashes for file [/Users/carl/.deriva/upload/dev.eye-ai.org/config.json]\n",
      "2024-10-12 00:52:07,781 - DEBUG - Computing [md5] hashes for file [/var/folders/0k/27qzm97x3t7g3j1m6ksf_9f40000gn/T/deriva_upload_u6_9bay3/config.json]\n",
      "2024-10-12 00:52:07,782 - INFO - Updated configuration found.\n",
      "2024-10-12 00:52:07,785 - INFO - Scanning files in directory [/var/folders/0k/27qzm97x3t7g3j1m6ksf_9f40000gn/T/tmp87riu4ln/DemoML_working/TestAsset]...\n",
      "2024-10-12 00:52:07,785 - DEBUG - The file_pattern \"(?i)^.*/Execution_Assets/(?P<execution_asset_type>[A-Za-z0-9_]*)/(?P<file_name>[A-Za-z0-9_-]*)[.](?P<file_ext>[a-z0-9]*)$\" failed to match the input path [/var/folders/0k/27qzm97x3t7g3j1m6ksf_9f40000gn/T/tmp87riu4ln/DemoML_working/TestAsset/test.txt]\n",
      "2024-10-12 00:52:07,786 - DEBUG - The file_pattern \"(?i)^.*/Execution_Metadata/(?P<execution_metadata_type>[A-Za-z0-9_]*)-(?P<filename>[A-Za-z0-9_]*)[.](?P<file_ext>[a-z0-9]*)$\" failed to match the input path [/var/folders/0k/27qzm97x3t7g3j1m6ksf_9f40000gn/T/tmp87riu4ln/DemoML_working/TestAsset/test.txt]\n",
      "2024-10-12 00:52:07,786 - INFO - Including file: [/var/folders/0k/27qzm97x3t7g3j1m6ksf_9f40000gn/T/tmp87riu4ln/DemoML_working/TestAsset/test.txt].\n",
      "2024-10-12 00:52:07,786 - INFO - Processing: [/var/folders/0k/27qzm97x3t7g3j1m6ksf_9f40000gn/T/tmp87riu4ln/DemoML_working/TestAsset/test.txt]\n",
      "2024-10-12 00:52:07,787 - INFO - Computed metadata for: [/var/folders/0k/27qzm97x3t7g3j1m6ksf_9f40000gn/T/tmp87riu4ln/DemoML_working/TestAsset/test.txt].\n",
      "2024-10-12 00:52:07,787 - DEBUG - Current metadata: {'filename': 'test', 'file_ext': 'txt', 'target_table': 'demo-schema:TestAsset', 'file_name': 'test.txt', 'file_size': 8, 'base_path': '/var/folders/0k/27qzm97x3t7g3j1m6ksf_9f40000gn/T/tmp87riu4ln/DemoML_working/TestAsset', 'base_name': 'test.', '_upload_year_': 2024, '_upload_month_': 10, '_upload_day_': 12, '_upload_time_': 1728712327.787038, '_identity_id': 'https://auth.globus.org/aef862ea-d274-11e5-bb09-7bf5b06f98da', '_identity_display_name': 'carlkesselman@globusid.org', '_identity_full_name': 'Carl Kesselman', '_identity_email': 'carl@isi.edu', 'filename_urlencoded': 'test', 'file_ext_urlencoded': 'txt', 'target_table_urlencoded': 'demo-schema%3ATestAsset', 'file_name_urlencoded': 'test.txt', 'file_size_urlencoded': '8', 'base_path_urlencoded': '%2Fvar%2Ffolders%2F0k%2F27qzm97x3t7g3j1m6ksf_9f40000gn%2FT%2Ftmp87riu4ln%2FDemoML_working%2FTestAsset', 'base_name_urlencoded': 'test.', '_upload_year__urlencoded': '2024', '_upload_month__urlencoded': '10', '_upload_day__urlencoded': '12', '_upload_time__urlencoded': '1728712327.787038', '_identity_id_urlencoded': 'https%3A%2F%2Fauth.globus.org%2Faef862ea-d274-11e5-bb09-7bf5b06f98da', '_identity_display_name_urlencoded': 'carlkesselman%40globusid.org', '_identity_full_name_urlencoded': 'Carl%20Kesselman', '_identity_email_urlencoded': 'carl%40isi.edu'}\n",
      "2024-10-12 00:52:07,788 - INFO - Computing checksums for file: [/var/folders/0k/27qzm97x3t7g3j1m6ksf_9f40000gn/T/tmp87riu4ln/DemoML_working/TestAsset/test.txt]. Please wait...\n",
      "2024-10-12 00:52:07,788 - DEBUG - Computing [sha256,md5] hashes for file [/var/folders/0k/27qzm97x3t7g3j1m6ksf_9f40000gn/T/tmp87riu4ln/DemoML_working/TestAsset/test.txt]\n",
      "2024-10-12 00:52:07,789 - DEBUG - Updated metadata: {'filename': 'test', 'file_ext': 'txt', 'target_table': 'demo-schema:TestAsset', 'file_name': 'test.txt', 'file_size': 8, 'base_path': '/var/folders/0k/27qzm97x3t7g3j1m6ksf_9f40000gn/T/tmp87riu4ln/DemoML_working/TestAsset', 'base_name': 'test.', '_upload_year_': 2024, '_upload_month_': 10, '_upload_day_': 12, '_upload_time_': 1728712327.787038, '_identity_id': 'https://auth.globus.org/aef862ea-d274-11e5-bb09-7bf5b06f98da', '_identity_display_name': 'carlkesselman@globusid.org', '_identity_full_name': 'Carl Kesselman', '_identity_email': 'carl@isi.edu', 'filename_urlencoded': 'test', 'file_ext_urlencoded': 'txt', 'target_table_urlencoded': 'demo-schema%3ATestAsset', 'file_name_urlencoded': 'test.txt', 'file_size_urlencoded': '8', 'base_path_urlencoded': '%2Fvar%2Ffolders%2F0k%2F27qzm97x3t7g3j1m6ksf_9f40000gn%2FT%2Ftmp87riu4ln%2FDemoML_working%2FTestAsset', 'base_name_urlencoded': 'test.', '_upload_year__urlencoded': '2024', '_upload_month__urlencoded': '10', '_upload_day__urlencoded': '12', '_upload_time__urlencoded': '1728712327.787038', '_identity_id_urlencoded': 'https%3A%2F%2Fauth.globus.org%2Faef862ea-d274-11e5-bb09-7bf5b06f98da', '_identity_display_name_urlencoded': 'carlkesselman%40globusid.org', '_identity_full_name_urlencoded': 'Carl%20Kesselman', '_identity_email_urlencoded': 'carl%40isi.edu', 'sha256': '8328c36d18b7834a38118f6ec924ae143c10263f2519c723ccb36ca14e7461fb', 'sha256_base64': 'gyjDbRi3g0o4EY9uySSuFDwQJj8lGccjzLNsoU50Yfs=', 'md5': 'd9385462d3deff78c352ebb3f941ce12', 'md5_base64': '2ThUYtPe/3jDUuuz+UHOEg==', 'sha256_urlencoded': '8328c36d18b7834a38118f6ec924ae143c10263f2519c723ccb36ca14e7461fb', 'sha256_base64_urlencoded': 'gyjDbRi3g0o4EY9uySSuFDwQJj8lGccjzLNsoU50Yfs%3D', 'md5_urlencoded': 'd9385462d3deff78c352ebb3f941ce12', 'md5_base64_urlencoded': '2ThUYtPe%2F3jDUuuz%2BUHOEg%3D%3D'}\n",
      "2024-10-12 00:52:07,790 - INFO - Uploading file: [/var/folders/0k/27qzm97x3t7g3j1m6ksf_9f40000gn/T/tmp87riu4ln/DemoML_working/TestAsset/test.txt] to host https://dev.eye-ai.org. Please wait...\n",
      "2024-10-12 00:52:07,793 - DEBUG - Starting new HTTPS connection (1): dev.eye-ai.org:443\n",
      "2024-10-12 00:52:09,868 - DEBUG - https://dev.eye-ai.org:443 \"HEAD /hatrac/TestAsset/d9385462d3deff78c352ebb3f941ce12.test.txt HTTP/11\" 200 0\n",
      "2024-10-12 00:52:09,871 - DEBUG - Hatrac upload successful. Result object URI: /hatrac/TestAsset/d9385462d3deff78c352ebb3f941ce12.test.txt:3krtw0Kinf0rMEcEoyQOQDtAQW9i_jMG\n",
      "2024-10-12 00:52:10,799 - DEBUG - https://dev.eye-ai.org:443 \"GET /ermrest/catalog/395/entity/demo-schema:TestAsset/MD5=d9385462d3deff78c352ebb3f941ce12&Filename=test.txt HTTP/11\" 200 3\n",
      "2024-10-12 00:52:11,755 - DEBUG - https://dev.eye-ai.org:443 \"GET /ermrest/catalog/395/schema HTTP/11\" 304 0\n",
      "2024-10-12 00:52:11,760 - DEBUG - Attempting catalog record create [/entity/demo-schema:TestAsset?defaults=RCB,RMB,RMT,RCT,RID,Description] with data: {\"Filename\": \"test.txt\", \"Length\": \"8\", \"MD5\": \"d9385462d3deff78c352ebb3f941ce12\", \"URL\": \"/hatrac/TestAsset/d9385462d3deff78c352ebb3f941ce12.test.txt:3krtw0Kinf0rMEcEoyQOQDtAQW9i_jMG\"}\n",
      "2024-10-12 00:52:12,567 - DEBUG - https://dev.eye-ai.org:443 \"POST /ermrest/catalog/395/entity/demo-schema:TestAsset?defaults=RCB,RMB,RMT,RCT,RID,Description HTTP/11\" 200 662\n",
      "2024-10-12 00:52:12,573 - INFO - File upload processing completed: 1 files were uploaded successfully, 0 files failed to upload due to errors, 0 files were skipped because they did not satisfy the matching criteria of the configuration.\n"
     ]
    }
   ],
   "execution_count": 21
  },
  {
   "metadata": {},
   "cell_type": "markdown",
   "source": "Now create a dataset with our new assets.",
   "id": "cfce553e81530e79"
  },
  {
   "metadata": {},
   "cell_type": "code",
   "outputs": [],
   "execution_count": null,
   "source": [
    "add_dataset_element_type()\n",
    "create_dataset"
   ],
   "id": "d6c5558fc70933b7"
  },
  {
   "cell_type": "code",
   "id": "50fc85db-8173-463d-830e-7dfd7eba08f7",
   "metadata": {
    "ExecuteTime": {
     "end_time": "2024-10-12T05:52:17.975138Z",
     "start_time": "2024-10-12T05:52:12.578672Z"
    }
   },
   "source": [
    "# We are going to have three values in our feature, a controlled vocabulary term from the vocabulary FeatureValue, a file asset and\n",
    "# an integer value which we will call \"TestCol\"\n",
    "ml_instance.create_feature(\"Feature1\", \"Image\",\n",
    "                                        terms=[\"FeatureValue\"],\n",
    "                                        assets=[feature_asset],\n",
    "                                        metadata=[ColumnDefinition(name='TestCol', type=BuiltinTypes.int2)])\n",
    "\n",
    "[f.name for f in ml_instance.find_features(\"Image\")]"
   ],
   "outputs": [
    {
     "name": "stderr",
     "output_type": "stream",
     "text": [
      "2024-10-12 00:52:12,603 - DEBUG - Resetting dropped connection: dev.eye-ai.org\n",
      "2024-10-12 00:52:14,752 - DEBUG - https://dev.eye-ai.org:443 \"GET /ermrest/catalog/395/schema HTTP/11\" 200 108339\n",
      "2024-10-12 00:52:15,125 - DEBUG - Inserting entities to path: /entity/deriva-ml:Feature_Name?defaults=URI,RID,ID,RMB,RCB,RMT,RCT\n",
      "2024-10-12 00:52:15,126 - DEBUG - yielding batch of 1/1 entities (0:1)\n",
      "2024-10-12 00:52:16,017 - DEBUG - https://dev.eye-ai.org:443 \"POST /ermrest/catalog/395/entity/deriva-ml:Feature_Name?defaults=URI,RID,ID,RMB,RCB,RMT,RCT HTTP/11\" 200 552\n",
      "2024-10-12 00:52:16,018 - DEBUG - Fetched 1 entities\n",
      "2024-10-12 00:52:17,049 - DEBUG - https://dev.eye-ai.org:443 \"POST /ermrest/catalog/395/schema/demo-schema/table HTTP/11\" 201 6797\n",
      "2024-10-12 00:52:17,966 - DEBUG - https://dev.eye-ai.org:443 \"PUT /ermrest/catalog/395/schema/demo-schema/table/Execution_Image_Feature1/column/Feature_Name HTTP/11\" 200 226\n"
     ]
    },
    {
     "data": {
      "text/plain": [
       "['Execution_Image_Feature1']"
      ]
     },
     "execution_count": 22,
     "metadata": {},
     "output_type": "execute_result"
    }
   ],
   "execution_count": 22
  },
  {
   "cell_type": "markdown",
   "id": "83d2bd27-da2d-4918-9c8a-378c95addfcc",
   "metadata": {},
   "source": [
    "Now we can add some features to our images.  To streamline the creation of new feature, we create a class that is specific to the arguments required to create it."
   ]
  },
  {
   "cell_type": "code",
   "id": "7f6b68c6-4bc0-4837-a2b6-729d116a8702",
   "metadata": {
    "ExecuteTime": {
     "end_time": "2024-10-12T05:52:44.078771Z",
     "start_time": "2024-10-12T05:52:44.054611Z"
    }
   },
   "source": [
    "TestFeatureClass = ml_instance.feature_record_class(\"Image\", \"Feature1\")\n",
    "TestFeatureClass.model_fields"
   ],
   "outputs": [
    {
     "data": {
      "text/plain": [
       "{'Execution': FieldInfo(annotation=str, required=True),\n",
       " 'Image': FieldInfo(annotation=str, required=True),\n",
       " 'Feature_Name': FieldInfo(annotation=str, required=False, default='Feature1'),\n",
       " 'TestAsset': FieldInfo(annotation=str, required=True),\n",
       " 'FeatureValue': FieldInfo(annotation=str, required=True),\n",
       " 'TestCol': FieldInfo(annotation=int, required=True)}"
      ]
     },
     "execution_count": 23,
     "metadata": {},
     "output_type": "execute_result"
    }
   ],
   "execution_count": 23
  },
  {
   "cell_type": "markdown",
   "id": "92416df1-e3f9-4097-bc19-b24712dc7242",
   "metadata": {},
   "source": [
    "Now using TestFeatureClass, we can create some instances of the feature and add it.  We must have a exeuction_rid in order to define the feature."
   ]
  },
  {
   "cell_type": "code",
   "id": "cdcc8f5c-874b-4bf9-89ef-e1ea90b9f91f",
   "metadata": {},
   "source": [
    "config = ExecutionConfiguration(\n",
    "    execution=Execution(description=\"Sample Execution\"), \n",
    "    workflow=Workflow(\n",
    "        name=\"Sample Workflow\", \n",
    "        url=\"https://github.com/informatics-isi-edu/deriva-ml/blob/main/pyproject.toml\", \n",
    "        workflow_type=\"Sample Workflow\"), \n",
    "    workflow_terms=[WorkflowTerm(term=Term.workflow, name=\"Sample Workflow\", description=\"Sample Workflow Example\")],\n",
    "    description=\"Our Sample Workflow instance\")\n",
    "configuration_record = ml_instance.initialize_execution(config)\n",
    "execution_rid = configuration_record.execution_rid\n",
    "\n",
    "with ml_instance.execution(configuration=configuration_record) as exec:\n",
    "    output_dir = ml_instance.execution_assets_path / \"Feature1\"\n",
    "    output_dir.mkdir(parents=True, exist_ok=True)\n",
    "    with open(output_dir / \"test.txt\", \"w+\") as f:\n",
    "        f.write(\"Hello there\\n\")    \n",
    "        \n",
    "e = (list(ml_instance.pathBuilder.deriva_ml.Execution.entities().fetch()))[0]"
   ],
   "outputs": [],
   "execution_count": null
  },
  {
   "metadata": {},
   "cell_type": "code",
   "source": [
    "upload_status = ml_instance.upload_execution(configuration=configuration_record)\n",
    "e = (list(ml_instance.pathBuilder.deriva_ml.Execution.entities().fetch()))[0]"
   ],
   "id": "bca63c2d15cce655",
   "outputs": [],
   "execution_count": null
  },
  {
   "metadata": {},
   "cell_type": "code",
   "source": [
    "def strip_system(d):\n",
    "    return {k:v for k,v in d.items() if k not in ['RCT', 'RMT', 'RCB', 'RMB']}\n",
    "    \n",
    "pd.DataFrame([strip_system(i) for i in ml_instance.list_feature(\"Image\", \"Feature1\")])"
   ],
   "id": "240cb784-0ffc-4fc5-aa8d-fb2ee9267355",
   "outputs": [],
   "execution_count": null
  },
  {
   "cell_type": "code",
   "id": "cd670182dfb20afd",
   "metadata": {},
   "source": [
    "test_catalog.delete_ermrest_catalog(really=True)"
   ],
   "outputs": [],
   "execution_count": null
  },
  {
   "metadata": {},
   "cell_type": "code",
   "source": "",
   "id": "4a7c313481859e78",
   "outputs": [],
   "execution_count": null
  },
  {
   "metadata": {},
   "cell_type": "code",
   "source": "test_catalog.delete_ermrest_catalog(really=True)",
   "id": "79aa46cf32c2db00",
   "outputs": [],
   "execution_count": null
  },
  {
   "metadata": {},
   "cell_type": "code",
   "source": "test_catalog.delete_ermrest_catalog(really=True)",
   "id": "6e76bbdf-2441-4444-be7f-e55399bcc32a",
   "outputs": [],
   "execution_count": null
  }
 ],
 "metadata": {
  "kernelspec": {
   "display_name": "deriva-kernal",
   "language": "python",
   "name": "deriva-kernal"
  },
  "language_info": {
   "codemirror_mode": {
    "name": "ipython",
    "version": 3
   },
   "file_extension": ".py",
   "mimetype": "text/x-python",
   "name": "python",
   "nbconvert_exporter": "python",
   "pygments_lexer": "ipython3",
   "version": "3.12.2"
  }
 },
 "nbformat": 4,
 "nbformat_minor": 5
}
