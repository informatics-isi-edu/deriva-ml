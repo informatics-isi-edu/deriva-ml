{
 "cells": [
  {
   "cell_type": "markdown",
   "id": "94ffee41-4986-4196-b35d-b38b6e10490a",
   "metadata": {},
   "source": [
    "DerivaML is a class library built on the Deriva Scientific Asset management system that is designed to help simplify a number of the basic operations associated with building and testing ML libraries based on common toolkits such as TensorFlow.  This notebook reviews the basic features of the DerivaML library."
   ]
  },
  {
   "cell_type": "code",
   "id": "ff605747-195b-40a1-b915-0e799f8d0748",
   "metadata": {},
   "source": [
    "%load_ext autoreload\n",
    "%autoreload 2"
   ],
   "outputs": [],
   "execution_count": null
  },
  {
   "cell_type": "code",
   "id": "9493a5ef-86b9-490b-a1d5-f461fdcd68ef",
   "metadata": {},
   "source": [
    "import builtins\n",
    "from deriva.core.utils.globus_auth_utils import GlobusNativeLogin\n",
    "from deriva_ml.deriva_ml_base import ColumnDefinition, BuiltinTypes\n",
    "from deriva_ml.schema_setup.test_catalog import create_test_catalog, DemoML\n",
    "from deriva_ml.execution_configuration import ExecutionConfiguration, Workflow, Execution, WorkflowTerm, Term\n",
    "from pathlib import Path\n",
    "import pandas as pd\n",
    "import tempfile"
   ],
   "outputs": [],
   "execution_count": null
  },
  {
   "cell_type": "markdown",
   "id": "ba06990f-6dc5-4805-9e82-0881a524bfef",
   "metadata": {},
   "source": [
    "Set the details for the catalog we want and authenticate to the server if needed."
   ]
  },
  {
   "cell_type": "code",
   "id": "9ee79ab7-a3f7-4c69-9c80-336871c13ec2",
   "metadata": {},
   "source": [
    "hostname = 'dev.eye-ai.org'\n",
    "domain_schema = 'demo-schema'\n",
    "\n",
    "gnl = GlobusNativeLogin(host=hostname)\n",
    "if gnl.is_logged_in([hostname]):\n",
    "    print(\"You are already logged in.\")\n",
    "else:\n",
    "    gnl.login([hostname], no_local_server=True, no_browser=True, refresh_tokens=True, update_bdbag_keychain=True)\n",
    "    print(\"Login Successful\")\n"
   ],
   "outputs": [],
   "execution_count": null
  },
  {
   "cell_type": "markdown",
   "id": "a23e5177-106b-48b6-b5e0-a126d35f4084",
   "metadata": {},
   "source": [
    "Create a test catalog and get an instance of the DerivaML class."
   ]
  },
  {
   "cell_type": "code",
   "id": "e9bddcf0-27ea-40b3-a388-b77635586fad",
   "metadata": {},
   "source": [
    "test_catalog = create_test_catalog(hostname, domain_schema)\n",
    "ml_instance = DemoML(hostname, test_catalog.catalog_id)"
   ],
   "outputs": [],
   "execution_count": null
  },
  {
   "cell_type": "code",
   "id": "40a0fa35-f921-456c-8699-22414efa4e6a",
   "metadata": {},
   "source": [
    "ml_instance.chaise_url(\"Subject\")"
   ],
   "outputs": [],
   "execution_count": null
  },
  {
   "cell_type": "code",
   "id": "9b151033-6eb5-4fbb-a8dd-8d9b2154299a",
   "metadata": {},
   "source": [
    "[t.name for t in ml_instance.find_features('Image')]"
   ],
   "outputs": [],
   "execution_count": null
  },
  {
   "cell_type": "markdown",
   "id": "353d51c9-b8a6-4b75-a0da-ffa2db134169",
   "metadata": {},
   "source": [
    "A feature is a set of values that are attached to a table in the DerivaML catalog. Instances of features are distingushed from one another by the ID of the execution that produced the feature value. The execution could be the result of a program, or it could be a manual process by which a person defines a set of values\n",
    "\n",
    "To create a new feature, we need to know the name of the feature, the table to which it is attached, and the set of values that make up the feature.  The values could be terms from a controlled vocabulary, a set of one or more file based assets, or other values, such as integers, or strings. However, use of strings outside of controlled vocabularies is discouraged."
   ]
  },
  {
   "cell_type": "code",
   "id": "1d726b44-c60f-435a-9966-cfe3fc3da2e9",
   "metadata": {},
   "source": [
    "# Prerequests for our feature, which will include a CV term and asset.\n",
    "\n",
    "# Create a vocabulary and add a term to it to use in our features.\n",
    "ml_instance.create_vocabulary(\"FeatureValue\", \"A vocab\")\n",
    "ml_instance.add_term(\"FeatureValue\", \"V1\", description=\"A Feature Vale\")\n",
    "\n",
    "feature_asset = ml_instance.create_asset(\"TestAsset\", comment=\"A asset\")\n",
    "\n",
    "# Now lets create and upload a simple asset.\n",
    "with tempfile.TemporaryDirectory() as tmpdirname:\n",
    "    assetdir = Path(tmpdirname) / \"TestAsset\"\n",
    "    assetdir.mkdir(parents=True, exist_ok=True)\n",
    "    with builtins.open(assetdir / \"test.txt\", \"w\") as fp:\n",
    "        fp.write(\"Hi there\")\n",
    "    ml_instance.upload_assets(assetdir)"
   ],
   "outputs": [],
   "execution_count": null
  },
  {
   "cell_type": "code",
   "id": "50fc85db-8173-463d-830e-7dfd7eba08f7",
   "metadata": {},
   "source": [
    "# We are going to have three values in our feature, a controlled vocabulary term from the vocabulary FeatureValue, a file asset and\n",
    "# an integer value which we will call \"TestCol\"\n",
    "ml_instance.create_feature(\"Feature1\", \"Image\",\n",
    "                                        terms=[\"FeatureValue\"],\n",
    "                                        assets=[feature_asset],\n",
    "                                        metadata=[ColumnDefinition(name='TestCol', type=BuiltinTypes.int2)])\n",
    "\n",
    "[f.name for f in ml_instance.find_features(\"Image\")]"
   ],
   "outputs": [],
   "execution_count": null
  },
  {
   "cell_type": "markdown",
   "id": "83d2bd27-da2d-4918-9c8a-378c95addfcc",
   "metadata": {},
   "source": [
    "Now we can add some features to our images.  To streamline the creation of new feature, we create a class that is specific to the arguments required to create it."
   ]
  },
  {
   "cell_type": "code",
   "id": "7f6b68c6-4bc0-4837-a2b6-729d116a8702",
   "metadata": {},
   "source": [
    "TestFeatureClass = ml_instance.feature_record_class(\"Image\", \"Feature1\")\n",
    "TestFeatureClass.model_fields"
   ],
   "outputs": [],
   "execution_count": null
  },
  {
   "cell_type": "markdown",
   "id": "92416df1-e3f9-4097-bc19-b24712dc7242",
   "metadata": {},
   "source": [
    "Now using TestFeatureClass, we can create some instances of the feature and add it.  We must have a exeuction_rid in order to define the feature."
   ]
  },
  {
   "cell_type": "code",
   "id": "cdcc8f5c-874b-4bf9-89ef-e1ea90b9f91f",
   "metadata": {},
   "source": [
    "config = ExecutionConfiguration(\n",
    "    execution=Execution(description=\"Sample Execution\"), \n",
    "    workflow=Workflow(\n",
    "        name=\"Sample Workflow\", \n",
    "        url=\"https://github.com/informatics-isi-edu/deriva-ml/blob/main/pyproject.toml\", \n",
    "        workflow_type=\"Sample Workflow\"), \n",
    "    workflow_terms=[WorkflowTerm(term=Term.workflow, name=\"Sample Workflow\", description=\"Sample Workflow Example\")],\n",
    "    description=\"Our Sample Workflow instance\")\n",
    "configuration_record = ml_instance.initialize_execution(config)\n",
    "execution_rid = configuration_record.execution_rid\n",
    "\n",
    "with ml_instance.execution(execution_rid=configuration_record) as exec:\n",
    "    output_dir = ml_instance.execution_assets_path / \"testoutput\"\n",
    "    output_dir.mkdir(parents=True, exist_ok=True)\n",
    "    with open(output_dir / \"test.txt\", \"w+\") as f:\n",
    "        f.write(\"Hello there\\n\")\n",
    "upload_status = ml_instance.upload_execution(coinfiguration=configuration_record)\n",
    "e = (list(ml_instance.getPath.deriva_ml.Execution.entities().fetch()))[0]"
   ],
   "outputs": [],
   "execution_count": null
  },
  {
   "cell_type": "code",
   "id": "240cb784-0ffc-4fc5-aa8d-fb2ee9267355",
   "metadata": {},
   "source": [
    "def strip_system(d):\n",
    "    return {k:v for k,v in d.items() if k not in ['RCT', 'RMT', 'RCB', 'RMB']}\n",
    "    \n",
    "pd.DataFrame([strip_system(i) for i in ml_instance.list_feature(\"Image\", \"Feature1\")])"
   ],
   "outputs": [],
   "execution_count": null
  },
  {
   "cell_type": "code",
   "id": "cd670182dfb20afd",
   "metadata": {},
   "source": [
    "test_catalog.delete_ermrest_catalog(really=True)"
   ],
   "outputs": [],
   "execution_count": null
  },
  {
   "metadata": {},
   "cell_type": "code",
   "source": "",
   "id": "4a7c313481859e78",
   "outputs": [],
   "execution_count": null
  },
  {
   "metadata": {},
   "cell_type": "code",
   "outputs": [],
   "execution_count": null,
   "source": "test_catalog.delete_ermrest_catalog(really=True)",
   "id": "79aa46cf32c2db00"
  },
  {
   "metadata": {},
   "cell_type": "code",
   "outputs": [],
   "execution_count": null,
   "source": "test_catalog.delete_ermrest_catalog(really=True)",
   "id": "6e76bbdf-2441-4444-be7f-e55399bcc32a"
  }
 ],
 "metadata": {
  "kernelspec": {
   "display_name": "deriva-kernal",
   "language": "python",
   "name": "deriva-kernal"
  },
  "language_info": {
   "codemirror_mode": {
    "name": "ipython",
    "version": 3
   },
   "file_extension": ".py",
   "mimetype": "text/x-python",
   "name": "python",
   "nbconvert_exporter": "python",
   "pygments_lexer": "ipython3",
   "version": "3.12.2"
  }
 },
 "nbformat": 4,
 "nbformat_minor": 5
}
