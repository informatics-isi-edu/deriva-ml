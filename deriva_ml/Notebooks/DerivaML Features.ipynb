{
 "cells": [
  {
   "cell_type": "markdown",
   "id": "94ffee41-4986-4196-b35d-b38b6e10490a",
   "metadata": {},
   "source": [
    "DerivaML is a class library built on the Deriva Scientific Asset management system that is designed to help simplify a number of the basic operations associated with building and testing ML libraries based on common toolkits such as TensorFlow.  This notebook reviews the basic features of the DerivaML library."
   ]
  },
  {
   "cell_type": "code",
   "execution_count": null,
   "id": "ff605747-195b-40a1-b915-0e799f8d0748",
   "metadata": {},
   "outputs": [],
   "source": [
    "%load_ext autoreload\n",
    "%autoreload 2"
   ]
  },
  {
   "cell_type": "code",
   "execution_count": null,
   "id": "9493a5ef-86b9-490b-a1d5-f461fdcd68ef",
   "metadata": {},
   "outputs": [],
   "source": [
    "import pandas as pd\n",
    "from deriva.core import DerivaServer, ErmrestCatalog, get_credential\n",
    "from deriva.core.utils.globus_auth_utils import GlobusNativeLogin\n",
    "from deriva_ml.deriva_ml_base import DerivaML, DerivaMLException, ColumnDefinition, BuiltinTypes\n",
    "from deriva_ml.schema_setup.create_schema import create_ml_schema\n",
    "from deriva_ml.schema_setup.test_catalog import create_test_catalog\n",
    "from deriva_ml.execution_configuration import ExecutionConfiguration"
   ]
  },
  {
   "cell_type": "markdown",
   "id": "ba06990f-6dc5-4805-9e82-0881a524bfef",
   "metadata": {},
   "source": [
    "Set the details for the catalog we want and authenticate to the server if needed."
   ]
  },
  {
   "cell_type": "code",
   "execution_count": null,
   "id": "9ee79ab7-a3f7-4c69-9c80-336871c13ec2",
   "metadata": {},
   "outputs": [],
   "source": [
    "hostname = 'dev.eye-ai.org'\n",
    "domain_schema = 'demo-schema'\n",
    "\n",
    "gnl = GlobusNativeLogin(host=hostname)\n",
    "if gnl.is_logged_in([hostname]):\n",
    "    print(\"You are already logged in.\")\n",
    "else:\n",
    "    gnl.login([hostname], no_local_server=True, no_browser=True, refresh_tokens=True, update_bdbag_keychain=True)\n",
    "    print(\"Login Successful\")\n"
   ]
  },
  {
   "cell_type": "markdown",
   "id": "a23e5177-106b-48b6-b5e0-a126d35f4084",
   "metadata": {},
   "source": [
    "Create a test catalog and get an instance of the DerivaML class."
   ]
  },
  {
   "cell_type": "code",
   "execution_count": null,
   "id": "e9bddcf0-27ea-40b3-a388-b77635586fad",
   "metadata": {},
   "outputs": [],
   "source": [
    "test_catalog = create_test_catalog(hostname, domain_schema)\n",
    "ml_instance = DerivaML(hostname, test_catalog.catalog_id, domain_schema, None, None, \"1\")"
   ]
  },
  {
   "cell_type": "code",
   "execution_count": null,
   "id": "40a0fa35-f921-456c-8699-22414efa4e6a",
   "metadata": {},
   "outputs": [],
   "source": [
    "ml_instance.chaise_url(\"Subject\")"
   ]
  },
  {
   "cell_type": "code",
   "execution_count": null,
   "id": "9b151033-6eb5-4fbb-a8dd-8d9b2154299a",
   "metadata": {},
   "outputs": [],
   "source": [
    "[t.name for t in ml_instance.find_features('Image')]"
   ]
  },
  {
   "cell_type": "markdown",
   "id": "353d51c9-b8a6-4b75-a0da-ffa2db134169",
   "metadata": {},
   "source": [
    "A feature is a set of values that are attached to a table in the DerivaML catalog. Instances of features are distingushed from one another by the ID of the execution that produced the feature value. The execution could be the result of a program, or it could be a manual process by which a person defines a set of values\n",
    "\n",
    "To create a new feature, we need to know the name of the feature, the table to which it is attached, and the set of values that make up the feature.  The values could be terms from a controlled vocabulary, a set of one or more file based assets, or other values, such as integers, or strings. However, use of strings outside of controlled vocabularies is discouraged."
   ]
  },
  {
   "cell_type": "code",
   "execution_count": null,
   "id": "50fc85db-8173-463d-830e-7dfd7eba08f7",
   "metadata": {},
   "outputs": [],
   "source": [
    "# Lets create a feature called Feature1.  So we need to define the term for the feature name.\n",
    "ml_instance.add_term(\"Feature_Name\", \"Feature1\", description=\"A Feature Name\")\n",
    "\n",
    "# We are going to have three values in our feature, a controlled vocabluary term from the vocabulary FeatureValue, a file asset and \n",
    "# an integer value which we will call \"TestCol\"\n",
    "ml_instance.create_vocabulary(\"FeatureValue\", \"A vocab\")\n",
    "ml_instance.add_term(\"FeatureValue\", \"V1\", description=\"A Feature Vale\")\n",
    "feature_asset = ml_instance.create_asset(\"TestAsset\", comment=\"A asset\")\n",
    "\n",
    "\n",
    "ml_instance.create_feature(\"Feature1\", \"Image\",\n",
    "                                        terms=[\"FeatureValue\"],\n",
    "                                        assets=[feature_asset],\n",
    "                                        metadata=[ColumnDefinition(name='TestCol', type=BuiltinTypes.int2)])\n",
    "\n",
    "[f.name for f in ml_instance.find_features(\"Image\")]"
   ]
  },
  {
   "cell_type": "markdown",
   "id": "83d2bd27-da2d-4918-9c8a-378c95addfcc",
   "metadata": {},
   "source": [
    "Now we can add some features to our images.  To streamline the creation of new feature, we create a class that is specific to the arguments required to create it."
   ]
  },
  {
   "cell_type": "code",
   "execution_count": null,
   "id": "7f6b68c6-4bc0-4837-a2b6-729d116a8702",
   "metadata": {},
   "outputs": [],
   "source": [
    "TestFeatureClass = ml_instance.feature_record_class(\"Image\", \"Feature1\")\n",
    "TestFeatureClass.model_fields"
   ]
  },
  {
   "cell_type": "markdown",
   "id": "92416df1-e3f9-4097-bc19-b24712dc7242",
   "metadata": {},
   "source": [
    "Now using TestFeatureClass, we can create some instances of the feature and add it.  We must have a exeuction_rid in order to define the feature."
   ]
  },
  {
   "cell_type": "code",
   "execution_count": null,
   "id": "4d8204f2-1411-45ed-b093-1d50751862ba",
   "metadata": {},
   "outputs": [],
   "source": [
    "# Get some images to attach the feature value to.\n",
    "image_rids = [i['RID'] for i in ml_instance.domain_path.tables['Image'].entities().fetch()]\n",
    "\n",
    "# Make some assets.  We are cheating here by just adding elements to the asset table without actually uploading the assets.\n",
    "asset_rid = ml_instance.domain_path.tables[\"TestAsset\"].insert([{'Name': \"foo\", 'URL': \"foo/bar\", 'Length': 2, 'MD5': 4}])[0]['RID']\n",
    "\n",
    "# Get an execution RID.\n",
    "ml_instance.add_term(\"Workflow_Type\", \"TestWorkflow\", description=\"A workflow\")\n",
    "workflow_rid = ml_instance.ml_path.tables['Workflow'].insert([{'Name': \"Test Workflow\", 'Workflow_Type': \"TestWorkflow\"}])[0]['RID']\n",
    "execution_rid = ml_instance.ml_path.tables['Execution'].insert([{'Description': \"Test execution\", 'Workflow': workflow_rid}])[0]['RID']\n",
    "# Now create a list of features using the feature creation class returned by create_feature.\n",
    "feature_list = [TestFeatureClass(\n",
    "    Image=i,\n",
    "    Execution=execution_rid,\n",
    "    FeatureValue=\"V1\",\n",
    "    TestAsset=asset_rid,\n",
    "    TestCol=23) for i in image_rids]\n",
    "ml_instance.add_features(feature_list)"
   ]
  },
  {
   "cell_type": "code",
   "execution_count": null,
   "id": "240cb784-0ffc-4fc5-aa8d-fb2ee9267355",
   "metadata": {},
   "outputs": [],
   "source": [
    "def strip_system(d):\n",
    "    return {k:v for k,v in d.items() if k not in ['RCT', 'RMT', 'RCB', 'RMB']}\n",
    "    \n",
    "pd.DataFrame([strip_system(i) for i in ml_instance.list_feature(\"Image\", \"Feature1\")])"
   ]
  },
  {
   "cell_type": "code",
   "execution_count": null,
   "id": "6e76bbdf-2441-4444-be7f-e55399bcc32a",
   "metadata": {},
   "outputs": [],
   "source": [
    "test_catalog.delete_ermrest_catalog(really=True)"
   ]
  }
 ],
 "metadata": {
  "kernelspec": {
   "display_name": "deriva-ml",
   "language": "python",
   "name": "deriva-ml"
  },
  "language_info": {
   "codemirror_mode": {
    "name": "ipython",
    "version": 3
   },
   "file_extension": ".py",
   "mimetype": "text/x-python",
   "name": "python",
   "nbconvert_exporter": "python",
   "pygments_lexer": "ipython3",
   "version": "3.12.2"
  }
 },
 "nbformat": 4,
 "nbformat_minor": 5
}
