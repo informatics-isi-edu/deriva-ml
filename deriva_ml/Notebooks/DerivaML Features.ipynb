{
 "cells": [
  {
   "cell_type": "markdown",
   "id": "94ffee41-4986-4196-b35d-b38b6e10490a",
   "metadata": {},
   "source": [
    "# DerivaML Features Example\n",
    "\n",
    "DerivaML is a class library built on the Deriva Scientific Asset management system that is designed to help simplify a number of the basic operations associated with building and testing ML libraries based on common toolkits such as TensorFlow.  This notebook reviews the basic features of the DerivaML library.\n",
    "\n",
    "\n",
    "In DerivaML, \"features\" are the way we attach values to objects in the catalog. A feature could be a computed value that serves as input to a ML model, or it could be a label, that is the result of running a model.  A feature can be a controlled vocabulary term, an asset, or a value.\n",
    "\n",
    "Each feature in the catalog is distinguished by the name of the feature, the identity of the object that the feature is being attached to, and the execution RID of the process that generated the feature value\n",
    "\n",
    "## Set up Deriva for test case"
   ]
  },
  {
   "cell_type": "code",
   "id": "ff605747-195b-40a1-b915-0e799f8d0748",
   "metadata": {
    "ExecuteTime": {
     "end_time": "2024-10-30T15:46:39.985811Z",
     "start_time": "2024-10-30T15:46:39.961254Z"
    }
   },
   "source": [
    "import csv\n",
    "\n",
    "from fontTools.misc.bezierTools import namedtuple\n",
    "%load_ext autoreload\n",
    "%autoreload 2"
   ],
   "outputs": [],
   "execution_count": 1
  },
  {
   "cell_type": "code",
   "id": "9493a5ef-86b9-490b-a1d5-f461fdcd68ef",
   "metadata": {
    "ExecuteTime": {
     "end_time": "2024-10-30T16:03:37.687053Z",
     "start_time": "2024-10-30T16:03:36.953781Z"
    }
   },
   "source": [
    "import builtins\n",
    "import csv\n",
    "from deriva.core.utils.globus_auth_utils import GlobusNativeLogin\n",
    "from deriva_ml.deriva_ml_base import ColumnDefinition, BuiltinTypes, MLVocab\n",
    "from deriva_ml.schema_setup.test_catalog import create_test_catalog, DemoML\n",
    "from deriva_ml.execution_configuration import ExecutionConfiguration, Workflow, Execution\n",
    "from IPython.display import display, Markdown\n",
    "import itertools\n",
    "import pandas as pd\n",
    "import tempfile\n",
    "import random"
   ],
   "outputs": [],
   "execution_count": 4
  },
  {
   "metadata": {},
   "cell_type": "markdown",
   "source": "Set the details for the catalog we want and authenticate to the server if needed.",
   "id": "6a3738109c9344d1"
  },
  {
   "cell_type": "code",
   "id": "9ee79ab7-a3f7-4c69-9c80-336871c13ec2",
   "metadata": {
    "ExecuteTime": {
     "end_time": "2024-10-30T16:03:41.758219Z",
     "start_time": "2024-10-30T16:03:41.706194Z"
    }
   },
   "source": [
    "hostname = 'dev.eye-ai.org'\n",
    "domain_schema = 'demo-schema'\n",
    "\n",
    "gnl = GlobusNativeLogin(host=hostname)\n",
    "if gnl.is_logged_in([hostname]):\n",
    "    print(\"You are already logged in.\")\n",
    "else:\n",
    "    gnl.login([hostname], no_local_server=True, no_browser=True, refresh_tokens=True, update_bdbag_keychain=True)\n",
    "    print(\"Login Successful\")\n"
   ],
   "outputs": [
    {
     "name": "stdout",
     "output_type": "stream",
     "text": [
      "You are already logged in.\n"
     ]
    }
   ],
   "execution_count": 5
  },
  {
   "metadata": {},
   "cell_type": "markdown",
   "source": "Create a test catalog and get an instance of the DerivaML class.",
   "id": "a23e5177-106b-48b6-b5e0-a126d35f4084"
  },
  {
   "cell_type": "code",
   "id": "e9bddcf0-27ea-40b3-a388-b77635586fad",
   "metadata": {
    "ExecuteTime": {
     "end_time": "2024-10-30T16:04:11.201356Z",
     "start_time": "2024-10-30T16:03:48.400080Z"
    }
   },
   "source": [
    "test_catalog = create_test_catalog(hostname, domain_schema)\n",
    "ml_instance = DemoML(hostname, test_catalog.catalog_id)\n",
    "display(f\"Created demo catalog at {hostname}:{test_catalog.catalog_id}\")"
   ],
   "outputs": [
    {
     "name": "stderr",
     "output_type": "stream",
     "text": [
      "2024-10-30 09:04:10,706 - INFO - Creating client of type <class 'globus_sdk.services.auth.client.native_client.NativeAppAuthClient'> for service \"auth\"\n",
      "2024-10-30 09:04:10,708 - INFO - Finished initializing AuthLoginClient. client_id='8ef15ba9-2b4a-469c-a163-7fd910c9d111', type(authorizer)=<class 'globus_sdk.authorizers.base.NullAuthorizer'>\n"
     ]
    }
   ],
   "execution_count": 6
  },
  {
   "cell_type": "markdown",
   "id": "353d51c9-b8a6-4b75-a0da-ffa2db134169",
   "metadata": {},
   "source": [
    "A feature is a set of values that are attached to a table in the DerivaML catalog. Instances of features are distingushed from one another by the ID of the execution that produced the feature value. The execution could be the result of a program, or it could be a manual process by which a person defines a set of values\n",
    "\n",
    "To create a new feature, we need to know the name of the feature, the table to which it is attached, and the set of values that make up the feature.  The values could be terms from a controlled vocabulary, a set of one or more file based assets, or other values, such as integers, or strings. However, use of strings outside of controlled vocabularies is discouraged."
   ]
  },
  {
   "cell_type": "code",
   "id": "1d726b44-c60f-435a-9966-cfe3fc3da2e9",
   "metadata": {
    "ExecuteTime": {
     "end_time": "2024-10-30T16:04:22.474935Z",
     "start_time": "2024-10-30T16:04:20.649394Z"
    }
   },
   "source": [
    "# Pre=requests for our feature, which will include a CV term and asset.\n",
    "\n",
    "# Create a vocabulary and add a term to it to use in our features.\n",
    "ml_instance.create_vocabulary(\"SubjectHealth\", \"A vocab\")\n",
    "ml_instance.add_term(\"SubjectHealth\", \"Sick\", description=\"The subject self reports that they are sick\")\n",
    "ml_instance.add_term(\"SubjectHealth\", \"Well\", description=\"The subject self reports that they feel well\")\n",
    "\n",
    "ml_instance.create_vocabulary(\"ImageQuality\", \"Controlled vocabulary for image quality\")\n",
    "ml_instance.add_term(\"ImageQuality\", \"Good\", description=\"The image is good\")\n",
    "ml_instance.add_term(\"ImageQuality\", \"Bad\", description=\"The image is bad\")\n",
    "\n",
    "box_asset = ml_instance.create_asset(\"BoundingBox\", comment=\"A file that contains a cropped version of a image\")"
   ],
   "outputs": [],
   "execution_count": 7
  },
  {
   "cell_type": "code",
   "id": "8dcaabf3e33a1f9d",
   "metadata": {
    "ExecuteTime": {
     "end_time": "2024-10-30T16:04:30.087620Z",
     "start_time": "2024-10-30T16:04:26.855071Z"
    }
   },
   "source": [
    "# We are going to have three values in our feature, a controlled vocabulary term from the vocabulary FeatureValue, a file asset and \n",
    "# an integer value which we will call \"TestCol\"\n",
    "ml_instance.create_feature(\"Health\", \"Subject\",\n",
    "                                        terms=[\"SubjectHealth\"],\n",
    "                                        metadata=[ColumnDefinition(name='Scale', type=BuiltinTypes.int2)])\n",
    "\n",
    "ml_instance.create_feature(\"BoundingBox\", \"Image\", assets=[box_asset])\n",
    "ml_instance.create_feature(\"Quality\", \"Image\", terms=[\"ImageQuality\"])"
   ],
   "outputs": [
    {
     "data": {
      "text/plain": [
       "deriva_ml.deriva_ml_base.ImageFeatureQuality"
      ]
     },
     "execution_count": 8,
     "metadata": {},
     "output_type": "execute_result"
    }
   ],
   "execution_count": 8
  },
  {
   "metadata": {
    "ExecuteTime": {
     "end_time": "2024-10-30T16:04:32.482986Z",
     "start_time": "2024-10-30T16:04:32.463110Z"
    }
   },
   "cell_type": "code",
   "source": [
    "display(\n",
    "    [f.name for f in ml_instance.find_features(\"Subject\")],\n",
    "    [f.name for f in ml_instance.find_features(\"Image\")]\n",
    ")"
   ],
   "id": "50fc85db-8173-463d-830e-7dfd7eba08f7",
   "outputs": [
    {
     "data": {
      "text/plain": [
       "['Execution_Subject_Health']"
      ]
     },
     "metadata": {},
     "output_type": "display_data"
    },
    {
     "data": {
      "text/plain": [
       "['Execution_Image_BoundingBox', 'Execution_Image_Quality']"
      ]
     },
     "metadata": {},
     "output_type": "display_data"
    }
   ],
   "execution_count": 9
  },
  {
   "cell_type": "markdown",
   "id": "83d2bd27-da2d-4918-9c8a-378c95addfcc",
   "metadata": {},
   "source": [
    "Now we can add some features to our images.  To streamline the creation of new feature, we create a class that is specific to the arguments required to create it."
   ]
  },
  {
   "cell_type": "code",
   "id": "7f6b68c6-4bc0-4837-a2b6-729d116a8702",
   "metadata": {
    "ExecuteTime": {
     "end_time": "2024-10-30T16:04:34.471973Z",
     "start_time": "2024-10-30T16:04:34.441108Z"
    }
   },
   "source": [
    "ImageQualityFeature = ml_instance.feature_record_class(\"Image\", \"Quality\")\n",
    "ImageBoundingboxFeature = ml_instance.feature_record_class(\"Image\", \"BoundingBox\")\n",
    "SubjectWellnessFeature= ml_instance.feature_record_class(\"Subject\", \"Health\")\n",
    "\n",
    "display(\n",
    "    Markdown('### SubjectWellnessFeature'),\n",
    "    SubjectWellnessFeature.model_fields,\n",
    "    Markdown('### ImageQualityFeature'),\n",
    "    ImageQualityFeature.model_fields,\n",
    "    Markdown('### ImageBoundingboxFeature'),\n",
    "    ImageBoundingboxFeature.model_fields\n",
    ")"
   ],
   "outputs": [
    {
     "data": {
      "text/plain": [
       "<IPython.core.display.Markdown object>"
      ],
      "text/markdown": "### SubjectWellnessFeature"
     },
     "metadata": {},
     "output_type": "display_data"
    },
    {
     "data": {
      "text/plain": [
       "{'Execution': FieldInfo(annotation=str, required=True),\n",
       " 'Subject': FieldInfo(annotation=str, required=True),\n",
       " 'Feature_Name': FieldInfo(annotation=str, required=False, default='Health'),\n",
       " 'SubjectHealth': FieldInfo(annotation=str, required=True),\n",
       " 'Scale': FieldInfo(annotation=int, required=True)}"
      ]
     },
     "metadata": {},
     "output_type": "display_data"
    },
    {
     "data": {
      "text/plain": [
       "<IPython.core.display.Markdown object>"
      ],
      "text/markdown": "### ImageQualityFeature"
     },
     "metadata": {},
     "output_type": "display_data"
    },
    {
     "data": {
      "text/plain": [
       "{'Execution': FieldInfo(annotation=str, required=True),\n",
       " 'Image': FieldInfo(annotation=Union[str, Path], required=True),\n",
       " 'Feature_Name': FieldInfo(annotation=str, required=False, default='Quality'),\n",
       " 'ImageQuality': FieldInfo(annotation=str, required=True)}"
      ]
     },
     "metadata": {},
     "output_type": "display_data"
    },
    {
     "data": {
      "text/plain": [
       "<IPython.core.display.Markdown object>"
      ],
      "text/markdown": "### ImageBoundingboxFeature"
     },
     "metadata": {},
     "output_type": "display_data"
    },
    {
     "data": {
      "text/plain": [
       "{'Execution': FieldInfo(annotation=str, required=True),\n",
       " 'Image': FieldInfo(annotation=Union[str, Path], required=True),\n",
       " 'Feature_Name': FieldInfo(annotation=str, required=False, default='BoundingBox'),\n",
       " 'BoundingBox': FieldInfo(annotation=Union[str, Path], required=True)}"
      ]
     },
     "metadata": {},
     "output_type": "display_data"
    }
   ],
   "execution_count": 10
  },
  {
   "cell_type": "markdown",
   "id": "92416df1-e3f9-4097-bc19-b24712dc7242",
   "metadata": {},
   "source": "Now using TestFeatureClass, we can create some instances of the feature and add it.  We must have a execution_rid in order to define the feature."
  },
  {
   "cell_type": "code",
   "id": "cdcc8f5c-874b-4bf9-89ef-e1ea90b9f91f",
   "metadata": {
    "ExecuteTime": {
     "end_time": "2024-10-30T16:04:48.890058Z",
     "start_time": "2024-10-30T16:04:45.267437Z"
    }
   },
   "source": [
    "ml_instance.add_term(MLVocab.workflow_type, \"API Workflow\", description=\"A Workflow that uses Deriva ML API\")\n",
    "api_workflow = Workflow(\n",
    "    name=\"API Workflow\", \n",
    "    url=\"https://github.com/informatics-isi-edu/deriva-ml/blob/main/pyproject.toml\",\n",
    "    workflow_type=\"API Workflow\"\n",
    ")\n",
    "\n",
    "api_execution = ml_instance.initialize_execution(\n",
    "    ExecutionConfiguration(\n",
    "    execution=Execution(description=\"Sample Execution\"), \n",
    "    workflow=api_workflow, \n",
    "    description=\"Our Sample Workflow instance\")\n",
    ")"
   ],
   "outputs": [
    {
     "name": "stderr",
     "output_type": "stream",
     "text": [
      "2024-10-30 09:04:46,923 - INFO - File [/var/folders/0k/27qzm97x3t7g3j1m6ksf_9f40000gn/T/tmpau4r8l3v/DemoML_working/exec_configrjo77rfi.json] transfer successful. 0.33 KB transferred. Elapsed time: 0:00:00.000092.\n",
      "2024-10-30 09:04:46,924 - INFO - Verifying MD5 checksum for downloaded file [/var/folders/0k/27qzm97x3t7g3j1m6ksf_9f40000gn/T/tmpau4r8l3v/DemoML_working/exec_configrjo77rfi.json]\n",
      "2024-10-30 09:04:47,044 - INFO - Configuration validation successful!\n"
     ]
    }
   ],
   "execution_count": 11
  },
  {
   "cell_type": "code",
   "id": "4d8204f2-1411-45ed-b093-1d50751862ba",
   "metadata": {
    "ExecuteTime": {
     "end_time": "2024-10-30T16:04:57.863912Z",
     "start_time": "2024-10-30T16:04:55.430183Z"
    }
   },
   "source": [
    "# Get some images to attach the feature value to.\n",
    "\n",
    "# Now lets create and upload a simple asset.\n",
    "with tempfile.TemporaryDirectory() as temp_dir:\n",
    "    assetdir = ml_instance.asset_directory('BoundingBox', prefix=temp_dir)\n",
    "    for i in range(10):\n",
    "        with builtins.open(assetdir / f\"box{i}.txt\", \"w\") as fp:\n",
    "            fp.write(f\"Hi there {i}\")\n",
    "    bounding_box_assets = ml_instance.upload_assets(assetdir) \n",
    "\n",
    "subject_rids = [i['RID'] for i in ml_instance.domain_path.tables['Subject'].entities().fetch()]\n",
    "image_rids = [i['RID'] for i in ml_instance.domain_path.tables['Image'].entities().fetch()]\n",
    "bounding_box_rids = [i['RID'] for i in ml_instance.domain_path.tables['BoundingBox'].entities().fetch()]"
   ],
   "outputs": [
    {
     "name": "stderr",
     "output_type": "stream",
     "text": [
      "2024-10-30 09:04:55,452 - INFO - Initializing uploader: GenericUploader v1.7.4 [Python 3.12.3, macOS-15.0.1-x86_64-i386-64bit]\n",
      "2024-10-30 09:04:55,453 - INFO - Creating client of type <class 'globus_sdk.services.auth.client.native_client.NativeAppAuthClient'> for service \"auth\"\n",
      "2024-10-30 09:04:55,454 - INFO - Finished initializing AuthLoginClient. client_id='8ef15ba9-2b4a-469c-a163-7fd910c9d111', type(authorizer)=<class 'globus_sdk.authorizers.base.NullAuthorizer'>\n",
      "2024-10-30 09:04:55,584 - INFO - Checking for updated configuration...\n",
      "2024-10-30 09:04:55,811 - INFO - Updated configuration found.\n",
      "2024-10-30 09:04:55,813 - INFO - Scanning files in directory [/var/folders/0k/27qzm97x3t7g3j1m6ksf_9f40000gn/T/tmpn7sgp3fk/demo-schema/BoundingBox]...\n",
      "2024-10-30 09:04:55,817 - INFO - Including file: [/var/folders/0k/27qzm97x3t7g3j1m6ksf_9f40000gn/T/tmpn7sgp3fk/demo-schema/BoundingBox/box7.txt].\n",
      "2024-10-30 09:04:55,818 - INFO - Including file: [/var/folders/0k/27qzm97x3t7g3j1m6ksf_9f40000gn/T/tmpn7sgp3fk/demo-schema/BoundingBox/box6.txt].\n",
      "2024-10-30 09:04:55,818 - INFO - Including file: [/var/folders/0k/27qzm97x3t7g3j1m6ksf_9f40000gn/T/tmpn7sgp3fk/demo-schema/BoundingBox/box4.txt].\n",
      "2024-10-30 09:04:55,818 - INFO - Including file: [/var/folders/0k/27qzm97x3t7g3j1m6ksf_9f40000gn/T/tmpn7sgp3fk/demo-schema/BoundingBox/box5.txt].\n",
      "2024-10-30 09:04:55,819 - INFO - Including file: [/var/folders/0k/27qzm97x3t7g3j1m6ksf_9f40000gn/T/tmpn7sgp3fk/demo-schema/BoundingBox/box1.txt].\n",
      "2024-10-30 09:04:55,819 - INFO - Including file: [/var/folders/0k/27qzm97x3t7g3j1m6ksf_9f40000gn/T/tmpn7sgp3fk/demo-schema/BoundingBox/box0.txt].\n",
      "2024-10-30 09:04:55,819 - INFO - Including file: [/var/folders/0k/27qzm97x3t7g3j1m6ksf_9f40000gn/T/tmpn7sgp3fk/demo-schema/BoundingBox/box2.txt].\n",
      "2024-10-30 09:04:55,820 - INFO - Including file: [/var/folders/0k/27qzm97x3t7g3j1m6ksf_9f40000gn/T/tmpn7sgp3fk/demo-schema/BoundingBox/box3.txt].\n",
      "2024-10-30 09:04:55,820 - INFO - Including file: [/var/folders/0k/27qzm97x3t7g3j1m6ksf_9f40000gn/T/tmpn7sgp3fk/demo-schema/BoundingBox/box8.txt].\n",
      "2024-10-30 09:04:55,820 - INFO - Including file: [/var/folders/0k/27qzm97x3t7g3j1m6ksf_9f40000gn/T/tmpn7sgp3fk/demo-schema/BoundingBox/box9.txt].\n",
      "2024-10-30 09:04:55,821 - INFO - Processing: [/var/folders/0k/27qzm97x3t7g3j1m6ksf_9f40000gn/T/tmpn7sgp3fk/demo-schema/BoundingBox/box7.txt]\n",
      "2024-10-30 09:04:55,822 - INFO - Computed metadata for: [/var/folders/0k/27qzm97x3t7g3j1m6ksf_9f40000gn/T/tmpn7sgp3fk/demo-schema/BoundingBox/box7.txt].\n",
      "2024-10-30 09:04:55,822 - INFO - Computing checksums for file: [/var/folders/0k/27qzm97x3t7g3j1m6ksf_9f40000gn/T/tmpn7sgp3fk/demo-schema/BoundingBox/box7.txt]. Please wait...\n",
      "2024-10-30 09:04:55,823 - INFO - Uploading file: [/var/folders/0k/27qzm97x3t7g3j1m6ksf_9f40000gn/T/tmpn7sgp3fk/demo-schema/BoundingBox/box7.txt] to host https://dev.eye-ai.org. Please wait...\n",
      "2024-10-30 09:04:56,105 - INFO - Processing: [/var/folders/0k/27qzm97x3t7g3j1m6ksf_9f40000gn/T/tmpn7sgp3fk/demo-schema/BoundingBox/box6.txt]\n",
      "2024-10-30 09:04:56,106 - INFO - Computed metadata for: [/var/folders/0k/27qzm97x3t7g3j1m6ksf_9f40000gn/T/tmpn7sgp3fk/demo-schema/BoundingBox/box6.txt].\n",
      "2024-10-30 09:04:56,106 - INFO - Computing checksums for file: [/var/folders/0k/27qzm97x3t7g3j1m6ksf_9f40000gn/T/tmpn7sgp3fk/demo-schema/BoundingBox/box6.txt]. Please wait...\n",
      "2024-10-30 09:04:56,107 - INFO - Uploading file: [/var/folders/0k/27qzm97x3t7g3j1m6ksf_9f40000gn/T/tmpn7sgp3fk/demo-schema/BoundingBox/box6.txt] to host https://dev.eye-ai.org. Please wait...\n",
      "2024-10-30 09:04:56,254 - INFO - Processing: [/var/folders/0k/27qzm97x3t7g3j1m6ksf_9f40000gn/T/tmpn7sgp3fk/demo-schema/BoundingBox/box4.txt]\n",
      "2024-10-30 09:04:56,255 - INFO - Computed metadata for: [/var/folders/0k/27qzm97x3t7g3j1m6ksf_9f40000gn/T/tmpn7sgp3fk/demo-schema/BoundingBox/box4.txt].\n",
      "2024-10-30 09:04:56,255 - INFO - Computing checksums for file: [/var/folders/0k/27qzm97x3t7g3j1m6ksf_9f40000gn/T/tmpn7sgp3fk/demo-schema/BoundingBox/box4.txt]. Please wait...\n",
      "2024-10-30 09:04:56,256 - INFO - Uploading file: [/var/folders/0k/27qzm97x3t7g3j1m6ksf_9f40000gn/T/tmpn7sgp3fk/demo-schema/BoundingBox/box4.txt] to host https://dev.eye-ai.org. Please wait...\n",
      "2024-10-30 09:04:56,401 - INFO - Processing: [/var/folders/0k/27qzm97x3t7g3j1m6ksf_9f40000gn/T/tmpn7sgp3fk/demo-schema/BoundingBox/box5.txt]\n",
      "2024-10-30 09:04:56,402 - INFO - Computed metadata for: [/var/folders/0k/27qzm97x3t7g3j1m6ksf_9f40000gn/T/tmpn7sgp3fk/demo-schema/BoundingBox/box5.txt].\n",
      "2024-10-30 09:04:56,403 - INFO - Computing checksums for file: [/var/folders/0k/27qzm97x3t7g3j1m6ksf_9f40000gn/T/tmpn7sgp3fk/demo-schema/BoundingBox/box5.txt]. Please wait...\n",
      "2024-10-30 09:04:56,404 - INFO - Uploading file: [/var/folders/0k/27qzm97x3t7g3j1m6ksf_9f40000gn/T/tmpn7sgp3fk/demo-schema/BoundingBox/box5.txt] to host https://dev.eye-ai.org. Please wait...\n",
      "2024-10-30 09:04:56,550 - INFO - Processing: [/var/folders/0k/27qzm97x3t7g3j1m6ksf_9f40000gn/T/tmpn7sgp3fk/demo-schema/BoundingBox/box1.txt]\n",
      "2024-10-30 09:04:56,551 - INFO - Computed metadata for: [/var/folders/0k/27qzm97x3t7g3j1m6ksf_9f40000gn/T/tmpn7sgp3fk/demo-schema/BoundingBox/box1.txt].\n",
      "2024-10-30 09:04:56,551 - INFO - Computing checksums for file: [/var/folders/0k/27qzm97x3t7g3j1m6ksf_9f40000gn/T/tmpn7sgp3fk/demo-schema/BoundingBox/box1.txt]. Please wait...\n",
      "2024-10-30 09:04:56,552 - INFO - Uploading file: [/var/folders/0k/27qzm97x3t7g3j1m6ksf_9f40000gn/T/tmpn7sgp3fk/demo-schema/BoundingBox/box1.txt] to host https://dev.eye-ai.org. Please wait...\n",
      "2024-10-30 09:04:56,706 - INFO - Processing: [/var/folders/0k/27qzm97x3t7g3j1m6ksf_9f40000gn/T/tmpn7sgp3fk/demo-schema/BoundingBox/box0.txt]\n",
      "2024-10-30 09:04:56,707 - INFO - Computed metadata for: [/var/folders/0k/27qzm97x3t7g3j1m6ksf_9f40000gn/T/tmpn7sgp3fk/demo-schema/BoundingBox/box0.txt].\n",
      "2024-10-30 09:04:56,707 - INFO - Computing checksums for file: [/var/folders/0k/27qzm97x3t7g3j1m6ksf_9f40000gn/T/tmpn7sgp3fk/demo-schema/BoundingBox/box0.txt]. Please wait...\n",
      "2024-10-30 09:04:56,708 - INFO - Uploading file: [/var/folders/0k/27qzm97x3t7g3j1m6ksf_9f40000gn/T/tmpn7sgp3fk/demo-schema/BoundingBox/box0.txt] to host https://dev.eye-ai.org. Please wait...\n",
      "2024-10-30 09:04:56,860 - INFO - Processing: [/var/folders/0k/27qzm97x3t7g3j1m6ksf_9f40000gn/T/tmpn7sgp3fk/demo-schema/BoundingBox/box2.txt]\n",
      "2024-10-30 09:04:56,861 - INFO - Computed metadata for: [/var/folders/0k/27qzm97x3t7g3j1m6ksf_9f40000gn/T/tmpn7sgp3fk/demo-schema/BoundingBox/box2.txt].\n",
      "2024-10-30 09:04:56,861 - INFO - Computing checksums for file: [/var/folders/0k/27qzm97x3t7g3j1m6ksf_9f40000gn/T/tmpn7sgp3fk/demo-schema/BoundingBox/box2.txt]. Please wait...\n",
      "2024-10-30 09:04:56,862 - INFO - Uploading file: [/var/folders/0k/27qzm97x3t7g3j1m6ksf_9f40000gn/T/tmpn7sgp3fk/demo-schema/BoundingBox/box2.txt] to host https://dev.eye-ai.org. Please wait...\n",
      "2024-10-30 09:04:57,015 - INFO - Processing: [/var/folders/0k/27qzm97x3t7g3j1m6ksf_9f40000gn/T/tmpn7sgp3fk/demo-schema/BoundingBox/box3.txt]\n",
      "2024-10-30 09:04:57,016 - INFO - Computed metadata for: [/var/folders/0k/27qzm97x3t7g3j1m6ksf_9f40000gn/T/tmpn7sgp3fk/demo-schema/BoundingBox/box3.txt].\n",
      "2024-10-30 09:04:57,016 - INFO - Computing checksums for file: [/var/folders/0k/27qzm97x3t7g3j1m6ksf_9f40000gn/T/tmpn7sgp3fk/demo-schema/BoundingBox/box3.txt]. Please wait...\n",
      "2024-10-30 09:04:57,017 - INFO - Uploading file: [/var/folders/0k/27qzm97x3t7g3j1m6ksf_9f40000gn/T/tmpn7sgp3fk/demo-schema/BoundingBox/box3.txt] to host https://dev.eye-ai.org. Please wait...\n",
      "2024-10-30 09:04:57,165 - INFO - Processing: [/var/folders/0k/27qzm97x3t7g3j1m6ksf_9f40000gn/T/tmpn7sgp3fk/demo-schema/BoundingBox/box8.txt]\n",
      "2024-10-30 09:04:57,166 - INFO - Computed metadata for: [/var/folders/0k/27qzm97x3t7g3j1m6ksf_9f40000gn/T/tmpn7sgp3fk/demo-schema/BoundingBox/box8.txt].\n",
      "2024-10-30 09:04:57,166 - INFO - Computing checksums for file: [/var/folders/0k/27qzm97x3t7g3j1m6ksf_9f40000gn/T/tmpn7sgp3fk/demo-schema/BoundingBox/box8.txt]. Please wait...\n",
      "2024-10-30 09:04:57,167 - INFO - Uploading file: [/var/folders/0k/27qzm97x3t7g3j1m6ksf_9f40000gn/T/tmpn7sgp3fk/demo-schema/BoundingBox/box8.txt] to host https://dev.eye-ai.org. Please wait...\n",
      "2024-10-30 09:04:57,313 - INFO - Processing: [/var/folders/0k/27qzm97x3t7g3j1m6ksf_9f40000gn/T/tmpn7sgp3fk/demo-schema/BoundingBox/box9.txt]\n",
      "2024-10-30 09:04:57,314 - INFO - Computed metadata for: [/var/folders/0k/27qzm97x3t7g3j1m6ksf_9f40000gn/T/tmpn7sgp3fk/demo-schema/BoundingBox/box9.txt].\n",
      "2024-10-30 09:04:57,315 - INFO - Computing checksums for file: [/var/folders/0k/27qzm97x3t7g3j1m6ksf_9f40000gn/T/tmpn7sgp3fk/demo-schema/BoundingBox/box9.txt]. Please wait...\n",
      "2024-10-30 09:04:57,315 - INFO - Uploading file: [/var/folders/0k/27qzm97x3t7g3j1m6ksf_9f40000gn/T/tmpn7sgp3fk/demo-schema/BoundingBox/box9.txt] to host https://dev.eye-ai.org. Please wait...\n",
      "2024-10-30 09:04:57,484 - INFO - File upload processing completed: 10 files were uploaded successfully, 0 files failed to upload due to errors, 0 files were skipped because they did not satisfy the matching criteria of the configuration.\n"
     ]
    }
   ],
   "execution_count": 12
  },
  {
   "metadata": {
    "ExecuteTime": {
     "end_time": "2024-10-30T16:05:07.669960Z",
     "start_time": "2024-10-30T16:05:07.146280Z"
    }
   },
   "cell_type": "code",
   "source": [
    "# Now create a list of features using the feature creation class returned by create_feature.\n",
    "subject_feature_list = [SubjectWellnessFeature(\n",
    "    Subject=subject_rid,\n",
    "    Execution=api_execution.execution_rid,\n",
    "    SubjectHealth= [\"Well\", \"Sick\"][random.randint(0,1)],\n",
    "    Scale=random.randint(1, 10)) for subject_rid in subject_rids]\n",
    "\n",
    "image_quality_feature_list = [ImageQualityFeature(\n",
    "    Image=image_rid,\n",
    "    Execution=api_execution.execution_rid,\n",
    "    ImageQuality= [\"Good\", \"Bad\"][random.randint(0,1)])\n",
    "        for image_rid in image_rids]\n",
    "\n",
    "image_bounding_box_feature_list = [ImageBoundingboxFeature(\n",
    "    Image=image_rid,\n",
    "    Execution=api_execution.execution_rid,\n",
    "    BoundingBox=asset_rid)\n",
    "        for image_rid, asset_rid in zip(image_rids, itertools.cycle(bounding_box_rids))]\n",
    "\n",
    "ml_instance.add_features(subject_feature_list)\n",
    "ml_instance.add_features(image_quality_feature_list)\n",
    "ml_instance.add_features(image_bounding_box_feature_list)"
   ],
   "id": "1563855cba28ea69",
   "outputs": [
    {
     "data": {
      "text/plain": [
       "20"
      ]
     },
     "execution_count": 13,
     "metadata": {},
     "output_type": "execute_result"
    }
   ],
   "execution_count": 13
  },
  {
   "cell_type": "code",
   "id": "240cb784-0ffc-4fc5-aa8d-fb2ee9267355",
   "metadata": {
    "ExecuteTime": {
     "end_time": "2024-10-30T16:05:15.420832Z",
     "start_time": "2024-10-30T16:05:14.956508Z"
    }
   },
   "source": [
    "system_columns = ['RCT', 'RMT', 'RCB', 'RMB', 'Feature_Name']\n",
    "\n",
    "display(\n",
    "    Markdown('### Wellness'),\n",
    "    pd.DataFrame(ml_instance.list_feature(\"Subject\", \"Health\")).drop(columns=system_columns),\n",
    "    Markdown('### Image Quality'),\n",
    "    pd.DataFrame(ml_instance.list_feature(\"Image\", \"Quality\")).drop(columns=system_columns),\n",
    "    Markdown('### BoundingBox'),\n",
    "    pd.DataFrame(ml_instance.list_feature(\"Image\", \"BoundingBox\")).drop(columns=system_columns)\n",
    ")"
   ],
   "outputs": [
    {
     "data": {
      "text/plain": [
       "<IPython.core.display.Markdown object>"
      ],
      "text/markdown": "### Wellness"
     },
     "metadata": {},
     "output_type": "display_data"
    },
    {
     "data": {
      "text/plain": [
       "    RID Execution Subject SubjectHealth  Scale\n",
       "0   3HY       3H6     2ZG          Sick      8\n",
       "1   3J0       3H6     2ZJ          Well      7\n",
       "2   3J2       3H6     2ZM          Well      4\n",
       "3   3J4       3H6     2ZP          Sick      9\n",
       "4   3J6       3H6     2ZR          Sick      6\n",
       "5   3J8       3H6     2ZT          Sick      8\n",
       "6   3JA       3H6     2ZW          Well      7\n",
       "7   3JC       3H6     2ZY          Sick     10\n",
       "8   3JE       3H6     300          Well      6\n",
       "9   3JG       3H6     302          Sick     10\n",
       "10  3JJ       3H6     304          Well      3\n",
       "11  3JM       3H6     306          Sick     10\n",
       "12  3JP       3H6     308          Sick     10\n",
       "13  3JR       3H6     30A          Well      2\n",
       "14  3JT       3H6     30C          Well      8\n",
       "15  3JW       3H6     30E          Sick      2\n",
       "16  3JY       3H6     30G          Well      6\n",
       "17  3K0       3H6     30J          Well      1\n",
       "18  3K2       3H6     30M          Well      1\n",
       "19  3K4       3H6     30P          Well      7"
      ],
      "text/html": [
       "<div>\n",
       "<style scoped>\n",
       "    .dataframe tbody tr th:only-of-type {\n",
       "        vertical-align: middle;\n",
       "    }\n",
       "\n",
       "    .dataframe tbody tr th {\n",
       "        vertical-align: top;\n",
       "    }\n",
       "\n",
       "    .dataframe thead th {\n",
       "        text-align: right;\n",
       "    }\n",
       "</style>\n",
       "<table border=\"1\" class=\"dataframe\">\n",
       "  <thead>\n",
       "    <tr style=\"text-align: right;\">\n",
       "      <th></th>\n",
       "      <th>RID</th>\n",
       "      <th>Execution</th>\n",
       "      <th>Subject</th>\n",
       "      <th>SubjectHealth</th>\n",
       "      <th>Scale</th>\n",
       "    </tr>\n",
       "  </thead>\n",
       "  <tbody>\n",
       "    <tr>\n",
       "      <th>0</th>\n",
       "      <td>3HY</td>\n",
       "      <td>3H6</td>\n",
       "      <td>2ZG</td>\n",
       "      <td>Sick</td>\n",
       "      <td>8</td>\n",
       "    </tr>\n",
       "    <tr>\n",
       "      <th>1</th>\n",
       "      <td>3J0</td>\n",
       "      <td>3H6</td>\n",
       "      <td>2ZJ</td>\n",
       "      <td>Well</td>\n",
       "      <td>7</td>\n",
       "    </tr>\n",
       "    <tr>\n",
       "      <th>2</th>\n",
       "      <td>3J2</td>\n",
       "      <td>3H6</td>\n",
       "      <td>2ZM</td>\n",
       "      <td>Well</td>\n",
       "      <td>4</td>\n",
       "    </tr>\n",
       "    <tr>\n",
       "      <th>3</th>\n",
       "      <td>3J4</td>\n",
       "      <td>3H6</td>\n",
       "      <td>2ZP</td>\n",
       "      <td>Sick</td>\n",
       "      <td>9</td>\n",
       "    </tr>\n",
       "    <tr>\n",
       "      <th>4</th>\n",
       "      <td>3J6</td>\n",
       "      <td>3H6</td>\n",
       "      <td>2ZR</td>\n",
       "      <td>Sick</td>\n",
       "      <td>6</td>\n",
       "    </tr>\n",
       "    <tr>\n",
       "      <th>5</th>\n",
       "      <td>3J8</td>\n",
       "      <td>3H6</td>\n",
       "      <td>2ZT</td>\n",
       "      <td>Sick</td>\n",
       "      <td>8</td>\n",
       "    </tr>\n",
       "    <tr>\n",
       "      <th>6</th>\n",
       "      <td>3JA</td>\n",
       "      <td>3H6</td>\n",
       "      <td>2ZW</td>\n",
       "      <td>Well</td>\n",
       "      <td>7</td>\n",
       "    </tr>\n",
       "    <tr>\n",
       "      <th>7</th>\n",
       "      <td>3JC</td>\n",
       "      <td>3H6</td>\n",
       "      <td>2ZY</td>\n",
       "      <td>Sick</td>\n",
       "      <td>10</td>\n",
       "    </tr>\n",
       "    <tr>\n",
       "      <th>8</th>\n",
       "      <td>3JE</td>\n",
       "      <td>3H6</td>\n",
       "      <td>300</td>\n",
       "      <td>Well</td>\n",
       "      <td>6</td>\n",
       "    </tr>\n",
       "    <tr>\n",
       "      <th>9</th>\n",
       "      <td>3JG</td>\n",
       "      <td>3H6</td>\n",
       "      <td>302</td>\n",
       "      <td>Sick</td>\n",
       "      <td>10</td>\n",
       "    </tr>\n",
       "    <tr>\n",
       "      <th>10</th>\n",
       "      <td>3JJ</td>\n",
       "      <td>3H6</td>\n",
       "      <td>304</td>\n",
       "      <td>Well</td>\n",
       "      <td>3</td>\n",
       "    </tr>\n",
       "    <tr>\n",
       "      <th>11</th>\n",
       "      <td>3JM</td>\n",
       "      <td>3H6</td>\n",
       "      <td>306</td>\n",
       "      <td>Sick</td>\n",
       "      <td>10</td>\n",
       "    </tr>\n",
       "    <tr>\n",
       "      <th>12</th>\n",
       "      <td>3JP</td>\n",
       "      <td>3H6</td>\n",
       "      <td>308</td>\n",
       "      <td>Sick</td>\n",
       "      <td>10</td>\n",
       "    </tr>\n",
       "    <tr>\n",
       "      <th>13</th>\n",
       "      <td>3JR</td>\n",
       "      <td>3H6</td>\n",
       "      <td>30A</td>\n",
       "      <td>Well</td>\n",
       "      <td>2</td>\n",
       "    </tr>\n",
       "    <tr>\n",
       "      <th>14</th>\n",
       "      <td>3JT</td>\n",
       "      <td>3H6</td>\n",
       "      <td>30C</td>\n",
       "      <td>Well</td>\n",
       "      <td>8</td>\n",
       "    </tr>\n",
       "    <tr>\n",
       "      <th>15</th>\n",
       "      <td>3JW</td>\n",
       "      <td>3H6</td>\n",
       "      <td>30E</td>\n",
       "      <td>Sick</td>\n",
       "      <td>2</td>\n",
       "    </tr>\n",
       "    <tr>\n",
       "      <th>16</th>\n",
       "      <td>3JY</td>\n",
       "      <td>3H6</td>\n",
       "      <td>30G</td>\n",
       "      <td>Well</td>\n",
       "      <td>6</td>\n",
       "    </tr>\n",
       "    <tr>\n",
       "      <th>17</th>\n",
       "      <td>3K0</td>\n",
       "      <td>3H6</td>\n",
       "      <td>30J</td>\n",
       "      <td>Well</td>\n",
       "      <td>1</td>\n",
       "    </tr>\n",
       "    <tr>\n",
       "      <th>18</th>\n",
       "      <td>3K2</td>\n",
       "      <td>3H6</td>\n",
       "      <td>30M</td>\n",
       "      <td>Well</td>\n",
       "      <td>1</td>\n",
       "    </tr>\n",
       "    <tr>\n",
       "      <th>19</th>\n",
       "      <td>3K4</td>\n",
       "      <td>3H6</td>\n",
       "      <td>30P</td>\n",
       "      <td>Well</td>\n",
       "      <td>7</td>\n",
       "    </tr>\n",
       "  </tbody>\n",
       "</table>\n",
       "</div>"
      ]
     },
     "metadata": {},
     "output_type": "display_data"
    },
    {
     "data": {
      "text/plain": [
       "<IPython.core.display.Markdown object>"
      ],
      "text/markdown": "### Image Quality"
     },
     "metadata": {},
     "output_type": "display_data"
    },
    {
     "data": {
      "text/plain": [
       "    RID Execution Image ImageQuality\n",
       "0   3K6       3H6   30R         Good\n",
       "1   3K8       3H6   30T         Good\n",
       "2   3KA       3H6   30W          Bad\n",
       "3   3KC       3H6   30Y          Bad\n",
       "4   3KE       3H6   310          Bad\n",
       "5   3KG       3H6   312          Bad\n",
       "6   3KJ       3H6   314         Good\n",
       "7   3KM       3H6   316          Bad\n",
       "8   3KP       3H6   318         Good\n",
       "9   3KR       3H6   31A          Bad\n",
       "10  3KT       3H6   31C          Bad\n",
       "11  3KW       3H6   31E          Bad\n",
       "12  3KY       3H6   31G         Good\n",
       "13  3M0       3H6   31J          Bad\n",
       "14  3M2       3H6   31M          Bad\n",
       "15  3M4       3H6   31P         Good\n",
       "16  3M6       3H6   31R         Good\n",
       "17  3M8       3H6   31T         Good\n",
       "18  3MA       3H6   31W          Bad\n",
       "19  3MC       3H6   31Y         Good"
      ],
      "text/html": [
       "<div>\n",
       "<style scoped>\n",
       "    .dataframe tbody tr th:only-of-type {\n",
       "        vertical-align: middle;\n",
       "    }\n",
       "\n",
       "    .dataframe tbody tr th {\n",
       "        vertical-align: top;\n",
       "    }\n",
       "\n",
       "    .dataframe thead th {\n",
       "        text-align: right;\n",
       "    }\n",
       "</style>\n",
       "<table border=\"1\" class=\"dataframe\">\n",
       "  <thead>\n",
       "    <tr style=\"text-align: right;\">\n",
       "      <th></th>\n",
       "      <th>RID</th>\n",
       "      <th>Execution</th>\n",
       "      <th>Image</th>\n",
       "      <th>ImageQuality</th>\n",
       "    </tr>\n",
       "  </thead>\n",
       "  <tbody>\n",
       "    <tr>\n",
       "      <th>0</th>\n",
       "      <td>3K6</td>\n",
       "      <td>3H6</td>\n",
       "      <td>30R</td>\n",
       "      <td>Good</td>\n",
       "    </tr>\n",
       "    <tr>\n",
       "      <th>1</th>\n",
       "      <td>3K8</td>\n",
       "      <td>3H6</td>\n",
       "      <td>30T</td>\n",
       "      <td>Good</td>\n",
       "    </tr>\n",
       "    <tr>\n",
       "      <th>2</th>\n",
       "      <td>3KA</td>\n",
       "      <td>3H6</td>\n",
       "      <td>30W</td>\n",
       "      <td>Bad</td>\n",
       "    </tr>\n",
       "    <tr>\n",
       "      <th>3</th>\n",
       "      <td>3KC</td>\n",
       "      <td>3H6</td>\n",
       "      <td>30Y</td>\n",
       "      <td>Bad</td>\n",
       "    </tr>\n",
       "    <tr>\n",
       "      <th>4</th>\n",
       "      <td>3KE</td>\n",
       "      <td>3H6</td>\n",
       "      <td>310</td>\n",
       "      <td>Bad</td>\n",
       "    </tr>\n",
       "    <tr>\n",
       "      <th>5</th>\n",
       "      <td>3KG</td>\n",
       "      <td>3H6</td>\n",
       "      <td>312</td>\n",
       "      <td>Bad</td>\n",
       "    </tr>\n",
       "    <tr>\n",
       "      <th>6</th>\n",
       "      <td>3KJ</td>\n",
       "      <td>3H6</td>\n",
       "      <td>314</td>\n",
       "      <td>Good</td>\n",
       "    </tr>\n",
       "    <tr>\n",
       "      <th>7</th>\n",
       "      <td>3KM</td>\n",
       "      <td>3H6</td>\n",
       "      <td>316</td>\n",
       "      <td>Bad</td>\n",
       "    </tr>\n",
       "    <tr>\n",
       "      <th>8</th>\n",
       "      <td>3KP</td>\n",
       "      <td>3H6</td>\n",
       "      <td>318</td>\n",
       "      <td>Good</td>\n",
       "    </tr>\n",
       "    <tr>\n",
       "      <th>9</th>\n",
       "      <td>3KR</td>\n",
       "      <td>3H6</td>\n",
       "      <td>31A</td>\n",
       "      <td>Bad</td>\n",
       "    </tr>\n",
       "    <tr>\n",
       "      <th>10</th>\n",
       "      <td>3KT</td>\n",
       "      <td>3H6</td>\n",
       "      <td>31C</td>\n",
       "      <td>Bad</td>\n",
       "    </tr>\n",
       "    <tr>\n",
       "      <th>11</th>\n",
       "      <td>3KW</td>\n",
       "      <td>3H6</td>\n",
       "      <td>31E</td>\n",
       "      <td>Bad</td>\n",
       "    </tr>\n",
       "    <tr>\n",
       "      <th>12</th>\n",
       "      <td>3KY</td>\n",
       "      <td>3H6</td>\n",
       "      <td>31G</td>\n",
       "      <td>Good</td>\n",
       "    </tr>\n",
       "    <tr>\n",
       "      <th>13</th>\n",
       "      <td>3M0</td>\n",
       "      <td>3H6</td>\n",
       "      <td>31J</td>\n",
       "      <td>Bad</td>\n",
       "    </tr>\n",
       "    <tr>\n",
       "      <th>14</th>\n",
       "      <td>3M2</td>\n",
       "      <td>3H6</td>\n",
       "      <td>31M</td>\n",
       "      <td>Bad</td>\n",
       "    </tr>\n",
       "    <tr>\n",
       "      <th>15</th>\n",
       "      <td>3M4</td>\n",
       "      <td>3H6</td>\n",
       "      <td>31P</td>\n",
       "      <td>Good</td>\n",
       "    </tr>\n",
       "    <tr>\n",
       "      <th>16</th>\n",
       "      <td>3M6</td>\n",
       "      <td>3H6</td>\n",
       "      <td>31R</td>\n",
       "      <td>Good</td>\n",
       "    </tr>\n",
       "    <tr>\n",
       "      <th>17</th>\n",
       "      <td>3M8</td>\n",
       "      <td>3H6</td>\n",
       "      <td>31T</td>\n",
       "      <td>Good</td>\n",
       "    </tr>\n",
       "    <tr>\n",
       "      <th>18</th>\n",
       "      <td>3MA</td>\n",
       "      <td>3H6</td>\n",
       "      <td>31W</td>\n",
       "      <td>Bad</td>\n",
       "    </tr>\n",
       "    <tr>\n",
       "      <th>19</th>\n",
       "      <td>3MC</td>\n",
       "      <td>3H6</td>\n",
       "      <td>31Y</td>\n",
       "      <td>Good</td>\n",
       "    </tr>\n",
       "  </tbody>\n",
       "</table>\n",
       "</div>"
      ]
     },
     "metadata": {},
     "output_type": "display_data"
    },
    {
     "data": {
      "text/plain": [
       "<IPython.core.display.Markdown object>"
      ],
      "text/markdown": "### BoundingBox"
     },
     "metadata": {},
     "output_type": "display_data"
    },
    {
     "data": {
      "text/plain": [
       "    RID Execution Image BoundingBox\n",
       "0   3ME       3H6   30R         3HA\n",
       "1   3MG       3H6   30T         3HC\n",
       "2   3MJ       3H6   30W         3HE\n",
       "3   3MM       3H6   30Y         3HG\n",
       "4   3MP       3H6   310         3HJ\n",
       "5   3MR       3H6   312         3HM\n",
       "6   3MT       3H6   314         3HP\n",
       "7   3MW       3H6   316         3HR\n",
       "8   3MY       3H6   318         3HT\n",
       "9   3N0       3H6   31A         3HW\n",
       "10  3N2       3H6   31C         3HA\n",
       "11  3N4       3H6   31E         3HC\n",
       "12  3N6       3H6   31G         3HE\n",
       "13  3N8       3H6   31J         3HG\n",
       "14  3NA       3H6   31M         3HJ\n",
       "15  3NC       3H6   31P         3HM\n",
       "16  3NE       3H6   31R         3HP\n",
       "17  3NG       3H6   31T         3HR\n",
       "18  3NJ       3H6   31W         3HT\n",
       "19  3NM       3H6   31Y         3HW"
      ],
      "text/html": [
       "<div>\n",
       "<style scoped>\n",
       "    .dataframe tbody tr th:only-of-type {\n",
       "        vertical-align: middle;\n",
       "    }\n",
       "\n",
       "    .dataframe tbody tr th {\n",
       "        vertical-align: top;\n",
       "    }\n",
       "\n",
       "    .dataframe thead th {\n",
       "        text-align: right;\n",
       "    }\n",
       "</style>\n",
       "<table border=\"1\" class=\"dataframe\">\n",
       "  <thead>\n",
       "    <tr style=\"text-align: right;\">\n",
       "      <th></th>\n",
       "      <th>RID</th>\n",
       "      <th>Execution</th>\n",
       "      <th>Image</th>\n",
       "      <th>BoundingBox</th>\n",
       "    </tr>\n",
       "  </thead>\n",
       "  <tbody>\n",
       "    <tr>\n",
       "      <th>0</th>\n",
       "      <td>3ME</td>\n",
       "      <td>3H6</td>\n",
       "      <td>30R</td>\n",
       "      <td>3HA</td>\n",
       "    </tr>\n",
       "    <tr>\n",
       "      <th>1</th>\n",
       "      <td>3MG</td>\n",
       "      <td>3H6</td>\n",
       "      <td>30T</td>\n",
       "      <td>3HC</td>\n",
       "    </tr>\n",
       "    <tr>\n",
       "      <th>2</th>\n",
       "      <td>3MJ</td>\n",
       "      <td>3H6</td>\n",
       "      <td>30W</td>\n",
       "      <td>3HE</td>\n",
       "    </tr>\n",
       "    <tr>\n",
       "      <th>3</th>\n",
       "      <td>3MM</td>\n",
       "      <td>3H6</td>\n",
       "      <td>30Y</td>\n",
       "      <td>3HG</td>\n",
       "    </tr>\n",
       "    <tr>\n",
       "      <th>4</th>\n",
       "      <td>3MP</td>\n",
       "      <td>3H6</td>\n",
       "      <td>310</td>\n",
       "      <td>3HJ</td>\n",
       "    </tr>\n",
       "    <tr>\n",
       "      <th>5</th>\n",
       "      <td>3MR</td>\n",
       "      <td>3H6</td>\n",
       "      <td>312</td>\n",
       "      <td>3HM</td>\n",
       "    </tr>\n",
       "    <tr>\n",
       "      <th>6</th>\n",
       "      <td>3MT</td>\n",
       "      <td>3H6</td>\n",
       "      <td>314</td>\n",
       "      <td>3HP</td>\n",
       "    </tr>\n",
       "    <tr>\n",
       "      <th>7</th>\n",
       "      <td>3MW</td>\n",
       "      <td>3H6</td>\n",
       "      <td>316</td>\n",
       "      <td>3HR</td>\n",
       "    </tr>\n",
       "    <tr>\n",
       "      <th>8</th>\n",
       "      <td>3MY</td>\n",
       "      <td>3H6</td>\n",
       "      <td>318</td>\n",
       "      <td>3HT</td>\n",
       "    </tr>\n",
       "    <tr>\n",
       "      <th>9</th>\n",
       "      <td>3N0</td>\n",
       "      <td>3H6</td>\n",
       "      <td>31A</td>\n",
       "      <td>3HW</td>\n",
       "    </tr>\n",
       "    <tr>\n",
       "      <th>10</th>\n",
       "      <td>3N2</td>\n",
       "      <td>3H6</td>\n",
       "      <td>31C</td>\n",
       "      <td>3HA</td>\n",
       "    </tr>\n",
       "    <tr>\n",
       "      <th>11</th>\n",
       "      <td>3N4</td>\n",
       "      <td>3H6</td>\n",
       "      <td>31E</td>\n",
       "      <td>3HC</td>\n",
       "    </tr>\n",
       "    <tr>\n",
       "      <th>12</th>\n",
       "      <td>3N6</td>\n",
       "      <td>3H6</td>\n",
       "      <td>31G</td>\n",
       "      <td>3HE</td>\n",
       "    </tr>\n",
       "    <tr>\n",
       "      <th>13</th>\n",
       "      <td>3N8</td>\n",
       "      <td>3H6</td>\n",
       "      <td>31J</td>\n",
       "      <td>3HG</td>\n",
       "    </tr>\n",
       "    <tr>\n",
       "      <th>14</th>\n",
       "      <td>3NA</td>\n",
       "      <td>3H6</td>\n",
       "      <td>31M</td>\n",
       "      <td>3HJ</td>\n",
       "    </tr>\n",
       "    <tr>\n",
       "      <th>15</th>\n",
       "      <td>3NC</td>\n",
       "      <td>3H6</td>\n",
       "      <td>31P</td>\n",
       "      <td>3HM</td>\n",
       "    </tr>\n",
       "    <tr>\n",
       "      <th>16</th>\n",
       "      <td>3NE</td>\n",
       "      <td>3H6</td>\n",
       "      <td>31R</td>\n",
       "      <td>3HP</td>\n",
       "    </tr>\n",
       "    <tr>\n",
       "      <th>17</th>\n",
       "      <td>3NG</td>\n",
       "      <td>3H6</td>\n",
       "      <td>31T</td>\n",
       "      <td>3HR</td>\n",
       "    </tr>\n",
       "    <tr>\n",
       "      <th>18</th>\n",
       "      <td>3NJ</td>\n",
       "      <td>3H6</td>\n",
       "      <td>31W</td>\n",
       "      <td>3HT</td>\n",
       "    </tr>\n",
       "    <tr>\n",
       "      <th>19</th>\n",
       "      <td>3NM</td>\n",
       "      <td>3H6</td>\n",
       "      <td>31Y</td>\n",
       "      <td>3HW</td>\n",
       "    </tr>\n",
       "  </tbody>\n",
       "</table>\n",
       "</div>"
      ]
     },
     "metadata": {},
     "output_type": "display_data"
    }
   ],
   "execution_count": 14
  },
  {
   "metadata": {},
   "cell_type": "markdown",
   "source": "Now lets make some more features, but this time, we will upload them from local files.",
   "id": "cd580ba01814b1a3"
  },
  {
   "metadata": {},
   "cell_type": "code",
   "source": [
    "ml_instance.add_term(MLVocab.workflow_type, \"File Workflow\", description=\"A Workflow that loads features from file system\")\n",
    "\n",
    "fs_workflow = Workflow(\n",
    "    name=\"File Workflow\", \n",
    "    url=\"https://github.com/informatics-isi-edu/deriva-ml/blob/main/pyproject.toml\",\n",
    "    workflow_type=\"File Workflow\"\n",
    ")\n",
    "\n",
    "fs_execution = ml_instance.initialize_execution(ExecutionConfiguration(\n",
    "    execution=Execution(description=\"Sample Execution via filesystem\"), \n",
    "    workflow=fs_workflow, \n",
    "    description=\"Our Sample Workflow instance\")\n",
    ")"
   ],
   "id": "68fa052564b74b42",
   "outputs": [],
   "execution_count": null
  },
  {
   "metadata": {},
   "cell_type": "code",
   "source": [
    "# Create a new set of images.  For fun, lets wrap this in an execution so we get status updates\n",
    "\n",
    "with ml_instance.execution(configuration=fs_execution) as exec:\n",
    "    bb_csv_path, bb_asset_paths = ml_instance.feature_paths('Image', 'BoundingBox')\n",
    "    bounding_box_files = [bb_asset_paths['BoundingBox'] / f\"box{i}.txt\" for i in range(10)]\n",
    "    for i in range(10):\n",
    "        bounding_box_files.append(fn := bb_asset_paths['BoundingBox'] / f\"box{i}.txt\")\n",
    "        with builtins.open(fn, \"w\") as fp:\n",
    "            fp.write(f\"Hi there {i}\")\n",
    "\n",
    "    image_bounding_box_feature_list = [ImageBoundingboxFeature(Image=image_rid,\n",
    "        Execution=fs_execution.execution_rid,\n",
    "        BoundingBox=asset_rid)\n",
    "            for image_rid, asset_rid in zip(image_rids, itertools.cycle(bounding_box_files))]\n",
    "\n",
    "    with open(bb_csv_path, 'w') as f:\n",
    "        writer = csv.DictWriter(f, fieldnames=ImageBoundingboxFeature.model_fields.keys())\n",
    "        writer.writeheader()\n",
    "        for bb in image_bounding_box_feature_list:\n",
    "            writer.writerow(bb.dict())\n",
    "    \n",
    "    quality_csv_path, _ = ml_instance.feature_paths('Image', 'Quality')\n",
    "    image_quality_feature_list = [ImageQualityFeature(\n",
    "        Image=image_rid,\n",
    "        Execution=fs_execution.execution_rid,\n",
    "        ImageQuality= [\"Good\", \"Bad\"][random.randint(0,1)])\n",
    "            for image_rid in image_rids]\n",
    "    with open(quality_csv_path, 'w') as f:\n",
    "        writer = csv.DictWriter(f, fieldnames=ImageQualityFeature.model_fields.keys())\n",
    "        writer.writeheader()\n",
    "        for bb in image_quality_feature_list:\n",
    "            writer.writerow(bb.dict())\n",
    "            \n",
    "    wellness_csv_path, _ = ml_instance.feature_paths('Subject', 'Health')\n",
    "    subject_feature_list = [SubjectWellnessFeature(\n",
    "        Subject=subject_rid,\n",
    "        Execution=fs_execution.execution_rid,\n",
    "        SubjectHealth= [\"Well\", \"Sick\"][random.randint(0,1)],\n",
    "        Scale=random.randint(1, 10)) for subject_rid in subject_rids]\n",
    "    with open(wellness_csv_path, 'w') as f:\n",
    "        writer = csv.DictWriter(f, fieldnames=list(SubjectWellnessFeature.model_fields.keys()))\n",
    "        writer.writeheader()\n",
    "        for bb in subject_feature_list:\n",
    "            writer.writerow(bb.dict())\n",
    "        "
   ],
   "id": "bf0c2b3fe320ecea",
   "outputs": [],
   "execution_count": null
  },
  {
   "metadata": {},
   "cell_type": "code",
   "source": "ml_instance.upload_execution(fs_execution, clean_folder=False)",
   "id": "867a84963c13f08a",
   "outputs": [],
   "execution_count": null
  },
  {
   "metadata": {},
   "cell_type": "code",
   "source": [
    "display(\n",
    "    Markdown('### Wellness'),\n",
    "    pd.DataFrame(ml_instance.list_feature(\"Subject\", \"Health\")).drop(columns=system_columns),\n",
    "    Markdown('### Image Quality'),\n",
    "    pd.DataFrame(ml_instance.list_feature(\"Image\", \"Quality\")).drop(columns=system_columns),\n",
    "    Markdown('### BoundingBox'),\n",
    "    pd.DataFrame(ml_instance.list_feature(\"Image\", \"BoundingBox\")).drop(columns=system_columns)\n",
    ")"
   ],
   "id": "1dc086187029b49d",
   "outputs": [],
   "execution_count": null
  },
  {
   "metadata": {},
   "cell_type": "code",
   "source": "test_catalog.delete_ermrest_catalog(really=True)",
   "id": "6e76bbdf-2441-4444-be7f-e55399bcc32a",
   "outputs": [],
   "execution_count": null
  },
  {
   "metadata": {},
   "cell_type": "code",
   "source": "bounding_box_assets",
   "id": "f2b1dbdf27a0668f",
   "outputs": [],
   "execution_count": null
  },
  {
   "metadata": {},
   "cell_type": "code",
   "source": "",
   "id": "f720a02d1379227b",
   "outputs": [],
   "execution_count": null
  }
 ],
 "metadata": {
  "kernelspec": {
   "display_name": "deriva-kernal",
   "language": "python",
   "name": "deriva-kernal"
  },
  "language_info": {
   "codemirror_mode": {
    "name": "ipython",
    "version": 3
   },
   "file_extension": ".py",
   "mimetype": "text/x-python",
   "name": "python",
   "nbconvert_exporter": "python",
   "pygments_lexer": "ipython3",
   "version": "3.12.2"
  }
 },
 "nbformat": 4,
 "nbformat_minor": 5
}
