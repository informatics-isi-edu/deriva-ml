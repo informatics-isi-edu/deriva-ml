{
 "cells": [
  {
   "cell_type": "markdown",
   "id": "94ffee41-4986-4196-b35d-b38b6e10490a",
   "metadata": {},
   "source": [
    "DerivaML is a class library built on the Deriva Scientific Asset management system that is designed to help simplify a number of the basic operations associated with building and testing ML libraries based on common toolkits such as TensorFlow.  This notebook reviews the basic features of the DerivaML library."
   ]
  },
  {
   "cell_type": "code",
   "id": "ff605747-195b-40a1-b915-0e799f8d0748",
   "metadata": {},
   "source": [
    "from fontTools.subset import subset_features\n",
    "%load_ext autoreload\n",
    "%autoreload 2"
   ],
   "outputs": [],
   "execution_count": null
  },
  {
   "cell_type": "code",
   "id": "9493a5ef-86b9-490b-a1d5-f461fdcd68ef",
   "metadata": {},
   "source": [
    "import builtins\n",
    "from deriva.core.utils.globus_auth_utils import GlobusNativeLogin\n",
    "from deriva_ml.deriva_ml_base import ColumnDefinition, BuiltinTypes\n",
    "from deriva_ml.schema_setup.test_catalog import create_test_catalog, DemoML\n",
    "from deriva_ml.execution_configuration import ExecutionConfiguration, Workflow, Execution, WorkflowTerm, Term\n",
    "import itertools\n",
    "from pathlib import Path\n",
    "import pandas as pd\n",
    "import tempfile\n",
    "import random"
   ],
   "outputs": [],
   "execution_count": null
  },
  {
   "cell_type": "markdown",
   "id": "ba06990f-6dc5-4805-9e82-0881a524bfef",
   "metadata": {},
   "source": [
    "Set the details for the catalog we want and authenticate to the server if needed."
   ]
  },
  {
   "cell_type": "code",
   "id": "9ee79ab7-a3f7-4c69-9c80-336871c13ec2",
   "metadata": {},
   "source": [
    "hostname = 'dev.eye-ai.org'\n",
    "domain_schema = 'demo-schema'\n",
    "\n",
    "gnl = GlobusNativeLogin(host=hostname)\n",
    "if gnl.is_logged_in([hostname]):\n",
    "    print(\"You are already logged in.\")\n",
    "else:\n",
    "    gnl.login([hostname], no_local_server=True, no_browser=True, refresh_tokens=True, update_bdbag_keychain=True)\n",
    "    print(\"Login Successful\")\n"
   ],
   "outputs": [],
   "execution_count": null
  },
  {
   "cell_type": "markdown",
   "id": "a23e5177-106b-48b6-b5e0-a126d35f4084",
   "metadata": {},
   "source": [
    "Create a test catalog and get an instance of the DerivaML class."
   ]
  },
  {
   "cell_type": "code",
   "id": "e9bddcf0-27ea-40b3-a388-b77635586fad",
   "metadata": {},
   "source": [
    "test_catalog = create_test_catalog(hostname, domain_schema)\n",
    "ml_instance = DemoML(hostname, test_catalog.catalog_id)"
   ],
   "outputs": [],
   "execution_count": null
  },
  {
   "cell_type": "markdown",
   "id": "353d51c9-b8a6-4b75-a0da-ffa2db134169",
   "metadata": {},
   "source": [
    "## Create New Features\n",
    "\n",
    "A feature is a set of values that are attached to a table in the DerivaML catalog. Instances of features are distingushed from one another by the ID of the execution that produced the feature value. The execution could be the result of a program, or it could be a manual process by which a person defines a set of values\n",
    "\n",
    "To create a new feature, we need to know the name of the feature, the table to which it is attached, and the set of values that make up the feature.  The values could be terms from a controlled vocabulary, a set of one or more file based assets, or other values, such as integers, or strings. However, use of strings outside of controlled vocabularies is discouraged."
   ]
  },
  {
   "cell_type": "code",
   "id": "1d726b44-c60f-435a-9966-cfe3fc3da2e9",
   "metadata": {},
   "source": [
    "# Prerequests for our feature, which will include a CV term and asset.\n",
    "\n",
    "# Create a vocabulary and add a term to it to use in our features.\n",
    "ml_instance.create_vocabulary(\"SubjectStatus\", comment=\"A vocab for image quality\")\n",
    "ml_instance.add_term(\"SubjectStatus\", \"Sick\", description=\"A sick subject\")\n",
    "ml_instance.add_term(\"SubjectStatus\", \"Well\", description=\"A healthy subject\")\n",
    "\n",
    "box_asset = ml_instance.create_asset(\"BoundingBox\", comment=\"A asset\")\n",
    "\n",
    "# Now lets create and upload a simple asset.\n",
    "with tempfile.TemporaryDirectory() as tmpdirname:\n",
    "    assetdir = Path(tmpdirname) / \"BoundingBox\"\n",
    "    assetdir.mkdir(parents=True, exist_ok=True)\n",
    "    for i in range(10):\n",
    "        with builtins.open(assetdir / f\"box{i}.txt\", \"w\") as fp:\n",
    "            fp.write(f\"Hi there from box {i}\")\n",
    "    ml_instance.upload_assets(assetdir)"
   ],
   "outputs": [],
   "execution_count": null
  },
  {
   "cell_type": "code",
   "id": "50fc85db-8173-463d-830e-7dfd7eba08f7",
   "metadata": {},
   "source": [
    "# We are going to have three values in our feature, a controlled vocabulary term from the vocabulary FeatureValue, a file asset and \n",
    "# an integer value which we will call \"TestCol\"\n",
    "ml_instance.create_feature(\"SubjectStatus\", \"Subject\",\n",
    "                                        terms=[\"SubjectStatus\"],\n",
    "                                        metadata=[ColumnDefinition(name='Scale', type=BuiltinTypes.int2)])\n",
    "\n",
    "ml_instance.create_feature(\"BoundingBox\", \"Image\",\n",
    "                                        assets=[box_asset],\n",
    "                                        metadata=[ColumnDefinition(name='Scale', type=BuiltinTypes.int2)])\n",
    "\n",
    "\n",
    "print([f.feature_name for f in ml_instance.find_features(\"Subject\")])\n",
    "print([f.feature_name for f in ml_instance.find_features(\"Image\")])\n"
   ],
   "outputs": [],
   "execution_count": null
  },
  {
   "cell_type": "markdown",
   "id": "83d2bd27-da2d-4918-9c8a-378c95addfcc",
   "metadata": {},
   "source": [
    "Now we can add some features to our images.  To streamline the creation of new feature, we create a class that is specific to the arguments required to create it."
   ]
  },
  {
   "cell_type": "code",
   "id": "7f6b68c6-4bc0-4837-a2b6-729d116a8702",
   "metadata": {},
   "source": [
    "ImageFeatureClass = ml_instance.feature_record_class(\"Image\", \"BoundingBox\")\n",
    "SubjectFeatureClass = ml_instance.feature_record_class(\"Subject\", \"SubjectStatus\")\n",
    "\n",
    "print(\"Image Feature:\")\n",
    "display(ImageFeatureClass.model_fields)\n",
    "print(\"Subject Feature:\")\n",
    "display(SubjectFeatureClass.model_fields)\n"
   ],
   "outputs": [],
   "execution_count": null
  },
  {
   "cell_type": "markdown",
   "id": "92416df1-e3f9-4097-bc19-b24712dc7242",
   "metadata": {},
   "source": [
    "Now using TestFeatureClass, we can create some instances of the feature and add it.  We must have a exeuction_rid in order to define the feature."
   ]
  },
  {
   "cell_type": "code",
   "id": "cdcc8f5c-874b-4bf9-89ef-e1ea90b9f91f",
   "metadata": {},
   "source": [
    "config = ExecutionConfiguration(\n",
    "    execution=Execution(description=\"Sample Execution\"), \n",
    "    workflow=Workflow(\n",
    "        name=\"Sample Workflow\", \n",
    "        url=\"https://github.com/informatics-isi-edu/deriva-ml/blob/main/pyproject.toml\", \n",
    "        workflow_type=\"Sample Workflow\"), \n",
    "    workflow_terms=[WorkflowTerm(term=Term.workflow, name=\"Sample Workflow\", description=\"Sample Workflow Example\")],\n",
    "    description=\"Our Sample Workflow instance\")\n",
    "configuration_record = ml_instance.initialize_execution(config)\n",
    "execution_rid = configuration_record.execution_rid"
   ],
   "outputs": [],
   "execution_count": null
  },
  {
   "cell_type": "code",
   "id": "4d8204f2-1411-45ed-b093-1d50751862ba",
   "metadata": {},
   "source": [
    "# Get some images to attach the feature value to.\n",
    "image_rids = [i['RID'] for i in ml_instance.domain_path.tables['Image'].entities().fetch()]\n",
    "asset_rids = [i['RID'] for i in ml_instance.domain_path.tables['BoundingBox'].entities().fetch()]\n",
    "subject_rids = [i['RID'] for i in ml_instance.domain_path.tables['Subject'].entities().fetch()]\n",
    "\n",
    "# Now create a list of features using the feature creation class returned by create_feature.\n",
    "image_feature_list = [ImageFeatureClass(\n",
    "    Image=image_rid,\n",
    "    Execution=execution_rid,\n",
    "    BoundingBox=asset_rid,\n",
    "    Scale=random.randint(1, 10)) for image_rid, asset_rid in zip(image_rids, itertools.cycle(asset_rids))]\n",
    "\n",
    "subject_feature_list = [SubjectFeatureClass(\n",
    "    Subject=subject_rid,\n",
    "    Execution=execution_rid,\n",
    "    SubjectStatus=status,\n",
    "    Scale=random.randint(1, 10)) for subject_rid, status in zip(subject_rids, itertools.cycle([\"Sick\", \"Well\"]))]\n",
    "\n",
    "ml_instance.add_features(image_feature_list)\n",
    "ml_instance.add_features(subject_feature_list)"
   ],
   "outputs": [],
   "execution_count": null
  },
  {
   "cell_type": "code",
   "id": "240cb784-0ffc-4fc5-aa8d-fb2ee9267355",
   "metadata": {},
   "source": [
    "system_columns = ['RCT', 'RMT', 'RCB', 'RMB']\n",
    "\n",
    "display(pd.DataFrame(ml_instance.list_feature(\"Subject\", \"SubjectStatus\")).drop(columns=system_columns))\n",
    "display(pd.DataFrame(ml_instance.list_feature(\"Image\", \"BoundingBox\")).drop(columns=system_columns))\n"
   ],
   "outputs": [],
   "execution_count": null
  },
  {
   "metadata": {},
   "cell_type": "markdown",
   "source": [
    "## Computing Features\n",
    "\n",
    "In the previous example, we used the API to create new features. However, creating new feature values is also integrated into the process fo managing an execution in deriva-ml.\n",
    "\n",
    "First we will create a new execution for our computation."
   ],
   "id": "4f3810bcba952211"
  },
  {
   "metadata": {},
   "cell_type": "code",
   "source": [
    "config = ExecutionConfiguration(\n",
    "    execution=Execution(description=\"Our second execution\"),\n",
    "    workflow=Workflow(\n",
    "        name=\"Sample Workflow\",\n",
    "        url=\"https://github.com/informatics-isi-edu/deriva-ml/blob/main/pyproject.toml\",\n",
    "        workflow_type=\"Sample Workflow\"),\n",
    "    workflow_terms=[WorkflowTerm(term=Term.workflow, name=\"Sample Workflow\", description=\"Sample Workflow Example\")],\n",
    "    description=\"Our Sample Workflow instance\")\n",
    "configuration_record = ml_instance.initialize_execution(config)\n",
    "execution_rid = configuration_record.execution_rid"
   ],
   "id": "a434fb0459f69575",
   "outputs": [],
   "execution_count": null
  },
  {
   "metadata": {},
   "cell_type": "code",
   "source": [
    "ml_instance.add_dataset_element_type(\"Subject\")\n",
    "ml_instance.add_term(\"Dataset_Type\", \"Subject Dataset\", description=\"Subject Dataset\")\n",
    "subject_dataset = ml_instance.create_dataset(\"Subject Dataset\", description=\"Subject Dataset\")\n",
    "ml_instance.add_dataset_members(subject_dataset, subject_rids)"
   ],
   "id": "368dfd1350c3f5a4",
   "outputs": [],
   "execution_count": null
  },
  {
   "metadata": {},
   "cell_type": "code",
   "source": "bag_path = ml_instance.materialize_dataset_bag(subject_dataset)[0]",
   "id": "c14cf877080011f9",
   "outputs": [],
   "execution_count": null
  },
  {
   "metadata": {},
   "cell_type": "code",
   "source": "bag_path",
   "id": "c9623193ebfddcdd",
   "outputs": [],
   "execution_count": null
  },
  {
   "metadata": {},
   "cell_type": "code",
   "source": "",
   "id": "77053bab483cdc3e",
   "outputs": [],
   "execution_count": null
  },
  {
   "metadata": {},
   "cell_type": "code",
   "source": "test_catalog.delete_ermrest_catalog(really=True)",
   "id": "6e76bbdf-2441-4444-be7f-e55399bcc32a",
   "outputs": [],
   "execution_count": null
  }
 ],
 "metadata": {
  "kernelspec": {
   "display_name": "deriva-kernal",
   "language": "python",
   "name": "deriva-kernal"
  },
  "language_info": {
   "codemirror_mode": {
    "name": "ipython",
    "version": 3
   },
   "file_extension": ".py",
   "mimetype": "text/x-python",
   "name": "python",
   "nbconvert_exporter": "python",
   "pygments_lexer": "ipython3",
   "version": "3.12.2"
  }
 },
 "nbformat": 4,
 "nbformat_minor": 5
}
