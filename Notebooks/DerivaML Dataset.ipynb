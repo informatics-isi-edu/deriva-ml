{
 "cells": [
  {
   "cell_type": "markdown",
   "id": "a5ff6e4c93a70770",
   "metadata": {},
   "source": [
    "# DerivaML Dataset Example.\n",
    "\n",
    "DerivaML is a class library built on the Deriva Scientific Asset management system that is designed to help simplify a number of the basic operations associated with building and testing ML libraries based on common toolkits such as TensorFlow.  This notebook reviews the basic features of the DerivaML library."
   ]
  },
  {
   "cell_type": "markdown",
   "id": "db30e3e5ccd3ad77",
   "metadata": {},
   "source": [
    "## Set up DerivaML  for test case"
   ]
  },
  {
   "cell_type": "code",
   "id": "29f3e870d1fea4f8",
   "metadata": {
    "ExecuteTime": {
     "end_time": "2024-11-27T21:13:04.941636Z",
     "start_time": "2024-11-27T21:13:04.927138Z"
    }
   },
   "source": [
    "%load_ext autoreload\n",
    "%autoreload 2"
   ],
   "outputs": [],
   "execution_count": 1
  },
  {
   "cell_type": "code",
   "id": "1d18222d50d0ef7c",
   "metadata": {
    "ExecuteTime": {
     "end_time": "2024-11-27T21:13:52.254397Z",
     "start_time": "2024-11-27T21:13:51.791538Z"
    }
   },
   "source": [
    "from deriva.core.utils.globus_auth_utils import GlobusNativeLogin\n",
    "from demo_catalog import create_demo_catalog, DemoML\n",
    "from deriva_ml import MLVocab as vt\n",
    "from deriva_ml import DatasetBag\n",
    "import pandas as pd\n",
    "from IPython.display import display, Markdown, HTML"
   ],
   "outputs": [],
   "execution_count": 3
  },
  {
   "cell_type": "markdown",
   "id": "eb169235902c77be",
   "metadata": {},
   "source": [
    "Set the details for the catalog we want and authenticate to the server if needed."
   ]
  },
  {
   "cell_type": "code",
   "id": "677df6f200423a9d",
   "metadata": {
    "ExecuteTime": {
     "end_time": "2024-11-27T21:35:46.553607Z",
     "start_time": "2024-11-27T21:35:46.503530Z"
    }
   },
   "source": [
    "hostname = 'dev.eye-ai.org'\n",
    "domain_schema = 'demo-schema'\n",
    "\n",
    "gnl = GlobusNativeLogin(host=hostname)\n",
    "if gnl.is_logged_in([hostname]):\n",
    "    print(\"You are already logged in.\")\n",
    "else:\n",
    "    gnl.login([hostname], no_local_server=True, no_browser=True, refresh_tokens=True, update_bdbag_keychain=True)\n",
    "    print(\"Login Successful\")\n"
   ],
   "outputs": [
    {
     "name": "stdout",
     "output_type": "stream",
     "text": [
      "You are already logged in.\n"
     ]
    }
   ],
   "execution_count": 7
  },
  {
   "cell_type": "markdown",
   "id": "cc01e85a63c60536",
   "metadata": {},
   "source": [
    "Create a test catalog and get an instance of the DemoML class."
   ]
  },
  {
   "cell_type": "code",
   "id": "a843170d141c8a8",
   "metadata": {
    "ExecuteTime": {
     "end_time": "2024-11-27T21:36:13.664942Z",
     "start_time": "2024-11-27T21:35:48.903251Z"
    }
   },
   "source": [
    "test_catalog = create_demo_catalog(hostname, domain_schema)\n",
    "ml_instance = DemoML(hostname, test_catalog.catalog_id)"
   ],
   "outputs": [],
   "execution_count": 8
  },
  {
   "cell_type": "markdown",
   "id": "48c7854af033245",
   "metadata": {},
   "source": [
    "## Configure DerivaML Datasets\n",
    "\n",
    "In Deriva-ML a dataset is used to aggregate instances of entities.  However, before we can create any datasets, we must configure \n",
    "Deriva-ML for the specifics of the datasets.  The first stp is we need to tell Deriva-ML what types of use defined objects can be associated with a dataset.  \n",
    "\n",
    "Note that out of the box, Deriva-ML is configured to allow datasets to contained dataset (i.e. nested datasets), so we don't need to do anything for that specific configuration."
   ]
  },
  {
   "cell_type": "code",
   "id": "21e3d412920ac963",
   "metadata": {
    "ExecuteTime": {
     "end_time": "2024-11-27T21:36:32.437764Z",
     "start_time": "2024-11-27T21:36:30.573754Z"
    }
   },
   "source": [
    "print(f\"Current dataset element types: {[a.name for a in ml_instance.list_dataset_element_types()]}\")\n",
    "ml_instance.add_dataset_element_type(\"Subject\")\n",
    "ml_instance.add_dataset_element_type(\"Image\")\n",
    "print(f\"New dataset element types {[a.name for a in ml_instance.list_dataset_element_types()]}\")"
   ],
   "outputs": [
    {
     "name": "stdout",
     "output_type": "stream",
     "text": [
      "Current dataset element types: ['Dataset']\n",
      "New dataset element types ['Dataset', 'Subject', 'Image']\n"
     ]
    }
   ],
   "execution_count": 9
  },
  {
   "cell_type": "markdown",
   "id": "874f49d81439e0c9",
   "metadata": {},
   "source": "Now that we have configured our datasets, we need to identify the dataset types so we can distinguish between them."
  },
  {
   "cell_type": "code",
   "id": "6908fba1443aee13",
   "metadata": {
    "ExecuteTime": {
     "end_time": "2024-11-27T21:36:35.530333Z",
     "start_time": "2024-11-27T21:36:34.161760Z"
    }
   },
   "source": [
    "# Create a new dataset\n",
    "ml_instance.add_term(vt.dataset_type, \"DemoSet\", description=\"A test dataset\")\n",
    "ml_instance.add_term(vt.dataset_type, 'Partitioned', description=\"A partitioned dataset for ML training.\")\n",
    "ml_instance.add_term(vt.dataset_type, \"Subject\", description=\"A test dataset\")\n",
    "ml_instance.add_term(vt.dataset_type, \"Image\", description=\"A test dataset\")\n",
    "ml_instance.add_term(vt.dataset_type, \"Training\", description=\"Training dataset\")\n",
    "ml_instance.add_term(vt.dataset_type, \"Testing\", description=\"Training dataset\")\n",
    "ml_instance.add_term(vt.dataset_type, \"Validation\", description=\"Validation dataset\")\n",
    "\n",
    "ml_instance.list_vocabulary_terms(vt.dataset_type)"
   ],
   "outputs": [
    {
     "data": {
      "text/plain": [
       "[VocabularyTerm(name='DemoSet', synonyms=[], id='ml-test:38J', uri='/id/38J', description='A test dataset', rid='38J'),\n",
       " VocabularyTerm(name='Partitioned', synonyms=[], id='ml-test:38M', uri='/id/38M', description='A partitioned dataset for ML training.', rid='38M'),\n",
       " VocabularyTerm(name='Subject', synonyms=[], id='ml-test:38P', uri='/id/38P', description='A test dataset', rid='38P'),\n",
       " VocabularyTerm(name='Image', synonyms=[], id='ml-test:38R', uri='/id/38R', description='A test dataset', rid='38R'),\n",
       " VocabularyTerm(name='Training', synonyms=[], id='ml-test:38T', uri='/id/38T', description='Training dataset', rid='38T'),\n",
       " VocabularyTerm(name='Testing', synonyms=[], id='ml-test:38W', uri='/id/38W', description='Training dataset', rid='38W'),\n",
       " VocabularyTerm(name='Validation', synonyms=[], id='ml-test:38Y', uri='/id/38Y', description='Validation dataset', rid='38Y')]"
      ]
     },
     "execution_count": 10,
     "metadata": {},
     "output_type": "execute_result"
    }
   ],
   "execution_count": 10
  },
  {
   "cell_type": "markdown",
   "id": "1f902cd9561842c2",
   "metadata": {},
   "source": [
    "Now create datasets and populate with elements from the test catalogs."
   ]
  },
  {
   "cell_type": "code",
   "id": "10567931cbd3c322",
   "metadata": {
    "ExecuteTime": {
     "end_time": "2024-11-27T21:36:39.262157Z",
     "start_time": "2024-11-27T21:36:38.135577Z"
    }
   },
   "source": [
    "system_columns = ['RCT', 'RMT', 'RCB', 'RMB']\n",
    "\n",
    "subject_dataset = ml_instance.create_dataset(['DemoSet', 'Subject'], description=\"A subject dataset\")\n",
    "image_dataset = ml_instance.create_dataset(['DemoSet', 'Image'], description=\"A image training dataset\")\n",
    "datasets = pd.DataFrame(ml_instance.find_datasets()).drop(columns=system_columns)\n",
    "display(\n",
    "    Markdown('## Datasets'),\n",
    "    datasets)"
   ],
   "outputs": [
    {
     "data": {
      "text/plain": [
       "<IPython.core.display.Markdown object>"
      ],
      "text/markdown": "## Datasets"
     },
     "metadata": {},
     "output_type": "display_data"
    },
    {
     "data": {
      "text/plain": [
       "   RID               Description        Dataset_Type\n",
       "0  390         A subject dataset  [DemoSet, Subject]\n",
       "1  396  A image training dataset    [DemoSet, Image]"
      ],
      "text/html": [
       "<div>\n",
       "<style scoped>\n",
       "    .dataframe tbody tr th:only-of-type {\n",
       "        vertical-align: middle;\n",
       "    }\n",
       "\n",
       "    .dataframe tbody tr th {\n",
       "        vertical-align: top;\n",
       "    }\n",
       "\n",
       "    .dataframe thead th {\n",
       "        text-align: right;\n",
       "    }\n",
       "</style>\n",
       "<table border=\"1\" class=\"dataframe\">\n",
       "  <thead>\n",
       "    <tr style=\"text-align: right;\">\n",
       "      <th></th>\n",
       "      <th>RID</th>\n",
       "      <th>Description</th>\n",
       "      <th>Dataset_Type</th>\n",
       "    </tr>\n",
       "  </thead>\n",
       "  <tbody>\n",
       "    <tr>\n",
       "      <th>0</th>\n",
       "      <td>390</td>\n",
       "      <td>A subject dataset</td>\n",
       "      <td>[DemoSet, Subject]</td>\n",
       "    </tr>\n",
       "    <tr>\n",
       "      <th>1</th>\n",
       "      <td>396</td>\n",
       "      <td>A image training dataset</td>\n",
       "      <td>[DemoSet, Image]</td>\n",
       "    </tr>\n",
       "  </tbody>\n",
       "</table>\n",
       "</div>"
      ]
     },
     "metadata": {},
     "output_type": "display_data"
    }
   ],
   "execution_count": 11
  },
  {
   "cell_type": "markdown",
   "id": "6474d1edb488097f",
   "metadata": {},
   "source": "And now that we have defined some datasets, we can add elements of the appropriate type to them.  We can see what is in our new datasets by listing the dataset members."
  },
  {
   "cell_type": "code",
   "id": "16bb5b8b8b2a5288",
   "metadata": {
    "ExecuteTime": {
     "end_time": "2024-11-27T21:36:48.157085Z",
     "start_time": "2024-11-27T21:36:41.430021Z"
    }
   },
   "source": [
    "dp = ml_instance.domain_path  # Each call returns a new path instance, so only call once...\n",
    "subject_rids = [i['RID'] for i in dp.tables['Subject'].entities().fetch()]\n",
    "image_rids = [i['RID'] for i in dp.tables['Image'].entities().fetch()]\n",
    "\n",
    "ml_instance.add_dataset_members(dataset_rid=subject_dataset, members=subject_rids)\n",
    "ml_instance.add_dataset_members(dataset_rid=image_dataset, members=image_rids)\n",
    "\n",
    "# List the contents of our datasets, and let's not include columns like modify time.\n",
    "display(\n",
    "    Markdown('## Subject Dataset'),\n",
    "    pd.DataFrame(ml_instance.list_dataset_members(subject_dataset)['Subject']).drop(columns=system_columns),\n",
    "    Markdown('## Image Dataset'),\n",
    "    pd.DataFrame(ml_instance.list_dataset_members(image_dataset)['Image']).drop(columns=system_columns))"
   ],
   "outputs": [
    {
     "data": {
      "text/plain": [
       "<IPython.core.display.Markdown object>"
      ],
      "text/markdown": "## Subject Dataset"
     },
     "metadata": {},
     "output_type": "display_data"
    },
    {
     "data": {
      "text/plain": [
       "    RID     Name\n",
       "0   31A   Thing1\n",
       "1   31C   Thing2\n",
       "2   31E   Thing3\n",
       "3   31G   Thing4\n",
       "4   31J   Thing5\n",
       "5   31M   Thing6\n",
       "6   31P   Thing7\n",
       "7   31R   Thing8\n",
       "8   31T   Thing9\n",
       "9   31W  Thing10\n",
       "10  31Y  Thing11\n",
       "11  320  Thing12\n",
       "12  322  Thing13\n",
       "13  324  Thing14\n",
       "14  326  Thing15\n",
       "15  328  Thing16\n",
       "16  32A  Thing17\n",
       "17  32C  Thing18\n",
       "18  32E  Thing19\n",
       "19  32G  Thing20"
      ],
      "text/html": [
       "<div>\n",
       "<style scoped>\n",
       "    .dataframe tbody tr th:only-of-type {\n",
       "        vertical-align: middle;\n",
       "    }\n",
       "\n",
       "    .dataframe tbody tr th {\n",
       "        vertical-align: top;\n",
       "    }\n",
       "\n",
       "    .dataframe thead th {\n",
       "        text-align: right;\n",
       "    }\n",
       "</style>\n",
       "<table border=\"1\" class=\"dataframe\">\n",
       "  <thead>\n",
       "    <tr style=\"text-align: right;\">\n",
       "      <th></th>\n",
       "      <th>RID</th>\n",
       "      <th>Name</th>\n",
       "    </tr>\n",
       "  </thead>\n",
       "  <tbody>\n",
       "    <tr>\n",
       "      <th>0</th>\n",
       "      <td>31A</td>\n",
       "      <td>Thing1</td>\n",
       "    </tr>\n",
       "    <tr>\n",
       "      <th>1</th>\n",
       "      <td>31C</td>\n",
       "      <td>Thing2</td>\n",
       "    </tr>\n",
       "    <tr>\n",
       "      <th>2</th>\n",
       "      <td>31E</td>\n",
       "      <td>Thing3</td>\n",
       "    </tr>\n",
       "    <tr>\n",
       "      <th>3</th>\n",
       "      <td>31G</td>\n",
       "      <td>Thing4</td>\n",
       "    </tr>\n",
       "    <tr>\n",
       "      <th>4</th>\n",
       "      <td>31J</td>\n",
       "      <td>Thing5</td>\n",
       "    </tr>\n",
       "    <tr>\n",
       "      <th>5</th>\n",
       "      <td>31M</td>\n",
       "      <td>Thing6</td>\n",
       "    </tr>\n",
       "    <tr>\n",
       "      <th>6</th>\n",
       "      <td>31P</td>\n",
       "      <td>Thing7</td>\n",
       "    </tr>\n",
       "    <tr>\n",
       "      <th>7</th>\n",
       "      <td>31R</td>\n",
       "      <td>Thing8</td>\n",
       "    </tr>\n",
       "    <tr>\n",
       "      <th>8</th>\n",
       "      <td>31T</td>\n",
       "      <td>Thing9</td>\n",
       "    </tr>\n",
       "    <tr>\n",
       "      <th>9</th>\n",
       "      <td>31W</td>\n",
       "      <td>Thing10</td>\n",
       "    </tr>\n",
       "    <tr>\n",
       "      <th>10</th>\n",
       "      <td>31Y</td>\n",
       "      <td>Thing11</td>\n",
       "    </tr>\n",
       "    <tr>\n",
       "      <th>11</th>\n",
       "      <td>320</td>\n",
       "      <td>Thing12</td>\n",
       "    </tr>\n",
       "    <tr>\n",
       "      <th>12</th>\n",
       "      <td>322</td>\n",
       "      <td>Thing13</td>\n",
       "    </tr>\n",
       "    <tr>\n",
       "      <th>13</th>\n",
       "      <td>324</td>\n",
       "      <td>Thing14</td>\n",
       "    </tr>\n",
       "    <tr>\n",
       "      <th>14</th>\n",
       "      <td>326</td>\n",
       "      <td>Thing15</td>\n",
       "    </tr>\n",
       "    <tr>\n",
       "      <th>15</th>\n",
       "      <td>328</td>\n",
       "      <td>Thing16</td>\n",
       "    </tr>\n",
       "    <tr>\n",
       "      <th>16</th>\n",
       "      <td>32A</td>\n",
       "      <td>Thing17</td>\n",
       "    </tr>\n",
       "    <tr>\n",
       "      <th>17</th>\n",
       "      <td>32C</td>\n",
       "      <td>Thing18</td>\n",
       "    </tr>\n",
       "    <tr>\n",
       "      <th>18</th>\n",
       "      <td>32E</td>\n",
       "      <td>Thing19</td>\n",
       "    </tr>\n",
       "    <tr>\n",
       "      <th>19</th>\n",
       "      <td>32G</td>\n",
       "      <td>Thing20</td>\n",
       "    </tr>\n",
       "  </tbody>\n",
       "</table>\n",
       "</div>"
      ]
     },
     "metadata": {},
     "output_type": "display_data"
    },
    {
     "data": {
      "text/plain": [
       "<IPython.core.display.Markdown object>"
      ],
      "text/markdown": "## Image Dataset"
     },
     "metadata": {},
     "output_type": "display_data"
    },
    {
     "data": {
      "text/plain": [
       "    RID                                                URL      Filename  \\\n",
       "0   32J  /hatrac/Image/996a51e1ce68849b3af787250b5685d4...  test_31A.txt   \n",
       "1   32M  /hatrac/Image/6bbfddbadb096135329062bd86a88ab1...  test_31C.txt   \n",
       "2   32P  /hatrac/Image/783a4326e686b55cdc5df43e546afdca...  test_31E.txt   \n",
       "3   32R  /hatrac/Image/c3cf19a9163f247fdcd1930a8f51c6e3...  test_31G.txt   \n",
       "4   32T  /hatrac/Image/ee9e9acf7b5d89a5732f24a960765381...  test_31J.txt   \n",
       "5   32W  /hatrac/Image/a89a059ceb86cc9039328ce63f0e4197...  test_31M.txt   \n",
       "6   32Y  /hatrac/Image/58f2199c8ae244ffd420187fb0bb85db...  test_31P.txt   \n",
       "7   330  /hatrac/Image/45a480dfcc9a527f6f1b40dbf64195a9...  test_31R.txt   \n",
       "8   332  /hatrac/Image/d735918a0e7c8d4a60c9ec227edae676...  test_31T.txt   \n",
       "9   334  /hatrac/Image/6dabf396e878bef914386435d201f871...  test_31W.txt   \n",
       "10  336  /hatrac/Image/8a4ba40b547ed75ca6cde47885bd59fb...  test_31Y.txt   \n",
       "11  338  /hatrac/Image/385b8dc77fb6c82cf8a3e5acb43da7c9...  test_320.txt   \n",
       "12  33A  /hatrac/Image/d3967cd8ba1dc77990bd5f82a27d34b5...  test_322.txt   \n",
       "13  33C  /hatrac/Image/58d24879c8603a9a77be5c30bf97df07...  test_324.txt   \n",
       "14  33E  /hatrac/Image/38ff2118084120ff5155c71a4f2211ca...  test_326.txt   \n",
       "15  33G  /hatrac/Image/3979cc2666ad1225f899873df4311578...  test_328.txt   \n",
       "16  33J  /hatrac/Image/fc26fa38ad2cae51a5da892b63c05921...  test_32A.txt   \n",
       "17  33M  /hatrac/Image/51b6f4d4a1827f5d7a116aad1616df4e...  test_32C.txt   \n",
       "18  33P  /hatrac/Image/6eb8520fd464cce607893509f8188704...  test_32E.txt   \n",
       "19  33R  /hatrac/Image/245c1b9b112eec9567cee0a164758087...  test_32G.txt   \n",
       "\n",
       "     Description  Length                               MD5  Name Subject  \n",
       "0   A test image      32  996a51e1ce68849b3af787250b5685d4  None     31A  \n",
       "1   A test image      31  6bbfddbadb096135329062bd86a88ab1  None     31C  \n",
       "2   A test image      31  783a4326e686b55cdc5df43e546afdca  None     31E  \n",
       "3   A test image      31  c3cf19a9163f247fdcd1930a8f51c6e3  None     31G  \n",
       "4   A test image      32  ee9e9acf7b5d89a5732f24a960765381  None     31J  \n",
       "5   A test image      31  a89a059ceb86cc9039328ce63f0e4197  None     31M  \n",
       "6   A test image      31  58f2199c8ae244ffd420187fb0bb85db  None     31P  \n",
       "7   A test image      31  45a480dfcc9a527f6f1b40dbf64195a9  None     31R  \n",
       "8   A test image      31  d735918a0e7c8d4a60c9ec227edae676  None     31T  \n",
       "9   A test image      31  6dabf396e878bef914386435d201f871  None     31W  \n",
       "10  A test image      31  8a4ba40b547ed75ca6cde47885bd59fb  None     31Y  \n",
       "11  A test image      31  385b8dc77fb6c82cf8a3e5acb43da7c9  None     320  \n",
       "12  A test image      32  d3967cd8ba1dc77990bd5f82a27d34b5  None     322  \n",
       "13  A test image      31  58d24879c8603a9a77be5c30bf97df07  None     324  \n",
       "14  A test image      31  38ff2118084120ff5155c71a4f2211ca  None     326  \n",
       "15  A test image      29  3979cc2666ad1225f899873df4311578  None     328  \n",
       "16  A test image      31  fc26fa38ad2cae51a5da892b63c05921  None     32A  \n",
       "17  A test image      32  51b6f4d4a1827f5d7a116aad1616df4e  None     32C  \n",
       "18  A test image      31  6eb8520fd464cce607893509f8188704  None     32E  \n",
       "19  A test image      31  245c1b9b112eec9567cee0a164758087  None     32G  "
      ],
      "text/html": [
       "<div>\n",
       "<style scoped>\n",
       "    .dataframe tbody tr th:only-of-type {\n",
       "        vertical-align: middle;\n",
       "    }\n",
       "\n",
       "    .dataframe tbody tr th {\n",
       "        vertical-align: top;\n",
       "    }\n",
       "\n",
       "    .dataframe thead th {\n",
       "        text-align: right;\n",
       "    }\n",
       "</style>\n",
       "<table border=\"1\" class=\"dataframe\">\n",
       "  <thead>\n",
       "    <tr style=\"text-align: right;\">\n",
       "      <th></th>\n",
       "      <th>RID</th>\n",
       "      <th>URL</th>\n",
       "      <th>Filename</th>\n",
       "      <th>Description</th>\n",
       "      <th>Length</th>\n",
       "      <th>MD5</th>\n",
       "      <th>Name</th>\n",
       "      <th>Subject</th>\n",
       "    </tr>\n",
       "  </thead>\n",
       "  <tbody>\n",
       "    <tr>\n",
       "      <th>0</th>\n",
       "      <td>32J</td>\n",
       "      <td>/hatrac/Image/996a51e1ce68849b3af787250b5685d4...</td>\n",
       "      <td>test_31A.txt</td>\n",
       "      <td>A test image</td>\n",
       "      <td>32</td>\n",
       "      <td>996a51e1ce68849b3af787250b5685d4</td>\n",
       "      <td>None</td>\n",
       "      <td>31A</td>\n",
       "    </tr>\n",
       "    <tr>\n",
       "      <th>1</th>\n",
       "      <td>32M</td>\n",
       "      <td>/hatrac/Image/6bbfddbadb096135329062bd86a88ab1...</td>\n",
       "      <td>test_31C.txt</td>\n",
       "      <td>A test image</td>\n",
       "      <td>31</td>\n",
       "      <td>6bbfddbadb096135329062bd86a88ab1</td>\n",
       "      <td>None</td>\n",
       "      <td>31C</td>\n",
       "    </tr>\n",
       "    <tr>\n",
       "      <th>2</th>\n",
       "      <td>32P</td>\n",
       "      <td>/hatrac/Image/783a4326e686b55cdc5df43e546afdca...</td>\n",
       "      <td>test_31E.txt</td>\n",
       "      <td>A test image</td>\n",
       "      <td>31</td>\n",
       "      <td>783a4326e686b55cdc5df43e546afdca</td>\n",
       "      <td>None</td>\n",
       "      <td>31E</td>\n",
       "    </tr>\n",
       "    <tr>\n",
       "      <th>3</th>\n",
       "      <td>32R</td>\n",
       "      <td>/hatrac/Image/c3cf19a9163f247fdcd1930a8f51c6e3...</td>\n",
       "      <td>test_31G.txt</td>\n",
       "      <td>A test image</td>\n",
       "      <td>31</td>\n",
       "      <td>c3cf19a9163f247fdcd1930a8f51c6e3</td>\n",
       "      <td>None</td>\n",
       "      <td>31G</td>\n",
       "    </tr>\n",
       "    <tr>\n",
       "      <th>4</th>\n",
       "      <td>32T</td>\n",
       "      <td>/hatrac/Image/ee9e9acf7b5d89a5732f24a960765381...</td>\n",
       "      <td>test_31J.txt</td>\n",
       "      <td>A test image</td>\n",
       "      <td>32</td>\n",
       "      <td>ee9e9acf7b5d89a5732f24a960765381</td>\n",
       "      <td>None</td>\n",
       "      <td>31J</td>\n",
       "    </tr>\n",
       "    <tr>\n",
       "      <th>5</th>\n",
       "      <td>32W</td>\n",
       "      <td>/hatrac/Image/a89a059ceb86cc9039328ce63f0e4197...</td>\n",
       "      <td>test_31M.txt</td>\n",
       "      <td>A test image</td>\n",
       "      <td>31</td>\n",
       "      <td>a89a059ceb86cc9039328ce63f0e4197</td>\n",
       "      <td>None</td>\n",
       "      <td>31M</td>\n",
       "    </tr>\n",
       "    <tr>\n",
       "      <th>6</th>\n",
       "      <td>32Y</td>\n",
       "      <td>/hatrac/Image/58f2199c8ae244ffd420187fb0bb85db...</td>\n",
       "      <td>test_31P.txt</td>\n",
       "      <td>A test image</td>\n",
       "      <td>31</td>\n",
       "      <td>58f2199c8ae244ffd420187fb0bb85db</td>\n",
       "      <td>None</td>\n",
       "      <td>31P</td>\n",
       "    </tr>\n",
       "    <tr>\n",
       "      <th>7</th>\n",
       "      <td>330</td>\n",
       "      <td>/hatrac/Image/45a480dfcc9a527f6f1b40dbf64195a9...</td>\n",
       "      <td>test_31R.txt</td>\n",
       "      <td>A test image</td>\n",
       "      <td>31</td>\n",
       "      <td>45a480dfcc9a527f6f1b40dbf64195a9</td>\n",
       "      <td>None</td>\n",
       "      <td>31R</td>\n",
       "    </tr>\n",
       "    <tr>\n",
       "      <th>8</th>\n",
       "      <td>332</td>\n",
       "      <td>/hatrac/Image/d735918a0e7c8d4a60c9ec227edae676...</td>\n",
       "      <td>test_31T.txt</td>\n",
       "      <td>A test image</td>\n",
       "      <td>31</td>\n",
       "      <td>d735918a0e7c8d4a60c9ec227edae676</td>\n",
       "      <td>None</td>\n",
       "      <td>31T</td>\n",
       "    </tr>\n",
       "    <tr>\n",
       "      <th>9</th>\n",
       "      <td>334</td>\n",
       "      <td>/hatrac/Image/6dabf396e878bef914386435d201f871...</td>\n",
       "      <td>test_31W.txt</td>\n",
       "      <td>A test image</td>\n",
       "      <td>31</td>\n",
       "      <td>6dabf396e878bef914386435d201f871</td>\n",
       "      <td>None</td>\n",
       "      <td>31W</td>\n",
       "    </tr>\n",
       "    <tr>\n",
       "      <th>10</th>\n",
       "      <td>336</td>\n",
       "      <td>/hatrac/Image/8a4ba40b547ed75ca6cde47885bd59fb...</td>\n",
       "      <td>test_31Y.txt</td>\n",
       "      <td>A test image</td>\n",
       "      <td>31</td>\n",
       "      <td>8a4ba40b547ed75ca6cde47885bd59fb</td>\n",
       "      <td>None</td>\n",
       "      <td>31Y</td>\n",
       "    </tr>\n",
       "    <tr>\n",
       "      <th>11</th>\n",
       "      <td>338</td>\n",
       "      <td>/hatrac/Image/385b8dc77fb6c82cf8a3e5acb43da7c9...</td>\n",
       "      <td>test_320.txt</td>\n",
       "      <td>A test image</td>\n",
       "      <td>31</td>\n",
       "      <td>385b8dc77fb6c82cf8a3e5acb43da7c9</td>\n",
       "      <td>None</td>\n",
       "      <td>320</td>\n",
       "    </tr>\n",
       "    <tr>\n",
       "      <th>12</th>\n",
       "      <td>33A</td>\n",
       "      <td>/hatrac/Image/d3967cd8ba1dc77990bd5f82a27d34b5...</td>\n",
       "      <td>test_322.txt</td>\n",
       "      <td>A test image</td>\n",
       "      <td>32</td>\n",
       "      <td>d3967cd8ba1dc77990bd5f82a27d34b5</td>\n",
       "      <td>None</td>\n",
       "      <td>322</td>\n",
       "    </tr>\n",
       "    <tr>\n",
       "      <th>13</th>\n",
       "      <td>33C</td>\n",
       "      <td>/hatrac/Image/58d24879c8603a9a77be5c30bf97df07...</td>\n",
       "      <td>test_324.txt</td>\n",
       "      <td>A test image</td>\n",
       "      <td>31</td>\n",
       "      <td>58d24879c8603a9a77be5c30bf97df07</td>\n",
       "      <td>None</td>\n",
       "      <td>324</td>\n",
       "    </tr>\n",
       "    <tr>\n",
       "      <th>14</th>\n",
       "      <td>33E</td>\n",
       "      <td>/hatrac/Image/38ff2118084120ff5155c71a4f2211ca...</td>\n",
       "      <td>test_326.txt</td>\n",
       "      <td>A test image</td>\n",
       "      <td>31</td>\n",
       "      <td>38ff2118084120ff5155c71a4f2211ca</td>\n",
       "      <td>None</td>\n",
       "      <td>326</td>\n",
       "    </tr>\n",
       "    <tr>\n",
       "      <th>15</th>\n",
       "      <td>33G</td>\n",
       "      <td>/hatrac/Image/3979cc2666ad1225f899873df4311578...</td>\n",
       "      <td>test_328.txt</td>\n",
       "      <td>A test image</td>\n",
       "      <td>29</td>\n",
       "      <td>3979cc2666ad1225f899873df4311578</td>\n",
       "      <td>None</td>\n",
       "      <td>328</td>\n",
       "    </tr>\n",
       "    <tr>\n",
       "      <th>16</th>\n",
       "      <td>33J</td>\n",
       "      <td>/hatrac/Image/fc26fa38ad2cae51a5da892b63c05921...</td>\n",
       "      <td>test_32A.txt</td>\n",
       "      <td>A test image</td>\n",
       "      <td>31</td>\n",
       "      <td>fc26fa38ad2cae51a5da892b63c05921</td>\n",
       "      <td>None</td>\n",
       "      <td>32A</td>\n",
       "    </tr>\n",
       "    <tr>\n",
       "      <th>17</th>\n",
       "      <td>33M</td>\n",
       "      <td>/hatrac/Image/51b6f4d4a1827f5d7a116aad1616df4e...</td>\n",
       "      <td>test_32C.txt</td>\n",
       "      <td>A test image</td>\n",
       "      <td>32</td>\n",
       "      <td>51b6f4d4a1827f5d7a116aad1616df4e</td>\n",
       "      <td>None</td>\n",
       "      <td>32C</td>\n",
       "    </tr>\n",
       "    <tr>\n",
       "      <th>18</th>\n",
       "      <td>33P</td>\n",
       "      <td>/hatrac/Image/6eb8520fd464cce607893509f8188704...</td>\n",
       "      <td>test_32E.txt</td>\n",
       "      <td>A test image</td>\n",
       "      <td>31</td>\n",
       "      <td>6eb8520fd464cce607893509f8188704</td>\n",
       "      <td>None</td>\n",
       "      <td>32E</td>\n",
       "    </tr>\n",
       "    <tr>\n",
       "      <th>19</th>\n",
       "      <td>33R</td>\n",
       "      <td>/hatrac/Image/245c1b9b112eec9567cee0a164758087...</td>\n",
       "      <td>test_32G.txt</td>\n",
       "      <td>A test image</td>\n",
       "      <td>31</td>\n",
       "      <td>245c1b9b112eec9567cee0a164758087</td>\n",
       "      <td>None</td>\n",
       "      <td>32G</td>\n",
       "    </tr>\n",
       "  </tbody>\n",
       "</table>\n",
       "</div>"
      ]
     },
     "metadata": {},
     "output_type": "display_data"
    }
   ],
   "execution_count": 12
  },
  {
   "cell_type": "markdown",
   "id": "2ac02c487e8a3be3",
   "metadata": {},
   "source": [
    "## Create partitioned dataset\n",
    "\n",
    "Now let's create some subsets of the original dataset based on subject level metadata. We are going to create the subsets based on the metadata values of the subjects. We will download the subject dataset and look at its metadata to figure out how to partition the original data. Since we are not going to look at the images, we use download_dataset_bag, rather than materialize_bag."
   ]
  },
  {
   "cell_type": "code",
   "id": "5f8f12b942310485",
   "metadata": {},
   "source": [
    "bag_path, bag_rid = ml_instance.download_dataset_bag(subject_dataset)\n",
    "ml_instance.materialize_dataset_bag(subject_dataset)\n",
    "dataset_bag = DatasetBag(bag_path)\n",
    "print(f\"Bag materialized to {bag_path}\")"
   ],
   "outputs": [],
   "execution_count": null
  },
  {
   "cell_type": "markdown",
   "id": "aefa71000a8888b5",
   "metadata": {},
   "source": "The domain model has two object: Subject and Images where an Image is associated with a subject, but a subject can have multiple images associated with it.  Let's look at the subjects and partition into test and training datasets."
  },
  {
   "cell_type": "code",
   "id": "405cebbc9d686f9b",
   "metadata": {},
   "source": [
    "# Get information about the subjects.....\n",
    "subject_df = dataset_bag.get_table_as_dataframe('Subject')[['RID', 'Name']]\n",
    "image_df = dataset_bag.get_table_as_dataframe('Image')[['RID', 'Subject', 'URL']]\n",
    "metadata_df = subject_df.join(image_df, lsuffix=\"_subject\", rsuffix=\"_image\")\n",
    "display(metadata_df)"
   ],
   "outputs": [],
   "execution_count": null
  },
  {
   "cell_type": "markdown",
   "id": "a251643b1b7389b2",
   "metadata": {},
   "source": [
    "For ths example, lets partition the data based on the name of the subject.  Of course in real examples, we would do a more complex analysis in deciding\n",
    "what subset goes into each data set."
   ]
  },
  {
   "cell_type": "code",
   "id": "fac3a1b3d7db6556",
   "metadata": {},
   "source": [
    "def thing_number(name: pd.Series) -> pd.Series:\n",
    "    return name.map(lambda n: int(n.replace('Thing','')))\n",
    "\n",
    "training_rids = metadata_df.loc[lambda df: thing_number(df['Name']) % 3 == 0]['RID_image'].tolist()\n",
    "testing_rids =  metadata_df.loc[lambda df: thing_number(df['Name']) % 3 == 1]['RID_image'].tolist()\n",
    "validation_rids = metadata_df.loc[lambda df: thing_number(df['Name']) % 3 == 2]['RID_image'].tolist()\n",
    "\n",
    "print(f'Training images: {training_rids}')\n",
    "print(f'Testing images: {testing_rids}')\n",
    "print(f'Validation images: {validation_rids}')\n"
   ],
   "outputs": [],
   "execution_count": null
  },
  {
   "cell_type": "markdown",
   "id": "27e66ce59b0fb193",
   "metadata": {},
   "source": [
    "Now that we know what we want in each dataset, lets create datasets for each of our partitioned elements along with a nested dataset to track the entire collection."
   ]
  },
  {
   "cell_type": "code",
   "id": "1fcf179738fad9f2",
   "metadata": {},
   "source": [
    "nested_dataset = ml_instance.create_dataset(['Partitioned', 'Image'], description='A nested dataset for machine learning')\n",
    "training_dataset = ml_instance.create_dataset('Training', description='An image dataset for training')\n",
    "testing_dataset = ml_instance.create_dataset('Testing', description='A image dataset for testing')\n",
    "validation_dataset = ml_instance.create_dataset('Validation', description='A image dataset for validation')\n",
    "pd.DataFrame(ml_instance.find_datasets()).drop(columns=system_columns)"
   ],
   "outputs": [],
   "execution_count": null
  },
  {
   "cell_type": "markdown",
   "id": "ac71fa8b087340ec",
   "metadata": {},
   "source": [
    "And then fill the datasets with the appropriate members."
   ]
  },
  {
   "cell_type": "code",
   "id": "6e76bbdf-2441-4444-be7f-e55399bcc32a",
   "metadata": {},
   "source": [
    "\n",
    "ml_instance.add_dataset_members(dataset_rid=nested_dataset, members=[training_dataset, testing_dataset, validation_dataset])\n",
    "ml_instance.add_dataset_members(dataset_rid=training_dataset, members=training_rids)\n",
    "ml_instance.add_dataset_members(dataset_rid=testing_dataset, members=testing_rids)\n",
    "ml_instance.add_dataset_members(dataset_rid=validation_dataset, members=validation_rids)\n"
   ],
   "outputs": [],
   "execution_count": null
  },
  {
   "cell_type": "markdown",
   "id": "9d67f5a8334cde9d",
   "metadata": {},
   "source": [
    "Ok, lets see what we have now."
   ]
  },
  {
   "cell_type": "code",
   "id": "93af8b022d6c7edf",
   "metadata": {},
   "source": [
    "display(\n",
    "    Markdown('## Nested Dataset'),\n",
    "    pd.DataFrame(ml_instance.list_dataset_members(nested_dataset)['Dataset']).drop(columns=system_columns),\n",
    "    Markdown('## Training Dataset'),\n",
    "    pd.DataFrame(ml_instance.list_dataset_members(training_dataset)['Image']).drop(columns=system_columns),\n",
    "    Markdown('## Testing Dataset'),\n",
    "    pd.DataFrame(ml_instance.list_dataset_members(testing_dataset)['Image']).drop(columns=system_columns),\n",
    "    Markdown('## Validation Dataset'),\n",
    "    pd.DataFrame(ml_instance.list_dataset_members(validation_dataset)['Image']).drop(columns=system_columns))"
   ],
   "outputs": [],
   "execution_count": null
  },
  {
   "cell_type": "markdown",
   "id": "fc6b8ddd57688870",
   "metadata": {},
   "source": "As our very last step, lets get a PID that will allow us to share and cite the dataset that we just created"
  },
  {
   "cell_type": "code",
   "id": "636459f674713ec9",
   "metadata": {},
   "source": [
    "dataset_citation = ml_instance.cite(nested_dataset)\n",
    "display(\n",
    "    HTML(f'Nested dataset citation: <a href={nested_dataset}>{nested_dataset}</a>')\n",
    ")"
   ],
   "outputs": [],
   "execution_count": null
  },
  {
   "metadata": {},
   "cell_type": "code",
   "source": "display(HTML(f'<a href={ml_instance.chaise_url(\"Dataset\")}>Browse Datasets</a>'))",
   "id": "4a27565e0e1fcd85",
   "outputs": [],
   "execution_count": null
  },
  {
   "cell_type": "code",
   "id": "2b47915187993a22",
   "metadata": {},
   "source": [
    "test_catalog.delete_ermrest_catalog(really=True)"
   ],
   "outputs": [],
   "execution_count": null
  }
 ],
 "metadata": {
  "kernelspec": {
   "display_name": "deriva-ml",
   "language": "python",
   "name": "deriva-ml"
  },
  "language_info": {
   "codemirror_mode": {
    "name": "ipython",
    "version": 3
   },
   "file_extension": ".py",
   "mimetype": "text/x-python",
   "name": "python",
   "nbconvert_exporter": "python",
   "pygments_lexer": "ipython3",
   "version": "3.12.2"
  }
 },
 "nbformat": 4,
 "nbformat_minor": 5
}
