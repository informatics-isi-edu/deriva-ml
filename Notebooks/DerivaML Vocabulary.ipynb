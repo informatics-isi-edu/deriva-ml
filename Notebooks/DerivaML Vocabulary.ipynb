{
 "cells": [
  {
   "cell_type": "markdown",
   "id": "94ffee41-4986-4196-b35d-b38b6e10490a",
   "metadata": {},
   "source": [
    "# DerivaML Vocabulary Example.\n",
    "\n",
    "DerivaML is a class library built on the Deriva Scientific Asset management system that is designed to help simplify a number of the basic operations associated with building and testing ML libraries based on common toolkits such as TensorFlow.  This notebook reviews the basic features of the DerivaML library.\n",
    "\n",
    "A core aspect of DerivaML is the extensive use of controlled vocabulary terms.  A vocabulary term may be something defined outside of the study, for example from an ontology like Uberon or Schema.org, or it can be a term that is defined and used locally by the ML team.  The purpose of using controlled vocabulary is that it makes it easier to find data and can help ensure that proper communication is taking place between members of the ML team."
   ]
  },
  {
   "metadata": {},
   "cell_type": "markdown",
   "source": [
    "## Preliminaries.\n",
    "\n",
    "To start, we will do some preliminaries, loading needed modules and making sure we are logged into the DerivaML server."
   ],
   "id": "ba06990f-6dc5-4805-9e82-0881a524bfef"
  },
  {
   "metadata": {
    "ExecuteTime": {
     "end_time": "2024-12-04T01:59:33.928989Z",
     "start_time": "2024-12-04T01:59:33.926273Z"
    }
   },
   "cell_type": "code",
   "source": [
    "from IPython.display import display, Markdown, HTML\n",
    "import pandas as pd\n",
    "from deriva.core.utils.globus_auth_utils import GlobusNativeLogin\n",
    "from deriva_ml.demo_catalog import create_demo_catalog, DemoML\n",
    "from deriva_ml import MLVocab"
   ],
   "id": "26084458ba862df0",
   "outputs": [],
   "execution_count": 8
  },
  {
   "metadata": {
    "ExecuteTime": {
     "end_time": "2024-12-04T01:59:33.941528Z",
     "start_time": "2024-12-04T01:59:33.935381Z"
    }
   },
   "cell_type": "code",
   "source": [
    "hostname = 'dev.eye-ai.org'   # This needs to be changed.\n",
    "\n",
    "gnl = GlobusNativeLogin(host=hostname)\n",
    "if gnl.is_logged_in([hostname]):\n",
    "    print(\"You are already logged in.\")\n",
    "else:\n",
    "    gnl.login([hostname], no_local_server=True, no_browser=True, refresh_tokens=True, update_bdbag_keychain=True)\n",
    "    print(\"Login Successful\")"
   ],
   "id": "101257f07059db89",
   "outputs": [
    {
     "name": "stdout",
     "output_type": "stream",
     "text": [
      "You are already logged in.\n"
     ]
    }
   ],
   "execution_count": 9
  },
  {
   "cell_type": "markdown",
   "id": "a23e5177-106b-48b6-b5e0-a126d35f4084",
   "metadata": {},
   "source": [
    "### Create a test catalog.\n",
    "Create a test catalog and get an instance of the DerivaML class."
   ]
  },
  {
   "cell_type": "code",
   "id": "e9bddcf0-27ea-40b3-a388-b77635586fad",
   "metadata": {
    "ExecuteTime": {
     "end_time": "2024-12-04T01:59:54.819142Z",
     "start_time": "2024-12-04T01:59:33.953800Z"
    }
   },
   "source": [
    "test_catalog = create_demo_catalog(hostname)\n",
    "ml_instance = DemoML(hostname, test_catalog.catalog_id)"
   ],
   "outputs": [
    {
     "name": "stdout",
     "output_type": "stream",
     "text": [
      "deriva_ml.demo_catalog\n"
     ]
    },
    {
     "ename": "PackageNotFoundError",
     "evalue": "No package metadata was found for deriva_ml.demo_catalog",
     "output_type": "error",
     "traceback": [
      "\u001B[0;31m---------------------------------------------------------------------------\u001B[0m",
      "\u001B[0;31mStopIteration\u001B[0m                             Traceback (most recent call last)",
      "File \u001B[0;32m~/opt/anaconda3/envs/deriva-ml/lib/python3.12/importlib/metadata/__init__.py:397\u001B[0m, in \u001B[0;36mDistribution.from_name\u001B[0;34m(cls, name)\u001B[0m\n\u001B[1;32m    396\u001B[0m \u001B[38;5;28;01mtry\u001B[39;00m:\n\u001B[0;32m--> 397\u001B[0m     \u001B[38;5;28;01mreturn\u001B[39;00m \u001B[38;5;28;43mnext\u001B[39;49m\u001B[43m(\u001B[49m\u001B[38;5;28;43mcls\u001B[39;49m\u001B[38;5;241;43m.\u001B[39;49m\u001B[43mdiscover\u001B[49m\u001B[43m(\u001B[49m\u001B[43mname\u001B[49m\u001B[38;5;241;43m=\u001B[39;49m\u001B[43mname\u001B[49m\u001B[43m)\u001B[49m\u001B[43m)\u001B[49m\n\u001B[1;32m    398\u001B[0m \u001B[38;5;28;01mexcept\u001B[39;00m \u001B[38;5;167;01mStopIteration\u001B[39;00m:\n",
      "\u001B[0;31mStopIteration\u001B[0m: ",
      "\nDuring handling of the above exception, another exception occurred:\n",
      "\u001B[0;31mPackageNotFoundError\u001B[0m                      Traceback (most recent call last)",
      "Cell \u001B[0;32mIn[10], line 2\u001B[0m\n\u001B[1;32m      1\u001B[0m test_catalog \u001B[38;5;241m=\u001B[39m create_demo_catalog(hostname)\n\u001B[0;32m----> 2\u001B[0m ml_instance \u001B[38;5;241m=\u001B[39m \u001B[43mDemoML\u001B[49m\u001B[43m(\u001B[49m\u001B[43mhostname\u001B[49m\u001B[43m,\u001B[49m\u001B[43m \u001B[49m\u001B[43mtest_catalog\u001B[49m\u001B[38;5;241;43m.\u001B[39;49m\u001B[43mcatalog_id\u001B[49m\u001B[43m)\u001B[49m\n",
      "File \u001B[0;32m~/Repos/Projects/deriva-ml/src/deriva_ml/demo_catalog.py:118\u001B[0m, in \u001B[0;36mDemoML.__init__\u001B[0;34m(self, hostname, catalog_id, cache_dir, working_dir)\u001B[0m\n\u001B[1;32m    111\u001B[0m     \u001B[38;5;28;01mdef\u001B[39;00m \u001B[38;5;21m__init__\u001B[39m(\u001B[38;5;28mself\u001B[39m, hostname, catalog_id, cache_dir: \u001B[38;5;28mstr\u001B[39m \u001B[38;5;241m=\u001B[39m \u001B[38;5;28;01mNone\u001B[39;00m, working_dir: \u001B[38;5;28mstr\u001B[39m \u001B[38;5;241m=\u001B[39m \u001B[38;5;28;01mNone\u001B[39;00m):\n\u001B[1;32m    112\u001B[0m         \u001B[38;5;28mprint\u001B[39m(\u001B[38;5;18m__name__\u001B[39m)\n\u001B[1;32m    113\u001B[0m         \u001B[38;5;28msuper\u001B[39m()\u001B[38;5;241m.\u001B[39m\u001B[38;5;21m__init__\u001B[39m(hostname\u001B[38;5;241m=\u001B[39mhostname,\n\u001B[1;32m    114\u001B[0m                          catalog_id\u001B[38;5;241m=\u001B[39mcatalog_id,\n\u001B[1;32m    115\u001B[0m                          project_name\u001B[38;5;241m=\u001B[39m\u001B[38;5;124m'\u001B[39m\u001B[38;5;124mml-test\u001B[39m\u001B[38;5;124m'\u001B[39m,\n\u001B[1;32m    116\u001B[0m                          cache_dir\u001B[38;5;241m=\u001B[39mcache_dir,\n\u001B[1;32m    117\u001B[0m                          working_dir\u001B[38;5;241m=\u001B[39mworking_dir,\n\u001B[0;32m--> 118\u001B[0m                          model_version\u001B[38;5;241m=\u001B[39m\u001B[43mversion\u001B[49m\u001B[43m(\u001B[49m\u001B[38;5;18;43m__name__\u001B[39;49m\u001B[43m)\u001B[49m \u001B[38;5;66;03m# Normally this would be the module with the derived class.\u001B[39;00m\n\u001B[1;32m    119\u001B[0m )\n",
      "File \u001B[0;32m~/opt/anaconda3/envs/deriva-ml/lib/python3.12/importlib/metadata/__init__.py:888\u001B[0m, in \u001B[0;36mversion\u001B[0;34m(distribution_name)\u001B[0m\n\u001B[1;32m    881\u001B[0m \u001B[38;5;28;01mdef\u001B[39;00m \u001B[38;5;21mversion\u001B[39m(distribution_name):\n\u001B[1;32m    882\u001B[0m \u001B[38;5;250m    \u001B[39m\u001B[38;5;124;03m\"\"\"Get the version string for the named package.\u001B[39;00m\n\u001B[1;32m    883\u001B[0m \n\u001B[1;32m    884\u001B[0m \u001B[38;5;124;03m    :param distribution_name: The name of the distribution package to query.\u001B[39;00m\n\u001B[1;32m    885\u001B[0m \u001B[38;5;124;03m    :return: The version string for the package as defined in the package's\u001B[39;00m\n\u001B[1;32m    886\u001B[0m \u001B[38;5;124;03m        \"Version\" metadata key.\u001B[39;00m\n\u001B[1;32m    887\u001B[0m \u001B[38;5;124;03m    \"\"\"\u001B[39;00m\n\u001B[0;32m--> 888\u001B[0m     \u001B[38;5;28;01mreturn\u001B[39;00m \u001B[43mdistribution\u001B[49m\u001B[43m(\u001B[49m\u001B[43mdistribution_name\u001B[49m\u001B[43m)\u001B[49m\u001B[38;5;241m.\u001B[39mversion\n",
      "File \u001B[0;32m~/opt/anaconda3/envs/deriva-ml/lib/python3.12/importlib/metadata/__init__.py:861\u001B[0m, in \u001B[0;36mdistribution\u001B[0;34m(distribution_name)\u001B[0m\n\u001B[1;32m    855\u001B[0m \u001B[38;5;28;01mdef\u001B[39;00m \u001B[38;5;21mdistribution\u001B[39m(distribution_name):\n\u001B[1;32m    856\u001B[0m \u001B[38;5;250m    \u001B[39m\u001B[38;5;124;03m\"\"\"Get the ``Distribution`` instance for the named package.\u001B[39;00m\n\u001B[1;32m    857\u001B[0m \n\u001B[1;32m    858\u001B[0m \u001B[38;5;124;03m    :param distribution_name: The name of the distribution package as a string.\u001B[39;00m\n\u001B[1;32m    859\u001B[0m \u001B[38;5;124;03m    :return: A ``Distribution`` instance (or subclass thereof).\u001B[39;00m\n\u001B[1;32m    860\u001B[0m \u001B[38;5;124;03m    \"\"\"\u001B[39;00m\n\u001B[0;32m--> 861\u001B[0m     \u001B[38;5;28;01mreturn\u001B[39;00m \u001B[43mDistribution\u001B[49m\u001B[38;5;241;43m.\u001B[39;49m\u001B[43mfrom_name\u001B[49m\u001B[43m(\u001B[49m\u001B[43mdistribution_name\u001B[49m\u001B[43m)\u001B[49m\n",
      "File \u001B[0;32m~/opt/anaconda3/envs/deriva-ml/lib/python3.12/importlib/metadata/__init__.py:399\u001B[0m, in \u001B[0;36mDistribution.from_name\u001B[0;34m(cls, name)\u001B[0m\n\u001B[1;32m    397\u001B[0m     \u001B[38;5;28;01mreturn\u001B[39;00m \u001B[38;5;28mnext\u001B[39m(\u001B[38;5;28mcls\u001B[39m\u001B[38;5;241m.\u001B[39mdiscover(name\u001B[38;5;241m=\u001B[39mname))\n\u001B[1;32m    398\u001B[0m \u001B[38;5;28;01mexcept\u001B[39;00m \u001B[38;5;167;01mStopIteration\u001B[39;00m:\n\u001B[0;32m--> 399\u001B[0m     \u001B[38;5;28;01mraise\u001B[39;00m PackageNotFoundError(name)\n",
      "\u001B[0;31mPackageNotFoundError\u001B[0m: No package metadata was found for deriva_ml.demo_catalog"
     ]
    }
   ],
   "execution_count": 10
  },
  {
   "metadata": {},
   "cell_type": "markdown",
   "source": [
    "### Explore existing vocabularies.\n",
    "Get a list of all the currently defined controlled vocabularies"
   ],
   "id": "16bba361fac5243a"
  },
  {
   "metadata": {},
   "cell_type": "code",
   "source": "ml_instance.find_vocabularies()",
   "id": "9b151033-6eb5-4fbb-a8dd-8d9b2154299a",
   "outputs": [],
   "execution_count": null
  },
  {
   "metadata": {},
   "cell_type": "markdown",
   "source": [
    "Let's look at the contents of one of the predefined vocabularies in the DerivaML library.  We can make this look nicer with a Panda.\n",
    "Many of the datatypes in DerivaML are represented by [Pydantic](https://docs.pydantic.dev/latest/) data classes.  These have a number of methods that can make it easy to operate on them.  The one we are going to use here is `model_dump()`, which converts a dataclass into a dictionary."
   ],
   "id": "3a89e1fe2e211722"
  },
  {
   "metadata": {},
   "cell_type": "code",
   "source": [
    "display(\n",
    "    Markdown(f\"#### Contents of controlled vocabulary {MLVocab.execution_metadata_type}\"),\n",
    "    pd.DataFrame([v.model_dump() for v in ml_instance.list_vocabulary_terms(MLVocab.execution_metadata_type)])\n",
    ")"
   ],
   "id": "512dcc15721128d",
   "outputs": [],
   "execution_count": null
  },
  {
   "metadata": {},
   "cell_type": "markdown",
   "source": [
    "### Creating a new controlled vocabulary.\n",
    "Now let's create a new controlled vocabulary to house terms that are specific to the problem we are working on."
   ],
   "id": "4d2aee663f6fc6a1"
  },
  {
   "metadata": {},
   "cell_type": "code",
   "source": "ml_instance.create_vocabulary(\"My term set\", comment=\"Terms to use for generating tests\")",
   "id": "50fc85db-8173-463d-830e-7dfd7eba08f7",
   "outputs": [],
   "execution_count": null
  },
  {
   "cell_type": "code",
   "id": "4d8204f2-1411-45ed-b093-1d50751862ba",
   "metadata": {},
   "source": "ml_instance.find_vocabularies()",
   "outputs": [],
   "execution_count": null
  },
  {
   "metadata": {},
   "cell_type": "markdown",
   "source": [
    "#### Adding terms\n",
    "Given our new controlled vocabulary, we can add terms to it.  A term has a name, that should uniquely identify it within the vocabulary, a description of what the term means, and finally a list of synonyms. Each term is assigned a resource identifier (RID) by the deriva platform.  There are other additional features of terms that facilitate integration from preexisting vocabularies that are beyond the scope of this notebook.  You can look at the class documentation for these details."
   ],
   "id": "4fa936f6522e9943"
  },
  {
   "metadata": {},
   "cell_type": "code",
   "source": [
    "for i in range(5):\n",
    "    ml_instance.add_term(\"My term set\", f\"Term{i}\", description=f\"My term {i}\", synonyms=[f\"t{i}\", f\"T{i}\"])"
   ],
   "id": "2268b5c2-bd85-45f6-a21e-f5a7bd0c719c",
   "outputs": [],
   "execution_count": null
  },
  {
   "cell_type": "code",
   "id": "240cb784-0ffc-4fc5-aa8d-fb2ee9267355",
   "metadata": {},
   "source": [
    "display(\n",
    "    Markdown('#### Contents of controlled vocabulary \"My term set'),\n",
    "    pd.DataFrame([v.model_dump() for v in ml_instance.list_vocabulary_terms(\"My term set\")])\n",
    ")"
   ],
   "outputs": [],
   "execution_count": null
  },
  {
   "metadata": {},
   "cell_type": "markdown",
   "source": [
    "#### Looking up terms\n",
    "We can also look up individual terms, either by their name, or by a synonym"
   ],
   "id": "eb7342026e1634d4"
  },
  {
   "metadata": {},
   "cell_type": "code",
   "source": [
    "display(\n",
    "    ml_instance.lookup_term(\"My term set\", \"Term0\"),\n",
    "    ml_instance.lookup_term(\"My term set\", \"Term2\"),\n",
    "    ml_instance.lookup_term('My term set', 'T3'),\n",
    ")"
   ],
   "id": "8ee93134-83eb-45f0-9552-85121b5de888",
   "outputs": [],
   "execution_count": null
  },
  {
   "metadata": {},
   "cell_type": "markdown",
   "source": [
    "#### Browsing terms in the user interface\n",
    "All the terms we define in the API are of course visible via the Chaise use interface."
   ],
   "id": "91c924373cdfbf85"
  },
  {
   "metadata": {},
   "cell_type": "code",
   "source": "display(HTML(f'<a href={ml_instance.chaise_url(\"My term set\")}>Browse vocabulary: My term set</a>'))",
   "id": "6ac2c94bb598da90",
   "outputs": [],
   "execution_count": null
  },
  {
   "metadata": {},
   "cell_type": "code",
   "source": "test_catalog.delete_ermrest_catalog(really=True)",
   "id": "6e76bbdf-2441-4444-be7f-e55399bcc32a",
   "outputs": [],
   "execution_count": null
  }
 ],
 "metadata": {
  "kernelspec": {
   "display_name": "deriva-ml",
   "language": "python",
   "name": "deriva-ml"
  },
  "language_info": {
   "codemirror_mode": {
    "name": "ipython",
    "version": 3
   },
   "file_extension": ".py",
   "mimetype": "text/x-python",
   "name": "python",
   "nbconvert_exporter": "python",
   "pygments_lexer": "ipython3",
   "version": "3.12.2"
  }
 },
 "nbformat": 4,
 "nbformat_minor": 5
}
