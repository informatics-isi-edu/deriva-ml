{
 "cells": [
  {
   "cell_type": "markdown",
   "id": "94ffee41-4986-4196-b35d-b38b6e10490a",
   "metadata": {},
   "source": [
    "DerivaML is a class library built on the Deriva Scientific Asset management system that is designed to help simplify a number of the basic operations associated with building and testing ML libraries based on common toolkits such as TensorFlow.  This notebook reviews the basic features of the DerivaML library."
   ]
  },
  {
   "cell_type": "code",
   "id": "ff605747-195b-40a1-b915-0e799f8d0748",
   "metadata": {
    "ExecuteTime": {
     "end_time": "2025-01-07T21:44:50.610447Z",
     "start_time": "2025-01-07T21:44:50.598720Z"
    }
   },
   "source": [
    "%load_ext autoreload\n",
    "%autoreload 2"
   ],
   "outputs": [],
   "execution_count": 1
  },
  {
   "cell_type": "code",
   "id": "9493a5ef-86b9-490b-a1d5-f461fdcd68ef",
   "metadata": {
    "ExecuteTime": {
     "end_time": "2025-01-08T05:19:13.092604Z",
     "start_time": "2025-01-08T05:19:12.342999Z"
    }
   },
   "source": [
    "import builtins\n",
    "from deriva.core.utils.globus_auth_utils import GlobusNativeLogin\n",
    "from deriva_ml.dataset_bag import DatasetBag\n",
    "from deriva_ml import ColumnDefinition, BuiltinTypes\n",
    "from deriva_ml.demo_catalog import create_demo_catalog, DemoML\n",
    "from deriva_ml import ExecutionConfiguration, Workflow, Execution, MLVocab\n",
    "import itertools\n",
    "from IPython.display import display, Markdown\n",
    "import pandas as pd\n",
    "from pathlib import Path\n",
    "import tempfile"
   ],
   "outputs": [],
   "execution_count": 24
  },
  {
   "cell_type": "markdown",
   "id": "ba06990f-6dc5-4805-9e82-0881a524bfef",
   "metadata": {},
   "source": [
    "Set the details for the catalog we want and authenticate to the server if needed."
   ]
  },
  {
   "cell_type": "code",
   "id": "9ee79ab7-a3f7-4c69-9c80-336871c13ec2",
   "metadata": {
    "ExecuteTime": {
     "end_time": "2025-01-07T21:45:31.652438Z",
     "start_time": "2025-01-07T21:45:31.630338Z"
    }
   },
   "source": [
    "hostname = 'tutorial.derivacloud.org'\n",
    "domain_schema = 'demo-schema'\n",
    "\n",
    "gnl = GlobusNativeLogin(host=hostname)\n",
    "if gnl.is_logged_in([hostname]):\n",
    "    print(\"You are already logged in.\")\n",
    "else:\n",
    "    gnl.login([hostname], no_local_server=True, no_browser=True, refresh_tokens=True, update_bdbag_keychain=True)\n",
    "    print(\"Login Successful\")\n"
   ],
   "outputs": [
    {
     "name": "stdout",
     "output_type": "stream",
     "text": [
      "You are already logged in.\n"
     ]
    }
   ],
   "execution_count": 4
  },
  {
   "cell_type": "markdown",
   "id": "a23e5177-106b-48b6-b5e0-a126d35f4084",
   "metadata": {},
   "source": [
    "Create a test catalog and get an instance of the DerivaML class."
   ]
  },
  {
   "cell_type": "code",
   "id": "e9bddcf0-27ea-40b3-a388-b77635586fad",
   "metadata": {
    "ExecuteTime": {
     "end_time": "2025-01-08T00:52:47.130280Z",
     "start_time": "2025-01-08T00:52:07.366420Z"
    }
   },
   "source": [
    "test_catalog = create_demo_catalog(hostname, domain_schema, create_features=True, create_datasets=True)\n",
    "ml_instance = DemoML(hostname, test_catalog.catalog_id)"
   ],
   "outputs": [],
   "execution_count": 10
  },
  {
   "cell_type": "code",
   "id": "9b151033-6eb5-4fbb-a8dd-8d9b2154299a",
   "metadata": {
    "ExecuteTime": {
     "end_time": "2025-01-08T00:52:50.295552Z",
     "start_time": "2025-01-08T00:52:50.275976Z"
    }
   },
   "source": [
    "display(\n",
    "    [f'{f.target_table.name}:{f.feature_name}' for f in ml_instance.find_features(\"Subject\")],\n",
    "    [f'{f.target_table.name}:{f.feature_name}' for f in ml_instance.find_features(\"Image\")]\n",
    ")"
   ],
   "outputs": [
    {
     "data": {
      "text/plain": [
       "['Subject:Health']"
      ]
     },
     "metadata": {},
     "output_type": "display_data"
    },
    {
     "data": {
      "text/plain": [
       "['Image:BoundingBox', 'Image:Quality']"
      ]
     },
     "metadata": {},
     "output_type": "display_data"
    }
   ],
   "execution_count": 11
  },
  {
   "metadata": {
    "ExecuteTime": {
     "end_time": "2025-01-08T01:17:40.516661Z",
     "start_time": "2025-01-08T01:17:39.708289Z"
    }
   },
   "cell_type": "code",
   "source": [
    "system_columns = ['RCT', 'RMT', 'RCB', 'RMB']\n",
    "datasets = pd.DataFrame(ml_instance.find_datasets()).drop(columns=system_columns)\n",
    "training_dataset = [ds['RID'] for ds in ml_instance.find_datasets() if 'Training' in ds['Dataset_Type']][0]\n",
    "\n",
    "display(\n",
    "    Markdown(f'Training Dataset: {training_dataset}'),\n",
    "    Markdown('## Datasets'),\n",
    "    datasets)"
   ],
   "id": "29a0bd7230799257",
   "outputs": [
    {
     "data": {
      "text/plain": [
       "<IPython.core.display.Markdown object>"
      ],
      "text/markdown": "Training Dataset: 3PM"
     },
     "metadata": {},
     "output_type": "display_data"
    },
    {
     "data": {
      "text/plain": [
       "<IPython.core.display.Markdown object>"
      ],
      "text/markdown": "## Datasets"
     },
     "metadata": {},
     "output_type": "display_data"
    },
    {
     "data": {
      "text/plain": [
       "   RID Version                            Description          Dataset_Type\n",
       "0  3PC    None  A nested dataset for machine learning  [Partitioned, Image]\n",
       "1  3PM    None          An image dataset for training            [Training]\n",
       "2  3PT    None            A image dataset for testing             [Testing]\n",
       "3  3Q0    None         A image dataset for validation          [Validation]"
      ],
      "text/html": [
       "<div>\n",
       "<style scoped>\n",
       "    .dataframe tbody tr th:only-of-type {\n",
       "        vertical-align: middle;\n",
       "    }\n",
       "\n",
       "    .dataframe tbody tr th {\n",
       "        vertical-align: top;\n",
       "    }\n",
       "\n",
       "    .dataframe thead th {\n",
       "        text-align: right;\n",
       "    }\n",
       "</style>\n",
       "<table border=\"1\" class=\"dataframe\">\n",
       "  <thead>\n",
       "    <tr style=\"text-align: right;\">\n",
       "      <th></th>\n",
       "      <th>RID</th>\n",
       "      <th>Version</th>\n",
       "      <th>Description</th>\n",
       "      <th>Dataset_Type</th>\n",
       "    </tr>\n",
       "  </thead>\n",
       "  <tbody>\n",
       "    <tr>\n",
       "      <th>0</th>\n",
       "      <td>3PC</td>\n",
       "      <td>None</td>\n",
       "      <td>A nested dataset for machine learning</td>\n",
       "      <td>[Partitioned, Image]</td>\n",
       "    </tr>\n",
       "    <tr>\n",
       "      <th>1</th>\n",
       "      <td>3PM</td>\n",
       "      <td>None</td>\n",
       "      <td>An image dataset for training</td>\n",
       "      <td>[Training]</td>\n",
       "    </tr>\n",
       "    <tr>\n",
       "      <th>2</th>\n",
       "      <td>3PT</td>\n",
       "      <td>None</td>\n",
       "      <td>A image dataset for testing</td>\n",
       "      <td>[Testing]</td>\n",
       "    </tr>\n",
       "    <tr>\n",
       "      <th>3</th>\n",
       "      <td>3Q0</td>\n",
       "      <td>None</td>\n",
       "      <td>A image dataset for validation</td>\n",
       "      <td>[Validation]</td>\n",
       "    </tr>\n",
       "  </tbody>\n",
       "</table>\n",
       "</div>"
      ]
     },
     "metadata": {},
     "output_type": "display_data"
    }
   ],
   "execution_count": 23
  },
  {
   "metadata": {},
   "cell_type": "markdown",
   "source": [
    "A feature is a set of values that are attached to a table in the DerivaML catalog. Instances of features are distingushed from one another by the ID of the execution that produced the feature value. The execution could be the result of a program, or it could be a manual process by which a person defines a set of values\n",
    "\n",
    "To create a new feature, we need to know the name of the feature, the table to which it is attached, and the set of values that make up the feature.  The values could be terms from a controlled vocabulary, a set of one or more file based assets, or other values, such as integers, or strings. However, use of strings outside of controlled vocabularies is discouraged."
   ],
   "id": "353d51c9-b8a6-4b75-a0da-ffa2db134169"
  },
  {
   "metadata": {
    "ExecuteTime": {
     "end_time": "2024-10-12T05:52:12.576578Z",
     "start_time": "2024-10-12T05:51:54.865077Z"
    }
   },
   "cell_type": "code",
   "outputs": [
    {
     "name": "stderr",
     "output_type": "stream",
     "text": [
      "2024-10-12 00:51:54,889 - DEBUG - Resetting dropped connection: dev.eye-ai.org\n",
      "2024-10-12 00:51:58,913 - DEBUG - https://dev.eye-ai.org:443 \"POST /ermrest/catalog/395/schema/demo-schema/table HTTP/11\" 201 4778\n",
      "2024-10-12 00:52:00,149 - DEBUG - https://dev.eye-ai.org:443 \"GET /ermrest/catalog/395/schema HTTP/11\" 200 103207\n",
      "2024-10-12 00:52:00,474 - DEBUG - Inserting entities to path: /entity/demo-schema:FeatureValue?defaults=URI,RID,ID,RMB,RCB,RMT,RCT\n",
      "2024-10-12 00:52:00,475 - DEBUG - yielding batch of 1/1 entities (0:1)\n",
      "2024-10-12 00:52:01,475 - DEBUG - https://dev.eye-ai.org:443 \"POST /ermrest/catalog/395/entity/demo-schema:FeatureValue?defaults=URI,RID,ID,RMB,RCB,RMT,RCT HTTP/11\" 200 560\n",
      "2024-10-12 00:52:01,489 - DEBUG - Fetched 1 entities\n",
      "2024-10-12 00:52:02,463 - DEBUG - https://dev.eye-ai.org:443 \"POST /ermrest/catalog/395/schema/demo-schema/table HTTP/11\" 201 4467\n",
      "2024-10-12 00:52:03,425 - DEBUG - https://dev.eye-ai.org:443 \"GET /ermrest/catalog/395/schema HTTP/11\" 200 107797\n",
      "2024-10-12 00:52:04,467 - DEBUG - https://dev.eye-ai.org:443 \"PUT /ermrest/catalog/395/annotation HTTP/11\" 204 0\n",
      "2024-10-12 00:52:04,481 - INFO - Initializing uploader: GenericUploader v1.7.4 [Python 3.12.3, macOS-15.0.1-x86_64-i386-64bit]\n",
      "2024-10-12 00:52:04,483 - DEBUG - on lookup, default setting: GLOBUS_SDK_ENVIRONMENT=production\n",
      "2024-10-12 00:52:04,483 - INFO - Creating client of type <class 'globus_sdk.services.auth.client.native_client.NativeAppAuthClient'> for service \"auth\"\n",
      "2024-10-12 00:52:04,483 - DEBUG - Service URL Lookup for \"auth\" under env \"production\"\n",
      "2024-10-12 00:52:04,484 - DEBUG - Service URL Lookup Result: \"auth\" is at \"https://auth.globus.org/\"\n",
      "2024-10-12 00:52:04,484 - DEBUG - on lookup, default setting: GLOBUS_SDK_VERIFY_SSL=True\n",
      "2024-10-12 00:52:04,485 - DEBUG - on lookup, default setting: GLOBUS_SDK_HTTP_TIMEOUT=60.0\n",
      "2024-10-12 00:52:04,485 - DEBUG - initialized transport of type <class 'globus_sdk.transport.requests.RequestsTransport'>\n",
      "2024-10-12 00:52:04,485 - INFO - Finished initializing AuthLoginClient. client_id='8ef15ba9-2b4a-469c-a163-7fd910c9d111', type(authorizer)=<class 'globus_sdk.authorizers.base.NullAuthorizer'>\n",
      "2024-10-12 00:52:04,486 - DEBUG - Using code handlers (<fair_research_login.local_server.LocalServerCodeHandler object at 0x112d01130>, <fair_research_login.code_handler.InputCodeHandler object at 0x112d02210>)\n",
      "2024-10-12 00:52:04,486 - DEBUG - Token storage set to <deriva.core.utils.globus_auth_utils.DerivaJSONTokenStorage object at 0x16a914980>\n",
      "2024-10-12 00:52:04,486 - DEBUG - Automatically open browser: True\n",
      "2024-10-12 00:52:04,491 - DEBUG - Starting new HTTPS connection (1): dev.eye-ai.org:443\n",
      "2024-10-12 00:52:06,292 - DEBUG - https://dev.eye-ai.org:443 \"GET /authn/session HTTP/11\" 200 8422\n",
      "2024-10-12 00:52:06,300 - INFO - Checking for updated configuration...\n",
      "2024-10-12 00:52:07,480 - DEBUG - https://dev.eye-ai.org:443 \"GET /ermrest/catalog/395/schema HTTP/11\" 200 108339\n",
      "2024-10-12 00:52:07,779 - DEBUG - Computing [md5] hashes for file [/Users/carl/.deriva/upload/dev.eye-ai.org/config.json]\n",
      "2024-10-12 00:52:07,781 - DEBUG - Computing [md5] hashes for file [/var/folders/0k/27qzm97x3t7g3j1m6ksf_9f40000gn/T/deriva_upload_u6_9bay3/config.json]\n",
      "2024-10-12 00:52:07,782 - INFO - Updated configuration found.\n",
      "2024-10-12 00:52:07,785 - INFO - Scanning files in directory [/var/folders/0k/27qzm97x3t7g3j1m6ksf_9f40000gn/T/tmp87riu4ln/DemoML_working/TestAsset]...\n",
      "2024-10-12 00:52:07,785 - DEBUG - The file_pattern \"(?i)^.*/Execution_Assets/(?P<execution_asset_type>[A-Za-z0-9_]*)/(?P<file_name>[A-Za-z0-9_-]*)[.](?P<file_ext>[a-z0-9]*)$\" failed to match the input path [/var/folders/0k/27qzm97x3t7g3j1m6ksf_9f40000gn/T/tmp87riu4ln/DemoML_working/TestAsset/test.txt]\n",
      "2024-10-12 00:52:07,786 - DEBUG - The file_pattern \"(?i)^.*/Execution_Metadata/(?P<execution_metadata_type>[A-Za-z0-9_]*)-(?P<filename>[A-Za-z0-9_]*)[.](?P<file_ext>[a-z0-9]*)$\" failed to match the input path [/var/folders/0k/27qzm97x3t7g3j1m6ksf_9f40000gn/T/tmp87riu4ln/DemoML_working/TestAsset/test.txt]\n",
      "2024-10-12 00:52:07,786 - INFO - Including file: [/var/folders/0k/27qzm97x3t7g3j1m6ksf_9f40000gn/T/tmp87riu4ln/DemoML_working/TestAsset/test.txt].\n",
      "2024-10-12 00:52:07,786 - INFO - Processing: [/var/folders/0k/27qzm97x3t7g3j1m6ksf_9f40000gn/T/tmp87riu4ln/DemoML_working/TestAsset/test.txt]\n",
      "2024-10-12 00:52:07,787 - INFO - Computed metadata for: [/var/folders/0k/27qzm97x3t7g3j1m6ksf_9f40000gn/T/tmp87riu4ln/DemoML_working/TestAsset/test.txt].\n",
      "2024-10-12 00:52:07,787 - DEBUG - Current metadata: {'filename': 'test', 'file_ext': 'txt', 'target_table': 'demo-schema:TestAsset', 'file_name': 'test.txt', 'file_size': 8, 'base_path': '/var/folders/0k/27qzm97x3t7g3j1m6ksf_9f40000gn/T/tmp87riu4ln/DemoML_working/TestAsset', 'base_name': 'test.', '_upload_year_': 2024, '_upload_month_': 10, '_upload_day_': 12, '_upload_time_': 1728712327.787038, '_identity_id': 'https://auth.globus.org/aef862ea-d274-11e5-bb09-7bf5b06f98da', '_identity_display_name': 'carlkesselman@globusid.org', '_identity_full_name': 'Carl Kesselman', '_identity_email': 'carl@isi.edu', 'filename_urlencoded': 'test', 'file_ext_urlencoded': 'txt', 'target_table_urlencoded': 'demo-schema%3ATestAsset', 'file_name_urlencoded': 'test.txt', 'file_size_urlencoded': '8', 'base_path_urlencoded': '%2Fvar%2Ffolders%2F0k%2F27qzm97x3t7g3j1m6ksf_9f40000gn%2FT%2Ftmp87riu4ln%2FDemoML_working%2FTestAsset', 'base_name_urlencoded': 'test.', '_upload_year__urlencoded': '2024', '_upload_month__urlencoded': '10', '_upload_day__urlencoded': '12', '_upload_time__urlencoded': '1728712327.787038', '_identity_id_urlencoded': 'https%3A%2F%2Fauth.globus.org%2Faef862ea-d274-11e5-bb09-7bf5b06f98da', '_identity_display_name_urlencoded': 'carlkesselman%40globusid.org', '_identity_full_name_urlencoded': 'Carl%20Kesselman', '_identity_email_urlencoded': 'carl%40isi.edu'}\n",
      "2024-10-12 00:52:07,788 - INFO - Computing checksums for file: [/var/folders/0k/27qzm97x3t7g3j1m6ksf_9f40000gn/T/tmp87riu4ln/DemoML_working/TestAsset/test.txt]. Please wait...\n",
      "2024-10-12 00:52:07,788 - DEBUG - Computing [sha256,md5] hashes for file [/var/folders/0k/27qzm97x3t7g3j1m6ksf_9f40000gn/T/tmp87riu4ln/DemoML_working/TestAsset/test.txt]\n",
      "2024-10-12 00:52:07,789 - DEBUG - Updated metadata: {'filename': 'test', 'file_ext': 'txt', 'target_table': 'demo-schema:TestAsset', 'file_name': 'test.txt', 'file_size': 8, 'base_path': '/var/folders/0k/27qzm97x3t7g3j1m6ksf_9f40000gn/T/tmp87riu4ln/DemoML_working/TestAsset', 'base_name': 'test.', '_upload_year_': 2024, '_upload_month_': 10, '_upload_day_': 12, '_upload_time_': 1728712327.787038, '_identity_id': 'https://auth.globus.org/aef862ea-d274-11e5-bb09-7bf5b06f98da', '_identity_display_name': 'carlkesselman@globusid.org', '_identity_full_name': 'Carl Kesselman', '_identity_email': 'carl@isi.edu', 'filename_urlencoded': 'test', 'file_ext_urlencoded': 'txt', 'target_table_urlencoded': 'demo-schema%3ATestAsset', 'file_name_urlencoded': 'test.txt', 'file_size_urlencoded': '8', 'base_path_urlencoded': '%2Fvar%2Ffolders%2F0k%2F27qzm97x3t7g3j1m6ksf_9f40000gn%2FT%2Ftmp87riu4ln%2FDemoML_working%2FTestAsset', 'base_name_urlencoded': 'test.', '_upload_year__urlencoded': '2024', '_upload_month__urlencoded': '10', '_upload_day__urlencoded': '12', '_upload_time__urlencoded': '1728712327.787038', '_identity_id_urlencoded': 'https%3A%2F%2Fauth.globus.org%2Faef862ea-d274-11e5-bb09-7bf5b06f98da', '_identity_display_name_urlencoded': 'carlkesselman%40globusid.org', '_identity_full_name_urlencoded': 'Carl%20Kesselman', '_identity_email_urlencoded': 'carl%40isi.edu', 'sha256': '8328c36d18b7834a38118f6ec924ae143c10263f2519c723ccb36ca14e7461fb', 'sha256_base64': 'gyjDbRi3g0o4EY9uySSuFDwQJj8lGccjzLNsoU50Yfs=', 'md5': 'd9385462d3deff78c352ebb3f941ce12', 'md5_base64': '2ThUYtPe/3jDUuuz+UHOEg==', 'sha256_urlencoded': '8328c36d18b7834a38118f6ec924ae143c10263f2519c723ccb36ca14e7461fb', 'sha256_base64_urlencoded': 'gyjDbRi3g0o4EY9uySSuFDwQJj8lGccjzLNsoU50Yfs%3D', 'md5_urlencoded': 'd9385462d3deff78c352ebb3f941ce12', 'md5_base64_urlencoded': '2ThUYtPe%2F3jDUuuz%2BUHOEg%3D%3D'}\n",
      "2024-10-12 00:52:07,790 - INFO - Uploading file: [/var/folders/0k/27qzm97x3t7g3j1m6ksf_9f40000gn/T/tmp87riu4ln/DemoML_working/TestAsset/test.txt] to host https://dev.eye-ai.org. Please wait...\n",
      "2024-10-12 00:52:07,793 - DEBUG - Starting new HTTPS connection (1): dev.eye-ai.org:443\n",
      "2024-10-12 00:52:09,868 - DEBUG - https://dev.eye-ai.org:443 \"HEAD /hatrac/TestAsset/d9385462d3deff78c352ebb3f941ce12.test.txt HTTP/11\" 200 0\n",
      "2024-10-12 00:52:09,871 - DEBUG - Hatrac upload successful. Result object URI: /hatrac/TestAsset/d9385462d3deff78c352ebb3f941ce12.test.txt:3krtw0Kinf0rMEcEoyQOQDtAQW9i_jMG\n",
      "2024-10-12 00:52:10,799 - DEBUG - https://dev.eye-ai.org:443 \"GET /ermrest/catalog/395/entity/demo-schema:TestAsset/MD5=d9385462d3deff78c352ebb3f941ce12&Filename=test.txt HTTP/11\" 200 3\n",
      "2024-10-12 00:52:11,755 - DEBUG - https://dev.eye-ai.org:443 \"GET /ermrest/catalog/395/schema HTTP/11\" 304 0\n",
      "2024-10-12 00:52:11,760 - DEBUG - Attempting catalog record create [/entity/demo-schema:TestAsset?defaults=RCB,RMB,RMT,RCT,RID,Description] with data: {\"Filename\": \"test.txt\", \"Length\": \"8\", \"MD5\": \"d9385462d3deff78c352ebb3f941ce12\", \"URL\": \"/hatrac/TestAsset/d9385462d3deff78c352ebb3f941ce12.test.txt:3krtw0Kinf0rMEcEoyQOQDtAQW9i_jMG\"}\n",
      "2024-10-12 00:52:12,567 - DEBUG - https://dev.eye-ai.org:443 \"POST /ermrest/catalog/395/entity/demo-schema:TestAsset?defaults=RCB,RMB,RMT,RCT,RID,Description HTTP/11\" 200 662\n",
      "2024-10-12 00:52:12,573 - INFO - File upload processing completed: 1 files were uploaded successfully, 0 files failed to upload due to errors, 0 files were skipped because they did not satisfy the matching criteria of the configuration.\n"
     ]
    }
   ],
   "execution_count": 21,
   "source": [
    "# Now lets create model configuration for our program.\n",
    "with tempfile.TemporaryDirectory() as temp_dir:\n",
    "    model_file = Path(temp_dir)  / 'modelfile.txt'\n",
    "    with builtins.open(model_file, \"w\") as fp:\n",
    "            fp.write(f\"My model\")\n",
    "    training_model = ml_instance.upload_execution_asset(model_file, 'API_Model')\n",
    "\n",
    "# Now lets create and upload a simple asset.\n",
    "with tempfile.TemporaryDirectory() as tmpdirname:\n",
    "    assetdir = ml_instance.working_dir / \"TestAsset\"\n",
    "    assetdir.mkdir(parents=True, exist_ok=True)\n",
    "    with builtins.open(assetdir / \"test.txt\", \"w\") as fp:\n",
    "        fp.write(\"Hi there\")\n",
    "    ml_instance.upload_assets(assetdir)"
   ],
   "id": "1d726b44-c60f-435a-9966-cfe3fc3da2e9"
  },
  {
   "metadata": {},
   "cell_type": "markdown",
   "source": "Now create a dataset with our new assets.",
   "id": "cfce553e81530e79"
  },
  {
   "cell_type": "markdown",
   "id": "83d2bd27-da2d-4918-9c8a-378c95addfcc",
   "metadata": {},
   "source": [
    "Now we can add some features to our images.  To streamline the creation of new feature, we create a class that is specific to the arguments required to create it."
   ]
  },
  {
   "cell_type": "code",
   "id": "7f6b68c6-4bc0-4837-a2b6-729d116a8702",
   "metadata": {
    "ExecuteTime": {
     "end_time": "2024-10-12T05:52:44.078771Z",
     "start_time": "2024-10-12T05:52:44.054611Z"
    }
   },
   "source": [
    "TestFeatureClass = ml_instance.feature_record_class(\"Image\", \"Feature1\")\n",
    "TestFeatureClass.model_fields"
   ],
   "outputs": [
    {
     "data": {
      "text/plain": [
       "{'Execution': FieldInfo(annotation=str, required=True),\n",
       " 'Image': FieldInfo(annotation=str, required=True),\n",
       " 'Feature_Name': FieldInfo(annotation=str, required=False, default='Feature1'),\n",
       " 'TestAsset': FieldInfo(annotation=str, required=True),\n",
       " 'FeatureValue': FieldInfo(annotation=str, required=True),\n",
       " 'TestCol': FieldInfo(annotation=int, required=True)}"
      ]
     },
     "execution_count": 23,
     "metadata": {},
     "output_type": "execute_result"
    }
   ],
   "execution_count": 23
  },
  {
   "cell_type": "markdown",
   "id": "92416df1-e3f9-4097-bc19-b24712dc7242",
   "metadata": {},
   "source": [
    "Now using TestFeatureClass, we can create some instances of the feature and add it.  We must have a exeuction_rid in order to define the feature."
   ]
  },
  {
   "cell_type": "code",
   "id": "cdcc8f5c-874b-4bf9-89ef-e1ea90b9f91f",
   "metadata": {},
   "source": [
    "ml_instance.add_term(MLVocab.workflow_type, \"API Workflow\", description=\"A Workflow that uses Deriva ML API\")\n",
    "ml_instance.add_term(MLVocab.execution_asset_type, \"API_Model\", description=\"Model for our API workflow\")\n",
    "\n",
    "api_workflow = Workflow(\n",
    "    name=\"API Workflow\",\n",
    "    url=\"https://github.com/informatics-isi-edu/deriva-ml/blob/main/pyproject.toml\",\n",
    "    workflow_type=\"API Workflow\",\n",
    "    description=\"A workflow that uses Deriva ML\"\n",
    ")\n",
    "\n",
    "config = ExecutionConfiguration(\n",
    "    datasets=[training_dataset],\n",
    "    assets = [training_model],\n",
    "    execution=Execution(description=\"Sample Execution\"), \n",
    "    workflow=api_workflow\n",
    ")\n",
    "\n",
    "ml_execution = ml_instance.initialize_execution(config)"
   ],
   "outputs": [],
   "execution_count": null
  },
  {
   "metadata": {},
   "cell_type": "code",
   "outputs": [],
   "execution_count": null,
   "source": [
    "with MLExecute(ml_execution):\n",
    "    # Get the input datasets:\n",
    "    dataset = DatasetBag(ml_execution.bag_paths[0])  # Input dataset\n",
    "\n",
    "    # Get input files\n",
    "    with open(ml_execution.asset_paths[0], 'rt') as model_file:\n",
    "        model = model_file.read()\n",
    "        print(f'Got model file: {model}')\n",
    "\n",
    "    # Put your ML code here....\n",
    "    pass\n",
    "\n",
    "    # Write model\n",
    "    # Write asset.\n",
    "    with open(ml_execution.model_dir) as model_file:\n",
    "        output_dir = ml_instance.execution_assets_path / \"Fun Files\"\n",
    "        with open(output_dir / \"test.txt\", \"w+\") as f:\n",
    "            f.write(\"Hello there a new model;\\n\")\n",
    "\n",
    "    # Create some new feature values.\n",
    "    bb_csv_path, bb_asset_paths = ml_execution.feature_paths('Image', 'BoundingBox')\n",
    "    bounding_box_files = [bb_asset_paths['BoundingBox'] / f\"box{i}.txt\" for i in range(10)]\n",
    "    for i in range(10):\n",
    "        bounding_box_files.append(fn := bb_asset_paths['BoundingBox'] / f\"box{i}.txt\")\n",
    "        with builtins.open(fn, \"w\") as fp:\n",
    "            fp.write(f\"Hi there {i}\")\n",
    "\n",
    "    image_bounding_box_feature_list = [ImageBoundingboxFeature(Image=image_rid,\n",
    "                                                               Execution=ml_execution.execution_rid,\n",
    "                                                               BoundingBox=asset_rid)\n",
    "                                       for image_rid, asset_rid in zip(image_rids, itertools.cycle(bounding_box_files))]\n",
    "\n",
    "    configuration_record.write_feature_file(image_bounding_box_feature_list)"
   ],
   "id": "c8860e47d5f72069"
  },
  {
   "metadata": {},
   "cell_type": "code",
   "outputs": [],
   "execution_count": null,
   "source": [
    "upload_status = ml_instance.upload_execution(configuration=ml_execution)\n",
    "e = (list(ml_instance.pathBuilder.deriva_ml.Execution.entities().fetch()))[0]"
   ],
   "id": "bca63c2d15cce655"
  },
  {
   "metadata": {},
   "cell_type": "code",
   "source": [
    "\n",
    "pd.DataFrame(ml_instance.list_feature_values(\"Image\", \"Feature1\")])"
   ],
   "id": "240cb784-0ffc-4fc5-aa8d-fb2ee9267355",
   "outputs": [],
   "execution_count": null
  },
  {
   "cell_type": "code",
   "id": "cd670182dfb20afd",
   "metadata": {},
   "source": [
    "test_catalog.delete_ermrest_catalog(really=True)"
   ],
   "outputs": [],
   "execution_count": null
  }
 ],
 "metadata": {
  "kernelspec": {
   "display_name": "Python 3 (ipykernel)",
   "language": "python",
   "name": "python3"
  },
  "language_info": {
   "codemirror_mode": {
    "name": "ipython",
    "version": 3
   },
   "file_extension": ".py",
   "mimetype": "text/x-python",
   "name": "python",
   "nbconvert_exporter": "python",
   "pygments_lexer": "ipython3",
   "version": "3.12.2"
  }
 },
 "nbformat": 4,
 "nbformat_minor": 5
}
