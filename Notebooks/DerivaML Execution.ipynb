{
 "cells": [
  {
   "cell_type": "markdown",
   "id": "94ffee41-4986-4196-b35d-b38b6e10490a",
   "metadata": {},
   "source": [
    "DerivaML is a class library built on the Deriva Scientific Asset management system that is designed to help simplify a number of the basic operations associated with building and testing ML libraries based on common toolkits such as TensorFlow.  This notebook reviews the basic features of the DerivaML library."
   ]
  },
  {
   "cell_type": "code",
   "id": "ff605747-195b-40a1-b915-0e799f8d0748",
   "metadata": {
    "ExecuteTime": {
     "end_time": "2025-01-10T04:54:58.915475Z",
     "start_time": "2025-01-10T04:54:58.901260Z"
    }
   },
   "source": [
    "%load_ext autoreload\n",
    "%autoreload 2"
   ],
   "outputs": [],
   "execution_count": 1
  },
  {
   "cell_type": "code",
   "id": "9493a5ef-86b9-490b-a1d5-f461fdcd68ef",
   "metadata": {
    "ExecuteTime": {
     "end_time": "2025-01-10T04:54:59.685443Z",
     "start_time": "2025-01-10T04:54:58.920590Z"
    }
   },
   "source": [
    "import builtins\n",
    "from deriva.core.utils.globus_auth_utils import GlobusNativeLogin\n",
    "from deriva_ml import DatasetBag, ExecutionConfiguration, Workflow, MLVocab\n",
    "from deriva_ml.demo_catalog import create_demo_catalog, DemoML\n",
    "import itertools\n",
    "from IPython.display import display, Markdown, JSON\n",
    "import pandas as pd"
   ],
   "outputs": [],
   "execution_count": 2
  },
  {
   "cell_type": "markdown",
   "id": "ba06990f-6dc5-4805-9e82-0881a524bfef",
   "metadata": {},
   "source": [
    "Set the details for the catalog we want and authenticate to the server if needed."
   ]
  },
  {
   "cell_type": "code",
   "id": "9ee79ab7-a3f7-4c69-9c80-336871c13ec2",
   "metadata": {
    "ExecuteTime": {
     "end_time": "2025-01-10T04:54:59.821650Z",
     "start_time": "2025-01-10T04:54:59.731652Z"
    }
   },
   "source": [
    "hostname = 'dev.eye-ai.org'\n",
    "domain_schema = 'demo-schema'\n",
    "\n",
    "gnl = GlobusNativeLogin(host=hostname)\n",
    "if gnl.is_logged_in([hostname]):\n",
    "    print(\"You are already logged in.\")\n",
    "else:\n",
    "    gnl.login([hostname], no_local_server=True, no_browser=True, refresh_tokens=True, update_bdbag_keychain=True)\n",
    "    print(\"Login Successful\")\n"
   ],
   "outputs": [
    {
     "name": "stdout",
     "output_type": "stream",
     "text": [
      "You are already logged in.\n"
     ]
    }
   ],
   "execution_count": 3
  },
  {
   "cell_type": "markdown",
   "id": "a23e5177-106b-48b6-b5e0-a126d35f4084",
   "metadata": {},
   "source": [
    "Create a test catalog and get an instance of the DerivaML class."
   ]
  },
  {
   "cell_type": "code",
   "id": "e9bddcf0-27ea-40b3-a388-b77635586fad",
   "metadata": {
    "ExecuteTime": {
     "end_time": "2025-01-10T04:55:37.066429Z",
     "start_time": "2025-01-10T04:54:59.831757Z"
    }
   },
   "source": [
    "test_catalog = create_demo_catalog(hostname, domain_schema, create_features=True, create_datasets=True)\n",
    "ml_instance = DemoML(hostname, test_catalog.catalog_id)\n",
    "print(f'Creating catalog at {ml_instance.catalog_id}')"
   ],
   "outputs": [
    {
     "name": "stdout",
     "output_type": "stream",
     "text": [
      "Creating catalog at 678\n"
     ]
    }
   ],
   "execution_count": 4
  },
  {
   "metadata": {
    "ExecuteTime": {
     "end_time": "2025-01-10T04:55:37.099861Z",
     "start_time": "2025-01-10T04:55:37.079846Z"
    }
   },
   "cell_type": "code",
   "source": [
    "display(\n",
    "    Markdown('## Features'),\n",
    "    [f'{f.target_table.name}:{f.feature_name}' for f in ml_instance.find_features(\"Subject\")],\n",
    "    [f'{f.target_table.name}:{f.feature_name}' for f in ml_instance.find_features(\"Image\")]\n",
    ")"
   ],
   "id": "9b151033-6eb5-4fbb-a8dd-8d9b2154299a",
   "outputs": [
    {
     "data": {
      "text/plain": [
       "<IPython.core.display.Markdown object>"
      ],
      "text/markdown": "## Features"
     },
     "metadata": {},
     "output_type": "display_data"
    },
    {
     "data": {
      "text/plain": [
       "['Subject:Health']"
      ]
     },
     "metadata": {},
     "output_type": "display_data"
    },
    {
     "data": {
      "text/plain": [
       "['Image:BoundingBox', 'Image:Quality']"
      ]
     },
     "metadata": {},
     "output_type": "display_data"
    }
   ],
   "execution_count": 5
  },
  {
   "metadata": {
    "ExecuteTime": {
     "end_time": "2025-01-10T04:55:37.810204Z",
     "start_time": "2025-01-10T04:55:37.123701Z"
    }
   },
   "cell_type": "code",
   "source": [
    "system_columns = ['RCT', 'RMT', 'RCB', 'RMB']\n",
    "datasets = pd.DataFrame(ml_instance.find_datasets()).drop(columns=system_columns)\n",
    "training_dataset_rid = [ds['RID'] for ds in ml_instance.find_datasets() if 'Training' in ds['Dataset_Type']][0]\n",
    "\n",
    "display(\n",
    "    Markdown(f'Training Dataset: {training_dataset_rid}'),\n",
    "    Markdown('## Datasets'),\n",
    "    datasets)"
   ],
   "id": "29a0bd7230799257",
   "outputs": [
    {
     "data": {
      "text/plain": [
       "<IPython.core.display.Markdown object>"
      ],
      "text/markdown": "Training Dataset: 3R6"
     },
     "metadata": {},
     "output_type": "display_data"
    },
    {
     "data": {
      "text/plain": [
       "<IPython.core.display.Markdown object>"
      ],
      "text/markdown": "## Datasets"
     },
     "metadata": {},
     "output_type": "display_data"
    },
    {
     "data": {
      "text/plain": [
       "   RID Version                            Description          Dataset_Type\n",
       "0  3QY    None  A nested dataset for machine learning  [Partitioned, Image]\n",
       "1  3R6    None          An image dataset for training            [Training]\n",
       "2  3RC    None            A image dataset for testing             [Testing]\n",
       "3  3RJ    None         A image dataset for validation          [Validation]"
      ],
      "text/html": [
       "<div>\n",
       "<style scoped>\n",
       "    .dataframe tbody tr th:only-of-type {\n",
       "        vertical-align: middle;\n",
       "    }\n",
       "\n",
       "    .dataframe tbody tr th {\n",
       "        vertical-align: top;\n",
       "    }\n",
       "\n",
       "    .dataframe thead th {\n",
       "        text-align: right;\n",
       "    }\n",
       "</style>\n",
       "<table border=\"1\" class=\"dataframe\">\n",
       "  <thead>\n",
       "    <tr style=\"text-align: right;\">\n",
       "      <th></th>\n",
       "      <th>RID</th>\n",
       "      <th>Version</th>\n",
       "      <th>Description</th>\n",
       "      <th>Dataset_Type</th>\n",
       "    </tr>\n",
       "  </thead>\n",
       "  <tbody>\n",
       "    <tr>\n",
       "      <th>0</th>\n",
       "      <td>3QY</td>\n",
       "      <td>None</td>\n",
       "      <td>A nested dataset for machine learning</td>\n",
       "      <td>[Partitioned, Image]</td>\n",
       "    </tr>\n",
       "    <tr>\n",
       "      <th>1</th>\n",
       "      <td>3R6</td>\n",
       "      <td>None</td>\n",
       "      <td>An image dataset for training</td>\n",
       "      <td>[Training]</td>\n",
       "    </tr>\n",
       "    <tr>\n",
       "      <th>2</th>\n",
       "      <td>3RC</td>\n",
       "      <td>None</td>\n",
       "      <td>A image dataset for testing</td>\n",
       "      <td>[Testing]</td>\n",
       "    </tr>\n",
       "    <tr>\n",
       "      <th>3</th>\n",
       "      <td>3RJ</td>\n",
       "      <td>None</td>\n",
       "      <td>A image dataset for validation</td>\n",
       "      <td>[Validation]</td>\n",
       "    </tr>\n",
       "  </tbody>\n",
       "</table>\n",
       "</div>"
      ]
     },
     "metadata": {},
     "output_type": "display_data"
    }
   ],
   "execution_count": 6
  },
  {
   "metadata": {},
   "cell_type": "markdown",
   "source": [
    "A feature is a set of values that are attached to a table in the DerivaML catalog. Instances of features are distingushed from one another by the ID of the execution that produced the feature value. The execution could be the result of a program, or it could be a manual process by which a person defines a set of values\n",
    "\n",
    "To create a new feature, we need to know the name of the feature, the table to which it is attached, and the set of values that make up the feature.  The values could be terms from a controlled vocabulary, a set of one or more file based assets, or other values, such as integers, or strings. However, use of strings outside of controlled vocabularies is discouraged."
   ],
   "id": "353d51c9-b8a6-4b75-a0da-ffa2db134169"
  },
  {
   "metadata": {
    "ExecuteTime": {
     "end_time": "2025-01-10T04:55:42.626984Z",
     "start_time": "2025-01-10T04:55:37.819169Z"
    }
   },
   "cell_type": "code",
   "source": [
    "ml_instance.add_term(MLVocab.workflow_type, \"Manual Workflow\", description=\"Inital setup of Model File\")\n",
    "ml_instance.add_term(MLVocab.execution_asset_type, \"API_Model\", description=\"Model for our API workflow\")\n",
    "\n",
    "api_workflow = Workflow(\n",
    "    name=\"Manual Workflow\",\n",
    "    url='https://github.com/informatics-isi-edu/deriva-ml/blob/main/Notebooks/DerivaML%20Execution.ipynb',\n",
    "    workflow_type=\"Manual Workflow\",\n",
    "    description=\"A manual operation\"\n",
    ")\n",
    "\n",
    "manual_execution = ml_instance.create_execution(ExecutionConfiguration( description=\"Sample Execution\", workflow=api_workflow))\n",
    "\n",
    "# Now lets create model configuration for our program.\n",
    "model_file = manual_execution.execution_asset_path('API_Model') / 'modelfile.txt'\n",
    "with builtins.open(model_file, \"w\") as fp:\n",
    "    fp.write(f\"My model\")\n",
    "\n",
    "# Now upload the file and retrieve the RID of the new asset from the returned results.\n",
    "uploaded_assets = manual_execution.upload_execution_outputs()\n",
    "training_model_rid = uploaded_assets['API_Model/modelfile.txt'].result['RID']\n",
    "display(\n",
    "    Markdown(f'## Training Model: {training_model_rid}'),\n",
    "    JSON(ml_instance.retrieve_rid(training_model_rid))\n",
    ")"
   ],
   "id": "1d726b44-c60f-435a-9966-cfe3fc3da2e9",
   "outputs": [
    {
     "data": {
      "text/plain": [
       "<IPython.core.display.Markdown object>"
      ],
      "text/markdown": "## Training Model: 3TJ"
     },
     "metadata": {},
     "output_type": "display_data"
    },
    {
     "data": {
      "text/plain": [
       "<IPython.core.display.JSON object>"
      ],
      "application/json": {
       "RID": "3TJ",
       "RCT": "2025-01-10T04:55:40.472923+00:00",
       "RMT": "2025-01-10T04:55:40.472923+00:00",
       "RCB": "https://auth.globus.org/aef862ea-d274-11e5-bb09-7bf5b06f98da",
       "RMB": "https://auth.globus.org/aef862ea-d274-11e5-bb09-7bf5b06f98da",
       "URL": "/hatrac/execution_asset/c604e0f3dd9caa5d5a1a120239642e70.modelfile.txt:a5ukAOVAWv1Exh6wzhcxLaUlFjrH.mYd",
       "Filename": "modelfile.txt",
       "Description": null,
       "Length": 8,
       "MD5": "c604e0f3dd9caa5d5a1a120239642e70",
       "Execution_Asset_Type": "API_Model"
      }
     },
     "metadata": {
      "application/json": {
       "expanded": false,
       "root": "root"
      }
     },
     "output_type": "display_data"
    }
   ],
   "execution_count": 7
  },
  {
   "metadata": {},
   "cell_type": "markdown",
   "source": "### Setup for a ML run\n",
   "id": "cfce553e81530e79"
  },
  {
   "metadata": {
    "ExecuteTime": {
     "end_time": "2025-01-10T04:55:52.169916Z",
     "start_time": "2025-01-10T04:55:42.690216Z"
    }
   },
   "cell_type": "code",
   "source": [
    "ml_instance.add_term(MLVocab.workflow_type, \"ML Demo\", description=\"A ML Workflow that uses Deriva ML API\")\n",
    "\n",
    "api_workflow = Workflow(\n",
    "    name=\"ML Demo\",\n",
    "    url=\"https://github.com/informatics-isi-edu/deriva-ml/blob/main/pyproject.toml\",\n",
    "    workflow_type=\"ML Demo\",\n",
    "    description=\"A workflow that uses Deriva ML\"\n",
    ")\n",
    "\n",
    "config = ExecutionConfiguration(\n",
    "    datasets=[training_dataset_rid],\n",
    "    assets = [training_model_rid],\n",
    "    description=\"Sample Execution\",\n",
    "    workflow=api_workflow\n",
    ")\n",
    "\n",
    "ml_execution = ml_instance.create_execution(config)"
   ],
   "id": "cdcc8f5c-874b-4bf9-89ef-e1ea90b9f91f",
   "outputs": [],
   "execution_count": 8
  },
  {
   "metadata": {
    "ExecuteTime": {
     "end_time": "2025-01-10T04:55:57.494668Z",
     "start_time": "2025-01-10T04:55:52.180842Z"
    }
   },
   "cell_type": "code",
   "source": [
    "with ml_execution.execute() as exec:\n",
    "    # Get the input datasets:\n",
    "    training_dataset = DatasetBag(ml_execution.dataset_paths[0])  # Input dataset\n",
    "    image_rids = training_dataset.get_table_as_dataframe('Image')['RID']\n",
    "\n",
    "    # Get input files\n",
    "    with open(ml_execution.asset_paths[0], 'rt') as model_file:\n",
    "        training_model = model_file.read()\n",
    "        print(f'Got model file: {training_model}')\n",
    "\n",
    "    # Put your ML code here....\n",
    "    pass\n",
    "\n",
    "    # Write a new model\n",
    "    model_file = manual_execution.execution_asset_path('API_Model') / 'modelfile.txt'\n",
    "    with open(model_file, 'w') as f:\n",
    "        f.write(\"Hello there a new model;\\n\")\n",
    "\n",
    "    # Create some new feature values.\n",
    "    bb_csv_path, bb_asset_paths = ml_execution.feature_paths('Image', 'BoundingBox')\n",
    "    bounding_box_files = [bb_asset_paths['BoundingBox'] / f\"box{i}.txt\" for i in range(10)]\n",
    "    for i in range(10):\n",
    "        bounding_box_files.append(fn := bb_asset_paths['BoundingBox'] / f\"box{i}.txt\")\n",
    "        with builtins.open(fn, \"w\") as fp:\n",
    "            fp.write(f\"Hi there {i}\")\n",
    "\n",
    "    ImageBoundingboxFeature = ml_instance.feature_record_class(\"Image\", \"BoundingBox\")\n",
    "    image_bounding_box_feature_list = [ImageBoundingboxFeature(Image=image_rid,\n",
    "                                                               Execution=ml_execution.execution_rid,\n",
    "                                                               BoundingBox=asset_rid)\n",
    "                                       for image_rid, asset_rid in zip(image_rids, itertools.cycle(bounding_box_files))]\n",
    "\n",
    "    ml_execution.write_feature_file(image_bounding_box_feature_list)\n",
    "\n",
    "upload_status = ml_execution.upload_execution_outputs()"
   ],
   "id": "c8860e47d5f72069",
   "outputs": [
    {
     "name": "stdout",
     "output_type": "stream",
     "text": [
      "Got model file: My model\n"
     ]
    }
   ],
   "execution_count": 9
  },
  {
   "metadata": {},
   "cell_type": "markdown",
   "source": "Now lets check the assets produced by this execution to make sure that they are what we expect.",
   "id": "4fb891bc938549c"
  },
  {
   "metadata": {
    "ExecuteTime": {
     "end_time": "2025-01-10T04:56:32.135385Z",
     "start_time": "2025-01-10T04:56:31.785820Z"
    }
   },
   "cell_type": "code",
   "source": [
    "# Get datapath to the ML schema.\n",
    "schema_path = ml_instance.pathBuilder.schemas[ml_instance.ml_schema]\n",
    "\n",
    "# Now get path to the execution table, and get our execution record.  We filter on the RID for the\n",
    "# execution we are looking for.\n",
    "executions = schema_path.Execution.filter(schema_path.Execution.RID == ml_execution.execution_rid)\n",
    "execution_info = list(executions.entities().fetch())[0]\n",
    "\n",
    "# To get the assets for the execution, we need to go through the linking table to the assets.\n",
    "asset_path = executions.link(schema_path.Execution_Asset_Execution).link(schema_path.Execution_Asset)\n",
    "pd.DataFrame(asset_path.entities().fetch()).drop(columns=system_columns + ['MD5'])\n",
    "\n",
    "# Now lets display our results.\n",
    "display(\n",
    "    Markdown(f'### Execution: {ml_execution.execution_rid}'),\n",
    "    JSON(execution_info),\n",
    "    Markdown(f'### Execution Assets'),\n",
    "    pd.DataFrame(asset_path.entities().fetch()).drop(columns=system_columns + ['MD5']),\n",
    ")"
   ],
   "id": "d5fea96ac8e0567f",
   "outputs": [
    {
     "data": {
      "text/plain": [
       "<IPython.core.display.Markdown object>"
      ],
      "text/markdown": "### Execution: 3V2"
     },
     "metadata": {},
     "output_type": "display_data"
    },
    {
     "data": {
      "text/plain": [
       "<IPython.core.display.JSON object>"
      ],
      "application/json": {
       "RID": "3V2",
       "RCT": "2025-01-10T04:55:43.919903+00:00",
       "RMT": "2025-01-10T04:55:57.489079+00:00",
       "RCB": "https://auth.globus.org/aef862ea-d274-11e5-bb09-7bf5b06f98da",
       "RMB": "https://auth.globus.org/aef862ea-d274-11e5-bb09-7bf5b06f98da",
       "Workflow": "3V0",
       "Description": "Sample Execution",
       "Duration": "0.0H 0.0min 0.4191sec",
       "Status": "Completed",
       "Status_Detail": "Successfully end the execution."
      }
     },
     "metadata": {
      "application/json": {
       "expanded": false,
       "root": "root"
      }
     },
     "output_type": "display_data"
    },
    {
     "data": {
      "text/plain": [
       "<IPython.core.display.Markdown object>"
      ],
      "text/markdown": "### Execution Assets"
     },
     "metadata": {},
     "output_type": "display_data"
    },
    {
     "data": {
      "text/plain": [
       "   RID                                                URL       Filename  \\\n",
       "0  3TJ  /hatrac/execution_asset/c604e0f3dd9caa5d5a1a12...  modelfile.txt   \n",
       "\n",
       "  Description  Length Execution_Asset_Type  \n",
       "0        None       8            API_Model  "
      ],
      "text/html": [
       "<div>\n",
       "<style scoped>\n",
       "    .dataframe tbody tr th:only-of-type {\n",
       "        vertical-align: middle;\n",
       "    }\n",
       "\n",
       "    .dataframe tbody tr th {\n",
       "        vertical-align: top;\n",
       "    }\n",
       "\n",
       "    .dataframe thead th {\n",
       "        text-align: right;\n",
       "    }\n",
       "</style>\n",
       "<table border=\"1\" class=\"dataframe\">\n",
       "  <thead>\n",
       "    <tr style=\"text-align: right;\">\n",
       "      <th></th>\n",
       "      <th>RID</th>\n",
       "      <th>URL</th>\n",
       "      <th>Filename</th>\n",
       "      <th>Description</th>\n",
       "      <th>Length</th>\n",
       "      <th>Execution_Asset_Type</th>\n",
       "    </tr>\n",
       "  </thead>\n",
       "  <tbody>\n",
       "    <tr>\n",
       "      <th>0</th>\n",
       "      <td>3TJ</td>\n",
       "      <td>/hatrac/execution_asset/c604e0f3dd9caa5d5a1a12...</td>\n",
       "      <td>modelfile.txt</td>\n",
       "      <td>None</td>\n",
       "      <td>8</td>\n",
       "      <td>API_Model</td>\n",
       "    </tr>\n",
       "  </tbody>\n",
       "</table>\n",
       "</div>"
      ]
     },
     "metadata": {},
     "output_type": "display_data"
    }
   ],
   "execution_count": 12
  },
  {
   "cell_type": "code",
   "id": "cd670182dfb20afd",
   "metadata": {},
   "source": "test_catalog.delete_ermrest_catalog(really=True)",
   "outputs": [],
   "execution_count": null
  }
 ],
 "metadata": {
  "kernelspec": {
   "display_name": "Python 3 (ipykernel)",
   "language": "python",
   "name": "python3"
  },
  "language_info": {
   "codemirror_mode": {
    "name": "ipython",
    "version": 3
   },
   "file_extension": ".py",
   "mimetype": "text/x-python",
   "name": "python",
   "nbconvert_exporter": "python",
   "pygments_lexer": "ipython3",
   "version": "3.12.2"
  }
 },
 "nbformat": 4,
 "nbformat_minor": 5
}
