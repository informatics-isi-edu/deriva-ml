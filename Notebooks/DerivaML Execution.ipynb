{
 "cells": [
  {
   "cell_type": "markdown",
   "id": "94ffee41-4986-4196-b35d-b38b6e10490a",
   "metadata": {},
   "source": [
    "DerivaML is a class library built on the Deriva Scientific Asset management system that is designed to help simplify a number of the basic operations associated with building and testing ML libraries based on common toolkits such as TensorFlow.  This notebook reviews the basic features of the DerivaML library."
   ]
  },
  {
   "cell_type": "code",
   "id": "ff605747-195b-40a1-b915-0e799f8d0748",
   "metadata": {},
   "source": [
    "from bdbag.bdbag_api import materialize\n",
    "%load_ext autoreload\n",
    "%autoreload 2"
   ],
   "outputs": [],
   "execution_count": null
  },
  {
   "cell_type": "code",
   "id": "9493a5ef-86b9-490b-a1d5-f461fdcd68ef",
   "metadata": {
    "ExecuteTime": {
     "end_time": "2025-01-17T19:51:39.516536Z",
     "start_time": "2025-01-17T19:51:37.955549Z"
    }
   },
   "source": [
    "import builtins\n",
    "from deriva.core.utils.globus_auth_utils import GlobusNativeLogin\n",
    "from deriva_ml import DatasetBag, ExecutionConfiguration, Workflow, MLVocab, DerivaSystemColumns\n",
    "from deriva_ml.demo_catalog import create_demo_catalog, DemoML\n",
    "from IPython.display import display, Markdown, JSON\n",
    "import pandas as pd"
   ],
   "outputs": [
    {
     "ename": "PydanticSchemaGenerationError",
     "evalue": "Unable to generate pydantic-core schema for <class 'deriva.core.ermrest_model.Table'>. Set `arbitrary_types_allowed=True` in the model_config to ignore this error or implement `__get_pydantic_core_schema__` on your type to fully support it.\n\nIf you got this error by calling handler(<some type>) within `__get_pydantic_core_schema__` then you likely need to call `handler.generate_schema(<some type>)` since we do not call `__get_pydantic_core_schema__` on `<some type>` otherwise to avoid infinite recursion.\n\nFor further information visit https://errors.pydantic.dev/2.10/u/schema-for-unknown-type",
     "output_type": "error",
     "traceback": [
      "\u001B[0;31m---------------------------------------------------------------------------\u001B[0m",
      "\u001B[0;31mPydanticSchemaGenerationError\u001B[0m             Traceback (most recent call last)",
      "Cell \u001B[0;32mIn[1], line 3\u001B[0m\n\u001B[1;32m      1\u001B[0m \u001B[38;5;28;01mimport\u001B[39;00m \u001B[38;5;21;01mbuiltins\u001B[39;00m\n\u001B[1;32m      2\u001B[0m \u001B[38;5;28;01mfrom\u001B[39;00m \u001B[38;5;21;01mderiva\u001B[39;00m\u001B[38;5;21;01m.\u001B[39;00m\u001B[38;5;21;01mcore\u001B[39;00m\u001B[38;5;21;01m.\u001B[39;00m\u001B[38;5;21;01mutils\u001B[39;00m\u001B[38;5;21;01m.\u001B[39;00m\u001B[38;5;21;01mglobus_auth_utils\u001B[39;00m \u001B[38;5;28;01mimport\u001B[39;00m GlobusNativeLogin\n\u001B[0;32m----> 3\u001B[0m \u001B[38;5;28;01mfrom\u001B[39;00m \u001B[38;5;21;01mderiva_ml\u001B[39;00m \u001B[38;5;28;01mimport\u001B[39;00m DatasetBag, ExecutionConfiguration, Workflow, MLVocab, DerivaSystemColumns\n\u001B[1;32m      4\u001B[0m \u001B[38;5;28;01mfrom\u001B[39;00m \u001B[38;5;21;01mderiva_ml\u001B[39;00m\u001B[38;5;21;01m.\u001B[39;00m\u001B[38;5;21;01mdemo_catalog\u001B[39;00m \u001B[38;5;28;01mimport\u001B[39;00m create_demo_catalog, DemoML\n\u001B[1;32m      5\u001B[0m \u001B[38;5;28;01mfrom\u001B[39;00m \u001B[38;5;21;01mIPython\u001B[39;00m\u001B[38;5;21;01m.\u001B[39;00m\u001B[38;5;21;01mdisplay\u001B[39;00m \u001B[38;5;28;01mimport\u001B[39;00m display, Markdown, JSON\n",
      "File \u001B[0;32m~/Repos/Projects/deriva-ml/src/deriva_ml/__init__.py:19\u001B[0m\n\u001B[1;32m      1\u001B[0m __all__ \u001B[38;5;241m=\u001B[39m [\n\u001B[1;32m      2\u001B[0m     \u001B[38;5;124m'\u001B[39m\u001B[38;5;124mDerivaML\u001B[39m\u001B[38;5;124m'\u001B[39m,\n\u001B[1;32m      3\u001B[0m     \u001B[38;5;124m'\u001B[39m\u001B[38;5;124mDerivaMLException\u001B[39m\u001B[38;5;124m'\u001B[39m,\n\u001B[0;32m   (...)\u001B[0m\n\u001B[1;32m     15\u001B[0m     \u001B[38;5;124m'\u001B[39m\u001B[38;5;124mDerivaSystemColumns\u001B[39m\u001B[38;5;124m'\u001B[39m\n\u001B[1;32m     16\u001B[0m ]\n\u001B[1;32m     18\u001B[0m \u001B[38;5;28;01mfrom\u001B[39;00m \u001B[38;5;21;01m.\u001B[39;00m\u001B[38;5;21;01mexecution_configuration\u001B[39;00m \u001B[38;5;28;01mimport\u001B[39;00m ExecutionConfiguration, Workflow\n\u001B[0;32m---> 19\u001B[0m \u001B[38;5;28;01mfrom\u001B[39;00m \u001B[38;5;21;01m.\u001B[39;00m\u001B[38;5;21;01mexecution\u001B[39;00m \u001B[38;5;28;01mimport\u001B[39;00m Execution\n\u001B[1;32m     20\u001B[0m \u001B[38;5;28;01mfrom\u001B[39;00m \u001B[38;5;21;01m.\u001B[39;00m\u001B[38;5;21;01mdataset_bag\u001B[39;00m \u001B[38;5;28;01mimport\u001B[39;00m DatasetBag\n\u001B[1;32m     21\u001B[0m \u001B[38;5;28;01mfrom\u001B[39;00m \u001B[38;5;21;01m.\u001B[39;00m\u001B[38;5;21;01mderiva_definitions\u001B[39;00m \u001B[38;5;28;01mimport\u001B[39;00m ColumnDefinition, TableDefinition, BuiltinTypes, UploadState, FileUploadState, RID\n",
      "File \u001B[0;32m~/Repos/Projects/deriva-ml/src/deriva_ml/execution.py:6\u001B[0m\n\u001B[1;32m      4\u001B[0m \u001B[38;5;28;01mfrom\u001B[39;00m \u001B[38;5;21;01mderiva\u001B[39;00m\u001B[38;5;21;01m.\u001B[39;00m\u001B[38;5;21;01mcore\u001B[39;00m \u001B[38;5;28;01mimport\u001B[39;00m format_exception\n\u001B[1;32m      5\u001B[0m \u001B[38;5;28;01mfrom\u001B[39;00m \u001B[38;5;21;01mderiva\u001B[39;00m\u001B[38;5;21;01m.\u001B[39;00m\u001B[38;5;21;01mcore\u001B[39;00m\u001B[38;5;21;01m.\u001B[39;00m\u001B[38;5;21;01mermrest_model\u001B[39;00m \u001B[38;5;28;01mimport\u001B[39;00m Table\n\u001B[0;32m----> 6\u001B[0m \u001B[38;5;28;01mfrom\u001B[39;00m \u001B[38;5;21;01mderiva_ml\u001B[39;00m\u001B[38;5;21;01m.\u001B[39;00m\u001B[38;5;21;01mderiva_ml_base\u001B[39;00m \u001B[38;5;28;01mimport\u001B[39;00m DerivaML, FeatureRecord\n\u001B[1;32m      7\u001B[0m \u001B[38;5;28;01mfrom\u001B[39;00m \u001B[38;5;21;01mderiva_ml\u001B[39;00m\u001B[38;5;21;01m.\u001B[39;00m\u001B[38;5;21;01mderiva_definitions\u001B[39;00m \u001B[38;5;28;01mimport\u001B[39;00m RID, Status, FileUploadState, UploadState, MLVocab, DerivaMLException, ExecMetadataVocab\n\u001B[1;32m      8\u001B[0m \u001B[38;5;28;01mfrom\u001B[39;00m \u001B[38;5;21;01mderiva_ml\u001B[39;00m\u001B[38;5;21;01m.\u001B[39;00m\u001B[38;5;21;01mexecution_configuration\u001B[39;00m \u001B[38;5;28;01mimport\u001B[39;00m ExecutionConfiguration, DatasetSpec\n",
      "File \u001B[0;32m~/Repos/Projects/deriva-ml/src/deriva_ml/deriva_ml_base.py:192\u001B[0m\n\u001B[1;32m    187\u001B[0m     \u001B[38;5;28;01mdef\u001B[39;00m \u001B[38;5;21m__repr__\u001B[39m(\u001B[38;5;28mself\u001B[39m) \u001B[38;5;241m-\u001B[39m\u001B[38;5;241m>\u001B[39m \u001B[38;5;28mstr\u001B[39m:\n\u001B[1;32m    188\u001B[0m         \u001B[38;5;28;01mreturn\u001B[39;00m (\u001B[38;5;124mf\u001B[39m\u001B[38;5;124m'\u001B[39m\u001B[38;5;124mFeature(target_table=\u001B[39m\u001B[38;5;132;01m{\u001B[39;00m\u001B[38;5;28mself\u001B[39m\u001B[38;5;241m.\u001B[39mtarget_table\u001B[38;5;241m.\u001B[39mname\u001B[38;5;132;01m}\u001B[39;00m\u001B[38;5;124m, feature_name=\u001B[39m\u001B[38;5;132;01m{\u001B[39;00m\u001B[38;5;28mself\u001B[39m\u001B[38;5;241m.\u001B[39mfeature_name\u001B[38;5;132;01m}\u001B[39;00m\u001B[38;5;124m, \u001B[39m\u001B[38;5;124m'\u001B[39m\n\u001B[1;32m    189\u001B[0m                 \u001B[38;5;124mf\u001B[39m\u001B[38;5;124m'\u001B[39m\u001B[38;5;124mfeature_table=\u001B[39m\u001B[38;5;132;01m{\u001B[39;00m\u001B[38;5;28mself\u001B[39m\u001B[38;5;241m.\u001B[39mfeature_table\u001B[38;5;241m.\u001B[39mname\u001B[38;5;132;01m}\u001B[39;00m\u001B[38;5;124m)\u001B[39m\u001B[38;5;124m'\u001B[39m)\n\u001B[0;32m--> 192\u001B[0m \u001B[38;5;28;43;01mclass\u001B[39;49;00m\u001B[43m \u001B[49m\u001B[38;5;21;43;01mDerivaML\u001B[39;49;00m\u001B[43m:\u001B[49m\n\u001B[1;32m    193\u001B[0m \u001B[38;5;250;43m    \u001B[39;49m\u001B[38;5;124;43;03m\"\"\"\u001B[39;49;00m\n\u001B[1;32m    194\u001B[0m \u001B[38;5;124;43;03m    Base class for ML operations on a Deriva catalog.  This class is intended to be used as a base class on which\u001B[39;49;00m\n\u001B[1;32m    195\u001B[0m \u001B[38;5;124;43;03m    more domain specific interfaces are built.\u001B[39;49;00m\n\u001B[1;32m    196\u001B[0m \u001B[38;5;124;43;03m    \"\"\"\u001B[39;49;00m\n\u001B[1;32m    198\u001B[0m \u001B[43m    \u001B[49m\u001B[38;5;28;43;01mdef\u001B[39;49;00m\u001B[43m \u001B[49m\u001B[38;5;21;43m__init__\u001B[39;49m\u001B[43m(\u001B[49m\u001B[38;5;28;43mself\u001B[39;49m\u001B[43m,\u001B[49m\n\u001B[1;32m    199\u001B[0m \u001B[43m                 \u001B[49m\u001B[43mhostname\u001B[49m\u001B[43m:\u001B[49m\u001B[43m \u001B[49m\u001B[38;5;28;43mstr\u001B[39;49m\u001B[43m,\u001B[49m\n\u001B[1;32m    200\u001B[0m \u001B[43m                 \u001B[49m\u001B[43mcatalog_id\u001B[49m\u001B[43m:\u001B[49m\u001B[43m \u001B[49m\u001B[38;5;28;43mstr\u001B[39;49m\u001B[43m,\u001B[49m\n\u001B[0;32m   (...)\u001B[0m\n\u001B[1;32m    206\u001B[0m \u001B[43m                 \u001B[49m\u001B[43mml_schema\u001B[49m\u001B[38;5;241;43m=\u001B[39;49m\u001B[38;5;124;43m'\u001B[39;49m\u001B[38;5;124;43mderiva-ml\u001B[39;49m\u001B[38;5;124;43m'\u001B[39;49m\u001B[43m,\u001B[49m\n\u001B[1;32m    207\u001B[0m \u001B[43m                 \u001B[49m\u001B[43mlogging_level\u001B[49m\u001B[38;5;241;43m=\u001B[39;49m\u001B[43mlogging\u001B[49m\u001B[38;5;241;43m.\u001B[39;49m\u001B[43mWARNING\u001B[49m\u001B[43m)\u001B[49m\u001B[43m:\u001B[49m\n",
      "File \u001B[0;32m~/Repos/Projects/deriva-ml/src/deriva_ml/deriva_ml_base.py:857\u001B[0m, in \u001B[0;36mDerivaML\u001B[0;34m()\u001B[0m\n\u001B[1;32m    853\u001B[0m             schema_path\u001B[38;5;241m.\u001B[39mtables[association_map[table]]\u001B[38;5;241m.\u001B[39minsert(\n\u001B[1;32m    854\u001B[0m                 [{\u001B[38;5;124m'\u001B[39m\u001B[38;5;124mDataset\u001B[39m\u001B[38;5;124m'\u001B[39m: dataset_rid, fk_column: e} \u001B[38;5;28;01mfor\u001B[39;00m e \u001B[38;5;129;01min\u001B[39;00m elements])\n\u001B[1;32m    855\u001B[0m     \u001B[38;5;28;01mreturn\u001B[39;00m dataset_rid\n\u001B[0;32m--> 857\u001B[0m \u001B[43m\u001B[49m\u001B[38;5;129;43m@validate_call\u001B[39;49m\n\u001B[1;32m    858\u001B[0m \u001B[43m\u001B[49m\u001B[38;5;28;43;01mdef\u001B[39;49;00m\u001B[43m \u001B[49m\u001B[38;5;21;43madd_term\u001B[39;49m\u001B[43m(\u001B[49m\u001B[38;5;28;43mself\u001B[39;49m\u001B[43m,\u001B[49m\n\u001B[1;32m    859\u001B[0m \u001B[43m             \u001B[49m\u001B[43mtable\u001B[49m\u001B[43m:\u001B[49m\u001B[43m \u001B[49m\u001B[38;5;28;43mstr\u001B[39;49m\u001B[43m \u001B[49m\u001B[38;5;241;43m|\u001B[39;49m\u001B[43m \u001B[49m\u001B[43mTable\u001B[49m\u001B[43m,\u001B[49m\n\u001B[1;32m    860\u001B[0m \u001B[43m             \u001B[49m\u001B[43mterm_name\u001B[49m\u001B[43m:\u001B[49m\u001B[43m \u001B[49m\u001B[38;5;28;43mstr\u001B[39;49m\u001B[43m,\u001B[49m\n\u001B[1;32m    861\u001B[0m \u001B[43m             \u001B[49m\u001B[43mdescription\u001B[49m\u001B[43m:\u001B[49m\u001B[43m \u001B[49m\u001B[38;5;28;43mstr\u001B[39;49m\u001B[43m,\u001B[49m\n\u001B[1;32m    862\u001B[0m \u001B[43m             \u001B[49m\u001B[43msynonyms\u001B[49m\u001B[43m:\u001B[49m\u001B[43m \u001B[49m\u001B[43mOptional\u001B[49m\u001B[43m[\u001B[49m\u001B[38;5;28;43mlist\u001B[39;49m\u001B[43m[\u001B[49m\u001B[38;5;28;43mstr\u001B[39;49m\u001B[43m]\u001B[49m\u001B[43m]\u001B[49m\u001B[43m \u001B[49m\u001B[38;5;241;43m=\u001B[39;49m\u001B[43m \u001B[49m\u001B[38;5;28;43;01mNone\u001B[39;49;00m\u001B[43m,\u001B[49m\n\u001B[1;32m    863\u001B[0m \u001B[43m             \u001B[49m\u001B[43mexists_ok\u001B[49m\u001B[43m:\u001B[49m\u001B[43m \u001B[49m\u001B[38;5;28;43mbool\u001B[39;49m\u001B[43m \u001B[49m\u001B[38;5;241;43m=\u001B[39;49m\u001B[43m \u001B[49m\u001B[38;5;28;43;01mTrue\u001B[39;49;00m\u001B[43m)\u001B[49m\u001B[43m \u001B[49m\u001B[38;5;241;43m-\u001B[39;49m\u001B[38;5;241;43m>\u001B[39;49m\u001B[43m \u001B[49m\u001B[43mVocabularyTerm\u001B[49m\u001B[43m:\u001B[49m\n\u001B[1;32m    864\u001B[0m \u001B[38;5;250;43m    \u001B[39;49m\u001B[38;5;124;43;03m\"\"\"\u001B[39;49;00m\n\u001B[1;32m    865\u001B[0m \u001B[38;5;124;43;03m    Creates a new control vocabulary term in the control vocabulary table.\u001B[39;49;00m\n\u001B[1;32m    866\u001B[0m \n\u001B[0;32m   (...)\u001B[0m\n\u001B[1;32m    879\u001B[0m \u001B[38;5;124;43;03m    - EyeAIException: If the control vocabulary name already exists and exist_ok is False.\u001B[39;49;00m\n\u001B[1;32m    880\u001B[0m \u001B[38;5;124;43;03m    \"\"\"\u001B[39;49;00m\n\u001B[1;32m    881\u001B[0m \u001B[43m    \u001B[49m\u001B[43msynonyms\u001B[49m\u001B[43m \u001B[49m\u001B[38;5;241;43m=\u001B[39;49m\u001B[43m \u001B[49m\u001B[43msynonyms\u001B[49m\u001B[43m \u001B[49m\u001B[38;5;129;43;01mor\u001B[39;49;00m\u001B[43m \u001B[49m\u001B[43m[\u001B[49m\u001B[43m]\u001B[49m\n",
      "File \u001B[0;32m~/opt/anaconda3/envs/deriva-ml/lib/python3.12/site-packages/pydantic/validate_call_decorator.py:110\u001B[0m, in \u001B[0;36mvalidate_call\u001B[0;34m(func, config, validate_return)\u001B[0m\n\u001B[1;32m    107\u001B[0m     \u001B[38;5;28;01mreturn\u001B[39;00m _validate_call\u001B[38;5;241m.\u001B[39mupdate_wrapper_attributes(function, validate_call_wrapper\u001B[38;5;241m.\u001B[39m\u001B[38;5;21m__call__\u001B[39m)  \u001B[38;5;66;03m# type: ignore\u001B[39;00m\n\u001B[1;32m    109\u001B[0m \u001B[38;5;28;01mif\u001B[39;00m func \u001B[38;5;129;01mis\u001B[39;00m \u001B[38;5;129;01mnot\u001B[39;00m \u001B[38;5;28;01mNone\u001B[39;00m:\n\u001B[0;32m--> 110\u001B[0m     \u001B[38;5;28;01mreturn\u001B[39;00m \u001B[43mvalidate\u001B[49m\u001B[43m(\u001B[49m\u001B[43mfunc\u001B[49m\u001B[43m)\u001B[49m\n\u001B[1;32m    111\u001B[0m \u001B[38;5;28;01melse\u001B[39;00m:\n\u001B[1;32m    112\u001B[0m     \u001B[38;5;28;01mreturn\u001B[39;00m validate\n",
      "File \u001B[0;32m~/opt/anaconda3/envs/deriva-ml/lib/python3.12/site-packages/pydantic/validate_call_decorator.py:104\u001B[0m, in \u001B[0;36mvalidate_call.<locals>.validate\u001B[0;34m(function)\u001B[0m\n\u001B[1;32m    102\u001B[0m \u001B[38;5;28;01mdef\u001B[39;00m \u001B[38;5;21mvalidate\u001B[39m(function: AnyCallableT) \u001B[38;5;241m-\u001B[39m\u001B[38;5;241m>\u001B[39m AnyCallableT:\n\u001B[1;32m    103\u001B[0m     _check_function_type(function)\n\u001B[0;32m--> 104\u001B[0m     validate_call_wrapper \u001B[38;5;241m=\u001B[39m \u001B[43m_validate_call\u001B[49m\u001B[38;5;241;43m.\u001B[39;49m\u001B[43mValidateCallWrapper\u001B[49m\u001B[43m(\u001B[49m\n\u001B[1;32m    105\u001B[0m \u001B[43m        \u001B[49m\u001B[43mcast\u001B[49m\u001B[43m(\u001B[49m\u001B[43m_generate_schema\u001B[49m\u001B[38;5;241;43m.\u001B[39;49m\u001B[43mValidateCallSupportedTypes\u001B[49m\u001B[43m,\u001B[49m\u001B[43m \u001B[49m\u001B[43mfunction\u001B[49m\u001B[43m)\u001B[49m\u001B[43m,\u001B[49m\u001B[43m \u001B[49m\u001B[43mconfig\u001B[49m\u001B[43m,\u001B[49m\u001B[43m \u001B[49m\u001B[43mvalidate_return\u001B[49m\u001B[43m,\u001B[49m\u001B[43m \u001B[49m\u001B[43mparent_namespace\u001B[49m\n\u001B[1;32m    106\u001B[0m \u001B[43m    \u001B[49m\u001B[43m)\u001B[49m\n\u001B[1;32m    107\u001B[0m     \u001B[38;5;28;01mreturn\u001B[39;00m _validate_call\u001B[38;5;241m.\u001B[39mupdate_wrapper_attributes(function, validate_call_wrapper\u001B[38;5;241m.\u001B[39m\u001B[38;5;21m__call__\u001B[39m)\n",
      "File \u001B[0;32m~/opt/anaconda3/envs/deriva-ml/lib/python3.12/site-packages/pydantic/_internal/_validate_call.py:72\u001B[0m, in \u001B[0;36mValidateCallWrapper.__init__\u001B[0;34m(self, function, config, validate_return, parent_namespace)\u001B[0m\n\u001B[1;32m     70\u001B[0m config_wrapper \u001B[38;5;241m=\u001B[39m ConfigWrapper(config)\n\u001B[1;32m     71\u001B[0m gen_schema \u001B[38;5;241m=\u001B[39m GenerateSchema(config_wrapper, ns_resolver)\n\u001B[0;32m---> 72\u001B[0m schema \u001B[38;5;241m=\u001B[39m gen_schema\u001B[38;5;241m.\u001B[39mclean_schema(\u001B[43mgen_schema\u001B[49m\u001B[38;5;241;43m.\u001B[39;49m\u001B[43mgenerate_schema\u001B[49m\u001B[43m(\u001B[49m\u001B[43mfunction\u001B[49m\u001B[43m)\u001B[49m)\n\u001B[1;32m     73\u001B[0m core_config \u001B[38;5;241m=\u001B[39m config_wrapper\u001B[38;5;241m.\u001B[39mcore_config(title\u001B[38;5;241m=\u001B[39mqualname)\n\u001B[1;32m     75\u001B[0m \u001B[38;5;28mself\u001B[39m\u001B[38;5;241m.\u001B[39m__pydantic_validator__ \u001B[38;5;241m=\u001B[39m create_schema_validator(\n\u001B[1;32m     76\u001B[0m     schema,\n\u001B[1;32m     77\u001B[0m     schema_type,\n\u001B[0;32m   (...)\u001B[0m\n\u001B[1;32m     82\u001B[0m     config_wrapper\u001B[38;5;241m.\u001B[39mplugin_settings,\n\u001B[1;32m     83\u001B[0m )\n",
      "File \u001B[0;32m~/opt/anaconda3/envs/deriva-ml/lib/python3.12/site-packages/pydantic/_internal/_generate_schema.py:612\u001B[0m, in \u001B[0;36mGenerateSchema.generate_schema\u001B[0;34m(self, obj, from_dunder_get_core_schema)\u001B[0m\n\u001B[1;32m    609\u001B[0m         schema \u001B[38;5;241m=\u001B[39m from_property\n\u001B[1;32m    611\u001B[0m \u001B[38;5;28;01mif\u001B[39;00m schema \u001B[38;5;129;01mis\u001B[39;00m \u001B[38;5;28;01mNone\u001B[39;00m:\n\u001B[0;32m--> 612\u001B[0m     schema \u001B[38;5;241m=\u001B[39m \u001B[38;5;28;43mself\u001B[39;49m\u001B[38;5;241;43m.\u001B[39;49m\u001B[43m_generate_schema_inner\u001B[49m\u001B[43m(\u001B[49m\u001B[43mobj\u001B[49m\u001B[43m)\u001B[49m\n\u001B[1;32m    614\u001B[0m metadata_js_function \u001B[38;5;241m=\u001B[39m _extract_get_pydantic_json_schema(obj, schema)\n\u001B[1;32m    615\u001B[0m \u001B[38;5;28;01mif\u001B[39;00m metadata_js_function \u001B[38;5;129;01mis\u001B[39;00m \u001B[38;5;129;01mnot\u001B[39;00m \u001B[38;5;28;01mNone\u001B[39;00m:\n",
      "File \u001B[0;32m~/opt/anaconda3/envs/deriva-ml/lib/python3.12/site-packages/pydantic/_internal/_generate_schema.py:886\u001B[0m, in \u001B[0;36mGenerateSchema._generate_schema_inner\u001B[0;34m(self, obj)\u001B[0m\n\u001B[1;32m    883\u001B[0m \u001B[38;5;28;01mif\u001B[39;00m \u001B[38;5;28misinstance\u001B[39m(obj, PydanticRecursiveRef):\n\u001B[1;32m    884\u001B[0m     \u001B[38;5;28;01mreturn\u001B[39;00m core_schema\u001B[38;5;241m.\u001B[39mdefinition_reference_schema(schema_ref\u001B[38;5;241m=\u001B[39mobj\u001B[38;5;241m.\u001B[39mtype_ref)\n\u001B[0;32m--> 886\u001B[0m \u001B[38;5;28;01mreturn\u001B[39;00m \u001B[38;5;28;43mself\u001B[39;49m\u001B[38;5;241;43m.\u001B[39;49m\u001B[43mmatch_type\u001B[49m\u001B[43m(\u001B[49m\u001B[43mobj\u001B[49m\u001B[43m)\u001B[49m\n",
      "File \u001B[0;32m~/opt/anaconda3/envs/deriva-ml/lib/python3.12/site-packages/pydantic/_internal/_generate_schema.py:977\u001B[0m, in \u001B[0;36mGenerateSchema.match_type\u001B[0;34m(self, obj)\u001B[0m\n\u001B[1;32m    973\u001B[0m     \u001B[38;5;28;01mreturn\u001B[39;00m \u001B[38;5;28mself\u001B[39m\u001B[38;5;241m.\u001B[39mgenerate_schema(\n\u001B[1;32m    974\u001B[0m         \u001B[38;5;28mself\u001B[39m\u001B[38;5;241m.\u001B[39m_get_first_arg_or_any(obj),\n\u001B[1;32m    975\u001B[0m     )\n\u001B[1;32m    976\u001B[0m \u001B[38;5;28;01melif\u001B[39;00m \u001B[38;5;28misinstance\u001B[39m(obj, VALIDATE_CALL_SUPPORTED_TYPES):\n\u001B[0;32m--> 977\u001B[0m     \u001B[38;5;28;01mreturn\u001B[39;00m \u001B[38;5;28;43mself\u001B[39;49m\u001B[38;5;241;43m.\u001B[39;49m\u001B[43m_call_schema\u001B[49m\u001B[43m(\u001B[49m\u001B[43mobj\u001B[49m\u001B[43m)\u001B[49m\n\u001B[1;32m    978\u001B[0m \u001B[38;5;28;01melif\u001B[39;00m inspect\u001B[38;5;241m.\u001B[39misclass(obj) \u001B[38;5;129;01mand\u001B[39;00m \u001B[38;5;28missubclass\u001B[39m(obj, Enum):\n\u001B[1;32m    979\u001B[0m     \u001B[38;5;28;01mreturn\u001B[39;00m \u001B[38;5;28mself\u001B[39m\u001B[38;5;241m.\u001B[39m_enum_schema(obj)\n",
      "File \u001B[0;32m~/opt/anaconda3/envs/deriva-ml/lib/python3.12/site-packages/pydantic/_internal/_generate_schema.py:1844\u001B[0m, in \u001B[0;36mGenerateSchema._call_schema\u001B[0;34m(self, function)\u001B[0m\n\u001B[1;32m   1842\u001B[0m parameter_mode \u001B[38;5;241m=\u001B[39m mode_lookup\u001B[38;5;241m.\u001B[39mget(p\u001B[38;5;241m.\u001B[39mkind)\n\u001B[1;32m   1843\u001B[0m \u001B[38;5;28;01mif\u001B[39;00m parameter_mode \u001B[38;5;129;01mis\u001B[39;00m \u001B[38;5;129;01mnot\u001B[39;00m \u001B[38;5;28;01mNone\u001B[39;00m:\n\u001B[0;32m-> 1844\u001B[0m     arg_schema \u001B[38;5;241m=\u001B[39m \u001B[38;5;28;43mself\u001B[39;49m\u001B[38;5;241;43m.\u001B[39;49m\u001B[43m_generate_parameter_schema\u001B[49m\u001B[43m(\u001B[49m\u001B[43mname\u001B[49m\u001B[43m,\u001B[49m\u001B[43m \u001B[49m\u001B[43mannotation\u001B[49m\u001B[43m,\u001B[49m\u001B[43m \u001B[49m\u001B[43mp\u001B[49m\u001B[38;5;241;43m.\u001B[39;49m\u001B[43mdefault\u001B[49m\u001B[43m,\u001B[49m\u001B[43m \u001B[49m\u001B[43mparameter_mode\u001B[49m\u001B[43m)\u001B[49m\n\u001B[1;32m   1845\u001B[0m     arguments_list\u001B[38;5;241m.\u001B[39mappend(arg_schema)\n\u001B[1;32m   1846\u001B[0m \u001B[38;5;28;01melif\u001B[39;00m p\u001B[38;5;241m.\u001B[39mkind \u001B[38;5;241m==\u001B[39m Parameter\u001B[38;5;241m.\u001B[39mVAR_POSITIONAL:\n",
      "File \u001B[0;32m~/opt/anaconda3/envs/deriva-ml/lib/python3.12/site-packages/pydantic/_internal/_generate_schema.py:1538\u001B[0m, in \u001B[0;36mGenerateSchema._generate_parameter_schema\u001B[0;34m(self, name, annotation, default, mode)\u001B[0m\n\u001B[1;32m   1536\u001B[0m \u001B[38;5;28;01massert\u001B[39;00m field\u001B[38;5;241m.\u001B[39mannotation \u001B[38;5;129;01mis\u001B[39;00m \u001B[38;5;129;01mnot\u001B[39;00m \u001B[38;5;28;01mNone\u001B[39;00m, \u001B[38;5;124m'\u001B[39m\u001B[38;5;124mfield.annotation should not be None when generating a schema\u001B[39m\u001B[38;5;124m'\u001B[39m\n\u001B[1;32m   1537\u001B[0m \u001B[38;5;28;01mwith\u001B[39;00m \u001B[38;5;28mself\u001B[39m\u001B[38;5;241m.\u001B[39mfield_name_stack\u001B[38;5;241m.\u001B[39mpush(name):\n\u001B[0;32m-> 1538\u001B[0m     schema \u001B[38;5;241m=\u001B[39m \u001B[38;5;28;43mself\u001B[39;49m\u001B[38;5;241;43m.\u001B[39;49m\u001B[43m_apply_annotations\u001B[49m\u001B[43m(\u001B[49m\u001B[43mfield\u001B[49m\u001B[38;5;241;43m.\u001B[39;49m\u001B[43mannotation\u001B[49m\u001B[43m,\u001B[49m\u001B[43m \u001B[49m\u001B[43m[\u001B[49m\u001B[43mfield\u001B[49m\u001B[43m]\u001B[49m\u001B[43m)\u001B[49m\n\u001B[1;32m   1540\u001B[0m \u001B[38;5;28;01mif\u001B[39;00m \u001B[38;5;129;01mnot\u001B[39;00m field\u001B[38;5;241m.\u001B[39mis_required():\n\u001B[1;32m   1541\u001B[0m     schema \u001B[38;5;241m=\u001B[39m wrap_default(field, schema)\n",
      "File \u001B[0;32m~/opt/anaconda3/envs/deriva-ml/lib/python3.12/site-packages/pydantic/_internal/_generate_schema.py:2061\u001B[0m, in \u001B[0;36mGenerateSchema._apply_annotations\u001B[0;34m(self, source_type, annotations, transform_inner_schema)\u001B[0m\n\u001B[1;32m   2056\u001B[0m         \u001B[38;5;28;01mcontinue\u001B[39;00m\n\u001B[1;32m   2057\u001B[0m     get_inner_schema \u001B[38;5;241m=\u001B[39m \u001B[38;5;28mself\u001B[39m\u001B[38;5;241m.\u001B[39m_get_wrapped_inner_schema(\n\u001B[1;32m   2058\u001B[0m         get_inner_schema, annotation, pydantic_js_annotation_functions\n\u001B[1;32m   2059\u001B[0m     )\n\u001B[0;32m-> 2061\u001B[0m schema \u001B[38;5;241m=\u001B[39m \u001B[43mget_inner_schema\u001B[49m\u001B[43m(\u001B[49m\u001B[43msource_type\u001B[49m\u001B[43m)\u001B[49m\n\u001B[1;32m   2062\u001B[0m \u001B[38;5;28;01mif\u001B[39;00m pydantic_js_annotation_functions:\n\u001B[1;32m   2063\u001B[0m     core_metadata \u001B[38;5;241m=\u001B[39m schema\u001B[38;5;241m.\u001B[39msetdefault(\u001B[38;5;124m'\u001B[39m\u001B[38;5;124mmetadata\u001B[39m\u001B[38;5;124m'\u001B[39m, {})\n",
      "File \u001B[0;32m~/opt/anaconda3/envs/deriva-ml/lib/python3.12/site-packages/pydantic/_internal/_schema_generation_shared.py:84\u001B[0m, in \u001B[0;36mCallbackGetCoreSchemaHandler.__call__\u001B[0;34m(self, source_type)\u001B[0m\n\u001B[1;32m     83\u001B[0m \u001B[38;5;28;01mdef\u001B[39;00m \u001B[38;5;21m__call__\u001B[39m(\u001B[38;5;28mself\u001B[39m, source_type: Any, \u001B[38;5;241m/\u001B[39m) \u001B[38;5;241m-\u001B[39m\u001B[38;5;241m>\u001B[39m core_schema\u001B[38;5;241m.\u001B[39mCoreSchema:\n\u001B[0;32m---> 84\u001B[0m     schema \u001B[38;5;241m=\u001B[39m \u001B[38;5;28;43mself\u001B[39;49m\u001B[38;5;241;43m.\u001B[39;49m\u001B[43m_handler\u001B[49m\u001B[43m(\u001B[49m\u001B[43msource_type\u001B[49m\u001B[43m)\u001B[49m\n\u001B[1;32m     85\u001B[0m     ref \u001B[38;5;241m=\u001B[39m schema\u001B[38;5;241m.\u001B[39mget(\u001B[38;5;124m'\u001B[39m\u001B[38;5;124mref\u001B[39m\u001B[38;5;124m'\u001B[39m)\n\u001B[1;32m     86\u001B[0m     \u001B[38;5;28;01mif\u001B[39;00m \u001B[38;5;28mself\u001B[39m\u001B[38;5;241m.\u001B[39m_ref_mode \u001B[38;5;241m==\u001B[39m \u001B[38;5;124m'\u001B[39m\u001B[38;5;124mto-def\u001B[39m\u001B[38;5;124m'\u001B[39m:\n",
      "File \u001B[0;32m~/opt/anaconda3/envs/deriva-ml/lib/python3.12/site-packages/pydantic/_internal/_generate_schema.py:2136\u001B[0m, in \u001B[0;36mGenerateSchema._get_wrapped_inner_schema.<locals>.new_handler\u001B[0;34m(source)\u001B[0m\n\u001B[1;32m   2135\u001B[0m \u001B[38;5;28;01mdef\u001B[39;00m \u001B[38;5;21mnew_handler\u001B[39m(source: Any) \u001B[38;5;241m-\u001B[39m\u001B[38;5;241m>\u001B[39m core_schema\u001B[38;5;241m.\u001B[39mCoreSchema:\n\u001B[0;32m-> 2136\u001B[0m     schema \u001B[38;5;241m=\u001B[39m \u001B[43mmetadata_get_schema\u001B[49m\u001B[43m(\u001B[49m\u001B[43msource\u001B[49m\u001B[43m,\u001B[49m\u001B[43m \u001B[49m\u001B[43mget_inner_schema\u001B[49m\u001B[43m)\u001B[49m\n\u001B[1;32m   2137\u001B[0m     schema \u001B[38;5;241m=\u001B[39m \u001B[38;5;28mself\u001B[39m\u001B[38;5;241m.\u001B[39m_apply_single_annotation(schema, annotation)\n\u001B[1;32m   2138\u001B[0m     schema \u001B[38;5;241m=\u001B[39m \u001B[38;5;28mself\u001B[39m\u001B[38;5;241m.\u001B[39m_apply_single_annotation_json_schema(schema, annotation)\n",
      "File \u001B[0;32m~/opt/anaconda3/envs/deriva-ml/lib/python3.12/site-packages/pydantic/_internal/_generate_schema.py:2132\u001B[0m, in \u001B[0;36mGenerateSchema._get_wrapped_inner_schema.<locals>.<lambda>\u001B[0;34m(source, handler)\u001B[0m\n\u001B[1;32m   2125\u001B[0m \u001B[38;5;28;01mdef\u001B[39;00m \u001B[38;5;21m_get_wrapped_inner_schema\u001B[39m(\n\u001B[1;32m   2126\u001B[0m     \u001B[38;5;28mself\u001B[39m,\n\u001B[1;32m   2127\u001B[0m     get_inner_schema: GetCoreSchemaHandler,\n\u001B[1;32m   2128\u001B[0m     annotation: Any,\n\u001B[1;32m   2129\u001B[0m     pydantic_js_annotation_functions: \u001B[38;5;28mlist\u001B[39m[GetJsonSchemaFunction],\n\u001B[1;32m   2130\u001B[0m ) \u001B[38;5;241m-\u001B[39m\u001B[38;5;241m>\u001B[39m CallbackGetCoreSchemaHandler:\n\u001B[1;32m   2131\u001B[0m     metadata_get_schema: GetCoreSchemaFunction \u001B[38;5;241m=\u001B[39m \u001B[38;5;28mgetattr\u001B[39m(annotation, \u001B[38;5;124m'\u001B[39m\u001B[38;5;124m__get_pydantic_core_schema__\u001B[39m\u001B[38;5;124m'\u001B[39m, \u001B[38;5;28;01mNone\u001B[39;00m) \u001B[38;5;129;01mor\u001B[39;00m (\n\u001B[0;32m-> 2132\u001B[0m         \u001B[38;5;28;01mlambda\u001B[39;00m source, handler: \u001B[43mhandler\u001B[49m\u001B[43m(\u001B[49m\u001B[43msource\u001B[49m\u001B[43m)\u001B[49m\n\u001B[1;32m   2133\u001B[0m     )\n\u001B[1;32m   2135\u001B[0m     \u001B[38;5;28;01mdef\u001B[39;00m \u001B[38;5;21mnew_handler\u001B[39m(source: Any) \u001B[38;5;241m-\u001B[39m\u001B[38;5;241m>\u001B[39m core_schema\u001B[38;5;241m.\u001B[39mCoreSchema:\n\u001B[1;32m   2136\u001B[0m         schema \u001B[38;5;241m=\u001B[39m metadata_get_schema(source, get_inner_schema)\n",
      "File \u001B[0;32m~/opt/anaconda3/envs/deriva-ml/lib/python3.12/site-packages/pydantic/_internal/_schema_generation_shared.py:84\u001B[0m, in \u001B[0;36mCallbackGetCoreSchemaHandler.__call__\u001B[0;34m(self, source_type)\u001B[0m\n\u001B[1;32m     83\u001B[0m \u001B[38;5;28;01mdef\u001B[39;00m \u001B[38;5;21m__call__\u001B[39m(\u001B[38;5;28mself\u001B[39m, source_type: Any, \u001B[38;5;241m/\u001B[39m) \u001B[38;5;241m-\u001B[39m\u001B[38;5;241m>\u001B[39m core_schema\u001B[38;5;241m.\u001B[39mCoreSchema:\n\u001B[0;32m---> 84\u001B[0m     schema \u001B[38;5;241m=\u001B[39m \u001B[38;5;28;43mself\u001B[39;49m\u001B[38;5;241;43m.\u001B[39;49m\u001B[43m_handler\u001B[49m\u001B[43m(\u001B[49m\u001B[43msource_type\u001B[49m\u001B[43m)\u001B[49m\n\u001B[1;32m     85\u001B[0m     ref \u001B[38;5;241m=\u001B[39m schema\u001B[38;5;241m.\u001B[39mget(\u001B[38;5;124m'\u001B[39m\u001B[38;5;124mref\u001B[39m\u001B[38;5;124m'\u001B[39m)\n\u001B[1;32m     86\u001B[0m     \u001B[38;5;28;01mif\u001B[39;00m \u001B[38;5;28mself\u001B[39m\u001B[38;5;241m.\u001B[39m_ref_mode \u001B[38;5;241m==\u001B[39m \u001B[38;5;124m'\u001B[39m\u001B[38;5;124mto-def\u001B[39m\u001B[38;5;124m'\u001B[39m:\n",
      "File \u001B[0;32m~/opt/anaconda3/envs/deriva-ml/lib/python3.12/site-packages/pydantic/_internal/_generate_schema.py:2042\u001B[0m, in \u001B[0;36mGenerateSchema._apply_annotations.<locals>.inner_handler\u001B[0;34m(obj)\u001B[0m\n\u001B[1;32m   2040\u001B[0m from_property \u001B[38;5;241m=\u001B[39m \u001B[38;5;28mself\u001B[39m\u001B[38;5;241m.\u001B[39m_generate_schema_from_property(obj, source_type)\n\u001B[1;32m   2041\u001B[0m \u001B[38;5;28;01mif\u001B[39;00m from_property \u001B[38;5;129;01mis\u001B[39;00m \u001B[38;5;28;01mNone\u001B[39;00m:\n\u001B[0;32m-> 2042\u001B[0m     schema \u001B[38;5;241m=\u001B[39m \u001B[38;5;28;43mself\u001B[39;49m\u001B[38;5;241;43m.\u001B[39;49m\u001B[43m_generate_schema_inner\u001B[49m\u001B[43m(\u001B[49m\u001B[43mobj\u001B[49m\u001B[43m)\u001B[49m\n\u001B[1;32m   2043\u001B[0m \u001B[38;5;28;01melse\u001B[39;00m:\n\u001B[1;32m   2044\u001B[0m     schema \u001B[38;5;241m=\u001B[39m from_property\n",
      "File \u001B[0;32m~/opt/anaconda3/envs/deriva-ml/lib/python3.12/site-packages/pydantic/_internal/_generate_schema.py:886\u001B[0m, in \u001B[0;36mGenerateSchema._generate_schema_inner\u001B[0;34m(self, obj)\u001B[0m\n\u001B[1;32m    883\u001B[0m \u001B[38;5;28;01mif\u001B[39;00m \u001B[38;5;28misinstance\u001B[39m(obj, PydanticRecursiveRef):\n\u001B[1;32m    884\u001B[0m     \u001B[38;5;28;01mreturn\u001B[39;00m core_schema\u001B[38;5;241m.\u001B[39mdefinition_reference_schema(schema_ref\u001B[38;5;241m=\u001B[39mobj\u001B[38;5;241m.\u001B[39mtype_ref)\n\u001B[0;32m--> 886\u001B[0m \u001B[38;5;28;01mreturn\u001B[39;00m \u001B[38;5;28;43mself\u001B[39;49m\u001B[38;5;241;43m.\u001B[39;49m\u001B[43mmatch_type\u001B[49m\u001B[43m(\u001B[49m\u001B[43mobj\u001B[49m\u001B[43m)\u001B[49m\n",
      "File \u001B[0;32m~/opt/anaconda3/envs/deriva-ml/lib/python3.12/site-packages/pydantic/_internal/_generate_schema.py:988\u001B[0m, in \u001B[0;36mGenerateSchema.match_type\u001B[0;34m(self, obj)\u001B[0m\n\u001B[1;32m    986\u001B[0m origin \u001B[38;5;241m=\u001B[39m get_origin(obj)\n\u001B[1;32m    987\u001B[0m \u001B[38;5;28;01mif\u001B[39;00m origin \u001B[38;5;129;01mis\u001B[39;00m \u001B[38;5;129;01mnot\u001B[39;00m \u001B[38;5;28;01mNone\u001B[39;00m:\n\u001B[0;32m--> 988\u001B[0m     \u001B[38;5;28;01mreturn\u001B[39;00m \u001B[38;5;28;43mself\u001B[39;49m\u001B[38;5;241;43m.\u001B[39;49m\u001B[43m_match_generic_type\u001B[49m\u001B[43m(\u001B[49m\u001B[43mobj\u001B[49m\u001B[43m,\u001B[49m\u001B[43m \u001B[49m\u001B[43morigin\u001B[49m\u001B[43m)\u001B[49m\n\u001B[1;32m    990\u001B[0m res \u001B[38;5;241m=\u001B[39m \u001B[38;5;28mself\u001B[39m\u001B[38;5;241m.\u001B[39m_get_prepare_pydantic_annotations_for_known_type(obj, ())\n\u001B[1;32m    991\u001B[0m \u001B[38;5;28;01mif\u001B[39;00m res \u001B[38;5;129;01mis\u001B[39;00m \u001B[38;5;129;01mnot\u001B[39;00m \u001B[38;5;28;01mNone\u001B[39;00m:\n",
      "File \u001B[0;32m~/opt/anaconda3/envs/deriva-ml/lib/python3.12/site-packages/pydantic/_internal/_generate_schema.py:1016\u001B[0m, in \u001B[0;36mGenerateSchema._match_generic_type\u001B[0;34m(self, obj, origin)\u001B[0m\n\u001B[1;32m   1014\u001B[0m     \u001B[38;5;28;01mreturn\u001B[39;00m \u001B[38;5;28mself\u001B[39m\u001B[38;5;241m.\u001B[39m_type_alias_type_schema(obj)\n\u001B[1;32m   1015\u001B[0m \u001B[38;5;28;01melif\u001B[39;00m _typing_extra\u001B[38;5;241m.\u001B[39morigin_is_union(origin):\n\u001B[0;32m-> 1016\u001B[0m     \u001B[38;5;28;01mreturn\u001B[39;00m \u001B[38;5;28;43mself\u001B[39;49m\u001B[38;5;241;43m.\u001B[39;49m\u001B[43m_union_schema\u001B[49m\u001B[43m(\u001B[49m\u001B[43mobj\u001B[49m\u001B[43m)\u001B[49m\n\u001B[1;32m   1017\u001B[0m \u001B[38;5;28;01melif\u001B[39;00m origin \u001B[38;5;129;01min\u001B[39;00m TUPLE_TYPES:\n\u001B[1;32m   1018\u001B[0m     \u001B[38;5;28;01mreturn\u001B[39;00m \u001B[38;5;28mself\u001B[39m\u001B[38;5;241m.\u001B[39m_tuple_schema(obj)\n",
      "File \u001B[0;32m~/opt/anaconda3/envs/deriva-ml/lib/python3.12/site-packages/pydantic/_internal/_generate_schema.py:1323\u001B[0m, in \u001B[0;36mGenerateSchema._union_schema\u001B[0;34m(self, union_type)\u001B[0m\n\u001B[1;32m   1321\u001B[0m         nullable \u001B[38;5;241m=\u001B[39m \u001B[38;5;28;01mTrue\u001B[39;00m\n\u001B[1;32m   1322\u001B[0m     \u001B[38;5;28;01melse\u001B[39;00m:\n\u001B[0;32m-> 1323\u001B[0m         choices\u001B[38;5;241m.\u001B[39mappend(\u001B[38;5;28;43mself\u001B[39;49m\u001B[38;5;241;43m.\u001B[39;49m\u001B[43mgenerate_schema\u001B[49m\u001B[43m(\u001B[49m\u001B[43marg\u001B[49m\u001B[43m)\u001B[49m)\n\u001B[1;32m   1325\u001B[0m \u001B[38;5;28;01mif\u001B[39;00m \u001B[38;5;28mlen\u001B[39m(choices) \u001B[38;5;241m==\u001B[39m \u001B[38;5;241m1\u001B[39m:\n\u001B[1;32m   1326\u001B[0m     s \u001B[38;5;241m=\u001B[39m choices[\u001B[38;5;241m0\u001B[39m]\n",
      "File \u001B[0;32m~/opt/anaconda3/envs/deriva-ml/lib/python3.12/site-packages/pydantic/_internal/_generate_schema.py:612\u001B[0m, in \u001B[0;36mGenerateSchema.generate_schema\u001B[0;34m(self, obj, from_dunder_get_core_schema)\u001B[0m\n\u001B[1;32m    609\u001B[0m         schema \u001B[38;5;241m=\u001B[39m from_property\n\u001B[1;32m    611\u001B[0m \u001B[38;5;28;01mif\u001B[39;00m schema \u001B[38;5;129;01mis\u001B[39;00m \u001B[38;5;28;01mNone\u001B[39;00m:\n\u001B[0;32m--> 612\u001B[0m     schema \u001B[38;5;241m=\u001B[39m \u001B[38;5;28;43mself\u001B[39;49m\u001B[38;5;241;43m.\u001B[39;49m\u001B[43m_generate_schema_inner\u001B[49m\u001B[43m(\u001B[49m\u001B[43mobj\u001B[49m\u001B[43m)\u001B[49m\n\u001B[1;32m    614\u001B[0m metadata_js_function \u001B[38;5;241m=\u001B[39m _extract_get_pydantic_json_schema(obj, schema)\n\u001B[1;32m    615\u001B[0m \u001B[38;5;28;01mif\u001B[39;00m metadata_js_function \u001B[38;5;129;01mis\u001B[39;00m \u001B[38;5;129;01mnot\u001B[39;00m \u001B[38;5;28;01mNone\u001B[39;00m:\n",
      "File \u001B[0;32m~/opt/anaconda3/envs/deriva-ml/lib/python3.12/site-packages/pydantic/_internal/_generate_schema.py:886\u001B[0m, in \u001B[0;36mGenerateSchema._generate_schema_inner\u001B[0;34m(self, obj)\u001B[0m\n\u001B[1;32m    883\u001B[0m \u001B[38;5;28;01mif\u001B[39;00m \u001B[38;5;28misinstance\u001B[39m(obj, PydanticRecursiveRef):\n\u001B[1;32m    884\u001B[0m     \u001B[38;5;28;01mreturn\u001B[39;00m core_schema\u001B[38;5;241m.\u001B[39mdefinition_reference_schema(schema_ref\u001B[38;5;241m=\u001B[39mobj\u001B[38;5;241m.\u001B[39mtype_ref)\n\u001B[0;32m--> 886\u001B[0m \u001B[38;5;28;01mreturn\u001B[39;00m \u001B[38;5;28;43mself\u001B[39;49m\u001B[38;5;241;43m.\u001B[39;49m\u001B[43mmatch_type\u001B[49m\u001B[43m(\u001B[49m\u001B[43mobj\u001B[49m\u001B[43m)\u001B[49m\n",
      "File \u001B[0;32m~/opt/anaconda3/envs/deriva-ml/lib/python3.12/site-packages/pydantic/_internal/_generate_schema.py:997\u001B[0m, in \u001B[0;36mGenerateSchema.match_type\u001B[0;34m(self, obj)\u001B[0m\n\u001B[1;32m    995\u001B[0m \u001B[38;5;28;01mif\u001B[39;00m \u001B[38;5;28mself\u001B[39m\u001B[38;5;241m.\u001B[39m_arbitrary_types:\n\u001B[1;32m    996\u001B[0m     \u001B[38;5;28;01mreturn\u001B[39;00m \u001B[38;5;28mself\u001B[39m\u001B[38;5;241m.\u001B[39m_arbitrary_type_schema(obj)\n\u001B[0;32m--> 997\u001B[0m \u001B[38;5;28;01mreturn\u001B[39;00m \u001B[38;5;28;43mself\u001B[39;49m\u001B[38;5;241;43m.\u001B[39;49m\u001B[43m_unknown_type_schema\u001B[49m\u001B[43m(\u001B[49m\u001B[43mobj\u001B[49m\u001B[43m)\u001B[49m\n",
      "File \u001B[0;32m~/opt/anaconda3/envs/deriva-ml/lib/python3.12/site-packages/pydantic/_internal/_generate_schema.py:515\u001B[0m, in \u001B[0;36mGenerateSchema._unknown_type_schema\u001B[0;34m(self, obj)\u001B[0m\n\u001B[1;32m    514\u001B[0m \u001B[38;5;28;01mdef\u001B[39;00m \u001B[38;5;21m_unknown_type_schema\u001B[39m(\u001B[38;5;28mself\u001B[39m, obj: Any) \u001B[38;5;241m-\u001B[39m\u001B[38;5;241m>\u001B[39m CoreSchema:\n\u001B[0;32m--> 515\u001B[0m     \u001B[38;5;28;01mraise\u001B[39;00m PydanticSchemaGenerationError(\n\u001B[1;32m    516\u001B[0m         \u001B[38;5;124mf\u001B[39m\u001B[38;5;124m'\u001B[39m\u001B[38;5;124mUnable to generate pydantic-core schema for \u001B[39m\u001B[38;5;132;01m{\u001B[39;00mobj\u001B[38;5;132;01m!r}\u001B[39;00m\u001B[38;5;124m. \u001B[39m\u001B[38;5;124m'\u001B[39m\n\u001B[1;32m    517\u001B[0m         \u001B[38;5;124m'\u001B[39m\u001B[38;5;124mSet `arbitrary_types_allowed=True` in the model_config to ignore this error\u001B[39m\u001B[38;5;124m'\u001B[39m\n\u001B[1;32m    518\u001B[0m         \u001B[38;5;124m'\u001B[39m\u001B[38;5;124m or implement `__get_pydantic_core_schema__` on your type to fully support it.\u001B[39m\u001B[38;5;124m'\u001B[39m\n\u001B[1;32m    519\u001B[0m         \u001B[38;5;124m'\u001B[39m\u001B[38;5;130;01m\\n\u001B[39;00m\u001B[38;5;130;01m\\n\u001B[39;00m\u001B[38;5;124mIf you got this error by calling handler(<some type>) within\u001B[39m\u001B[38;5;124m'\u001B[39m\n\u001B[1;32m    520\u001B[0m         \u001B[38;5;124m'\u001B[39m\u001B[38;5;124m `__get_pydantic_core_schema__` then you likely need to call\u001B[39m\u001B[38;5;124m'\u001B[39m\n\u001B[1;32m    521\u001B[0m         \u001B[38;5;124m'\u001B[39m\u001B[38;5;124m `handler.generate_schema(<some type>)` since we do not call\u001B[39m\u001B[38;5;124m'\u001B[39m\n\u001B[1;32m    522\u001B[0m         \u001B[38;5;124m'\u001B[39m\u001B[38;5;124m `__get_pydantic_core_schema__` on `<some type>` otherwise to avoid infinite recursion.\u001B[39m\u001B[38;5;124m'\u001B[39m\n\u001B[1;32m    523\u001B[0m     )\n",
      "\u001B[0;31mPydanticSchemaGenerationError\u001B[0m: Unable to generate pydantic-core schema for <class 'deriva.core.ermrest_model.Table'>. Set `arbitrary_types_allowed=True` in the model_config to ignore this error or implement `__get_pydantic_core_schema__` on your type to fully support it.\n\nIf you got this error by calling handler(<some type>) within `__get_pydantic_core_schema__` then you likely need to call `handler.generate_schema(<some type>)` since we do not call `__get_pydantic_core_schema__` on `<some type>` otherwise to avoid infinite recursion.\n\nFor further information visit https://errors.pydantic.dev/2.10/u/schema-for-unknown-type"
     ]
    }
   ],
   "execution_count": 1
  },
  {
   "cell_type": "markdown",
   "id": "ba06990f-6dc5-4805-9e82-0881a524bfef",
   "metadata": {},
   "source": [
    "Set the details for the catalog we want and authenticate to the server if needed."
   ]
  },
  {
   "cell_type": "code",
   "id": "9ee79ab7-a3f7-4c69-9c80-336871c13ec2",
   "metadata": {},
   "source": [
    "hostname = 'dev.eye-ai.org'\n",
    "domain_schema = 'demo-schema'\n",
    "\n",
    "gnl = GlobusNativeLogin(host=hostname)\n",
    "if gnl.is_logged_in([hostname]):\n",
    "    print(\"You are already logged in.\")\n",
    "else:\n",
    "    gnl.login([hostname], no_local_server=True, no_browser=True, refresh_tokens=True, update_bdbag_keychain=True)\n",
    "    print(\"Login Successful\")\n"
   ],
   "outputs": [],
   "execution_count": null
  },
  {
   "cell_type": "markdown",
   "id": "a23e5177-106b-48b6-b5e0-a126d35f4084",
   "metadata": {},
   "source": "Create a test catalog and get an instance of the DerivaML class.  Use options so that we create some initial datasets and features.  Use the exploration API to find out what features and datasets we have."
  },
  {
   "cell_type": "code",
   "id": "e9bddcf0-27ea-40b3-a388-b77635586fad",
   "metadata": {},
   "source": [
    "test_catalog = create_demo_catalog(hostname, domain_schema, create_features=True, create_datasets=True)\n",
    "ml_instance = DemoML(hostname, test_catalog.catalog_id)\n",
    "print(f'Creating catalog at {ml_instance.catalog_id}')"
   ],
   "outputs": [],
   "execution_count": null
  },
  {
   "metadata": {},
   "cell_type": "code",
   "source": [
    "display(\n",
    "    Markdown('## Datasets'),\n",
    "    pd.DataFrame(ml_instance.find_datasets()).drop(columns=DerivaSystemColumns),\n",
    "\n",
    "    Markdown('## Features'),\n",
    "    [f'{f.target_table.name}:{f.feature_name}' for f in ml_instance.find_features(\"Subject\")],\n",
    "    [f'{f.target_table.name}:{f.feature_name}' for f in ml_instance.find_features(\"Image\")]\n",
    ")"
   ],
   "id": "9b151033-6eb5-4fbb-a8dd-8d9b2154299a",
   "outputs": [],
   "execution_count": null
  },
  {
   "metadata": {},
   "cell_type": "code",
   "source": [
    "datasets = pd.DataFrame(ml_instance.find_datasets()).drop(columns=DerivaSystemColumns)\n",
    "training_dataset_rid = [ds['RID'] for ds in ml_instance.find_datasets() if 'Training' in ds['Dataset_Type']][0]\n",
    "testing_dataset_rid = [ds['RID'] for ds in ml_instance.find_datasets() if 'Testing' in ds['Dataset_Type']][0]\n",
    "\n",
    "\n",
    "display(\n",
    "    Markdown(f'Training Dataset: {training_dataset_rid}'),\n",
    "    Markdown('## Datasets'),\n",
    "    datasets)"
   ],
   "id": "29a0bd7230799257",
   "outputs": [],
   "execution_count": null
  },
  {
   "metadata": {},
   "cell_type": "markdown",
   "source": [
    "A feature is a set of values that are attached to a table in the DerivaML catalog. Instances of features are distingushed from one another by the ID of the execution that produced the feature value. The execution could be the result of a program, or it could be a manual process by which a person defines a set of values\n",
    "\n",
    "To create a new feature, we need to know the name of the feature, the table to which it is attached, and the set of values that make up the feature.  The values could be terms from a controlled vocabulary, a set of one or more file based assets, or other values, such as integers, or strings. However, use of strings outside of controlled vocabularies is discouraged."
   ],
   "id": "353d51c9-b8a6-4b75-a0da-ffa2db134169"
  },
  {
   "metadata": {},
   "cell_type": "code",
   "source": [
    "ml_instance.add_term(MLVocab.workflow_type, \"Manual Workflow\", description=\"Inital setup of Model File\")\n",
    "ml_instance.add_term(MLVocab.execution_asset_type, \"API_Model\", description=\"Model for our API workflow\")\n",
    "\n",
    "api_workflow = Workflow(\n",
    "    name=\"Manual Workflow\",\n",
    "    url='https://github.com/informatics-isi-edu/deriva-ml/blob/main/Notebooks/DerivaML%20Execution.ipynb',\n",
    "    workflow_type=\"Manual Workflow\",\n",
    "    description=\"A manual operation\"\n",
    ")\n",
    "\n",
    "manual_execution = ml_instance.create_execution(ExecutionConfiguration( description=\"Sample Execution\", workflow=api_workflow))\n",
    "\n",
    "# Now lets create model configuration for our program.\n",
    "model_file = manual_execution.execution_asset_path('API_Model') / 'modelfile.txt'\n",
    "with builtins.open(model_file, \"w\") as fp:\n",
    "    fp.write(f\"My model\")\n",
    "\n",
    "# Now upload the file and retrieve the RID of the new asset from the returned results.\n",
    "uploaded_assets = manual_execution.upload_execution_outputs()\n",
    "training_model_rid = uploaded_assets['API_Model/modelfile.txt'].result['RID']\n",
    "display(\n",
    "    Markdown(f'## Training Model: {training_model_rid}'),\n",
    "    JSON(ml_instance.retrieve_rid(training_model_rid))\n",
    ")"
   ],
   "id": "1d726b44-c60f-435a-9966-cfe3fc3da2e9",
   "outputs": [],
   "execution_count": null
  },
  {
   "metadata": {},
   "cell_type": "markdown",
   "source": "### Setup for a ML run\n",
   "id": "cfce553e81530e79"
  },
  {
   "metadata": {},
   "cell_type": "code",
   "source": [
    "ml_instance.add_term(MLVocab.workflow_type, \"ML Demo\", description=\"A ML Workflow that uses Deriva ML API\")\n",
    "\n",
    "api_workflow = Workflow(\n",
    "    name=\"ML Demo\",\n",
    "    url=\"https://github.com/informatics-isi-edu/deriva-ml/blob/main/pyproject.toml\",\n",
    "    workflow_type=\"ML Demo\",\n",
    "    description=\"A workflow that uses Deriva ML\"\n",
    ")\n",
    "\n",
    "config = ExecutionConfiguration(\n",
    "    datasets=[training_dataset_rid, {'rid':testing_dataset_rid, 'materialize':False}],\n",
    "    assets = [training_model_rid],\n",
    "    description=\"Sample Execution\",\n",
    "    workflow=api_workflow\n",
    ")\n",
    "\n",
    "ml_execution = ml_instance.create_execution(config)"
   ],
   "id": "cdcc8f5c-874b-4bf9-89ef-e1ea90b9f91f",
   "outputs": [],
   "execution_count": null
  },
  {
   "metadata": {},
   "cell_type": "code",
   "source": [
    "with ml_execution.execute() as deriva_exec:\n",
    "    # Get the input datasets:\n",
    "    training_dataset = DatasetBag(ml_execution.dataset_paths[0])  # Input dataset\n",
    "    image_rids = training_dataset.get_table_as_dataframe('Image')['RID']\n",
    "\n",
    "    # Get input files\n",
    "    with open(ml_execution.asset_paths[0], 'rt') as model_file:\n",
    "        training_model = model_file.read()\n",
    "        print(f'Got model file: {training_model}')\n",
    "\n",
    "    # Put your ML code here....\n",
    "    pass\n",
    "\n",
    "    # Write a new model\n",
    "    model_file = manual_execution.execution_asset_path('API_Model') / 'modelfile.txt'\n",
    "    with open(model_file, 'w') as f:\n",
    "        f.write(\"Hello there a new model;\\n\")\n",
    "\n",
    "    # Create some new feature values.\n",
    "    bb_csv_path, bb_asset_paths = ml_execution.feature_paths('Image', 'BoundingBox')\n",
    "    bounding_box_files = [bb_asset_paths['BoundingBox'] / f\"box{i}.txt\" for i in range(10)]\n",
    "    for i in range(10):\n",
    "        bounding_box_files.append(fn := bb_asset_paths['BoundingBox'] / f\"box{i}.txt\")\n",
    "        with builtins.open(fn, \"w\") as fp:\n",
    "            fp.write(f\"Hi there {i}\")\n",
    "\n",
    "    ImageBoundingboxFeature = ml_instance.feature_record_class(\"Image\", \"BoundingBox\")\n",
    "    image_bounding_box_feature_list = [ImageBoundingboxFeature(Image=image_rid,\n",
    "                                                               Execution=ml_execution.execution_rid,\n",
    "                                                               BoundingBox=asset_rid)\n",
    "                                       for image_rid, asset_rid in zip(image_rids, itertools.cycle(bounding_box_files))]\n",
    "\n",
    "    ml_execution.write_feature_file(image_bounding_box_feature_list)\n",
    "\n",
    "upload_status = ml_execution.upload_execution_outputs()"
   ],
   "id": "c8860e47d5f72069",
   "outputs": [],
   "execution_count": null
  },
  {
   "metadata": {},
   "cell_type": "markdown",
   "source": "Now lets check the assets produced by this execution to make sure that they are what we expect.",
   "id": "4fb891bc938549c"
  },
  {
   "metadata": {},
   "cell_type": "code",
   "source": [
    "# Get datapath to the ML schema.\n",
    "schema_path = ml_instance.pathBuilder.schemas[ml_instance.ml_schema]\n",
    "\n",
    "# Now get path to the execution table, and get our execution record.  We filter on the RID for the\n",
    "# execution we are looking for.\n",
    "executions = schema_path.Execution.filter(schema_path.Execution.RID == ml_execution.execution_rid)\n",
    "execution_info = list(executions.entities().fetch())[0]\n",
    "\n",
    "# To get the assets for the execution, we need to go through the linking table to the assets.\n",
    "asset_path = executions.link(schema_path.Execution_Asset_Execution).link(schema_path.Execution_Asset)\n",
    "pd.DataFrame(asset_path.entities().fetch()).drop(columns=DerivaSystemColumns + ['MD5'])\n",
    "\n",
    "# Now lets display our results.\n",
    "display(\n",
    "    Markdown(f'### Execution: {ml_execution.execution_rid}'),\n",
    "    JSON(execution_info),\n",
    "    Markdown(f'### Execution Assets'),\n",
    "    pd.DataFrame(asset_path.entities().fetch()).drop(columns=DerivaSystemColumns + ['MD5']),\n",
    ")"
   ],
   "id": "d5fea96ac8e0567f",
   "outputs": [],
   "execution_count": null
  },
  {
   "cell_type": "code",
   "id": "cd670182dfb20afd",
   "metadata": {},
   "source": "test_catalog.delete_ermrest_catalog(really=True)",
   "outputs": [],
   "execution_count": null
  }
 ],
 "metadata": {
  "kernelspec": {
   "display_name": "deriva-ml",
   "language": "python",
   "name": "deriva-ml"
  },
  "language_info": {
   "codemirror_mode": {
    "name": "ipython",
    "version": 3
   },
   "file_extension": ".py",
   "mimetype": "text/x-python",
   "name": "python",
   "nbconvert_exporter": "python",
   "pygments_lexer": "ipython3",
   "version": "3.12.2"
  }
 },
 "nbformat": 4,
 "nbformat_minor": 5
}
